{
 "cells": [
  {
   "cell_type": "markdown",
   "id": "f3e50cff-3655-49cc-940d-c51fd34f3341",
   "metadata": {},
   "source": [
    "## Day 01"
   ]
  },
  {
   "cell_type": "markdown",
   "id": "115272a0-5469-4039-9b86-ead854845f7a",
   "metadata": {
    "tags": []
   },
   "source": [
    "### Part 1"
   ]
  },
  {
   "cell_type": "code",
   "execution_count": 1,
   "id": "6d420170-2a41-421f-a0d4-b53e0ecbab81",
   "metadata": {},
   "outputs": [],
   "source": [
    "with open('data/input_d01_01.txt', 'r') as file:\n",
    "    foods = file.read()"
   ]
  },
  {
   "cell_type": "code",
   "execution_count": 2,
   "id": "8df3835f-3827-424c-b22d-3f0e9b9a3f75",
   "metadata": {},
   "outputs": [],
   "source": [
    "foods = foods.split('\\n')"
   ]
  },
  {
   "cell_type": "code",
   "execution_count": 3,
   "id": "69e68f56-3367-480a-ae16-18c875b94a10",
   "metadata": {},
   "outputs": [
    {
     "data": {
      "text/plain": [
       "['18814', '', '1927', '12782', '8734']"
      ]
     },
     "execution_count": 3,
     "metadata": {},
     "output_type": "execute_result"
    }
   ],
   "source": [
    "foods[:5]"
   ]
  },
  {
   "cell_type": "code",
   "execution_count": 4,
   "id": "e87ab43e-5915-4a4d-b68f-21f56cc862f6",
   "metadata": {},
   "outputs": [],
   "source": [
    "max_calories = 0\n",
    "this_elfs_calories = 0"
   ]
  },
  {
   "cell_type": "code",
   "execution_count": 5,
   "id": "e60ae12d-b221-43a2-b0ed-707da8bdf2d0",
   "metadata": {},
   "outputs": [],
   "source": [
    "for calory in foods:\n",
    "    if calory != '':\n",
    "        this_elfs_calories += int(calory)\n",
    "    else:\n",
    "        if this_elfs_calories > max_calories:\n",
    "            max_calories = this_elfs_calories\n",
    "        this_elfs_calories = 0"
   ]
  },
  {
   "cell_type": "code",
   "execution_count": 6,
   "id": "4a65a296-f51f-4ede-be92-28c56fb29a05",
   "metadata": {},
   "outputs": [
    {
     "data": {
      "text/plain": [
       "69626"
      ]
     },
     "execution_count": 6,
     "metadata": {},
     "output_type": "execute_result"
    }
   ],
   "source": [
    "max_calories"
   ]
  },
  {
   "cell_type": "markdown",
   "id": "314e58cb-d813-4de0-8113-b5ab5abbe479",
   "metadata": {
    "tags": []
   },
   "source": [
    "### Part 2"
   ]
  },
  {
   "cell_type": "code",
   "execution_count": 7,
   "id": "e2f07488-d1ed-4af5-b4ab-3ab6cf5a08c3",
   "metadata": {},
   "outputs": [],
   "source": [
    "with open('data/input_d01_01.txt', 'r') as file:\n",
    "    foods = file.read()"
   ]
  },
  {
   "cell_type": "code",
   "execution_count": 8,
   "id": "59d48324-79bf-47b4-82c7-ba97f20b58d6",
   "metadata": {},
   "outputs": [],
   "source": [
    "foods = foods.split('\\n')"
   ]
  },
  {
   "cell_type": "code",
   "execution_count": 9,
   "id": "0056ae89-5250-4861-813f-652dc04e8fe6",
   "metadata": {},
   "outputs": [
    {
     "data": {
      "text/plain": [
       "['18814', '', '1927', '12782', '8734']"
      ]
     },
     "execution_count": 9,
     "metadata": {},
     "output_type": "execute_result"
    }
   ],
   "source": [
    "foods[:5]"
   ]
  },
  {
   "cell_type": "code",
   "execution_count": 10,
   "id": "647e0886-8604-47cf-ad58-502288c91f6c",
   "metadata": {},
   "outputs": [],
   "source": [
    "this_elfs_calories = 0\n",
    "calories = []"
   ]
  },
  {
   "cell_type": "code",
   "execution_count": 11,
   "id": "a6f30a87-3022-46b9-9a14-6d84edd88f30",
   "metadata": {},
   "outputs": [],
   "source": [
    "for calory in foods:\n",
    "    if calory != '':\n",
    "        this_elfs_calories += int(calory)\n",
    "    else:\n",
    "        calories.append(this_elfs_calories)\n",
    "        this_elfs_calories = 0"
   ]
  },
  {
   "cell_type": "code",
   "execution_count": 12,
   "id": "b81e1f0d-dd71-4e58-8ae4-c952277d331b",
   "metadata": {},
   "outputs": [
    {
     "data": {
      "text/plain": [
       "[18814, 45388, 41763, 53645, 43783]"
      ]
     },
     "execution_count": 12,
     "metadata": {},
     "output_type": "execute_result"
    }
   ],
   "source": [
    "calories[:5]"
   ]
  },
  {
   "cell_type": "code",
   "execution_count": 13,
   "id": "bf76ceef-f396-4b96-ac77-4492c1a22efa",
   "metadata": {},
   "outputs": [],
   "source": [
    "calories.sort(reverse=True)"
   ]
  },
  {
   "cell_type": "code",
   "execution_count": 14,
   "id": "233de205-627a-4cde-838f-ae36fe52fea0",
   "metadata": {},
   "outputs": [
    {
     "data": {
      "text/plain": [
       "206780"
      ]
     },
     "execution_count": 14,
     "metadata": {},
     "output_type": "execute_result"
    }
   ],
   "source": [
    "sum(calories[:3])"
   ]
  },
  {
   "cell_type": "markdown",
   "id": "1b9a2fb4-2f43-49cb-a4b7-49e1f722b31a",
   "metadata": {},
   "source": [
    "## Day 02"
   ]
  },
  {
   "cell_type": "markdown",
   "id": "fa4bfd96-eaf9-4cbd-8346-b172a8b1b040",
   "metadata": {},
   "source": [
    "### Part 1"
   ]
  },
  {
   "cell_type": "code",
   "execution_count": 15,
   "id": "ca23a629-8182-4292-87bd-d255774e373d",
   "metadata": {},
   "outputs": [],
   "source": [
    "with open('data/input_d02_01.txt', 'r') as file:\n",
    "    strategy = file.read()"
   ]
  },
  {
   "cell_type": "code",
   "execution_count": 16,
   "id": "7d55fbc6-0691-41a5-98a1-fa479d31b32c",
   "metadata": {},
   "outputs": [],
   "source": [
    "strategy = strategy.split('\\n')"
   ]
  },
  {
   "cell_type": "code",
   "execution_count": 17,
   "id": "8925c10b-94a3-4b10-9b4a-160124d5ee7e",
   "metadata": {},
   "outputs": [
    {
     "data": {
      "text/plain": [
       "['A X', 'C X', 'C X', 'C X', 'B Y']"
      ]
     },
     "execution_count": 17,
     "metadata": {},
     "output_type": "execute_result"
    }
   ],
   "source": [
    "strategy[:5]"
   ]
  },
  {
   "cell_type": "code",
   "execution_count": 18,
   "id": "f6e33295-89af-4839-b8a4-927787385782",
   "metadata": {},
   "outputs": [
    {
     "data": {
      "text/plain": [
       "['C Z', 'A X', 'B X', 'C X', '']"
      ]
     },
     "execution_count": 18,
     "metadata": {},
     "output_type": "execute_result"
    }
   ],
   "source": [
    "strategy[-5:]"
   ]
  },
  {
   "cell_type": "code",
   "execution_count": 19,
   "id": "52fd5849-8b92-47c8-8b23-49edcd1dca18",
   "metadata": {},
   "outputs": [],
   "source": [
    "strategy = strategy[:-1]"
   ]
  },
  {
   "cell_type": "code",
   "execution_count": 20,
   "id": "033ff4da-397e-4ad8-82b3-8641e6d42895",
   "metadata": {},
   "outputs": [],
   "source": [
    "strategy = [tuple(step.split(' ')) for step in strategy]"
   ]
  },
  {
   "cell_type": "code",
   "execution_count": 21,
   "id": "a56854a5-ec0c-460b-b04c-f6a396d310db",
   "metadata": {},
   "outputs": [
    {
     "data": {
      "text/plain": [
       "[('A', 'X'), ('C', 'X'), ('C', 'X'), ('C', 'X'), ('B', 'Y')]"
      ]
     },
     "execution_count": 21,
     "metadata": {},
     "output_type": "execute_result"
    }
   ],
   "source": [
    "strategy[:5]"
   ]
  },
  {
   "cell_type": "code",
   "execution_count": 22,
   "id": "ef40ba10-9f84-432c-a4b2-dc54dc36fd4a",
   "metadata": {},
   "outputs": [],
   "source": [
    "score_map = {\n",
    "    ('A', 'X'): 1 + 3,  # Rock & Rock\n",
    "    ('A', 'Y'): 2 + 6,  # Rock & Paper\n",
    "    ('A', 'Z'): 3 + 0,  # Rock & Scissors\n",
    "    ('B', 'X'): 1 + 0,  # Paper & Rock\n",
    "    ('B', 'Y'): 2 + 3,  # Paper & Paper\n",
    "    ('B', 'Z'): 3 + 6,  # Paper & Scissors\n",
    "    ('C', 'X'): 1 + 6,  # Scissors & Rock\n",
    "    ('C', 'Y'): 2 + 0,  # Scissors & Paper\n",
    "    ('C', 'Z'): 3 + 3,  # Scissors & Scissors\n",
    "}\n"
   ]
  },
  {
   "cell_type": "code",
   "execution_count": 23,
   "id": "833581d2-3eab-437e-b048-dd199e96c4ef",
   "metadata": {},
   "outputs": [],
   "source": [
    "total_score = 0\n",
    "for moves in strategy:\n",
    "    total_score += score_map[moves]"
   ]
  },
  {
   "cell_type": "code",
   "execution_count": 24,
   "id": "9fd3499e-e5e1-4b64-92c1-4885a3795653",
   "metadata": {},
   "outputs": [
    {
     "data": {
      "text/plain": [
       "11063"
      ]
     },
     "execution_count": 24,
     "metadata": {},
     "output_type": "execute_result"
    }
   ],
   "source": [
    "total_score"
   ]
  },
  {
   "cell_type": "markdown",
   "id": "1f91074b-7f72-4f12-9014-47a07d0ecadb",
   "metadata": {},
   "source": [
    "### Part 2"
   ]
  },
  {
   "cell_type": "code",
   "execution_count": 25,
   "id": "547e842e-c715-4408-8247-496e6db41007",
   "metadata": {},
   "outputs": [],
   "source": [
    "with open('data/input_d02_01.txt', 'r') as file:\n",
    "    strategy = file.read()"
   ]
  },
  {
   "cell_type": "code",
   "execution_count": 26,
   "id": "5ad21994-329b-44d7-bdfa-d96cac1fa2a9",
   "metadata": {},
   "outputs": [],
   "source": [
    "strategy = strategy.split('\\n')"
   ]
  },
  {
   "cell_type": "code",
   "execution_count": 27,
   "id": "1d438181-0000-49b1-b10f-af5c94f11f38",
   "metadata": {},
   "outputs": [
    {
     "data": {
      "text/plain": [
       "['A X', 'C X', 'C X', 'C X', 'B Y']"
      ]
     },
     "execution_count": 27,
     "metadata": {},
     "output_type": "execute_result"
    }
   ],
   "source": [
    "strategy[:5]"
   ]
  },
  {
   "cell_type": "code",
   "execution_count": 28,
   "id": "9f2e0090-a64b-4606-804b-13022f9fa6b8",
   "metadata": {},
   "outputs": [
    {
     "data": {
      "text/plain": [
       "['C Z', 'A X', 'B X', 'C X', '']"
      ]
     },
     "execution_count": 28,
     "metadata": {},
     "output_type": "execute_result"
    }
   ],
   "source": [
    "strategy[-5:]"
   ]
  },
  {
   "cell_type": "code",
   "execution_count": 29,
   "id": "8800e0ef-6518-4820-a466-87f21245ca2c",
   "metadata": {},
   "outputs": [],
   "source": [
    "strategy = strategy[:-1]"
   ]
  },
  {
   "cell_type": "code",
   "execution_count": 30,
   "id": "d7f3e137-8a7d-4ec4-be4a-22f8a8d7d73c",
   "metadata": {},
   "outputs": [],
   "source": [
    "strategy = [step.split(' ') for step in strategy]"
   ]
  },
  {
   "cell_type": "code",
   "execution_count": 31,
   "id": "0f282e57-0f81-4227-9b50-3063771ea4cd",
   "metadata": {},
   "outputs": [
    {
     "data": {
      "text/plain": [
       "[['A', 'X'], ['C', 'X'], ['C', 'X'], ['C', 'X'], ['B', 'Y']]"
      ]
     },
     "execution_count": 31,
     "metadata": {},
     "output_type": "execute_result"
    }
   ],
   "source": [
    "strategy[:5]"
   ]
  },
  {
   "cell_type": "code",
   "execution_count": 32,
   "id": "a92ba6fa-fc6d-437d-9bbc-b7ee1efd1baa",
   "metadata": {},
   "outputs": [],
   "source": [
    "score_map = {\n",
    "    ('A', 'A'): 1 + 3,  # Rock & Rock\n",
    "    ('A', 'B'): 2 + 6,  # Rock & Paper\n",
    "    ('A', 'C'): 3 + 0,  # Rock & Scissors\n",
    "    ('B', 'A'): 1 + 0,  # Paper & Rock\n",
    "    ('B', 'B'): 2 + 3,  # Paper & Paper\n",
    "    ('B', 'C'): 3 + 6,  # Paper & Scissors\n",
    "    ('C', 'A'): 1 + 6,  # Scissors & Rock\n",
    "    ('C', 'B'): 2 + 0,  # Scissors & Paper\n",
    "    ('C', 'C'): 3 + 3,  # Scissors & Scissors\n",
    "}\n"
   ]
  },
  {
   "cell_type": "code",
   "execution_count": 33,
   "id": "ce2c038d-33f0-4334-a1e2-b0ba310afdab",
   "metadata": {},
   "outputs": [],
   "source": [
    "move_map = {\n",
    "    ('A', 'X'): 'C',  # Rock, Lose --> Scissors\n",
    "    ('A', 'Y'): 'A',  # Rock, Draw --> Rock\n",
    "    ('A', 'Z'): 'B',  # Rock, Win --> Paper\n",
    "    ('B', 'X'): 'A',  # Paper, Lose --> Rock\n",
    "    ('B', 'Y'): 'B',  # Paper, Draw --> Paper\n",
    "    ('B', 'Z'): 'C',  # Paper, Win --> Scissors\n",
    "    ('C', 'X'): 'B',  # Scissors, Lose --> Paper\n",
    "    ('C', 'Y'): 'C',  # Scissors, Draw --> Scissors\n",
    "    ('C', 'Z'): 'A'   # Scissors, Win --> Rock\n",
    "}\n"
   ]
  },
  {
   "cell_type": "code",
   "execution_count": 34,
   "id": "d63ea86c-0f07-4ba8-ba85-0dfc4e985bab",
   "metadata": {},
   "outputs": [],
   "source": [
    "total_score = 0"
   ]
  },
  {
   "cell_type": "code",
   "execution_count": 35,
   "id": "84fdbe8c-63af-430c-96a1-b0dd74fbc60e",
   "metadata": {},
   "outputs": [],
   "source": [
    "for opponent_move, required_result in strategy:\n",
    "    total_score += score_map[opponent_move, move_map[opponent_move, required_result]]"
   ]
  },
  {
   "cell_type": "code",
   "execution_count": 36,
   "id": "5a50a2a2-a257-4ecf-a7b0-e68632721ed4",
   "metadata": {},
   "outputs": [
    {
     "data": {
      "text/plain": [
       "10349"
      ]
     },
     "execution_count": 36,
     "metadata": {},
     "output_type": "execute_result"
    }
   ],
   "source": [
    "total_score"
   ]
  },
  {
   "cell_type": "markdown",
   "id": "0d282360-4301-4d7d-87c0-cf8f6b30db02",
   "metadata": {},
   "source": [
    "## Day 03"
   ]
  },
  {
   "cell_type": "markdown",
   "id": "87738cb2-4744-49a3-95e9-d5e16ae3805f",
   "metadata": {},
   "source": [
    "### Part 1"
   ]
  },
  {
   "cell_type": "code",
   "execution_count": 37,
   "id": "4d1a6f83-b13d-4ca9-b347-8cf652b0002e",
   "metadata": {},
   "outputs": [],
   "source": [
    "with open('data/input_d03_01.txt', 'r') as file:\n",
    "    rucksacks = file.read()"
   ]
  },
  {
   "cell_type": "code",
   "execution_count": 38,
   "id": "d8f86a7a-e875-45ad-bd0f-4c32d7f12f4c",
   "metadata": {},
   "outputs": [],
   "source": [
    "rucksacks = rucksacks.split('\\n')"
   ]
  },
  {
   "cell_type": "code",
   "execution_count": 39,
   "id": "a923f282-d8dc-463f-82f6-bb3f03f13076",
   "metadata": {},
   "outputs": [
    {
     "data": {
      "text/plain": [
       "['SDBBPtZZTdnnwSvg',\n",
       " 'nddNNMMPNBnBNnBTQSShlSHghlDHBr',\n",
       " 'VcccVmqJsJsjlTmzTDggmHHT',\n",
       " 'VqLtFCqFJfVtVjsNgPNNMMWNwgtNvn',\n",
       " '']"
      ]
     },
     "execution_count": 39,
     "metadata": {},
     "output_type": "execute_result"
    }
   ],
   "source": [
    "rucksacks[-5:]"
   ]
  },
  {
   "cell_type": "code",
   "execution_count": 40,
   "id": "695ad7a9-b46a-496d-a243-df360b1c4f55",
   "metadata": {},
   "outputs": [],
   "source": [
    "rucksacks = rucksacks[:-1]"
   ]
  },
  {
   "cell_type": "code",
   "execution_count": 41,
   "id": "fb45dbf6-c3b4-40f1-bce4-54ed9a128197",
   "metadata": {},
   "outputs": [],
   "source": [
    "common_items = []\n",
    "for rucksack in rucksacks:\n",
    "    split_idx = len(rucksack) // 2  # Rucksack always has equal number of items in each compartment\n",
    "    first_compartment = rucksack[:split_idx]\n",
    "    second_compartment = rucksack[split_idx:]\n",
    "    assert len(first_compartment) == len(second_compartment)\n",
    "    common_items.append(set(first_compartment).intersection(set(second_compartment)))"
   ]
  },
  {
   "cell_type": "code",
   "execution_count": 42,
   "id": "eb4bd3b8-8acc-4a73-8ed7-6d991a2ff9bf",
   "metadata": {},
   "outputs": [],
   "source": [
    "common_items = [list(common_item)[0] for common_item in common_items]  # Exactly one item per rucksack is common to both compartments"
   ]
  },
  {
   "cell_type": "code",
   "execution_count": 43,
   "id": "1dfe1299-f206-423b-8ba4-bd9f2ea58ca2",
   "metadata": {},
   "outputs": [
    {
     "data": {
      "text/plain": [
       "True"
      ]
     },
     "execution_count": 43,
     "metadata": {},
     "output_type": "execute_result"
    }
   ],
   "source": [
    "len(common_items) == len(rucksacks)"
   ]
  },
  {
   "cell_type": "code",
   "execution_count": 44,
   "id": "81a8c19e-e7a7-4af9-bd9d-e1436c4f42ad",
   "metadata": {},
   "outputs": [],
   "source": [
    "priorities = []\n",
    "for common_item in common_items:\n",
    "    if common_item.islower():\n",
    "        priority = ord(common_item) - ord('a') + 1\n",
    "    else:\n",
    "        priority = ord(common_item) - ord('A') + 27\n",
    "    \n",
    "    priorities.append(priority)"
   ]
  },
  {
   "cell_type": "code",
   "execution_count": 45,
   "id": "8fb6834c-127f-4421-b7f6-3d932c1ef112",
   "metadata": {},
   "outputs": [
    {
     "data": {
      "text/plain": [
       "8240"
      ]
     },
     "execution_count": 45,
     "metadata": {},
     "output_type": "execute_result"
    }
   ],
   "source": [
    "sum(priorities)"
   ]
  },
  {
   "cell_type": "markdown",
   "id": "5bf1c4f8-413c-49e5-a53c-cb058f2d805f",
   "metadata": {},
   "source": [
    "### Part 2"
   ]
  },
  {
   "cell_type": "code",
   "execution_count": 46,
   "id": "aca87493-e03a-4471-9d7d-1196965de3a4",
   "metadata": {},
   "outputs": [],
   "source": [
    "with open('data/input_d03_01.txt', 'r') as file:\n",
    "    rucksacks = file.read()"
   ]
  },
  {
   "cell_type": "code",
   "execution_count": 47,
   "id": "07498244-0582-40d2-9aa5-5eb18069c8ae",
   "metadata": {},
   "outputs": [],
   "source": [
    "rucksacks = rucksacks.split('\\n')"
   ]
  },
  {
   "cell_type": "code",
   "execution_count": 48,
   "id": "afd93892-18bd-45de-8bf1-69e1959bfb57",
   "metadata": {},
   "outputs": [
    {
     "data": {
      "text/plain": [
       "['SDBBPtZZTdnnwSvg',\n",
       " 'nddNNMMPNBnBNnBTQSShlSHghlDHBr',\n",
       " 'VcccVmqJsJsjlTmzTDggmHHT',\n",
       " 'VqLtFCqFJfVtVjsNgPNNMMWNwgtNvn',\n",
       " '']"
      ]
     },
     "execution_count": 48,
     "metadata": {},
     "output_type": "execute_result"
    }
   ],
   "source": [
    "rucksacks[-5:]"
   ]
  },
  {
   "cell_type": "code",
   "execution_count": 49,
   "id": "e21d6927-873e-448d-b118-5c625e3eb54b",
   "metadata": {},
   "outputs": [],
   "source": [
    "rucksacks = rucksacks[:-1]"
   ]
  },
  {
   "cell_type": "code",
   "execution_count": 50,
   "id": "b2780705-b9ae-4580-8a8d-08065ee72960",
   "metadata": {},
   "outputs": [
    {
     "data": {
      "text/plain": [
       "['pqgZZSZgcZJqpzBbqTbbLjBDBLhB',\n",
       " 'wHptFFsHttHFLMDQDFTbbj',\n",
       " 'fVfvsstwPHwNwfNGfHWRSnlpClcJzCWCzddSrddg',\n",
       " 'bdgHbZJHgMHgJgJctDtVssVcpFtq',\n",
       " 'rNNQqBSzTcBPTDsP',\n",
       " 'GWNNrhGnNnWNzRfnRQRbhCdqHMbdmbZddbmCmd',\n",
       " 'BSBDzrSwrqccDDwbfcBjsRwggClslTRWGWGMFlsF',\n",
       " 'dnhVhLJtzNZdgCRlsTGWCRJG',\n",
       " 'ZHZdNzptLNtPhPdnprPbbDBrSqrSQPjbqD']"
      ]
     },
     "execution_count": 50,
     "metadata": {},
     "output_type": "execute_result"
    }
   ],
   "source": [
    "rucksacks[:9]"
   ]
  },
  {
   "cell_type": "code",
   "execution_count": 51,
   "id": "3e7e600b-3d34-4519-b474-869ac1b2152c",
   "metadata": {},
   "outputs": [],
   "source": [
    "elf_groups = [rucksacks[i:i+3] for i in range(0, len(rucksacks), 3)]"
   ]
  },
  {
   "cell_type": "code",
   "execution_count": 52,
   "id": "8e827498-c799-42f6-8408-15ec25a8c4dd",
   "metadata": {},
   "outputs": [
    {
     "data": {
      "text/plain": [
       "['nddNNMMPNBnBNnBTQSShlSHghlDHBr',\n",
       " 'VcccVmqJsJsjlTmzTDggmHHT',\n",
       " 'VqLtFCqFJfVtVjsNgPNNMMWNwgtNvn']"
      ]
     },
     "execution_count": 52,
     "metadata": {},
     "output_type": "execute_result"
    }
   ],
   "source": [
    "elf_groups[-1]"
   ]
  },
  {
   "cell_type": "code",
   "execution_count": 53,
   "id": "d9318da4-4379-4cc5-a9dd-8c9857100b71",
   "metadata": {},
   "outputs": [],
   "source": [
    "common_items = []\n",
    "for rucksack_1, rucksack_2, rucksack_3 in elf_groups:\n",
    "    common_items.append(\n",
    "        set(rucksack_1).intersection(set(rucksack_2), set(rucksack_3))\n",
    "    \n",
    "    )"
   ]
  },
  {
   "cell_type": "code",
   "execution_count": 54,
   "id": "0c2cf6f2-f457-478f-b116-91bc9019d48b",
   "metadata": {},
   "outputs": [],
   "source": [
    "common_items = [list(common_item)[0] for common_item in common_items]"
   ]
  },
  {
   "cell_type": "code",
   "execution_count": 55,
   "id": "c6b305e7-5f84-4afb-a556-1233e4dc5216",
   "metadata": {},
   "outputs": [
    {
     "data": {
      "text/plain": [
       "['p', 'q', 'z', 'r', 'H']"
      ]
     },
     "execution_count": 55,
     "metadata": {},
     "output_type": "execute_result"
    }
   ],
   "source": [
    "common_items[:5]"
   ]
  },
  {
   "cell_type": "code",
   "execution_count": 56,
   "id": "83bd5950-285b-4acf-ae68-05ffe58cbed2",
   "metadata": {},
   "outputs": [],
   "source": [
    "priorities = []\n",
    "for common_item in common_items:\n",
    "    if common_item.islower():\n",
    "        priority = ord(common_item) - ord('a') + 1\n",
    "    else:\n",
    "        priority = ord(common_item) - ord('A') + 27\n",
    "    \n",
    "    priorities.append(priority)"
   ]
  },
  {
   "cell_type": "code",
   "execution_count": 57,
   "id": "c3a3d5f4-8e3a-4e9d-9ebc-d9f73263e62f",
   "metadata": {},
   "outputs": [
    {
     "data": {
      "text/plain": [
       "2587"
      ]
     },
     "execution_count": 57,
     "metadata": {},
     "output_type": "execute_result"
    }
   ],
   "source": [
    "sum(priorities)"
   ]
  },
  {
   "cell_type": "markdown",
   "id": "6175d095-220a-4411-b3e3-6a53f94841f3",
   "metadata": {},
   "source": [
    "## Day 04"
   ]
  },
  {
   "cell_type": "markdown",
   "id": "0e694c55-f1bc-47a9-a79d-b7245b01a6ec",
   "metadata": {},
   "source": [
    "### Part 1"
   ]
  },
  {
   "cell_type": "code",
   "execution_count": 58,
   "id": "ab716501-a29b-4633-bab8-85a212235eff",
   "metadata": {},
   "outputs": [],
   "source": [
    "with open('data/input_d04_01.txt', 'r') as file:\n",
    "    assignments = file.read()"
   ]
  },
  {
   "cell_type": "code",
   "execution_count": 59,
   "id": "cb93bd09-0da6-4aad-8aa2-2effe302b2fc",
   "metadata": {},
   "outputs": [],
   "source": [
    "assignments = assignments.split('\\n')"
   ]
  },
  {
   "cell_type": "code",
   "execution_count": 60,
   "id": "74389a42-3833-4925-aab9-c7a9f1593088",
   "metadata": {},
   "outputs": [
    {
     "data": {
      "text/plain": [
       "['3-64,13-40', '5-75,3-3', '66-66,9-65', '92-92,7-91', '']"
      ]
     },
     "execution_count": 60,
     "metadata": {},
     "output_type": "execute_result"
    }
   ],
   "source": [
    "assignments[-5:]"
   ]
  },
  {
   "cell_type": "code",
   "execution_count": 61,
   "id": "f1720ac7-4f3a-456c-95d7-e3e6dab755b3",
   "metadata": {},
   "outputs": [],
   "source": [
    "assignments = assignments[:-1]"
   ]
  },
  {
   "cell_type": "code",
   "execution_count": 62,
   "id": "b6fb03a8-036b-42c1-913a-a9bb061878c2",
   "metadata": {},
   "outputs": [],
   "source": [
    "assignments = [assignment.split(',') for assignment in assignments]"
   ]
  },
  {
   "cell_type": "code",
   "execution_count": 63,
   "id": "ecb92304-ec89-4d05-bcfa-98f1d8514306",
   "metadata": {},
   "outputs": [
    {
     "data": {
      "text/plain": [
       "[['1-93', '2-11'],\n",
       " ['26-94', '26-94'],\n",
       " ['72-92', '48-88'],\n",
       " ['36-37', '37-52'],\n",
       " ['2-98', '1-98']]"
      ]
     },
     "execution_count": 63,
     "metadata": {},
     "output_type": "execute_result"
    }
   ],
   "source": [
    "assignments[:5]"
   ]
  },
  {
   "cell_type": "code",
   "execution_count": 64,
   "id": "ea69ffe4-4c36-48cd-a057-5b92a1b33b94",
   "metadata": {},
   "outputs": [],
   "source": [
    "def get_set_from_range_str(range_str):\n",
    "    lower_bound, upper_bound = range_str.split('-')\n",
    "    return set(range(int(lower_bound), int(upper_bound) + 1))"
   ]
  },
  {
   "cell_type": "code",
   "execution_count": 65,
   "id": "770ff43e-0ed5-4c07-b1ba-e63f07f8d4f8",
   "metadata": {},
   "outputs": [
    {
     "data": {
      "text/plain": [
       "{1, 2, 3}"
      ]
     },
     "execution_count": 65,
     "metadata": {},
     "output_type": "execute_result"
    }
   ],
   "source": [
    "get_set_from_range_str('1-3')"
   ]
  },
  {
   "cell_type": "code",
   "execution_count": 66,
   "id": "0077e9aa-c079-4afa-8908-478999acb8b3",
   "metadata": {},
   "outputs": [
    {
     "data": {
      "text/plain": [
       "{3, 4, 5, 6}"
      ]
     },
     "execution_count": 66,
     "metadata": {},
     "output_type": "execute_result"
    }
   ],
   "source": [
    "get_set_from_range_str('3-6')"
   ]
  },
  {
   "cell_type": "code",
   "execution_count": 67,
   "id": "5659cab4-70b0-4d8a-b0e4-3fc776acf471",
   "metadata": {},
   "outputs": [],
   "source": [
    "is_fully_contained = []\n",
    "for range_str_1, range_str_2 in assignments:\n",
    "    set_1 = get_set_from_range_str(range_str_1)\n",
    "    set_2 = get_set_from_range_str(range_str_2)\n",
    "    is_fully_contained.append(set_1.issubset(set_2) or set_1.issuperset(set_2))"
   ]
  },
  {
   "cell_type": "code",
   "execution_count": 68,
   "id": "d2389e3a-0270-4bf4-a789-01bcc2c1f48a",
   "metadata": {},
   "outputs": [
    {
     "data": {
      "text/plain": [
       "503"
      ]
     },
     "execution_count": 68,
     "metadata": {},
     "output_type": "execute_result"
    }
   ],
   "source": [
    "sum(is_fully_contained)"
   ]
  },
  {
   "cell_type": "markdown",
   "id": "bc8dcbf7-ac8b-49b5-a3e2-41dbabac72d8",
   "metadata": {},
   "source": [
    "### Part 2"
   ]
  },
  {
   "cell_type": "code",
   "execution_count": 69,
   "id": "07d30c8a-4be2-42af-99b0-6592528c9a5b",
   "metadata": {},
   "outputs": [],
   "source": [
    "with open('data/input_d04_01.txt', 'r') as file:\n",
    "    assignments = file.read()"
   ]
  },
  {
   "cell_type": "code",
   "execution_count": 70,
   "id": "43623641-1f40-4422-8b44-59070dd4c9e6",
   "metadata": {},
   "outputs": [],
   "source": [
    "assignments = assignments.split('\\n')"
   ]
  },
  {
   "cell_type": "code",
   "execution_count": 71,
   "id": "6fa4f2b9-3beb-4fd7-974d-9c248fc25b2f",
   "metadata": {},
   "outputs": [
    {
     "data": {
      "text/plain": [
       "['3-64,13-40', '5-75,3-3', '66-66,9-65', '92-92,7-91', '']"
      ]
     },
     "execution_count": 71,
     "metadata": {},
     "output_type": "execute_result"
    }
   ],
   "source": [
    "assignments[-5:]"
   ]
  },
  {
   "cell_type": "code",
   "execution_count": 72,
   "id": "1692f0fa-1066-42fc-8e97-a486a850a438",
   "metadata": {},
   "outputs": [],
   "source": [
    "assignments = assignments[:-1]"
   ]
  },
  {
   "cell_type": "code",
   "execution_count": 73,
   "id": "df5405dd-f24a-414e-a3eb-5ca528d598dd",
   "metadata": {},
   "outputs": [],
   "source": [
    "assignments = [assignment.split(',') for assignment in assignments]"
   ]
  },
  {
   "cell_type": "code",
   "execution_count": 74,
   "id": "4c24297c-5af6-4bf2-a211-44282df07312",
   "metadata": {},
   "outputs": [
    {
     "data": {
      "text/plain": [
       "[['1-93', '2-11'],\n",
       " ['26-94', '26-94'],\n",
       " ['72-92', '48-88'],\n",
       " ['36-37', '37-52'],\n",
       " ['2-98', '1-98']]"
      ]
     },
     "execution_count": 74,
     "metadata": {},
     "output_type": "execute_result"
    }
   ],
   "source": [
    "assignments[:5]"
   ]
  },
  {
   "cell_type": "code",
   "execution_count": 75,
   "id": "d60d81ea-cc26-4fb3-8fe3-8c259f9b2d9f",
   "metadata": {},
   "outputs": [],
   "source": [
    "def get_set_from_range_str(range_str):\n",
    "    lower_bound, upper_bound = range_str.split('-')\n",
    "    return set(range(int(lower_bound), int(upper_bound) + 1))"
   ]
  },
  {
   "cell_type": "code",
   "execution_count": 76,
   "id": "b1771c85-1163-4eb5-9795-9685df03b6be",
   "metadata": {},
   "outputs": [],
   "source": [
    "is_not_disjoint = []\n",
    "for range_str_1, range_str_2 in assignments:\n",
    "    set_1 = get_set_from_range_str(range_str_1)\n",
    "    set_2 = get_set_from_range_str(range_str_2)\n",
    "    is_not_disjoint.append(not set_1.isdisjoint(set_2))"
   ]
  },
  {
   "cell_type": "code",
   "execution_count": 77,
   "id": "f4257953-6e4d-4f9e-851d-638bbb5d55b4",
   "metadata": {},
   "outputs": [
    {
     "data": {
      "text/plain": [
       "827"
      ]
     },
     "execution_count": 77,
     "metadata": {},
     "output_type": "execute_result"
    }
   ],
   "source": [
    "sum(is_not_disjoint)"
   ]
  },
  {
   "cell_type": "markdown",
   "id": "0f9816d4-26af-4ad1-a95c-b710cdc98bc3",
   "metadata": {},
   "source": [
    "## Day 05"
   ]
  },
  {
   "cell_type": "markdown",
   "id": "e1e35942-69bb-4066-a87d-6f107006700c",
   "metadata": {
    "tags": []
   },
   "source": [
    "### Part 1"
   ]
  },
  {
   "cell_type": "code",
   "execution_count": 78,
   "id": "92db8e84-bbda-402e-a52c-7df59911fb00",
   "metadata": {},
   "outputs": [],
   "source": [
    "with open('data/input_d05_01.txt', 'r') as file:\n",
    "    crates_and_moves = file.read()"
   ]
  },
  {
   "cell_type": "code",
   "execution_count": 79,
   "id": "0f569ef7-2af3-495a-af9e-b33fc9583c7b",
   "metadata": {},
   "outputs": [],
   "source": [
    "crates = crates_and_moves[:crates_and_moves.find('9')+1]"
   ]
  },
  {
   "cell_type": "code",
   "execution_count": 80,
   "id": "8c969d6f-832d-42d3-a405-b90156b5f3cc",
   "metadata": {},
   "outputs": [
    {
     "name": "stdout",
     "output_type": "stream",
     "text": [
      "[P]     [C]         [M]            \n",
      "[D]     [P] [B]     [V] [S]        \n",
      "[Q] [V] [R] [V]     [G] [B]        \n",
      "[R] [W] [G] [J]     [T] [M]     [V]\n",
      "[V] [Q] [Q] [F] [C] [N] [V]     [W]\n",
      "[B] [Z] [Z] [H] [L] [P] [L] [J] [N]\n",
      "[H] [D] [L] [D] [W] [R] [R] [P] [C]\n",
      "[F] [L] [H] [R] [Z] [J] [J] [D] [D]\n",
      " 1   2   3   4   5   6   7   8   9\n"
     ]
    }
   ],
   "source": [
    "print(crates)"
   ]
  },
  {
   "cell_type": "code",
   "execution_count": 81,
   "id": "d7ba20a6-4a00-434e-8fc1-1d46ca7eebea",
   "metadata": {},
   "outputs": [],
   "source": [
    "moves = crates_and_moves[crates_and_moves.find('9')+1:]"
   ]
  },
  {
   "cell_type": "code",
   "execution_count": 82,
   "id": "31eaf0bb-911a-4e1a-a1f2-eed80e87c213",
   "metadata": {},
   "outputs": [],
   "source": [
    "moves = moves.split('\\n')"
   ]
  },
  {
   "cell_type": "code",
   "execution_count": 83,
   "id": "ae74a8b3-ba7a-48f4-accc-63042c644b9d",
   "metadata": {},
   "outputs": [
    {
     "data": {
      "text/plain": [
       "[' ', '', 'move 4 from 9 to 1', 'move 6 from 3 to 1', 'move 7 from 4 to 1']"
      ]
     },
     "execution_count": 83,
     "metadata": {},
     "output_type": "execute_result"
    }
   ],
   "source": [
    "moves[:5]"
   ]
  },
  {
   "cell_type": "code",
   "execution_count": 84,
   "id": "b156f9d3-42f0-4279-be0a-50151b7f317d",
   "metadata": {},
   "outputs": [
    {
     "data": {
      "text/plain": [
       "['move 4 from 9 to 1',\n",
       " 'move 6 from 3 to 1',\n",
       " 'move 7 from 4 to 1',\n",
       " 'move 2 from 8 to 5',\n",
       " 'move 1 from 9 to 7']"
      ]
     },
     "execution_count": 84,
     "metadata": {},
     "output_type": "execute_result"
    }
   ],
   "source": [
    "moves = moves[2:]\n",
    "moves[:5]"
   ]
  },
  {
   "cell_type": "code",
   "execution_count": 85,
   "id": "54b80b65-db13-4468-9a72-66ea87370824",
   "metadata": {},
   "outputs": [
    {
     "data": {
      "text/plain": [
       "['move 1 from 8 to 6',\n",
       " 'move 6 from 5 to 9',\n",
       " 'move 3 from 6 to 5',\n",
       " 'move 2 from 4 to 7',\n",
       " '']"
      ]
     },
     "execution_count": 85,
     "metadata": {},
     "output_type": "execute_result"
    }
   ],
   "source": [
    "moves[-5:]"
   ]
  },
  {
   "cell_type": "code",
   "execution_count": 86,
   "id": "b5f05adb-53d6-4193-88cc-542631bb57ce",
   "metadata": {},
   "outputs": [],
   "source": [
    "moves = moves[:-1]"
   ]
  },
  {
   "cell_type": "code",
   "execution_count": 87,
   "id": "7a4955ea-c660-4b96-92ad-370cc66af017",
   "metadata": {},
   "outputs": [],
   "source": [
    "# Populate stacks\n",
    "stacks = {}"
   ]
  },
  {
   "cell_type": "code",
   "execution_count": 88,
   "id": "37422e33-db54-43ec-a54c-9ee48c1bd63f",
   "metadata": {},
   "outputs": [
    {
     "data": {
      "text/plain": [
       "['[P]     [C]         [M]            ',\n",
       " '[D]     [P] [B]     [V] [S]        ',\n",
       " '[Q] [V] [R] [V]     [G] [B]        ',\n",
       " '[R] [W] [G] [J]     [T] [M]     [V]',\n",
       " '[V] [Q] [Q] [F] [C] [N] [V]     [W]',\n",
       " '[B] [Z] [Z] [H] [L] [P] [L] [J] [N]',\n",
       " '[H] [D] [L] [D] [W] [R] [R] [P] [C]',\n",
       " '[F] [L] [H] [R] [Z] [J] [J] [D] [D]',\n",
       " ' 1   2   3   4   5   6   7   8   9']"
      ]
     },
     "execution_count": 88,
     "metadata": {},
     "output_type": "execute_result"
    }
   ],
   "source": [
    "crate_rows = crates.split('\\n')\n",
    "crate_rows"
   ]
  },
  {
   "cell_type": "code",
   "execution_count": 89,
   "id": "913d8651-f8c9-4ad1-bb0d-4e3f4d335b70",
   "metadata": {},
   "outputs": [
    {
     "data": {
      "text/plain": [
       "' 1   2   3   4   5   6   7   8   9'"
      ]
     },
     "execution_count": 89,
     "metadata": {},
     "output_type": "execute_result"
    }
   ],
   "source": [
    "last_row = crate_rows[-1]\n",
    "last_row"
   ]
  },
  {
   "cell_type": "code",
   "execution_count": 90,
   "id": "501a5e73-bcef-469c-8701-70d1f2019dab",
   "metadata": {},
   "outputs": [
    {
     "data": {
      "text/plain": [
       "['1', '2', '3', '4', '5', '6', '7', '8', '9']"
      ]
     },
     "execution_count": 90,
     "metadata": {},
     "output_type": "execute_result"
    }
   ],
   "source": [
    "[last_row[i] for i in range(1, len(crate_rows[0]), 4)]"
   ]
  },
  {
   "cell_type": "code",
   "execution_count": 91,
   "id": "eaeeadf1-5b7c-467c-a3a0-2ba6c212c571",
   "metadata": {},
   "outputs": [],
   "source": [
    "crate_values = [\n",
    "    [crate_row[i] for i in range(1, len(crate_row), 4)]\n",
    "    for crate_row in crate_rows\n",
    "]"
   ]
  },
  {
   "cell_type": "code",
   "execution_count": 92,
   "id": "b1bcfa72-6b67-4f19-9e3f-72a6df3e6516",
   "metadata": {},
   "outputs": [
    {
     "data": {
      "text/plain": [
       "[['P', ' ', 'C', ' ', ' ', 'M', ' ', ' ', ' '],\n",
       " ['D', ' ', 'P', 'B', ' ', 'V', 'S', ' ', ' '],\n",
       " ['Q', 'V', 'R', 'V', ' ', 'G', 'B', ' ', ' '],\n",
       " ['R', 'W', 'G', 'J', ' ', 'T', 'M', ' ', 'V'],\n",
       " ['V', 'Q', 'Q', 'F', 'C', 'N', 'V', ' ', 'W'],\n",
       " ['B', 'Z', 'Z', 'H', 'L', 'P', 'L', 'J', 'N'],\n",
       " ['H', 'D', 'L', 'D', 'W', 'R', 'R', 'P', 'C'],\n",
       " ['F', 'L', 'H', 'R', 'Z', 'J', 'J', 'D', 'D'],\n",
       " ['1', '2', '3', '4', '5', '6', '7', '8', '9']]"
      ]
     },
     "execution_count": 92,
     "metadata": {},
     "output_type": "execute_result"
    }
   ],
   "source": [
    "crate_values"
   ]
  },
  {
   "cell_type": "code",
   "execution_count": 93,
   "id": "c82dd8db-edd9-4709-accc-502c7b85f830",
   "metadata": {},
   "outputs": [
    {
     "data": {
      "text/plain": [
       "[['P', ' ', 'C', ' ', ' ', 'M', ' ', ' ', ' '],\n",
       " ['D', ' ', 'P', 'B', ' ', 'V', 'S', ' ', ' '],\n",
       " ['Q', 'V', 'R', 'V', ' ', 'G', 'B', ' ', ' '],\n",
       " ['R', 'W', 'G', 'J', ' ', 'T', 'M', ' ', 'V'],\n",
       " ['V', 'Q', 'Q', 'F', 'C', 'N', 'V', ' ', 'W'],\n",
       " ['B', 'Z', 'Z', 'H', 'L', 'P', 'L', 'J', 'N'],\n",
       " ['H', 'D', 'L', 'D', 'W', 'R', 'R', 'P', 'C'],\n",
       " ['F', 'L', 'H', 'R', 'Z', 'J', 'J', 'D', 'D']]"
      ]
     },
     "execution_count": 93,
     "metadata": {},
     "output_type": "execute_result"
    }
   ],
   "source": [
    "# Drop the last row (stack indexes)\n",
    "crate_values = crate_values[:-1]\n",
    "crate_values"
   ]
  },
  {
   "cell_type": "code",
   "execution_count": 94,
   "id": "b4df2670-6125-4be2-b002-4d6f5c4906ed",
   "metadata": {},
   "outputs": [
    {
     "data": {
      "text/plain": [
       "{1: [], 2: [], 3: [], 4: [], 5: [], 6: [], 7: [], 8: [], 9: []}"
      ]
     },
     "execution_count": 94,
     "metadata": {},
     "output_type": "execute_result"
    }
   ],
   "source": [
    "# Populate stacks\n",
    "stacks = {idx: [] for idx in range(1, 10)}\n",
    "stacks"
   ]
  },
  {
   "cell_type": "code",
   "execution_count": 95,
   "id": "408af561-926f-40fc-8dbc-d84602f74caa",
   "metadata": {},
   "outputs": [],
   "source": [
    "for row in crate_values:\n",
    "    for idx in range(len(row)):\n",
    "        value = row[idx]\n",
    "        if value != ' ':\n",
    "            stacks[idx + 1].append(value)"
   ]
  },
  {
   "cell_type": "code",
   "execution_count": 96,
   "id": "5296d2e1-08de-4927-9960-0bf503f8cc26",
   "metadata": {},
   "outputs": [
    {
     "data": {
      "text/plain": [
       "{1: ['P', 'D', 'Q', 'R', 'V', 'B', 'H', 'F'],\n",
       " 2: ['V', 'W', 'Q', 'Z', 'D', 'L'],\n",
       " 3: ['C', 'P', 'R', 'G', 'Q', 'Z', 'L', 'H'],\n",
       " 4: ['B', 'V', 'J', 'F', 'H', 'D', 'R'],\n",
       " 5: ['C', 'L', 'W', 'Z'],\n",
       " 6: ['M', 'V', 'G', 'T', 'N', 'P', 'R', 'J'],\n",
       " 7: ['S', 'B', 'M', 'V', 'L', 'R', 'J'],\n",
       " 8: ['J', 'P', 'D'],\n",
       " 9: ['V', 'W', 'N', 'C', 'D']}"
      ]
     },
     "execution_count": 96,
     "metadata": {},
     "output_type": "execute_result"
    }
   ],
   "source": [
    "stacks"
   ]
  },
  {
   "cell_type": "code",
   "execution_count": 97,
   "id": "00d927f0-14ce-4c9e-9b74-fc8a6c326488",
   "metadata": {},
   "outputs": [],
   "source": [
    "# Reverse stacks\n",
    "stacks = {idx: list[::-1] for idx, list in stacks.items()}"
   ]
  },
  {
   "cell_type": "code",
   "execution_count": 98,
   "id": "b69e24f3-a693-4e2f-93e0-f6f6a471cd29",
   "metadata": {},
   "outputs": [
    {
     "data": {
      "text/plain": [
       "{1: ['F', 'H', 'B', 'V', 'R', 'Q', 'D', 'P'],\n",
       " 2: ['L', 'D', 'Z', 'Q', 'W', 'V'],\n",
       " 3: ['H', 'L', 'Z', 'Q', 'G', 'R', 'P', 'C'],\n",
       " 4: ['R', 'D', 'H', 'F', 'J', 'V', 'B'],\n",
       " 5: ['Z', 'W', 'L', 'C'],\n",
       " 6: ['J', 'R', 'P', 'N', 'T', 'G', 'V', 'M'],\n",
       " 7: ['J', 'R', 'L', 'V', 'M', 'B', 'S'],\n",
       " 8: ['D', 'P', 'J'],\n",
       " 9: ['D', 'C', 'N', 'W', 'V']}"
      ]
     },
     "execution_count": 98,
     "metadata": {},
     "output_type": "execute_result"
    }
   ],
   "source": [
    "stacks"
   ]
  },
  {
   "cell_type": "code",
   "execution_count": 99,
   "id": "3bf5a305-9ebc-47a7-af97-8a2de2e6d6a7",
   "metadata": {},
   "outputs": [
    {
     "data": {
      "text/plain": [
       "['move 4 from 9 to 1',\n",
       " 'move 6 from 3 to 1',\n",
       " 'move 7 from 4 to 1',\n",
       " 'move 2 from 8 to 5',\n",
       " 'move 1 from 9 to 7']"
      ]
     },
     "execution_count": 99,
     "metadata": {},
     "output_type": "execute_result"
    }
   ],
   "source": [
    "moves[:5]"
   ]
  },
  {
   "cell_type": "code",
   "execution_count": 100,
   "id": "b8922125-0fbb-48c8-9b59-b68ea6525e94",
   "metadata": {},
   "outputs": [
    {
     "data": {
      "text/plain": [
       "'move 4 from 9 to 1'"
      ]
     },
     "execution_count": 100,
     "metadata": {},
     "output_type": "execute_result"
    }
   ],
   "source": [
    "moves[0]"
   ]
  },
  {
   "cell_type": "code",
   "execution_count": 101,
   "id": "7dfb9f61-6a3e-42bf-99f6-58c35da8e177",
   "metadata": {},
   "outputs": [],
   "source": [
    "import re"
   ]
  },
  {
   "cell_type": "code",
   "execution_count": 102,
   "id": "025981e1-9e0d-4f7b-b341-acd10ddfe12e",
   "metadata": {},
   "outputs": [
    {
     "data": {
      "text/plain": [
       "('4', '9', '1')"
      ]
     },
     "execution_count": 102,
     "metadata": {},
     "output_type": "execute_result"
    }
   ],
   "source": [
    "re.match('move (.+) from (.+) to (.+)', moves[0]).groups()"
   ]
  },
  {
   "cell_type": "code",
   "execution_count": 103,
   "id": "8f2ebc85-6692-4fc2-8e1a-a15fd568cb0a",
   "metadata": {},
   "outputs": [],
   "source": [
    "move_tuples = [re.match('move (.+) from (.+) to (.+)', move).groups() \n",
    "               for move in moves]"
   ]
  },
  {
   "cell_type": "code",
   "execution_count": 104,
   "id": "ba82e330-2ac2-4897-86f6-c2e70220a08e",
   "metadata": {},
   "outputs": [],
   "source": [
    "for num_to_move, source, destination in move_tuples:\n",
    "    for i in range(int(num_to_move)):\n",
    "        top_crate = stacks[int(source)].pop()\n",
    "        stacks[int(destination)].append(top_crate)"
   ]
  },
  {
   "cell_type": "code",
   "execution_count": 105,
   "id": "2b028833-5446-45c4-834d-e29f142fd6a5",
   "metadata": {},
   "outputs": [
    {
     "data": {
      "text/plain": [
       "{1: ['D',\n",
       "  'R',\n",
       "  'V',\n",
       "  'Z',\n",
       "  'G',\n",
       "  'V',\n",
       "  'V',\n",
       "  'B',\n",
       "  'D',\n",
       "  'P',\n",
       "  'S',\n",
       "  'H',\n",
       "  'L',\n",
       "  'R',\n",
       "  'R',\n",
       "  'V',\n",
       "  'J'],\n",
       " 2: ['H', 'L', 'Q', 'P', 'H', 'Q', 'D'],\n",
       " 3: ['F', 'V', 'N', 'N', 'Z', 'T'],\n",
       " 4: ['M'],\n",
       " 5: ['M', 'G', 'P', 'R'],\n",
       " 6: ['W'],\n",
       " 7: ['L', 'C'],\n",
       " 8: ['Q'],\n",
       " 9: ['W',\n",
       "  'J',\n",
       "  'C',\n",
       "  'W',\n",
       "  'F',\n",
       "  'R',\n",
       "  'B',\n",
       "  'V',\n",
       "  'J',\n",
       "  'Z',\n",
       "  'L',\n",
       "  'C',\n",
       "  'B',\n",
       "  'D',\n",
       "  'D',\n",
       "  'P',\n",
       "  'J']}"
      ]
     },
     "execution_count": 105,
     "metadata": {},
     "output_type": "execute_result"
    }
   ],
   "source": [
    "stacks"
   ]
  },
  {
   "cell_type": "code",
   "execution_count": 106,
   "id": "160e92af-88c6-40b7-ba59-88e3b92dbce0",
   "metadata": {},
   "outputs": [
    {
     "data": {
      "text/plain": [
       "'JDTMRWCQJ'"
      ]
     },
     "execution_count": 106,
     "metadata": {},
     "output_type": "execute_result"
    }
   ],
   "source": [
    "''.join([value[-1] for key, value in stacks.items()])"
   ]
  },
  {
   "cell_type": "markdown",
   "id": "99ab227b-a499-4a46-bf6d-c5ac55b50a30",
   "metadata": {
    "tags": []
   },
   "source": [
    "### Part 2"
   ]
  },
  {
   "cell_type": "code",
   "execution_count": 107,
   "id": "2708ad1f-c9d9-428b-ad98-8067dee88acb",
   "metadata": {},
   "outputs": [],
   "source": [
    "with open('data/input_d05_01.txt', 'r') as file:\n",
    "    crates_and_moves = file.read()"
   ]
  },
  {
   "cell_type": "code",
   "execution_count": 108,
   "id": "79bd071f-3659-4513-9001-efd2242cfa1e",
   "metadata": {},
   "outputs": [],
   "source": [
    "crates = crates_and_moves[:crates_and_moves.find('9')+1]"
   ]
  },
  {
   "cell_type": "code",
   "execution_count": 109,
   "id": "653a3c12-f48a-4784-93d6-06bd8be4bd76",
   "metadata": {},
   "outputs": [
    {
     "name": "stdout",
     "output_type": "stream",
     "text": [
      "[P]     [C]         [M]            \n",
      "[D]     [P] [B]     [V] [S]        \n",
      "[Q] [V] [R] [V]     [G] [B]        \n",
      "[R] [W] [G] [J]     [T] [M]     [V]\n",
      "[V] [Q] [Q] [F] [C] [N] [V]     [W]\n",
      "[B] [Z] [Z] [H] [L] [P] [L] [J] [N]\n",
      "[H] [D] [L] [D] [W] [R] [R] [P] [C]\n",
      "[F] [L] [H] [R] [Z] [J] [J] [D] [D]\n",
      " 1   2   3   4   5   6   7   8   9\n"
     ]
    }
   ],
   "source": [
    "print(crates)"
   ]
  },
  {
   "cell_type": "code",
   "execution_count": 110,
   "id": "5932e73e-1603-46b2-b056-3f2fff4b1746",
   "metadata": {},
   "outputs": [],
   "source": [
    "moves = crates_and_moves[crates_and_moves.find('9')+1:]"
   ]
  },
  {
   "cell_type": "code",
   "execution_count": 111,
   "id": "9759d21b-b81e-49e5-9d46-cc623436ba96",
   "metadata": {},
   "outputs": [],
   "source": [
    "moves = moves.split('\\n')"
   ]
  },
  {
   "cell_type": "code",
   "execution_count": 112,
   "id": "067cdd03-5bb1-415c-bef8-9fa534c2ab9b",
   "metadata": {},
   "outputs": [
    {
     "data": {
      "text/plain": [
       "[' ', '', 'move 4 from 9 to 1', 'move 6 from 3 to 1', 'move 7 from 4 to 1']"
      ]
     },
     "execution_count": 112,
     "metadata": {},
     "output_type": "execute_result"
    }
   ],
   "source": [
    "moves[:5]"
   ]
  },
  {
   "cell_type": "code",
   "execution_count": 113,
   "id": "b4384ec0-4477-4a5a-a6c6-6c27e95a6272",
   "metadata": {},
   "outputs": [
    {
     "data": {
      "text/plain": [
       "['move 4 from 9 to 1',\n",
       " 'move 6 from 3 to 1',\n",
       " 'move 7 from 4 to 1',\n",
       " 'move 2 from 8 to 5',\n",
       " 'move 1 from 9 to 7']"
      ]
     },
     "execution_count": 113,
     "metadata": {},
     "output_type": "execute_result"
    }
   ],
   "source": [
    "moves = moves[2:]\n",
    "moves[:5]"
   ]
  },
  {
   "cell_type": "code",
   "execution_count": 114,
   "id": "e86571fe-5a1e-4843-8346-2498e2a8e779",
   "metadata": {},
   "outputs": [
    {
     "data": {
      "text/plain": [
       "['move 1 from 8 to 6',\n",
       " 'move 6 from 5 to 9',\n",
       " 'move 3 from 6 to 5',\n",
       " 'move 2 from 4 to 7',\n",
       " '']"
      ]
     },
     "execution_count": 114,
     "metadata": {},
     "output_type": "execute_result"
    }
   ],
   "source": [
    "moves[-5:]"
   ]
  },
  {
   "cell_type": "code",
   "execution_count": 115,
   "id": "3e49be56-c054-4b55-a614-f6026fdf4d88",
   "metadata": {},
   "outputs": [],
   "source": [
    "moves = moves[:-1]"
   ]
  },
  {
   "cell_type": "code",
   "execution_count": 116,
   "id": "a4c993b6-3ede-4941-8f89-a257a6c9ed1b",
   "metadata": {},
   "outputs": [],
   "source": [
    "# Populate stacks\n",
    "stacks = {}"
   ]
  },
  {
   "cell_type": "code",
   "execution_count": 117,
   "id": "f6e92629-fcb5-4af5-8e65-af29419552f7",
   "metadata": {},
   "outputs": [
    {
     "data": {
      "text/plain": [
       "['[P]     [C]         [M]            ',\n",
       " '[D]     [P] [B]     [V] [S]        ',\n",
       " '[Q] [V] [R] [V]     [G] [B]        ',\n",
       " '[R] [W] [G] [J]     [T] [M]     [V]',\n",
       " '[V] [Q] [Q] [F] [C] [N] [V]     [W]',\n",
       " '[B] [Z] [Z] [H] [L] [P] [L] [J] [N]',\n",
       " '[H] [D] [L] [D] [W] [R] [R] [P] [C]',\n",
       " '[F] [L] [H] [R] [Z] [J] [J] [D] [D]',\n",
       " ' 1   2   3   4   5   6   7   8   9']"
      ]
     },
     "execution_count": 117,
     "metadata": {},
     "output_type": "execute_result"
    }
   ],
   "source": [
    "crate_rows = crates.split('\\n')\n",
    "crate_rows"
   ]
  },
  {
   "cell_type": "code",
   "execution_count": 118,
   "id": "f7768bef-c2ea-4334-aa3f-d411468e40b4",
   "metadata": {},
   "outputs": [
    {
     "data": {
      "text/plain": [
       "' 1   2   3   4   5   6   7   8   9'"
      ]
     },
     "execution_count": 118,
     "metadata": {},
     "output_type": "execute_result"
    }
   ],
   "source": [
    "last_row = crate_rows[-1]\n",
    "last_row"
   ]
  },
  {
   "cell_type": "code",
   "execution_count": 119,
   "id": "a2d8292e-36a9-4339-8f42-fb478ff82f0b",
   "metadata": {},
   "outputs": [
    {
     "data": {
      "text/plain": [
       "['1', '2', '3', '4', '5', '6', '7', '8', '9']"
      ]
     },
     "execution_count": 119,
     "metadata": {},
     "output_type": "execute_result"
    }
   ],
   "source": [
    "[last_row[i] for i in range(1, len(crate_rows[0]), 4)]"
   ]
  },
  {
   "cell_type": "code",
   "execution_count": 120,
   "id": "454b1c82-2cfe-4079-9737-0995f14a323b",
   "metadata": {},
   "outputs": [],
   "source": [
    "crate_values = [\n",
    "    [crate_row[i] for i in range(1, len(crate_row), 4)]\n",
    "    for crate_row in crate_rows\n",
    "]"
   ]
  },
  {
   "cell_type": "code",
   "execution_count": 121,
   "id": "6d62f477-f7fd-4053-b046-af1196759289",
   "metadata": {},
   "outputs": [
    {
     "data": {
      "text/plain": [
       "[['P', ' ', 'C', ' ', ' ', 'M', ' ', ' ', ' '],\n",
       " ['D', ' ', 'P', 'B', ' ', 'V', 'S', ' ', ' '],\n",
       " ['Q', 'V', 'R', 'V', ' ', 'G', 'B', ' ', ' '],\n",
       " ['R', 'W', 'G', 'J', ' ', 'T', 'M', ' ', 'V'],\n",
       " ['V', 'Q', 'Q', 'F', 'C', 'N', 'V', ' ', 'W'],\n",
       " ['B', 'Z', 'Z', 'H', 'L', 'P', 'L', 'J', 'N'],\n",
       " ['H', 'D', 'L', 'D', 'W', 'R', 'R', 'P', 'C'],\n",
       " ['F', 'L', 'H', 'R', 'Z', 'J', 'J', 'D', 'D'],\n",
       " ['1', '2', '3', '4', '5', '6', '7', '8', '9']]"
      ]
     },
     "execution_count": 121,
     "metadata": {},
     "output_type": "execute_result"
    }
   ],
   "source": [
    "crate_values"
   ]
  },
  {
   "cell_type": "code",
   "execution_count": 122,
   "id": "01278830-c288-4903-b914-ba647d61f556",
   "metadata": {},
   "outputs": [
    {
     "data": {
      "text/plain": [
       "[['P', ' ', 'C', ' ', ' ', 'M', ' ', ' ', ' '],\n",
       " ['D', ' ', 'P', 'B', ' ', 'V', 'S', ' ', ' '],\n",
       " ['Q', 'V', 'R', 'V', ' ', 'G', 'B', ' ', ' '],\n",
       " ['R', 'W', 'G', 'J', ' ', 'T', 'M', ' ', 'V'],\n",
       " ['V', 'Q', 'Q', 'F', 'C', 'N', 'V', ' ', 'W'],\n",
       " ['B', 'Z', 'Z', 'H', 'L', 'P', 'L', 'J', 'N'],\n",
       " ['H', 'D', 'L', 'D', 'W', 'R', 'R', 'P', 'C'],\n",
       " ['F', 'L', 'H', 'R', 'Z', 'J', 'J', 'D', 'D']]"
      ]
     },
     "execution_count": 122,
     "metadata": {},
     "output_type": "execute_result"
    }
   ],
   "source": [
    "# Drop the last row\n",
    "crate_values = crate_values[:-1]\n",
    "crate_values"
   ]
  },
  {
   "cell_type": "code",
   "execution_count": 123,
   "id": "2261f1fc-496b-4c40-81e8-c45ffe2f09af",
   "metadata": {},
   "outputs": [
    {
     "data": {
      "text/plain": [
       "{1: [], 2: [], 3: [], 4: [], 5: [], 6: [], 7: [], 8: [], 9: []}"
      ]
     },
     "execution_count": 123,
     "metadata": {},
     "output_type": "execute_result"
    }
   ],
   "source": [
    "# Populate stacks\n",
    "stacks = {idx: [] for idx in range(1, 10)}\n",
    "stacks"
   ]
  },
  {
   "cell_type": "code",
   "execution_count": 124,
   "id": "a394b548-9290-416a-9d9b-c4553546864a",
   "metadata": {},
   "outputs": [],
   "source": [
    "for row in crate_values:\n",
    "    for idx in range(len(row)):\n",
    "        value = row[idx]\n",
    "        if value != ' ':\n",
    "            stacks[idx + 1].append(value)"
   ]
  },
  {
   "cell_type": "code",
   "execution_count": 125,
   "id": "dae66041-f22b-4be6-82fe-04bd25c8a0cd",
   "metadata": {},
   "outputs": [
    {
     "data": {
      "text/plain": [
       "{1: ['P', 'D', 'Q', 'R', 'V', 'B', 'H', 'F'],\n",
       " 2: ['V', 'W', 'Q', 'Z', 'D', 'L'],\n",
       " 3: ['C', 'P', 'R', 'G', 'Q', 'Z', 'L', 'H'],\n",
       " 4: ['B', 'V', 'J', 'F', 'H', 'D', 'R'],\n",
       " 5: ['C', 'L', 'W', 'Z'],\n",
       " 6: ['M', 'V', 'G', 'T', 'N', 'P', 'R', 'J'],\n",
       " 7: ['S', 'B', 'M', 'V', 'L', 'R', 'J'],\n",
       " 8: ['J', 'P', 'D'],\n",
       " 9: ['V', 'W', 'N', 'C', 'D']}"
      ]
     },
     "execution_count": 125,
     "metadata": {},
     "output_type": "execute_result"
    }
   ],
   "source": [
    "stacks"
   ]
  },
  {
   "cell_type": "code",
   "execution_count": 126,
   "id": "3b727bd8-fded-4041-be0a-3254deb6ce61",
   "metadata": {},
   "outputs": [],
   "source": [
    "# Reverse stacks\n",
    "stacks = {idx: list[::-1] for idx, list in stacks.items()}"
   ]
  },
  {
   "cell_type": "code",
   "execution_count": 127,
   "id": "83f1e081-656e-44e4-a51c-8503170242b1",
   "metadata": {},
   "outputs": [
    {
     "data": {
      "text/plain": [
       "{1: ['F', 'H', 'B', 'V', 'R', 'Q', 'D', 'P'],\n",
       " 2: ['L', 'D', 'Z', 'Q', 'W', 'V'],\n",
       " 3: ['H', 'L', 'Z', 'Q', 'G', 'R', 'P', 'C'],\n",
       " 4: ['R', 'D', 'H', 'F', 'J', 'V', 'B'],\n",
       " 5: ['Z', 'W', 'L', 'C'],\n",
       " 6: ['J', 'R', 'P', 'N', 'T', 'G', 'V', 'M'],\n",
       " 7: ['J', 'R', 'L', 'V', 'M', 'B', 'S'],\n",
       " 8: ['D', 'P', 'J'],\n",
       " 9: ['D', 'C', 'N', 'W', 'V']}"
      ]
     },
     "execution_count": 127,
     "metadata": {},
     "output_type": "execute_result"
    }
   ],
   "source": [
    "stacks"
   ]
  },
  {
   "cell_type": "code",
   "execution_count": 128,
   "id": "4b391b3e-770f-47f2-bbb6-11641888f158",
   "metadata": {},
   "outputs": [],
   "source": [
    "move_tuples = [re.match('move (.+) from (.+) to (.+)', move).groups() \n",
    "               for move in moves]"
   ]
  },
  {
   "cell_type": "code",
   "execution_count": 129,
   "id": "43c66fd3-ffb0-45e7-b4fd-b44622d2ecb7",
   "metadata": {},
   "outputs": [
    {
     "data": {
      "text/plain": [
       "[('4', '9', '1'),\n",
       " ('6', '3', '1'),\n",
       " ('7', '4', '1'),\n",
       " ('2', '8', '5'),\n",
       " ('1', '9', '7')]"
      ]
     },
     "execution_count": 129,
     "metadata": {},
     "output_type": "execute_result"
    }
   ],
   "source": [
    "move_tuples[:5]"
   ]
  },
  {
   "cell_type": "code",
   "execution_count": 130,
   "id": "d1dfdeac-b5fb-4c6b-94d0-7c13959c5501",
   "metadata": {},
   "outputs": [],
   "source": [
    "for num_to_move, source, destination in move_tuples:\n",
    "    source_stack = stacks[int(source)]\n",
    "    destination_stack = stacks[int(destination)]\n",
    "\n",
    "    stack_height = len(source_stack)\n",
    "    top_crates = source_stack[stack_height-int(num_to_move):]\n",
    "    stacks[int(source)] = source_stack[:-int(num_to_move)]\n",
    "\n",
    "    stacks[int(destination)] = destination_stack + top_crates\n"
   ]
  },
  {
   "cell_type": "code",
   "execution_count": 131,
   "id": "de8f8943-2edc-4deb-9842-8a448e9aa466",
   "metadata": {},
   "outputs": [
    {
     "data": {
      "text/plain": [
       "'VHJDDCWRD'"
      ]
     },
     "execution_count": 131,
     "metadata": {},
     "output_type": "execute_result"
    }
   ],
   "source": [
    "''.join([value[-1] for key, value in stacks.items()])"
   ]
  },
  {
   "cell_type": "markdown",
   "id": "a8f8079c-e357-4938-8c8e-b7e8b667d912",
   "metadata": {},
   "source": [
    "## Day 06"
   ]
  },
  {
   "cell_type": "markdown",
   "id": "a2e29467-11c8-4de2-884c-d58968f4e770",
   "metadata": {
    "tags": []
   },
   "source": [
    "### Part 1"
   ]
  },
  {
   "cell_type": "code",
   "execution_count": 132,
   "id": "5df32883-74c6-461d-b3e4-9d849b981e03",
   "metadata": {},
   "outputs": [],
   "source": [
    "with open('data/input_d06_01.txt', 'r') as file:\n",
    "    datastream_buffer = file.read()"
   ]
  },
  {
   "cell_type": "code",
   "execution_count": 133,
   "id": "f02bbfe7-7c52-4d8a-a364-4a47abf74a7c",
   "metadata": {},
   "outputs": [],
   "source": [
    "datastream_buffer = datastream_buffer.strip()"
   ]
  },
  {
   "cell_type": "code",
   "execution_count": 134,
   "id": "2cd56077-0e72-4405-8a8c-31128b37f458",
   "metadata": {},
   "outputs": [
    {
     "data": {
      "text/plain": [
       "'hqhnqhqshhslswsffchfcfbblvlblqlggfwwqfwwqdddbbbhzhjjrqjqbjqjwqjwqwhwrrmcrrjqjjlllcvcrrnpptzpzmmswmmz'"
      ]
     },
     "execution_count": 134,
     "metadata": {},
     "output_type": "execute_result"
    }
   ],
   "source": [
    "datastream_buffer[:100]"
   ]
  },
  {
   "cell_type": "code",
   "execution_count": 135,
   "id": "5544ec91-74f3-4722-b179-5b95fe2b3f58",
   "metadata": {},
   "outputs": [
    {
     "data": {
      "text/plain": [
       "'zmzcmrfbjv'"
      ]
     },
     "execution_count": 135,
     "metadata": {},
     "output_type": "execute_result"
    }
   ],
   "source": [
    "datastream_buffer[-10:]"
   ]
  },
  {
   "cell_type": "code",
   "execution_count": 136,
   "id": "017b768e-2ec4-41d7-ada2-390ff032aa4a",
   "metadata": {},
   "outputs": [
    {
     "data": {
      "text/plain": [
       "4091"
      ]
     },
     "execution_count": 136,
     "metadata": {},
     "output_type": "execute_result"
    }
   ],
   "source": [
    "len(datastream_buffer) - 4"
   ]
  },
  {
   "cell_type": "code",
   "execution_count": 137,
   "id": "da4ce25f-fee4-46e3-8eff-864015ccbb8e",
   "metadata": {},
   "outputs": [
    {
     "data": {
      "text/plain": [
       "'fbjv'"
      ]
     },
     "execution_count": 137,
     "metadata": {},
     "output_type": "execute_result"
    }
   ],
   "source": [
    "datastream_buffer[len(datastream_buffer) - 4:len(datastream_buffer)]"
   ]
  },
  {
   "cell_type": "code",
   "execution_count": 138,
   "id": "2ec9589e-c775-4dc9-99b3-6a12262b663f",
   "metadata": {},
   "outputs": [
    {
     "name": "stdout",
     "output_type": "stream",
     "text": [
      "1760\n"
     ]
    }
   ],
   "source": [
    "for i in range(len(datastream_buffer)-4):\n",
    "    if len(set(datastream_buffer[i:i+4])) == 4:\n",
    "        print(i + 4)\n",
    "        break"
   ]
  },
  {
   "cell_type": "markdown",
   "id": "d0b35a5e-50c1-41ce-b1eb-61f074b73165",
   "metadata": {
    "tags": []
   },
   "source": [
    "### Part 2"
   ]
  },
  {
   "cell_type": "code",
   "execution_count": 139,
   "id": "bffc4d46-a7d5-49e7-a6e0-b3db167d1df8",
   "metadata": {},
   "outputs": [],
   "source": [
    "def find_marker(datastream_buffer, num_distinct=14):\n",
    "    '''Prints index of first character that satisfies previous num_distinct critereon.'''\n",
    "    for i in range(len(datastream_buffer)-num_distinct):\n",
    "        if len(set(datastream_buffer[i:i+num_distinct])) == num_distinct:\n",
    "            print(i + num_distinct)\n",
    "            break"
   ]
  },
  {
   "cell_type": "code",
   "execution_count": 140,
   "id": "a2bb6552-b068-4b34-ba01-d7bc5954b258",
   "metadata": {},
   "outputs": [
    {
     "name": "stdout",
     "output_type": "stream",
     "text": [
      "2974\n"
     ]
    }
   ],
   "source": [
    "find_marker(datastream_buffer)"
   ]
  },
  {
   "cell_type": "markdown",
   "id": "278c8800-b5e2-4ef1-9657-3588968b176c",
   "metadata": {},
   "source": [
    "## Day 07"
   ]
  },
  {
   "cell_type": "markdown",
   "id": "bab6b542-7316-4705-ad91-d7834e45fd5c",
   "metadata": {
    "tags": []
   },
   "source": [
    "### Part 1"
   ]
  },
  {
   "cell_type": "code",
   "execution_count": 141,
   "id": "428bc779-88c3-410e-8b27-e3d73df75a8b",
   "metadata": {},
   "outputs": [],
   "source": [
    "terminal_output = [line.strip() for line in open('data/input_d07_01.txt', 'r')]"
   ]
  },
  {
   "cell_type": "code",
   "execution_count": 142,
   "id": "c9aba694-fbb1-49b1-a109-b04be4ea5b9c",
   "metadata": {},
   "outputs": [
    {
     "data": {
      "text/plain": [
       "['$ cd /',\n",
       " '$ ls',\n",
       " 'dir bgmjrlz',\n",
       " 'dir bhp',\n",
       " 'dir cbcwz',\n",
       " '169838 fddw.bgw',\n",
       " 'dir fvhmzqc',\n",
       " 'dir hqmlnpn',\n",
       " '248637 jtwpn.lnr',\n",
       " '319470 lnmrrht.zbn']"
      ]
     },
     "execution_count": 142,
     "metadata": {},
     "output_type": "execute_result"
    }
   ],
   "source": [
    "terminal_output[:10]"
   ]
  },
  {
   "cell_type": "code",
   "execution_count": 143,
   "id": "a59267ba-40a0-4ed2-a67b-c922138bb05c",
   "metadata": {},
   "outputs": [
    {
     "data": {
      "text/plain": [
       "['205662 vmmcdr', '$ cd ..', '$ cd sggm', '$ ls', '260269 wzpjsjnq.nvt']"
      ]
     },
     "execution_count": 143,
     "metadata": {},
     "output_type": "execute_result"
    }
   ],
   "source": [
    "terminal_output[-5:]"
   ]
  },
  {
   "cell_type": "code",
   "execution_count": 144,
   "id": "f8555248-19d6-4715-aadc-f4a460ab8262",
   "metadata": {},
   "outputs": [],
   "source": [
    "from dataclasses import dataclass, field\n",
    "from __future__ import annotations"
   ]
  },
  {
   "cell_type": "code",
   "execution_count": 145,
   "id": "2ab1ac89-ee8b-41d8-9d89-c995e3ab4594",
   "metadata": {},
   "outputs": [],
   "source": [
    "@dataclass\n",
    "class Directory:\n",
    "    name: str\n",
    "    parent: Directory = None\n",
    "    children: list = field(default_factory=list)\n",
    "    children_size: int = 0"
   ]
  },
  {
   "cell_type": "code",
   "execution_count": 146,
   "id": "7dc8befc-e597-4b96-a029-53073e2ecc08",
   "metadata": {},
   "outputs": [],
   "source": [
    "@dataclass\n",
    "class File:\n",
    "    name: str\n",
    "    size: int"
   ]
  },
  {
   "cell_type": "code",
   "execution_count": 147,
   "id": "d1fb9922-596e-4be0-b5f2-db536b84813c",
   "metadata": {},
   "outputs": [],
   "source": [
    "root = Directory('/')"
   ]
  },
  {
   "cell_type": "code",
   "execution_count": 148,
   "id": "720a9ecd-e055-419e-bfb4-6aee4404dd35",
   "metadata": {},
   "outputs": [
    {
     "data": {
      "text/plain": [
       "Directory(name='/', parent=None, children=[], children_size=0)"
      ]
     },
     "execution_count": 148,
     "metadata": {},
     "output_type": "execute_result"
    }
   ],
   "source": [
    "root"
   ]
  },
  {
   "cell_type": "code",
   "execution_count": 149,
   "id": "7917e804-c427-472a-a75f-bc080e91aae8",
   "metadata": {},
   "outputs": [],
   "source": [
    "current_directory = root"
   ]
  },
  {
   "cell_type": "code",
   "execution_count": 150,
   "id": "57e53114-205f-458b-a93e-550fea1cd071",
   "metadata": {},
   "outputs": [],
   "source": [
    "import re"
   ]
  },
  {
   "cell_type": "code",
   "execution_count": 151,
   "id": "4b7cb06e-1ee0-4c6f-b4fd-170f9c14274d",
   "metadata": {},
   "outputs": [
    {
     "data": {
      "text/plain": [
       "('dir', 'bgmjrlz')"
      ]
     },
     "execution_count": 151,
     "metadata": {},
     "output_type": "execute_result"
    }
   ],
   "source": [
    "re.match('(.+) (.+)', 'dir bgmjrlz').groups()"
   ]
  },
  {
   "cell_type": "code",
   "execution_count": 152,
   "id": "26063ee5-a05e-4c09-a76a-fea1c76bf793",
   "metadata": {},
   "outputs": [
    {
     "data": {
      "text/plain": [
       "('169838', 'fddw.bgw')"
      ]
     },
     "execution_count": 152,
     "metadata": {},
     "output_type": "execute_result"
    }
   ],
   "source": [
    "re.match('(.+) (.+)', '169838 fddw.bgw').groups()"
   ]
  },
  {
   "cell_type": "code",
   "execution_count": 153,
   "id": "acce6a09-5077-4452-a114-d16a863765cd",
   "metadata": {},
   "outputs": [],
   "source": [
    "def add_item(current_directory, terminal_output_str):\n",
    "    dir_or_size, name = re.match('(.+) (.+)', terminal_output_str).groups()\n",
    "    \n",
    "    # Do not add if already exists\n",
    "    if name in [child.name for child in current_directory.children]:\n",
    "        print(f'{name} already exists in {current_directory.name}')\n",
    "    \n",
    "    if dir_or_size == 'dir':\n",
    "        current_directory.children.append(Directory(name, parent=current_directory))\n",
    "    else:\n",
    "        current_directory.children.append(File(name=name, size=int(dir_or_size)))"
   ]
  },
  {
   "cell_type": "code",
   "execution_count": 154,
   "id": "9e20d5a0-a80c-4097-99cd-e2dbae83fbc3",
   "metadata": {},
   "outputs": [],
   "source": [
    "add_item(current_directory, 'dir a')"
   ]
  },
  {
   "cell_type": "code",
   "execution_count": 155,
   "id": "202063ad-22eb-4c88-bcfd-520f90dba039",
   "metadata": {},
   "outputs": [],
   "source": [
    "add_item(current_directory, '14848514 b.txt')"
   ]
  },
  {
   "cell_type": "code",
   "execution_count": 156,
   "id": "8ca3a2e9-9e6b-45f8-a0d6-51331f243601",
   "metadata": {},
   "outputs": [],
   "source": [
    "add_item(current_directory, '8504156 c.dat')"
   ]
  },
  {
   "cell_type": "code",
   "execution_count": 157,
   "id": "757cb073-1398-41ce-802e-b336fbc10bd1",
   "metadata": {},
   "outputs": [],
   "source": [
    "add_item(current_directory, 'dir d')"
   ]
  },
  {
   "cell_type": "code",
   "execution_count": 158,
   "id": "b0d5342d-0ed6-4b20-ac38-157862492c31",
   "metadata": {},
   "outputs": [
    {
     "data": {
      "text/plain": [
       "Directory(name='/', parent=None, children=[Directory(name='a', parent=..., children=[], children_size=0), File(name='b.txt', size=14848514), File(name='c.dat', size=8504156), Directory(name='d', parent=..., children=[], children_size=0)], children_size=0)"
      ]
     },
     "execution_count": 158,
     "metadata": {},
     "output_type": "execute_result"
    }
   ],
   "source": [
    "root"
   ]
  },
  {
   "cell_type": "code",
   "execution_count": 159,
   "id": "d76ef2e9-0860-4839-a500-1f0c6b8fcda1",
   "metadata": {},
   "outputs": [],
   "source": [
    "def print_tree(item, offset=0):\n",
    "    pad_str = '   ' * offset\n",
    "    if isinstance(item, File):\n",
    "        print(pad_str + f'- {item.name} (file, size={item.size})')\n",
    "        return\n",
    "    else:\n",
    "        print(pad_str + f'- {item.name} (dir, parent={item.parent.name if item.parent is not None else \"None\"}, children_size={item.children_size})')\n",
    "        for child in item.children:\n",
    "            print_tree(child, offset=offset+1)"
   ]
  },
  {
   "cell_type": "code",
   "execution_count": 160,
   "id": "9fa9e640-11bc-4844-9dcd-a7e4d5daf3d8",
   "metadata": {},
   "outputs": [
    {
     "name": "stdout",
     "output_type": "stream",
     "text": [
      "- / (dir, parent=None, children_size=0)\n",
      "   - a (dir, parent=/, children_size=0)\n",
      "   - b.txt (file, size=14848514)\n",
      "   - c.dat (file, size=8504156)\n",
      "   - d (dir, parent=/, children_size=0)\n"
     ]
    }
   ],
   "source": [
    "print_tree(root)"
   ]
  },
  {
   "cell_type": "code",
   "execution_count": 161,
   "id": "2370ba8d-bfa0-47e4-bde0-d2a3625f1827",
   "metadata": {},
   "outputs": [
    {
     "data": {
      "text/plain": [
       "('cd', ' ', '/')"
      ]
     },
     "execution_count": 161,
     "metadata": {},
     "output_type": "execute_result"
    }
   ],
   "source": [
    "re.match('\\$ (.{2})( )?(.+)?', '$ cd /').groups()"
   ]
  },
  {
   "cell_type": "code",
   "execution_count": 162,
   "id": "08b2f9fd-2d90-4ae3-a7cb-dc2d3e7995cf",
   "metadata": {},
   "outputs": [
    {
     "data": {
      "text/plain": [
       "('cd', ' ', 'a')"
      ]
     },
     "execution_count": 162,
     "metadata": {},
     "output_type": "execute_result"
    }
   ],
   "source": [
    "re.match('\\$ (.{2})( )?(.+)?', '$ cd a').groups()"
   ]
  },
  {
   "cell_type": "code",
   "execution_count": 163,
   "id": "2dae0aa7-72f2-47d6-833d-191692d94c0d",
   "metadata": {},
   "outputs": [
    {
     "data": {
      "text/plain": [
       "('ls', None, None)"
      ]
     },
     "execution_count": 163,
     "metadata": {},
     "output_type": "execute_result"
    }
   ],
   "source": [
    "re.match('\\$ (.{2})( )?(.+)?', '$ ls').groups()"
   ]
  },
  {
   "cell_type": "code",
   "execution_count": 164,
   "id": "666d52f8-16c8-4366-98c6-11d2ba9fb1ba",
   "metadata": {},
   "outputs": [
    {
     "data": {
      "text/plain": [
       "('cd', ' ', '..')"
      ]
     },
     "execution_count": 164,
     "metadata": {},
     "output_type": "execute_result"
    }
   ],
   "source": [
    "re.match('\\$ (.{2})( )?(.+)?', '$ cd ..').groups()"
   ]
  },
  {
   "cell_type": "code",
   "execution_count": 165,
   "id": "6149c74b-8ac1-43b8-87b1-d38f720dad61",
   "metadata": {},
   "outputs": [],
   "source": [
    "def parse_line(terminal_output_str, current_directory, root):\n",
    "    '''Parse terminal output, returning current_directory after command executes'''\n",
    "    if terminal_output_str.startswith('$'):\n",
    "        command, maybe_space, target = re.match('\\$ (.{2})( )?(.+)?', terminal_output_str).groups()\n",
    "        if command == 'ls':\n",
    "            pass # Do not change current_directory\n",
    "        else:  # command is 'cd <target>'\n",
    "            if target == '..':\n",
    "                current_directory = current_directory.parent\n",
    "            else:  \n",
    "                if target == '/':\n",
    "                    current_directory = root\n",
    "                else:  # target is a sub-directory\n",
    "                    # Search children for target\n",
    "                    for item in current_directory.children:\n",
    "                        if isinstance(item, Directory) and item.name == target:\n",
    "                            current_directory = item\n",
    "                            break\n",
    "                    else:\n",
    "                        raise ValueError(f\"Could not find {target} in {current_directory.name}\")\n",
    "    else:  # is an item (directory or file)\n",
    "        add_item(current_directory, terminal_output_str)\n",
    "    \n",
    "    return current_directory"
   ]
  },
  {
   "cell_type": "code",
   "execution_count": 166,
   "id": "0109a3cb-efc8-45f7-99fb-64b16a3c819e",
   "metadata": {},
   "outputs": [],
   "source": [
    "example_terminal_output_str = \"\"\"$ cd /\n",
    "$ ls\n",
    "dir a\n",
    "14848514 b.txt\n",
    "8504156 c.dat\n",
    "dir d\n",
    "$ cd a\n",
    "$ ls\n",
    "dir e\n",
    "29116 f\n",
    "2557 g\n",
    "62596 h.lst\n",
    "$ cd e\n",
    "$ ls\n",
    "584 i\n",
    "$ cd ..\n",
    "$ cd ..\n",
    "$ cd d\n",
    "$ ls\n",
    "4060174 j\n",
    "8033020 d.log\n",
    "5626152 d.ext\n",
    "7214296 k\"\"\""
   ]
  },
  {
   "cell_type": "code",
   "execution_count": 167,
   "id": "eb99943c-5be1-4b1d-a2d6-d4dbe1a32bdb",
   "metadata": {},
   "outputs": [],
   "source": [
    "example_terminal_output = example_terminal_output_str.split('\\n')"
   ]
  },
  {
   "cell_type": "code",
   "execution_count": 168,
   "id": "a422ad19-3125-401f-bc31-73aecf1fcd1a",
   "metadata": {},
   "outputs": [
    {
     "data": {
      "text/plain": [
       "['$ cd /',\n",
       " '$ ls',\n",
       " 'dir a',\n",
       " '14848514 b.txt',\n",
       " '8504156 c.dat',\n",
       " 'dir d',\n",
       " '$ cd a',\n",
       " '$ ls',\n",
       " 'dir e',\n",
       " '29116 f',\n",
       " '2557 g',\n",
       " '62596 h.lst',\n",
       " '$ cd e',\n",
       " '$ ls',\n",
       " '584 i',\n",
       " '$ cd ..',\n",
       " '$ cd ..',\n",
       " '$ cd d',\n",
       " '$ ls',\n",
       " '4060174 j',\n",
       " '8033020 d.log',\n",
       " '5626152 d.ext',\n",
       " '7214296 k']"
      ]
     },
     "execution_count": 168,
     "metadata": {},
     "output_type": "execute_result"
    }
   ],
   "source": [
    "example_terminal_output"
   ]
  },
  {
   "cell_type": "code",
   "execution_count": 169,
   "id": "1cfd4dd2-aeb9-44c1-876c-a1743e9a18a7",
   "metadata": {},
   "outputs": [],
   "source": [
    "root = Directory('/')"
   ]
  },
  {
   "cell_type": "code",
   "execution_count": 170,
   "id": "757633b8-1db3-4830-bbd8-aace04654179",
   "metadata": {},
   "outputs": [],
   "source": [
    "current_directory = root"
   ]
  },
  {
   "cell_type": "code",
   "execution_count": 171,
   "id": "a2dd6180-b962-4968-8d8f-698d502410ee",
   "metadata": {},
   "outputs": [
    {
     "name": "stdout",
     "output_type": "stream",
     "text": [
      "- / (dir, parent=None, children_size=0)\n"
     ]
    }
   ],
   "source": [
    "print_tree(root)"
   ]
  },
  {
   "cell_type": "code",
   "execution_count": 172,
   "id": "0c12360e-cc2c-41c3-bc21-5933af3a2308",
   "metadata": {},
   "outputs": [],
   "source": [
    "for terminal_output_str in example_terminal_output:\n",
    "    if current_directory is None: raise ValueError(\"parse_line() should always return a current_directory\")\n",
    "    current_directory = parse_line(terminal_output_str, current_directory, root)"
   ]
  },
  {
   "cell_type": "code",
   "execution_count": 173,
   "id": "c55b131e-cc57-44fd-9c3c-fc5cdfafd689",
   "metadata": {},
   "outputs": [
    {
     "name": "stdout",
     "output_type": "stream",
     "text": [
      "- / (dir, parent=None, children_size=0)\n",
      "   - a (dir, parent=/, children_size=0)\n",
      "      - e (dir, parent=a, children_size=0)\n",
      "         - i (file, size=584)\n",
      "      - f (file, size=29116)\n",
      "      - g (file, size=2557)\n",
      "      - h.lst (file, size=62596)\n",
      "   - b.txt (file, size=14848514)\n",
      "   - c.dat (file, size=8504156)\n",
      "   - d (dir, parent=/, children_size=0)\n",
      "      - j (file, size=4060174)\n",
      "      - d.log (file, size=8033020)\n",
      "      - d.ext (file, size=5626152)\n",
      "      - k (file, size=7214296)\n"
     ]
    }
   ],
   "source": [
    "print_tree(root)"
   ]
  },
  {
   "cell_type": "code",
   "execution_count": 174,
   "id": "99e59bbe-c773-40fa-84c2-d72b55d2a520",
   "metadata": {},
   "outputs": [],
   "source": [
    "def get_directory_size(directory):\n",
    "    for item in directory.children:\n",
    "        if isinstance(item, File):\n",
    "            directory.children_size += item.size\n",
    "        else:\n",
    "            get_directory_size(item)\n",
    "            directory.children_size += item.children_size"
   ]
  },
  {
   "cell_type": "code",
   "execution_count": 175,
   "id": "021f58ba-04dc-4762-8bdc-5f36ec3bada9",
   "metadata": {},
   "outputs": [],
   "source": [
    "get_directory_size(root)"
   ]
  },
  {
   "cell_type": "code",
   "execution_count": 176,
   "id": "217918a2-867b-46a2-999a-6d94451577b0",
   "metadata": {},
   "outputs": [
    {
     "name": "stdout",
     "output_type": "stream",
     "text": [
      "- / (dir, parent=None, children_size=48381165)\n",
      "   - a (dir, parent=/, children_size=94853)\n",
      "      - e (dir, parent=a, children_size=584)\n",
      "         - i (file, size=584)\n",
      "      - f (file, size=29116)\n",
      "      - g (file, size=2557)\n",
      "      - h.lst (file, size=62596)\n",
      "   - b.txt (file, size=14848514)\n",
      "   - c.dat (file, size=8504156)\n",
      "   - d (dir, parent=/, children_size=24933642)\n",
      "      - j (file, size=4060174)\n",
      "      - d.log (file, size=8033020)\n",
      "      - d.ext (file, size=5626152)\n",
      "      - k (file, size=7214296)\n"
     ]
    }
   ],
   "source": [
    "print_tree(root)"
   ]
  },
  {
   "cell_type": "code",
   "execution_count": 177,
   "id": "1b2a5f96-6361-4056-a873-ae3d440418f4",
   "metadata": {},
   "outputs": [],
   "source": [
    "# Apply to puzzle input"
   ]
  },
  {
   "cell_type": "code",
   "execution_count": 178,
   "id": "1edce224-6e91-4e9e-b634-4c66159a5f96",
   "metadata": {},
   "outputs": [],
   "source": [
    "root = Directory('/')"
   ]
  },
  {
   "cell_type": "code",
   "execution_count": 179,
   "id": "17eb190d-84f0-4787-ab42-23bf8ffdbe86",
   "metadata": {},
   "outputs": [],
   "source": [
    "current_directory = root"
   ]
  },
  {
   "cell_type": "code",
   "execution_count": 180,
   "id": "305ebe7f-c259-40fd-8e19-a22fb572dca3",
   "metadata": {},
   "outputs": [],
   "source": [
    "for terminal_output_str in terminal_output:\n",
    "    if current_directory is None: raise ValueError(\"parse_line should always return a current_directory\")\n",
    "    current_directory = parse_line(terminal_output_str, current_directory, root)"
   ]
  },
  {
   "cell_type": "code",
   "execution_count": 181,
   "id": "41af37a4-eea8-4aa9-8ce4-7401c19f1972",
   "metadata": {},
   "outputs": [],
   "source": [
    "get_directory_size(root)"
   ]
  },
  {
   "cell_type": "code",
   "execution_count": 182,
   "id": "9cb6476e-df70-49c0-b0c9-ab333a7c94cd",
   "metadata": {},
   "outputs": [],
   "source": [
    "directories = []"
   ]
  },
  {
   "cell_type": "code",
   "execution_count": 183,
   "id": "d4d5d2ee-f6be-415d-bba4-19ee048701a1",
   "metadata": {},
   "outputs": [],
   "source": [
    "def collect_directories(directory, directories):\n",
    "    directories.append((directory.name, directory.children_size))\n",
    "    for child in directory.children:\n",
    "        if isinstance(child, Directory):\n",
    "            collect_directories(child, directories)"
   ]
  },
  {
   "cell_type": "code",
   "execution_count": 184,
   "id": "112ab447-189e-43b4-a3fd-560876476c18",
   "metadata": {},
   "outputs": [],
   "source": [
    "collect_directories(root, directories)"
   ]
  },
  {
   "cell_type": "code",
   "execution_count": 185,
   "id": "2854c8a1-a90d-42a3-90e9-906ad503d148",
   "metadata": {},
   "outputs": [],
   "source": [
    "small_directories = [size for directory_name, size in directories if size <= 100000]"
   ]
  },
  {
   "cell_type": "code",
   "execution_count": 186,
   "id": "bbffc4b8-b9d6-4f7a-9c8c-26b9f0aeb7a3",
   "metadata": {},
   "outputs": [
    {
     "data": {
      "text/plain": [
       "1555642"
      ]
     },
     "execution_count": 186,
     "metadata": {},
     "output_type": "execute_result"
    }
   ],
   "source": [
    "sum(small_directories)"
   ]
  },
  {
   "cell_type": "markdown",
   "id": "c0f75562-8439-4177-9142-0406c35ad51e",
   "metadata": {
    "tags": []
   },
   "source": [
    "### Part 2"
   ]
  },
  {
   "cell_type": "code",
   "execution_count": 187,
   "id": "28a9faea-b93a-48d2-8e6d-115d6e6157f2",
   "metadata": {},
   "outputs": [],
   "source": [
    "total_available = 70000000"
   ]
  },
  {
   "cell_type": "code",
   "execution_count": 188,
   "id": "cdb5d928-3afd-4d3e-adf0-ccda1744f313",
   "metadata": {},
   "outputs": [],
   "source": [
    "required = 30000000"
   ]
  },
  {
   "cell_type": "code",
   "execution_count": 189,
   "id": "d7ff6a86-cc4a-438c-af9b-85637d480d47",
   "metadata": {},
   "outputs": [
    {
     "data": {
      "text/plain": [
       "45349983"
      ]
     },
     "execution_count": 189,
     "metadata": {},
     "output_type": "execute_result"
    }
   ],
   "source": [
    "total_now = root.children_size\n",
    "total_now"
   ]
  },
  {
   "cell_type": "code",
   "execution_count": 190,
   "id": "bb96888e-283a-4fb1-8284-9a4bbfd81929",
   "metadata": {},
   "outputs": [
    {
     "data": {
      "text/plain": [
       "24650017"
      ]
     },
     "execution_count": 190,
     "metadata": {},
     "output_type": "execute_result"
    }
   ],
   "source": [
    "available_now = total_available - total_now\n",
    "available_now"
   ]
  },
  {
   "cell_type": "code",
   "execution_count": 191,
   "id": "18093342-4844-42c5-bdeb-6714756235ec",
   "metadata": {},
   "outputs": [
    {
     "data": {
      "text/plain": [
       "5349983"
      ]
     },
     "execution_count": 191,
     "metadata": {},
     "output_type": "execute_result"
    }
   ],
   "source": [
    "min_size = required - available_now\n",
    "min_size"
   ]
  },
  {
   "cell_type": "code",
   "execution_count": 192,
   "id": "5ed7decc-eb87-4c79-9f39-8217ba0dedb4",
   "metadata": {},
   "outputs": [],
   "source": [
    "candidate_directories = [size for directory_name, size in directories \n",
    "                         if size > min_size]"
   ]
  },
  {
   "cell_type": "code",
   "execution_count": 193,
   "id": "8f82a067-3347-46bf-89e3-8d0b115908f9",
   "metadata": {},
   "outputs": [
    {
     "data": {
      "text/plain": [
       "5974547"
      ]
     },
     "execution_count": 193,
     "metadata": {},
     "output_type": "execute_result"
    }
   ],
   "source": [
    "min(candidate_directories)"
   ]
  },
  {
   "cell_type": "markdown",
   "id": "43c71acd-6911-41b7-871d-4f80db36ef85",
   "metadata": {},
   "source": [
    "## Day 08"
   ]
  },
  {
   "cell_type": "markdown",
   "id": "defe0bb2-3f50-4dd1-9dfb-24cf90606309",
   "metadata": {
    "tags": []
   },
   "source": [
    "### Part 1"
   ]
  },
  {
   "cell_type": "code",
   "execution_count": 194,
   "id": "e6435b19-aabd-4c68-9872-3ffd3a06fdd8",
   "metadata": {},
   "outputs": [],
   "source": [
    "trees = [line.strip() for line in open('data/input_d08_01.txt', 'r')]"
   ]
  },
  {
   "cell_type": "code",
   "execution_count": 195,
   "id": "3d9917e4-3ff9-48dc-b7a7-df4a685e8a34",
   "metadata": {},
   "outputs": [],
   "source": [
    "import numpy as np"
   ]
  },
  {
   "cell_type": "code",
   "execution_count": 196,
   "id": "ef66f954-0332-4a65-9a06-a22a79e250c8",
   "metadata": {},
   "outputs": [
    {
     "data": {
      "text/plain": [
       "array([[2, 2, 2, ..., 2, 1, 0],\n",
       "       [1, 0, 2, ..., 1, 1, 1],\n",
       "       [1, 0, 2, ..., 0, 2, 2],\n",
       "       ...,\n",
       "       [2, 0, 1, ..., 1, 1, 1],\n",
       "       [2, 0, 2, ..., 0, 2, 2],\n",
       "       [2, 1, 0, ..., 0, 1, 1]])"
      ]
     },
     "execution_count": 196,
     "metadata": {},
     "output_type": "execute_result"
    }
   ],
   "source": [
    "trees = np.array([[int(char) for char in line] for line in trees])\n",
    "trees"
   ]
  },
  {
   "cell_type": "code",
   "execution_count": 197,
   "id": "b69db760-2452-4b7a-a2a3-f08ff79bed4d",
   "metadata": {},
   "outputs": [
    {
     "data": {
      "text/plain": [
       "(99, 99)"
      ]
     },
     "execution_count": 197,
     "metadata": {},
     "output_type": "execute_result"
    }
   ],
   "source": [
    "trees.shape"
   ]
  },
  {
   "cell_type": "code",
   "execution_count": 198,
   "id": "bb1a048b-c06f-4171-b289-584aeca961e8",
   "metadata": {},
   "outputs": [
    {
     "data": {
      "text/plain": [
       "array([[ 0,  0,  1, ...,  1,  1,  0],\n",
       "       [ 1, -2,  1, ...,  0,  0,  1],\n",
       "       [ 1, -2,  1, ..., -2,  0,  2],\n",
       "       ...,\n",
       "       [ 2, -1, -1, ...,  0,  0,  1],\n",
       "       [ 2, -2,  1, ..., -2,  0,  2],\n",
       "       [ 1,  1, -1, ..., -1,  0,  1]])"
      ]
     },
     "execution_count": 198,
     "metadata": {},
     "output_type": "execute_result"
    }
   ],
   "source": [
    "# Calculate how much taller tree is taller than that immediately to the right\n",
    "trees - np.pad(trees[:, 1:], [(0, 0), (0, 1)])"
   ]
  },
  {
   "cell_type": "code",
   "execution_count": 199,
   "id": "5d07ca32-ea9e-4fd5-ac63-c406ac00a4c9",
   "metadata": {},
   "outputs": [],
   "source": [
    "from functools import reduce\n",
    "from operator import or_"
   ]
  },
  {
   "cell_type": "code",
   "execution_count": 200,
   "id": "07a6a187-fdca-47e2-972d-42b0f4d24bfa",
   "metadata": {},
   "outputs": [],
   "source": [
    "compare_trees_to_right = []\n",
    "for i in range(1, 99):\n",
    "    # Compare with trees to the right\n",
    "    compare_trees_to_right.append((trees - np.pad(trees[:, i:], [(0, 0), (0, i)], constant_values=-1)) <= 0)  # use padding_value=-1 since no tree should be hidden by padding"
   ]
  },
  {
   "cell_type": "code",
   "execution_count": 201,
   "id": "96278ad6-23b9-42a8-b3ef-764675af8d8c",
   "metadata": {},
   "outputs": [],
   "source": [
    "is_hidden_to_right = reduce(or_, compare_trees_to_right)  # Tree needs only be hidden by at least one other tree"
   ]
  },
  {
   "cell_type": "code",
   "execution_count": 202,
   "id": "023004a0-5645-4628-9741-7e9e9ae6bdad",
   "metadata": {},
   "outputs": [],
   "source": [
    "compare_trees_to_left = []\n",
    "for i in range(1, 99):\n",
    "    # Compare with trees to the left\n",
    "    compare_trees_to_left.append((trees - np.pad(trees[:, :99-i], [(0, 0), (i, 0)], constant_values=-1)) <= 0)"
   ]
  },
  {
   "cell_type": "code",
   "execution_count": 203,
   "id": "682415cf-3e44-441c-98b1-f54df359331c",
   "metadata": {},
   "outputs": [],
   "source": [
    "is_hidden_to_left = reduce(or_, compare_trees_to_left)"
   ]
  },
  {
   "cell_type": "code",
   "execution_count": 204,
   "id": "0e7739e2-e81c-4bbb-b697-44dc030139da",
   "metadata": {},
   "outputs": [],
   "source": [
    "compare_trees_below = []\n",
    "for i in range(1, 99):\n",
    "    # Compare with trees below\n",
    "    compare_trees_below.append((trees - np.pad(trees[i:, :], [(0, i), (0, 0)], constant_values=-1)) <= 0)"
   ]
  },
  {
   "cell_type": "code",
   "execution_count": 205,
   "id": "8df9a9a4-f5ce-4faa-ac85-9bcf72bb79a8",
   "metadata": {},
   "outputs": [],
   "source": [
    "is_hidden_below = reduce(or_, compare_trees_below)"
   ]
  },
  {
   "cell_type": "code",
   "execution_count": 206,
   "id": "72ff62de-3c70-45bb-b2e5-922a92ceb7aa",
   "metadata": {},
   "outputs": [],
   "source": [
    "compare_trees_above = []\n",
    "for i in range(1, 99):\n",
    "    # Compare with trees above\n",
    "    compare_trees_above.append((trees - np.pad(trees[:99-i, :], [(i, 0), (0, 0)], constant_values=-1)) <= 0)"
   ]
  },
  {
   "cell_type": "code",
   "execution_count": 207,
   "id": "c6a33880-3d27-4157-9456-f2546afe304f",
   "metadata": {},
   "outputs": [],
   "source": [
    "is_hidden_above = reduce(or_, compare_trees_above)"
   ]
  },
  {
   "cell_type": "code",
   "execution_count": 208,
   "id": "188a6755-250d-4149-ba34-89943cb4f499",
   "metadata": {},
   "outputs": [],
   "source": [
    "is_hidden = is_hidden_to_right & is_hidden_to_left & is_hidden_below & is_hidden_above  # To be hidden, tree must not be visible from any direction"
   ]
  },
  {
   "cell_type": "code",
   "execution_count": 209,
   "id": "d3c84612-1fc6-4d96-886d-e45f57e1697c",
   "metadata": {},
   "outputs": [
    {
     "data": {
      "text/plain": [
       "array([[False, False, False, ..., False, False, False],\n",
       "       [False,  True, False, ...,  True,  True, False],\n",
       "       [False,  True, False, ...,  True, False, False],\n",
       "       ...,\n",
       "       [False,  True,  True, ..., False,  True, False],\n",
       "       [False,  True, False, ...,  True, False, False],\n",
       "       [False, False, False, ..., False, False, False]])"
      ]
     },
     "execution_count": 209,
     "metadata": {},
     "output_type": "execute_result"
    }
   ],
   "source": [
    "is_hidden"
   ]
  },
  {
   "cell_type": "code",
   "execution_count": 210,
   "id": "b7edbe9f-9b74-4339-b9f0-ade0bb1b4aae",
   "metadata": {},
   "outputs": [
    {
     "data": {
      "text/plain": [
       "array([0, 1, 1, ..., 0, 0, 0])"
      ]
     },
     "execution_count": 210,
     "metadata": {},
     "output_type": "execute_result"
    }
   ],
   "source": [
    "# Value of centre trees that are hidden ...\n",
    "trees[1:98, 1:98][is_hidden[1:98, 1:98]]"
   ]
  },
  {
   "cell_type": "code",
   "execution_count": 211,
   "id": "92e2982e-3930-4bfb-9a1b-24da34ea0b2f",
   "metadata": {},
   "outputs": [
    {
     "data": {
      "text/plain": [
       "1406"
      ]
     },
     "execution_count": 211,
     "metadata": {},
     "output_type": "execute_result"
    }
   ],
   "source": [
    "# Number of centre trees that are visible\n",
    "(~is_hidden[1:98, 1:98]).sum()"
   ]
  },
  {
   "cell_type": "code",
   "execution_count": 212,
   "id": "a5776fb9-42c5-4679-bd97-16204f2e3beb",
   "metadata": {},
   "outputs": [
    {
     "data": {
      "text/plain": [
       "1798"
      ]
     },
     "execution_count": 212,
     "metadata": {},
     "output_type": "execute_result"
    }
   ],
   "source": [
    "# Number of trees that are visible\n",
    "(~is_hidden[1:98, 1:98]).sum() + (99 * 4) - 4"
   ]
  },
  {
   "cell_type": "markdown",
   "id": "a5d529c6-b09d-4db2-b6a6-5c64a5a13376",
   "metadata": {
    "tags": []
   },
   "source": [
    "### Part 2"
   ]
  },
  {
   "cell_type": "code",
   "execution_count": 213,
   "id": "bbd7dff9-d391-4618-9b4b-086ba1f4695e",
   "metadata": {},
   "outputs": [],
   "source": [
    "trees_input = [line.strip() for line in open('data/input_d08_01.txt', 'r')]"
   ]
  },
  {
   "cell_type": "code",
   "execution_count": 214,
   "id": "02988001-1fcd-4ae9-9451-c1b70cc61d02",
   "metadata": {},
   "outputs": [],
   "source": [
    "trees = {}"
   ]
  },
  {
   "cell_type": "code",
   "execution_count": 215,
   "id": "819d8500-11df-43a8-b06d-e010634bbcd0",
   "metadata": {},
   "outputs": [],
   "source": [
    "for i, line in enumerate(trees_input):\n",
    "    for j, value in enumerate(line):\n",
    "        trees[i, j] = int(value)"
   ]
  },
  {
   "cell_type": "code",
   "execution_count": 216,
   "id": "080f56f5-f9f7-443f-8080-222e072f6566",
   "metadata": {},
   "outputs": [],
   "source": [
    "def get_view_distance(i, j, source_tree_height, direction_str):\n",
    "    try:\n",
    "        tree_height = trees[i, j]\n",
    "    except KeyError:\n",
    "        return 0 # If off map, return 0 view distance\n",
    "    if tree_height >=  source_tree_height:\n",
    "        return 1\n",
    "    else:\n",
    "        if direction_str == 'right':\n",
    "            j += 1\n",
    "        elif direction_str == 'left':\n",
    "            j -= 1\n",
    "        elif direction_str == 'down':\n",
    "            i += 1\n",
    "        elif direction_str == 'up':\n",
    "            i -= 1\n",
    "        return 1 + get_view_distance(i, j, source_tree_height, direction_str)"
   ]
  },
  {
   "cell_type": "code",
   "execution_count": 217,
   "id": "b7ca6263-696d-482c-a17d-7503dfcfb516",
   "metadata": {},
   "outputs": [],
   "source": [
    "view_distance_right = {}\n",
    "for i, j in trees.keys():\n",
    "    view_distance_right[i, j] = get_view_distance(i, j + 1, trees[i, j], 'right') "
   ]
  },
  {
   "cell_type": "code",
   "execution_count": 218,
   "id": "056e5571-47bd-44a1-85b7-6637cebd614c",
   "metadata": {},
   "outputs": [],
   "source": [
    "view_distance_left = {}\n",
    "for i, j in trees.keys():\n",
    "    view_distance_left[i, j] = get_view_distance(i, j - 1, trees[i, j], 'left') "
   ]
  },
  {
   "cell_type": "code",
   "execution_count": 219,
   "id": "459b196f-5586-4a51-b487-c0cfc6b7bcd1",
   "metadata": {},
   "outputs": [],
   "source": [
    "view_distance_down = {}\n",
    "for i, j in trees.keys():\n",
    "    view_distance_down[i, j] = get_view_distance(i + 1, j, trees[i, j], 'down') "
   ]
  },
  {
   "cell_type": "code",
   "execution_count": 220,
   "id": "298752d4-cc3a-482e-8758-03312897fd13",
   "metadata": {},
   "outputs": [],
   "source": [
    "view_distance_up = {}\n",
    "for i, j in trees.keys():\n",
    "    view_distance_up[i, j] = get_view_distance(i - 1, j, trees[i, j], 'up') "
   ]
  },
  {
   "cell_type": "code",
   "execution_count": 221,
   "id": "6ef4a0af-4bb5-4236-88ad-9a62799c05fa",
   "metadata": {},
   "outputs": [],
   "source": [
    "scenic_scores = {key: view_distance_right[key] * view_distance_left[key] * view_distance_down[key] * view_distance_up[key]\n",
    "                 for key in trees.keys()}"
   ]
  },
  {
   "cell_type": "code",
   "execution_count": 222,
   "id": "4c28c432-4c4b-47e2-b279-2a4e3ab80567",
   "metadata": {},
   "outputs": [
    {
     "data": {
      "text/plain": [
       "259308"
      ]
     },
     "execution_count": 222,
     "metadata": {},
     "output_type": "execute_result"
    }
   ],
   "source": [
    "max(scenic_scores.values())"
   ]
  },
  {
   "cell_type": "markdown",
   "id": "7f6bebaa-f9b9-4a41-85ea-fb32eab63a24",
   "metadata": {},
   "source": [
    "## Day 09"
   ]
  },
  {
   "cell_type": "markdown",
   "id": "95e8edad-6b30-4852-9cb5-3deb220628e4",
   "metadata": {
    "tags": []
   },
   "source": [
    "### Part 1"
   ]
  },
  {
   "cell_type": "code",
   "execution_count": 223,
   "id": "3375a910-2a19-4e68-b52f-6e0a015bf367",
   "metadata": {},
   "outputs": [],
   "source": [
    "head_steps = [line.strip() for line in open('data/input_d09_01.txt', 'r')]"
   ]
  },
  {
   "cell_type": "code",
   "execution_count": 224,
   "id": "43e36096-b584-4aa5-89ee-da858e9e0725",
   "metadata": {},
   "outputs": [
    {
     "data": {
      "text/plain": [
       "['R 18', 'D 11', 'L 4', 'U 18', 'L 9']"
      ]
     },
     "execution_count": 224,
     "metadata": {},
     "output_type": "execute_result"
    }
   ],
   "source": [
    "head_steps[-5:]"
   ]
  },
  {
   "cell_type": "code",
   "execution_count": 225,
   "id": "216d0533-a42d-45f1-a6a7-6d8124580de7",
   "metadata": {},
   "outputs": [],
   "source": [
    "from dataclasses import dataclass, field"
   ]
  },
  {
   "cell_type": "code",
   "execution_count": 226,
   "id": "d3b4944e-779e-403e-8033-1011c46c251d",
   "metadata": {},
   "outputs": [],
   "source": [
    "@dataclass(frozen=True)\n",
    "class Position:\n",
    "    x: int\n",
    "    y: int"
   ]
  },
  {
   "cell_type": "code",
   "execution_count": 227,
   "id": "ef99be9d-ed18-40fb-a80a-a69dfe77ebeb",
   "metadata": {},
   "outputs": [],
   "source": [
    "def is_seperated(head_pos, tail_pos):\n",
    "    return (abs(head_pos.x - tail_pos.x) > 1) or (abs(head_pos.y - tail_pos.y) > 1)"
   ]
  },
  {
   "cell_type": "code",
   "execution_count": 228,
   "id": "ce195c3e-af2d-4cdb-a89d-ada8988243bd",
   "metadata": {},
   "outputs": [],
   "source": [
    "def move_tail(head_pos, tail_pos):\n",
    "    '''Return updated tail_pos. This is at most one step along the x and y axis'''\n",
    "    x_step = 0 if head_pos.x == tail_pos.x else int((head_pos.x - tail_pos.x) / abs(head_pos.x - tail_pos.x))  # Avoid division by zero\n",
    "    y_step = 0 if head_pos.y == tail_pos.y else int((head_pos.y - tail_pos.y) / abs(head_pos.y - tail_pos.y))\n",
    "    return Position(tail_pos.x + x_step, tail_pos.y + y_step)"
   ]
  },
  {
   "cell_type": "code",
   "execution_count": 229,
   "id": "6f4479a9-e2a0-41bf-854f-3f61bd2b4ed0",
   "metadata": {},
   "outputs": [],
   "source": [
    "def move_head(head_pos, direction):\n",
    "    '''Return updated head_pos'''\n",
    "    if direction == 'U':\n",
    "        return Position(head_pos.x, head_pos.y + 1)\n",
    "    elif direction == 'D':\n",
    "        return Position(head_pos.x, head_pos.y - 1)\n",
    "    elif direction == 'R':\n",
    "        return Position(head_pos.x + 1, head_pos.y)\n",
    "    elif direction == 'L':\n",
    "        return Position(head_pos.x - 1, head_pos.y)"
   ]
  },
  {
   "cell_type": "code",
   "execution_count": 230,
   "id": "961a214b-d11c-4b60-91a7-f418d829dd6e",
   "metadata": {},
   "outputs": [],
   "source": [
    "import re"
   ]
  },
  {
   "cell_type": "code",
   "execution_count": 231,
   "id": "2d861913-2ea4-47d1-b48b-aa835c7ce642",
   "metadata": {},
   "outputs": [],
   "source": [
    "head_pos = Position(0, 0)\n",
    "tail_pos = Position(0, 0)"
   ]
  },
  {
   "cell_type": "code",
   "execution_count": 232,
   "id": "22fecc8a-8ff0-4797-9211-2f7304886c06",
   "metadata": {},
   "outputs": [],
   "source": [
    "tail_positions = [tail_pos]"
   ]
  },
  {
   "cell_type": "code",
   "execution_count": 233,
   "id": "1d06dc1f-5821-44a6-9030-3324d2a0bb2a",
   "metadata": {},
   "outputs": [],
   "source": [
    "for step in head_steps:\n",
    "    direction, repeats = re.match('(.{1}) (\\d+)', step).groups()\n",
    "    \n",
    "    for i in range(int(repeats)):\n",
    "        head_pos = move_head(head_pos, direction)\n",
    "        if is_seperated(head_pos, tail_pos):\n",
    "            tail_pos = move_tail(head_pos, tail_pos)\n",
    "            tail_positions.append(tail_pos)\n",
    "            if is_seperated(head_pos, tail_pos):  # Tail should no longer be seperated from head\n",
    "                raise ValueError\n"
   ]
  },
  {
   "cell_type": "code",
   "execution_count": 234,
   "id": "de91eefc-f1d6-41dc-8790-10a89f886416",
   "metadata": {},
   "outputs": [
    {
     "data": {
      "text/plain": [
       "6522"
      ]
     },
     "execution_count": 234,
     "metadata": {},
     "output_type": "execute_result"
    }
   ],
   "source": [
    "len(set(tail_positions))"
   ]
  },
  {
   "cell_type": "markdown",
   "id": "1c0e232f-0275-4b71-9c09-7cbf2d5b8087",
   "metadata": {
    "tags": []
   },
   "source": [
    "### Part 2"
   ]
  },
  {
   "cell_type": "code",
   "execution_count": 235,
   "id": "13705fe5-be17-4861-a40b-9ec4ba054a81",
   "metadata": {},
   "outputs": [],
   "source": [
    "segment_positions = [Position(0, 0)] * 10"
   ]
  },
  {
   "cell_type": "code",
   "execution_count": 236,
   "id": "1d5883ce-fbc0-484d-92ad-fe314b220189",
   "metadata": {},
   "outputs": [],
   "source": [
    "tail_positions = [segment_positions[-1]]"
   ]
  },
  {
   "cell_type": "code",
   "execution_count": 237,
   "id": "fb603b49-36ed-4768-8e80-f1e637f5fe84",
   "metadata": {},
   "outputs": [],
   "source": [
    "for step in head_steps:\n",
    "    direction, repeats = re.match('(.{1}) (\\d+)', step).groups()\n",
    "    \n",
    "    for i in range(int(repeats)):\n",
    "        \n",
    "        # Move head\n",
    "        segment_positions[0] = move_head(segment_positions[0], direction)\n",
    "        \n",
    "        # For each subsequent segment, update if seperated from previous segment\n",
    "        for first_segment_idx, second_segment_idx in [(i, i + 1) for i in range(0, 9)]:\n",
    "            first_segment = segment_positions[first_segment_idx]\n",
    "            second_segment = segment_positions[second_segment_idx]\n",
    "            if is_seperated(first_segment, second_segment):\n",
    "                second_segment = move_tail(first_segment, second_segment)\n",
    "                if is_seperated(first_segment, second_segment): raise ValueError  # Second segment should no longer be seperated from first\n",
    "                segment_positions[second_segment_idx] = second_segment\n",
    "                    \n",
    "        tail_positions.append(segment_positions[-1])\n",
    "                "
   ]
  },
  {
   "cell_type": "code",
   "execution_count": 238,
   "id": "5dc15dfd-2fcc-43e1-b53b-12cd70dc8f2c",
   "metadata": {},
   "outputs": [
    {
     "data": {
      "text/plain": [
       "2717"
      ]
     },
     "execution_count": 238,
     "metadata": {},
     "output_type": "execute_result"
    }
   ],
   "source": [
    "len(set(tail_positions))"
   ]
  },
  {
   "cell_type": "markdown",
   "id": "4dbdb5f7-5a5b-4687-8dd7-92d7fb74b46b",
   "metadata": {},
   "source": [
    "## Day 10"
   ]
  },
  {
   "cell_type": "markdown",
   "id": "2b140f4a-e97e-4871-80ef-bd60b12c701d",
   "metadata": {
    "tags": []
   },
   "source": [
    "### Part 1"
   ]
  },
  {
   "cell_type": "code",
   "execution_count": 239,
   "id": "c095fb00-95dc-4ea0-92c5-c164eaa095dc",
   "metadata": {},
   "outputs": [],
   "source": [
    "instructions = [line.strip() for line in open('data/input_d10_01.txt', 'r')]"
   ]
  },
  {
   "cell_type": "code",
   "execution_count": 240,
   "id": "9daf6672-46bb-4959-ad3a-19de5999ed6d",
   "metadata": {},
   "outputs": [
    {
     "data": {
      "text/plain": [
       "['noop', 'noop', 'noop', 'noop', 'noop']"
      ]
     },
     "execution_count": 240,
     "metadata": {},
     "output_type": "execute_result"
    }
   ],
   "source": [
    "instructions[-5:]"
   ]
  },
  {
   "cell_type": "code",
   "execution_count": 241,
   "id": "6b94a1f8-67f6-4b40-b7c0-244edb0abf01",
   "metadata": {},
   "outputs": [
    {
     "data": {
      "text/plain": [
       "['noop', 'addx 10', 'addx -4', 'addx -1', 'noop']"
      ]
     },
     "execution_count": 241,
     "metadata": {},
     "output_type": "execute_result"
    }
   ],
   "source": [
    "instructions[:5]"
   ]
  },
  {
   "cell_type": "code",
   "execution_count": 242,
   "id": "f8c446f5-8372-4d8e-87a8-89a40cebfed9",
   "metadata": {},
   "outputs": [],
   "source": [
    "import re"
   ]
  },
  {
   "cell_type": "code",
   "execution_count": 243,
   "id": "8c978e4a-f619-4cb3-b94f-5c45ff495ec5",
   "metadata": {},
   "outputs": [
    {
     "data": {
      "text/plain": [
       "('addx', ' ', '-4')"
      ]
     },
     "execution_count": 243,
     "metadata": {},
     "output_type": "execute_result"
    }
   ],
   "source": [
    "re.match('(\\w+)( )?(.*)?', 'addx -4').groups()"
   ]
  },
  {
   "cell_type": "code",
   "execution_count": 244,
   "id": "e49aef4e-de03-48fa-ab65-cc664d3119d6",
   "metadata": {},
   "outputs": [
    {
     "data": {
      "text/plain": [
       "('noop', None, '')"
      ]
     },
     "execution_count": 244,
     "metadata": {},
     "output_type": "execute_result"
    }
   ],
   "source": [
    "re.match('(\\w+)( )?(.*)?', 'noop').groups()"
   ]
  },
  {
   "cell_type": "code",
   "execution_count": 245,
   "id": "59fe6b29-a876-438f-8a4f-ced4c76206ea",
   "metadata": {},
   "outputs": [],
   "source": [
    "commands = []\n",
    "for instruction in instructions:\n",
    "    command, maybe_space, maybe_value = re.match('(\\w+)( )?(.*)?', instruction).groups()\n",
    "    commands.append(command)\n",
    "    if command != 'noop':\n",
    "        commands.append(int(maybe_value))"
   ]
  },
  {
   "cell_type": "code",
   "execution_count": 246,
   "id": "433d9e33-1383-46da-a002-77f12d241250",
   "metadata": {},
   "outputs": [
    {
     "data": {
      "text/plain": [
       "['noop', 'addx', 10, 'addx', -4, 'addx', -1, 'noop', 'noop', 'addx']"
      ]
     },
     "execution_count": 246,
     "metadata": {},
     "output_type": "execute_result"
    }
   ],
   "source": [
    "commands[:10]"
   ]
  },
  {
   "cell_type": "code",
   "execution_count": 247,
   "id": "9331326f-5cad-4462-8ead-08925f71cd69",
   "metadata": {},
   "outputs": [],
   "source": [
    "cycle_values = [1]"
   ]
  },
  {
   "cell_type": "code",
   "execution_count": 248,
   "id": "f5acf29e-a2a8-454b-9faf-0db97c2a9083",
   "metadata": {},
   "outputs": [],
   "source": [
    "last_command = 'noop'\n",
    "for command in commands:\n",
    "    if isinstance(command, str):\n",
    "        last_command = command\n",
    "        cycle_values.append(cycle_values[-1])\n",
    "    else:\n",
    "        cycle_values.append(cycle_values[-1] + command)"
   ]
  },
  {
   "cell_type": "code",
   "execution_count": 249,
   "id": "2981733f-bac5-429f-99a7-be99a06c59e0",
   "metadata": {},
   "outputs": [
    {
     "data": {
      "text/plain": [
       "[19, 59, 99, 139, 179, 219]"
      ]
     },
     "execution_count": 249,
     "metadata": {},
     "output_type": "execute_result"
    }
   ],
   "source": [
    "cycles_idxs = [i - 1 for i in range(20, 221, 40)]  # Python is zero indexed\n",
    "cycles_idxs"
   ]
  },
  {
   "cell_type": "code",
   "execution_count": 250,
   "id": "53712e59-f22b-4851-8797-5f39597bda76",
   "metadata": {},
   "outputs": [
    {
     "data": {
      "text/plain": [
       "16060"
      ]
     },
     "execution_count": 250,
     "metadata": {},
     "output_type": "execute_result"
    }
   ],
   "source": [
    "sum([cycle_values[idx] * (idx + 1) for idx in cycles_idxs])"
   ]
  },
  {
   "cell_type": "markdown",
   "id": "723ea514-3f20-4ee7-9cf9-42c9bfb1841e",
   "metadata": {
    "tags": []
   },
   "source": [
    "### Part 2"
   ]
  },
  {
   "cell_type": "code",
   "execution_count": 251,
   "id": "82741161-3a83-4d92-80e9-08579359dfca",
   "metadata": {},
   "outputs": [],
   "source": [
    "screen = {}"
   ]
  },
  {
   "cell_type": "code",
   "execution_count": 252,
   "id": "99689f53-153c-452c-9be8-e120b12caca7",
   "metadata": {},
   "outputs": [
    {
     "data": {
      "text/plain": [
       "241"
      ]
     },
     "execution_count": 252,
     "metadata": {},
     "output_type": "execute_result"
    }
   ],
   "source": [
    "len(cycle_values)"
   ]
  },
  {
   "cell_type": "code",
   "execution_count": 253,
   "id": "70e521c0-6871-4d08-a5a9-fe34e4eb576a",
   "metadata": {},
   "outputs": [],
   "source": [
    "for row in range(6):\n",
    "    for x in range(40):\n",
    "        cycle_indx = row * 40 + x\n",
    "        cycle_value = cycle_values[cycle_indx] \n",
    "        screen[row, x] = '#' if (x <= cycle_value + 1 and x >= cycle_value - 1) else '.'"
   ]
  },
  {
   "cell_type": "code",
   "execution_count": 254,
   "id": "418dabcd-7267-420e-82cf-c607e9d2185f",
   "metadata": {},
   "outputs": [
    {
     "name": "stdout",
     "output_type": "stream",
     "text": [
      "###...##...##..####.#..#.#....#..#.####.\n",
      "#..#.#..#.#..#.#....#.#..#....#..#.#....\n",
      "###..#..#.#....###..##...#....####.###..\n",
      "#..#.####.#....#....#.#..#....#..#.#....\n",
      "#..#.#..#.#..#.#....#.#..#....#..#.#....\n",
      "###..#..#..##..####.#..#.####.#..#.#....\n"
     ]
    }
   ],
   "source": [
    "for row in range(6):\n",
    "    print(''.join([screen[row, x] for x in range(40)]))\n",
    "        "
   ]
  },
  {
   "cell_type": "markdown",
   "id": "f84ec9ad-9797-49e9-b59f-095e639013ed",
   "metadata": {},
   "source": [
    "BACEKLHF"
   ]
  },
  {
   "cell_type": "markdown",
   "id": "34fedf86-1192-42d6-956a-c7b3cd802ea0",
   "metadata": {},
   "source": [
    "## Day 11"
   ]
  },
  {
   "cell_type": "markdown",
   "id": "8b6778f9-34d3-42e0-a2bc-c7e1705a14bd",
   "metadata": {
    "tags": []
   },
   "source": [
    "### Part 1"
   ]
  },
  {
   "cell_type": "code",
   "execution_count": 255,
   "id": "f3b4d143-73bf-4980-9370-76aceacc51b3",
   "metadata": {},
   "outputs": [],
   "source": [
    "monkeys_and_items = [line.strip() for line in open('data/input_d11_01.txt', 'r')]"
   ]
  },
  {
   "cell_type": "code",
   "execution_count": 256,
   "id": "ad68ad43-75de-4e68-93d2-5a34e27fef52",
   "metadata": {},
   "outputs": [
    {
     "data": {
      "text/plain": [
       "[['Monkey 0:',\n",
       "  'Starting items: 50, 70, 89, 75, 66, 66',\n",
       "  'Operation: new = old * 5',\n",
       "  'Test: divisible by 2',\n",
       "  'If true: throw to monkey 2',\n",
       "  'If false: throw to monkey 1'],\n",
       " ['Monkey 1:',\n",
       "  'Starting items: 85',\n",
       "  'Operation: new = old * old',\n",
       "  'Test: divisible by 7',\n",
       "  'If true: throw to monkey 3',\n",
       "  'If false: throw to monkey 6'],\n",
       " ['Monkey 2:',\n",
       "  'Starting items: 66, 51, 71, 76, 58, 55, 58, 60',\n",
       "  'Operation: new = old + 1',\n",
       "  'Test: divisible by 13',\n",
       "  'If true: throw to monkey 1',\n",
       "  'If false: throw to monkey 3'],\n",
       " ['Monkey 3:',\n",
       "  'Starting items: 79, 52, 55, 51',\n",
       "  'Operation: new = old + 6',\n",
       "  'Test: divisible by 3',\n",
       "  'If true: throw to monkey 6',\n",
       "  'If false: throw to monkey 4'],\n",
       " ['Monkey 4:',\n",
       "  'Starting items: 69, 92',\n",
       "  'Operation: new = old * 17',\n",
       "  'Test: divisible by 19',\n",
       "  'If true: throw to monkey 7',\n",
       "  'If false: throw to monkey 5'],\n",
       " ['Monkey 5:',\n",
       "  'Starting items: 71, 76, 73, 98, 67, 79, 99',\n",
       "  'Operation: new = old + 8',\n",
       "  'Test: divisible by 5',\n",
       "  'If true: throw to monkey 0',\n",
       "  'If false: throw to monkey 2'],\n",
       " ['Monkey 6:',\n",
       "  'Starting items: 82, 76, 69, 69, 57',\n",
       "  'Operation: new = old + 7',\n",
       "  'Test: divisible by 11',\n",
       "  'If true: throw to monkey 7',\n",
       "  'If false: throw to monkey 4'],\n",
       " ['Monkey 7:',\n",
       "  'Starting items: 65, 79, 86',\n",
       "  'Operation: new = old + 5',\n",
       "  'Test: divisible by 17',\n",
       "  'If true: throw to monkey 5',\n",
       "  'If false: throw to monkey 0']]"
      ]
     },
     "execution_count": 256,
     "metadata": {},
     "output_type": "execute_result"
    }
   ],
   "source": [
    "[monkeys_and_items[i:i+6] for i in range(0, len(monkeys_and_items), 7)]"
   ]
  },
  {
   "cell_type": "code",
   "execution_count": 257,
   "id": "f7f0c089-4f80-46f4-bee6-deab75be3d6f",
   "metadata": {},
   "outputs": [],
   "source": [
    "from dataclasses import dataclass\n",
    "from typing import Callable\n",
    "\n",
    "from functools import partial"
   ]
  },
  {
   "cell_type": "code",
   "execution_count": 258,
   "id": "6e246b88-288b-4936-acb4-76d27343a946",
   "metadata": {},
   "outputs": [],
   "source": [
    "@dataclass\n",
    "class Monkey:\n",
    "    items: list\n",
    "    throw_to_monkey: Callable[[int], int]\n"
   ]
  },
  {
   "cell_type": "code",
   "execution_count": 259,
   "id": "7e13446d-b7ad-4de9-9040-2345c1c5e16a",
   "metadata": {},
   "outputs": [],
   "source": [
    "def throw_to_monkey(operation_str, divisor, true_monkey, false_monkey, old):\n",
    "    # print(f'{operation_str} divisble by {divisor} returns: {true_monkey} if true else {false_monkey}')\n",
    "    \n",
    "    new = eval(operation_str)\n",
    "    # print(f'new = {operation_str}. new = {new}')\n",
    "    new = new // 3\n",
    "    \n",
    "    if new % divisor == 0 :\n",
    "        return new, true_monkey\n",
    "    else:\n",
    "        return new, false_monkey"
   ]
  },
  {
   "cell_type": "code",
   "execution_count": 260,
   "id": "a0d085fe-91a2-4d10-8c39-2d7b725cd941",
   "metadata": {},
   "outputs": [],
   "source": [
    "monkeys = []\n",
    "\n",
    "for __, items, operation, test, true_monkey, false_monkey in [monkeys_and_items[i:i+6] for i in range(0, len(monkeys_and_items), 7)]:\n",
    "    items = [int(item) for item in items.split('Starting items: ')[1].split(', ')]\n",
    "    \n",
    "    operation_str = operation.split('Operation: new = ')[1]\n",
    "    divisor = int(test.split('Test: divisible by ')[1])\n",
    "    \n",
    "    true_monkey = int(true_monkey.split('If true: throw to monkey ')[1])\n",
    "    false_monkey = int(false_monkey.split('If false: throw to monkey ')[1])\n",
    "    \n",
    "    monkeys.append(Monkey(items, partial(throw_to_monkey, operation_str, divisor, true_monkey, false_monkey)))\n"
   ]
  },
  {
   "cell_type": "code",
   "execution_count": 261,
   "id": "7d716801-dc4c-4d08-b5da-14e9ca3e7bda",
   "metadata": {},
   "outputs": [
    {
     "data": {
      "text/plain": [
       "[Monkey(items=[50, 70, 89, 75, 66, 66], throw_to_monkey=functools.partial(<function throw_to_monkey at 0x7f6410440280>, 'old * 5', 2, 2, 1)),\n",
       " Monkey(items=[85], throw_to_monkey=functools.partial(<function throw_to_monkey at 0x7f6410440280>, 'old * old', 7, 3, 6)),\n",
       " Monkey(items=[66, 51, 71, 76, 58, 55, 58, 60], throw_to_monkey=functools.partial(<function throw_to_monkey at 0x7f6410440280>, 'old + 1', 13, 1, 3)),\n",
       " Monkey(items=[79, 52, 55, 51], throw_to_monkey=functools.partial(<function throw_to_monkey at 0x7f6410440280>, 'old + 6', 3, 6, 4)),\n",
       " Monkey(items=[69, 92], throw_to_monkey=functools.partial(<function throw_to_monkey at 0x7f6410440280>, 'old * 17', 19, 7, 5)),\n",
       " Monkey(items=[71, 76, 73, 98, 67, 79, 99], throw_to_monkey=functools.partial(<function throw_to_monkey at 0x7f6410440280>, 'old + 8', 5, 0, 2)),\n",
       " Monkey(items=[82, 76, 69, 69, 57], throw_to_monkey=functools.partial(<function throw_to_monkey at 0x7f6410440280>, 'old + 7', 11, 7, 4)),\n",
       " Monkey(items=[65, 79, 86], throw_to_monkey=functools.partial(<function throw_to_monkey at 0x7f6410440280>, 'old + 5', 17, 5, 0))]"
      ]
     },
     "execution_count": 261,
     "metadata": {},
     "output_type": "execute_result"
    }
   ],
   "source": [
    "monkeys"
   ]
  },
  {
   "cell_type": "code",
   "execution_count": 262,
   "id": "6ff9731a-c4f2-4376-87bf-224936e931e2",
   "metadata": {},
   "outputs": [],
   "source": [
    "from collections import defaultdict"
   ]
  },
  {
   "cell_type": "code",
   "execution_count": 263,
   "id": "ad319316-d72a-4a3e-a369-b23a260c8b53",
   "metadata": {},
   "outputs": [],
   "source": [
    "inspection_counter = defaultdict(lambda: 0)"
   ]
  },
  {
   "cell_type": "code",
   "execution_count": 264,
   "id": "ce67236a-0ebf-4047-92f1-41c415da6ab9",
   "metadata": {},
   "outputs": [],
   "source": [
    "num_rounds = 20"
   ]
  },
  {
   "cell_type": "code",
   "execution_count": 265,
   "id": "512a4996-9653-473c-92d2-089344e741cd",
   "metadata": {},
   "outputs": [],
   "source": [
    "for i in range(num_rounds):\n",
    "    for monkey_idx, monkey in enumerate(monkeys):\n",
    "        for j in range(len(monkey.items)):\n",
    "            inspection_counter[monkey_idx] += 1\n",
    "            anxiety = monkey.items.pop(0)\n",
    "            new_anxiety, destination_monkey_idx = monkey.throw_to_monkey(anxiety)\n",
    "            monkeys[destination_monkey_idx].items.append(new_anxiety)"
   ]
  },
  {
   "cell_type": "code",
   "execution_count": 266,
   "id": "01c64671-1977-443a-b77d-1bdb67a772c5",
   "metadata": {},
   "outputs": [
    {
     "data": {
      "text/plain": [
       "[(5, 392), (4, 386)]"
      ]
     },
     "execution_count": 266,
     "metadata": {},
     "output_type": "execute_result"
    }
   ],
   "source": [
    "top_two_monkeys = sorted(list(inspection_counter.items()), key=lambda x: x[1], reverse=True)[:2]\n",
    "top_two_monkeys"
   ]
  },
  {
   "cell_type": "code",
   "execution_count": 267,
   "id": "ae094b13-eee9-4637-bc71-6147e93d7b15",
   "metadata": {},
   "outputs": [],
   "source": [
    "__, inspection_counts = zip(*top_two_monkeys)"
   ]
  },
  {
   "cell_type": "code",
   "execution_count": 268,
   "id": "b7a31afb-f8d8-4b8c-a640-9da760ade78a",
   "metadata": {},
   "outputs": [
    {
     "data": {
      "text/plain": [
       "151312"
      ]
     },
     "execution_count": 268,
     "metadata": {},
     "output_type": "execute_result"
    }
   ],
   "source": [
    "inspection_counts[0] * inspection_counts[1]"
   ]
  },
  {
   "cell_type": "markdown",
   "id": "21c3cccd-0eac-45da-8fe5-28298480200f",
   "metadata": {
    "tags": []
   },
   "source": [
    "### Part 2"
   ]
  },
  {
   "cell_type": "markdown",
   "id": "5dd1aa86-58bb-443c-8026-9bcf16592582",
   "metadata": {},
   "source": [
    "Using congruence properties: https://en.wikipedia.org/wiki/Modular_arithmetic"
   ]
  },
  {
   "cell_type": "code",
   "execution_count": 269,
   "id": "fff5001e-6f2a-4832-8f5b-a10b8c8e34b4",
   "metadata": {},
   "outputs": [],
   "source": [
    "# Get a common modulus from tests"
   ]
  },
  {
   "cell_type": "code",
   "execution_count": 270,
   "id": "985e48b4-bc6a-4795-8ba6-695ae2db1ecf",
   "metadata": {},
   "outputs": [
    {
     "data": {
      "text/plain": [
       "['Test: divisible by 2',\n",
       " 'Test: divisible by 7',\n",
       " 'Test: divisible by 13',\n",
       " 'Test: divisible by 3',\n",
       " 'Test: divisible by 19',\n",
       " 'Test: divisible by 5',\n",
       " 'Test: divisible by 11',\n",
       " 'Test: divisible by 17']"
      ]
     },
     "execution_count": 270,
     "metadata": {},
     "output_type": "execute_result"
    }
   ],
   "source": [
    "tests = [monkeys_and_items[i] for i in range(3, len(monkeys_and_items), 7)]\n",
    "tests"
   ]
  },
  {
   "cell_type": "code",
   "execution_count": 271,
   "id": "cda58d7b-d316-4434-9b0b-e2915b9e7c22",
   "metadata": {},
   "outputs": [
    {
     "data": {
      "text/plain": [
       "[2, 7, 13, 3, 19, 5, 11, 17]"
      ]
     },
     "execution_count": 271,
     "metadata": {},
     "output_type": "execute_result"
    }
   ],
   "source": [
    "moduli_ints = [int(test_str.split('Test: divisible by ')[1]) for test_str in tests]\n",
    "moduli_ints"
   ]
  },
  {
   "cell_type": "code",
   "execution_count": 272,
   "id": "d7db5445-44c1-4e6b-a9fa-65c8c44810a3",
   "metadata": {},
   "outputs": [
    {
     "data": {
      "text/plain": [
       "9699690"
      ]
     },
     "execution_count": 272,
     "metadata": {},
     "output_type": "execute_result"
    }
   ],
   "source": [
    "from operator import mul\n",
    "from functools import reduce\n",
    "modulus = reduce(mul, moduli_ints)\n",
    "modulus"
   ]
  },
  {
   "cell_type": "code",
   "execution_count": 273,
   "id": "8323b8e7-68f7-4aa2-b531-0e82fe3058d7",
   "metadata": {},
   "outputs": [],
   "source": [
    "def throw_to_monkey(operation_str, divisor, true_monkey, false_monkey, old):\n",
    "    # print(f'{operation_str} divisble by {divisor} returns: {true_monkey} if true else {false_monkey}')\n",
    "    \n",
    "    new = eval(operation_str)\n",
    "    # print(f'new = {operation_str}. new = {new}')\n",
    "    # new = new // 3\n",
    "    new = new % modulus\n",
    "    \n",
    "    if new % divisor == 0 :\n",
    "        return new, true_monkey\n",
    "    else:\n",
    "        return new, false_monkey"
   ]
  },
  {
   "cell_type": "code",
   "execution_count": 274,
   "id": "593de191-93b4-4585-9499-ea059f84f837",
   "metadata": {},
   "outputs": [],
   "source": [
    "monkeys = []\n",
    "\n",
    "for __, items, operation, test, true_monkey, false_monkey in [monkeys_and_items[i:i+6] for i in range(0, len(monkeys_and_items), 7)]:\n",
    "    items = [int(item) for item in items.split('Starting items: ')[1].split(', ')]\n",
    "    \n",
    "    operation_str = operation.split('Operation: new = ')[1]\n",
    "    divisor = int(test.split('Test: divisible by ')[1])\n",
    "    \n",
    "    true_monkey = int(true_monkey.split('If true: throw to monkey ')[1])\n",
    "    false_monkey = int(false_monkey.split('If false: throw to monkey ')[1])\n",
    "    \n",
    "    monkeys.append(Monkey(items, partial(throw_to_monkey, operation_str, divisor, true_monkey, false_monkey)))\n"
   ]
  },
  {
   "cell_type": "code",
   "execution_count": 275,
   "id": "58e194bd-66f0-44c5-891d-0951d2f13a0e",
   "metadata": {},
   "outputs": [],
   "source": [
    "inspection_counter = defaultdict(lambda: 0)"
   ]
  },
  {
   "cell_type": "code",
   "execution_count": 276,
   "id": "d5cf72e3-eea1-42ed-af73-b9d170d16790",
   "metadata": {},
   "outputs": [],
   "source": [
    "num_rounds = 10000"
   ]
  },
  {
   "cell_type": "code",
   "execution_count": 277,
   "id": "3cf3c918-87be-4d22-8a48-081c3cf5acb8",
   "metadata": {},
   "outputs": [
    {
     "name": "stdout",
     "output_type": "stream",
     "text": [
      "CPU times: user 5.18 s, sys: 0 ns, total: 5.18 s\n",
      "Wall time: 5.18 s\n"
     ]
    }
   ],
   "source": [
    "%%time\n",
    "for i in range(num_rounds):\n",
    "    for monkey_idx, monkey in enumerate(monkeys):\n",
    "        for j in range(len(monkey.items)):\n",
    "            inspection_counter[monkey_idx] += 1\n",
    "            anxiety = monkey.items.pop(0)\n",
    "            new_anxiety, destination_monkey_idx = monkey.throw_to_monkey(anxiety)\n",
    "            monkeys[destination_monkey_idx].items.append(new_anxiety)"
   ]
  },
  {
   "cell_type": "code",
   "execution_count": 278,
   "id": "ffeaa611-c3ef-4b15-8cd7-fb0d7238c198",
   "metadata": {},
   "outputs": [
    {
     "data": {
      "text/plain": [
       "[(4, 237828), (5, 216047)]"
      ]
     },
     "execution_count": 278,
     "metadata": {},
     "output_type": "execute_result"
    }
   ],
   "source": [
    "top_two_monkeys = sorted(list(inspection_counter.items()), key=lambda x: x[1], reverse=True)[:2]\n",
    "top_two_monkeys"
   ]
  },
  {
   "cell_type": "code",
   "execution_count": 279,
   "id": "3c8d9bbf-ba72-4edf-a68c-7a6b401ff44c",
   "metadata": {},
   "outputs": [],
   "source": [
    "__, inspection_counts = zip(*top_two_monkeys)"
   ]
  },
  {
   "cell_type": "code",
   "execution_count": 280,
   "id": "2abb407f-d71f-4de9-bc8a-92907a396f87",
   "metadata": {},
   "outputs": [
    {
     "data": {
      "text/plain": [
       "51382025916"
      ]
     },
     "execution_count": 280,
     "metadata": {},
     "output_type": "execute_result"
    }
   ],
   "source": [
    "inspection_counts[0] * inspection_counts[1]"
   ]
  },
  {
   "cell_type": "markdown",
   "id": "f707c9d1-36e9-46d7-92fe-cf4e24e9faed",
   "metadata": {},
   "source": [
    "## Day 12"
   ]
  },
  {
   "cell_type": "markdown",
   "id": "93282ffa-1a51-4cae-be59-906619eb0454",
   "metadata": {
    "tags": []
   },
   "source": [
    "### Part 1"
   ]
  },
  {
   "cell_type": "code",
   "execution_count": 281,
   "id": "1b828e2a-e0b9-4bfe-9916-d4d856d86af0",
   "metadata": {},
   "outputs": [],
   "source": [
    "def get_height(position):\n",
    "    global height_map\n",
    "    height = height_map[position]\n",
    "    if height == 'S':\n",
    "        height = 'a'\n",
    "    elif height == 'E':\n",
    "        height = 'z'\n",
    "    return ord(height)"
   ]
  },
  {
   "cell_type": "code",
   "execution_count": 282,
   "id": "b9f7c458-2733-4ab7-b3c2-f4c5175d3297",
   "metadata": {},
   "outputs": [],
   "source": [
    "def update_min_step(position):\n",
    "    global min_step_map, updates_in_round\n",
    "    \n",
    "    position_height = get_height(position)\n",
    "    \n",
    "    x, y = position    \n",
    "    adjacent_positions = [(x - 1, y), (x, y - 1), (x + 1, y), (x, y + 1)]\n",
    "    reachable_positions = []\n",
    "    for adjacent_position in adjacent_positions:\n",
    "        try:\n",
    "            adjacent_height = get_height(adjacent_position)\n",
    "            if position_height - adjacent_height <= 1:\n",
    "                reachable_positions.append(adjacent_position)\n",
    "        except KeyError:  # Outside of map\n",
    "            pass\n",
    "    \n",
    "    position_min_step = min_step_map[position]  # Can be None\n",
    "    reachable_min_steps = [min_step_map[reachable_position] for reachable_position in reachable_positions if min_step_map[reachable_position] is not None]\n",
    "    \n",
    "    if len(reachable_min_steps) == 0:\n",
    "        min_step = None\n",
    "    else:\n",
    "        min_step = min(reachable_min_steps) + 1\n",
    "    \n",
    "    update_position_minstep_required = False\n",
    "    if position_min_step is None and min_step is not None:\n",
    "        update_position_minstep_required = True\n",
    "    elif position_min_step is not None and min_step is not None:\n",
    "        if position_min_step < min_step:\n",
    "            update_position_minstep_required = True\n",
    "        \n",
    "    if update_position_minstep_required:\n",
    "        min_step_map[position] = min_step\n",
    "        updates_in_round = True\n",
    "    "
   ]
  },
  {
   "cell_type": "markdown",
   "id": "32866daf-7444-48be-93b9-cb7b03efd3d4",
   "metadata": {},
   "source": [
    "#### Test on example"
   ]
  },
  {
   "cell_type": "code",
   "execution_count": 283,
   "id": "e74c48a8-b49e-4034-9ae6-0a621aa26b50",
   "metadata": {},
   "outputs": [],
   "source": [
    "height_map_strings = \"\"\"\n",
    "Sabqponm\n",
    "abcryxxl\n",
    "accszExk\n",
    "acctuvwj\n",
    "abdefghi\"\"\".split('\\n')[1:]"
   ]
  },
  {
   "cell_type": "code",
   "execution_count": 284,
   "id": "bb3d6a21-d139-49b6-9e4b-23575f89e162",
   "metadata": {},
   "outputs": [
    {
     "data": {
      "text/plain": [
       "['Sabqponm', 'abcryxxl', 'accszExk', 'acctuvwj', 'abdefghi']"
      ]
     },
     "execution_count": 284,
     "metadata": {},
     "output_type": "execute_result"
    }
   ],
   "source": [
    "height_map_strings"
   ]
  },
  {
   "cell_type": "code",
   "execution_count": 285,
   "id": "a89524a8-fc20-43c6-bede-4d5f4d8c17fc",
   "metadata": {},
   "outputs": [],
   "source": [
    "height_map = {}\n",
    "for i, row_str in enumerate(height_map_strings):\n",
    "    for j, character in enumerate(row_str):\n",
    "        height_map[i, j] = character"
   ]
  },
  {
   "cell_type": "code",
   "execution_count": 286,
   "id": "43e2fc95-c552-456f-abaf-e05b07b50be6",
   "metadata": {},
   "outputs": [
    {
     "data": {
      "text/plain": [
       "(0, 0)"
      ]
     },
     "execution_count": 286,
     "metadata": {},
     "output_type": "execute_result"
    }
   ],
   "source": [
    "starting_coord, __ = [(key, value) for key, value in height_map.items() if value in value == 'S'][0]\n",
    "starting_coord"
   ]
  },
  {
   "cell_type": "code",
   "execution_count": 287,
   "id": "7908d5f4-e47c-4838-90ac-a9b2a954c404",
   "metadata": {},
   "outputs": [
    {
     "data": {
      "text/plain": [
       "(2, 5)"
      ]
     },
     "execution_count": 287,
     "metadata": {},
     "output_type": "execute_result"
    }
   ],
   "source": [
    "ending_coord, __ = [(key, value) for key, value in height_map.items() if value in value == 'E'][0]\n",
    "ending_coord"
   ]
  },
  {
   "cell_type": "code",
   "execution_count": 288,
   "id": "13115ec7-d08e-44ae-ab22-f6fbf819879f",
   "metadata": {},
   "outputs": [],
   "source": [
    "min_step_map = {key: None for key, value in height_map.items()}\n",
    "min_step_map[starting_coord] = 0"
   ]
  },
  {
   "cell_type": "code",
   "execution_count": 289,
   "id": "391d70cd-8a82-4253-902f-76dfdb6a9620",
   "metadata": {},
   "outputs": [
    {
     "name": "stdout",
     "output_type": "stream",
     "text": [
      "CPU times: user 930 µs, sys: 46 µs, total: 976 µs\n",
      "Wall time: 978 µs\n"
     ]
    }
   ],
   "source": [
    "%%time\n",
    "\n",
    "none_positions = [position for position, min_step in min_step_map.items() if min_step is None]\n",
    "\n",
    "while True:\n",
    "    updates_in_round = False\n",
    "    for position in none_positions:\n",
    "        update_min_step(position)\n",
    "    if updates_in_round == False:\n",
    "       break"
   ]
  },
  {
   "cell_type": "code",
   "execution_count": 290,
   "id": "fa71dec9-3976-4905-b5ac-c3251a86000d",
   "metadata": {},
   "outputs": [
    {
     "data": {
      "text/plain": [
       "31"
      ]
     },
     "execution_count": 290,
     "metadata": {},
     "output_type": "execute_result"
    }
   ],
   "source": [
    "min_step_map[ending_coord]"
   ]
  },
  {
   "cell_type": "markdown",
   "id": "2fa551bd-cfac-4584-9774-8f2044d6f822",
   "metadata": {},
   "source": [
    "#### Run on puzzle input"
   ]
  },
  {
   "cell_type": "code",
   "execution_count": 291,
   "id": "1d6620cb-5b41-4983-86f0-8c9b1a3a5d26",
   "metadata": {},
   "outputs": [],
   "source": [
    "height_map_strings = [line.strip() for line in open('data/input_d12_01.txt', 'r')]"
   ]
  },
  {
   "cell_type": "code",
   "execution_count": 292,
   "id": "cd1c87ed-17d9-49ab-9bc6-4d8b6dedac43",
   "metadata": {},
   "outputs": [],
   "source": [
    "height_map = {}\n",
    "for i, row_str in enumerate(height_map_strings):\n",
    "    for j, character in enumerate(row_str):\n",
    "        height_map[i, j] = character"
   ]
  },
  {
   "cell_type": "code",
   "execution_count": 293,
   "id": "45605753-e3aa-491c-b702-8b6b1c2390f2",
   "metadata": {},
   "outputs": [
    {
     "data": {
      "text/plain": [
       "(20, 0)"
      ]
     },
     "execution_count": 293,
     "metadata": {},
     "output_type": "execute_result"
    }
   ],
   "source": [
    "starting_coord, __ = [(key, value) for key, value in height_map.items() if value in value == 'S'][0]\n",
    "starting_coord"
   ]
  },
  {
   "cell_type": "code",
   "execution_count": 294,
   "id": "b284bcd7-7775-46c6-b089-0d56ae60ee09",
   "metadata": {},
   "outputs": [
    {
     "data": {
      "text/plain": [
       "(20, 58)"
      ]
     },
     "execution_count": 294,
     "metadata": {},
     "output_type": "execute_result"
    }
   ],
   "source": [
    "ending_coord, __ = [(key, value) for key, value in height_map.items() if value in value == 'E'][0]\n",
    "ending_coord"
   ]
  },
  {
   "cell_type": "code",
   "execution_count": 295,
   "id": "1f61e044-111a-4988-9327-31291948f6b5",
   "metadata": {},
   "outputs": [],
   "source": [
    "min_step_map = {key: None for key, value in height_map.items()}\n",
    "min_step_map[starting_coord] = 0"
   ]
  },
  {
   "cell_type": "code",
   "execution_count": 296,
   "id": "b8da424e-fcd7-4e4f-bda5-a08ca1bbb2e4",
   "metadata": {},
   "outputs": [
    {
     "name": "stdout",
     "output_type": "stream",
     "text": [
      "CPU times: user 928 ms, sys: 0 ns, total: 928 ms\n",
      "Wall time: 928 ms\n"
     ]
    }
   ],
   "source": [
    "%%time\n",
    "\n",
    "none_positions = [position for position, min_step in min_step_map.items() if min_step is None]\n",
    "\n",
    "while True:\n",
    "    updates_in_round = False\n",
    "    for position in none_positions:\n",
    "        update_min_step(position)\n",
    "    if updates_in_round == False:\n",
    "       break"
   ]
  },
  {
   "cell_type": "code",
   "execution_count": 297,
   "id": "8bb3b95e-c4b6-40cc-8f09-4cf64b9c2e7f",
   "metadata": {},
   "outputs": [
    {
     "data": {
      "text/plain": [
       "350"
      ]
     },
     "execution_count": 297,
     "metadata": {},
     "output_type": "execute_result"
    }
   ],
   "source": [
    "min_step_map[ending_coord]"
   ]
  },
  {
   "cell_type": "code",
   "execution_count": 298,
   "id": "1869a94a-d806-4066-8974-911422fa0ace",
   "metadata": {},
   "outputs": [
    {
     "data": {
      "text/plain": [
       "[(0, 16), (40, 14), (40, 15)]"
      ]
     },
     "execution_count": 298,
     "metadata": {},
     "output_type": "execute_result"
    }
   ],
   "source": [
    "[position for position, min_step in min_step_map.items() if min_step is None]"
   ]
  },
  {
   "cell_type": "markdown",
   "id": "03e19832-3676-4107-b0f3-6f79862f26d1",
   "metadata": {},
   "source": [
    "### Part 2"
   ]
  },
  {
   "cell_type": "code",
   "execution_count": 299,
   "id": "bba6550e-85a3-4e07-8131-3f1cf871e16a",
   "metadata": {},
   "outputs": [],
   "source": [
    "height_map_strings = [line.strip() for line in open('data/input_d12_01.txt', 'r')]"
   ]
  },
  {
   "cell_type": "code",
   "execution_count": 300,
   "id": "8a24bdae-6575-4db8-a031-80ef8ac8c270",
   "metadata": {},
   "outputs": [],
   "source": [
    "height_map = {}\n",
    "for i, row_str in enumerate(height_map_strings):\n",
    "    for j, character in enumerate(row_str):\n",
    "        height_map[i, j] = character"
   ]
  },
  {
   "cell_type": "code",
   "execution_count": 301,
   "id": "e7e7abab-90ee-42e4-8a23-2187bf788f52",
   "metadata": {},
   "outputs": [
    {
     "data": {
      "text/plain": [
       "1014"
      ]
     },
     "execution_count": 301,
     "metadata": {},
     "output_type": "execute_result"
    }
   ],
   "source": [
    "starting_coords = [key for key, value in height_map.items() if value in ('S', 'a')]\n",
    "len(starting_coords)"
   ]
  },
  {
   "cell_type": "code",
   "execution_count": 302,
   "id": "d8e550cf-8e75-4a35-ab86-f071ea1c5c02",
   "metadata": {},
   "outputs": [
    {
     "data": {
      "text/plain": [
       "(20, 58)"
      ]
     },
     "execution_count": 302,
     "metadata": {},
     "output_type": "execute_result"
    }
   ],
   "source": [
    "ending_coord, __ = [(key, value) for key, value in height_map.items() if value in value == 'E'][0]\n",
    "ending_coord"
   ]
  },
  {
   "cell_type": "code",
   "execution_count": 303,
   "id": "4cc3161c-fd0c-4b13-870d-78d6daf1d50e",
   "metadata": {},
   "outputs": [],
   "source": [
    "def get_height(position):\n",
    "    global height_map\n",
    "    height = height_map[position]\n",
    "    if height == 'S':\n",
    "        height = 'a'\n",
    "    elif height == 'E':\n",
    "        height = 'z'\n",
    "    return ord(height)"
   ]
  },
  {
   "cell_type": "code",
   "execution_count": 304,
   "id": "b3e99b92-7c11-4d7d-982f-e2799975a43f",
   "metadata": {},
   "outputs": [],
   "source": [
    "def update_min_step(position):\n",
    "    global min_step_map, updates_in_round\n",
    "    \n",
    "    position_height = get_height(position)\n",
    "    \n",
    "    x, y = position    \n",
    "    adjacent_positions = [(x - 1, y), (x, y - 1), (x + 1, y), (x, y + 1)]\n",
    "    reachable_positions = []\n",
    "    for adjacent_position in adjacent_positions:\n",
    "        try:\n",
    "            adjacent_height = get_height(adjacent_position)\n",
    "            if position_height - adjacent_height <= 1:\n",
    "                reachable_positions.append(adjacent_position)\n",
    "        except KeyError:  # Outside of map\n",
    "            pass\n",
    "    \n",
    "    position_min_step = min_step_map[position]  # Can be None\n",
    "    reachable_min_steps = [min_step_map[reachable_position] for reachable_position in reachable_positions if min_step_map[reachable_position] is not None]\n",
    "    \n",
    "    if len(reachable_min_steps) == 0:\n",
    "        min_step = None\n",
    "    else:\n",
    "        min_step = min(reachable_min_steps) + 1\n",
    "    \n",
    "    update_position_minstep_required = False\n",
    "    if position_min_step is None and min_step is not None:\n",
    "        update_position_minstep_required = True\n",
    "    elif position_min_step is not None and min_step is not None:\n",
    "        if position_min_step < min_step:\n",
    "            update_position_minstep_required = True\n",
    "        \n",
    "    if update_position_minstep_required:\n",
    "        min_step_map[position] = min_step\n",
    "        updates_in_round = True\n",
    "    "
   ]
  },
  {
   "cell_type": "code",
   "execution_count": 305,
   "id": "8bbd2813-e1c1-41df-b00d-999b499cb8f6",
   "metadata": {},
   "outputs": [
    {
     "name": "stdout",
     "output_type": "stream",
     "text": [
      "CPU times: user 4min 40s, sys: 7.38 ms, total: 4min 40s\n",
      "Wall time: 4min 40s\n"
     ]
    }
   ],
   "source": [
    "%%time\n",
    "\n",
    "steps_to_end = [] \n",
    "for starting_coord in starting_coords:\n",
    "    min_step_map = {key: None for key, value in height_map.items()}\n",
    "    min_step_map[starting_coord] = 0\n",
    "\n",
    "    none_positions = [position for position, min_step in min_step_map.items() if min_step is None]\n",
    "\n",
    "    while True:\n",
    "        updates_in_round = False\n",
    "        for position in none_positions:\n",
    "            update_min_step(position)\n",
    "        if updates_in_round == False:\n",
    "           break\n",
    "        \n",
    "    steps_to_end.append(min_step_map[ending_coord])"
   ]
  },
  {
   "cell_type": "code",
   "execution_count": 306,
   "id": "01abc398-b7e0-4077-9728-9c182240dfb2",
   "metadata": {},
   "outputs": [
    {
     "data": {
      "text/plain": [
       "1014"
      ]
     },
     "execution_count": 306,
     "metadata": {},
     "output_type": "execute_result"
    }
   ],
   "source": [
    "len(steps_to_end)"
   ]
  },
  {
   "cell_type": "code",
   "execution_count": 307,
   "id": "06f4b6cf-75ba-4c3e-a114-a3039fed4939",
   "metadata": {},
   "outputs": [
    {
     "data": {
      "text/plain": [
       "349"
      ]
     },
     "execution_count": 307,
     "metadata": {},
     "output_type": "execute_result"
    }
   ],
   "source": [
    "min([steps for steps in steps_to_end if steps is not None])"
   ]
  },
  {
   "cell_type": "markdown",
   "id": "81fe2681-4b10-4f3d-8cb0-600a97f45a5e",
   "metadata": {},
   "source": [
    "## Day 13"
   ]
  },
  {
   "cell_type": "markdown",
   "id": "ab3dcae3-a331-4d77-b6fd-414a760bfc4f",
   "metadata": {
    "tags": []
   },
   "source": [
    "### Part 1"
   ]
  },
  {
   "cell_type": "code",
   "execution_count": 308,
   "id": "ec4abe2d-91ab-4c10-b324-26e3c9a90ad3",
   "metadata": {},
   "outputs": [],
   "source": [
    "example_packet_pairs_str = \"\"\"[1,1,3,1,1]\n",
    "[1,1,5,1,1]\n",
    "\n",
    "[[1],[2,3,4]]\n",
    "[[1],4]\n",
    "\n",
    "[9]\n",
    "[[8,7,6]]\n",
    "\n",
    "[[4,4],4,4]\n",
    "[[4,4],4,4,4]\n",
    "\n",
    "[7,7,7,7]\n",
    "[7,7,7]\n",
    "\n",
    "[]\n",
    "[3]\n",
    "\n",
    "[[[]]]\n",
    "[[]]\n",
    "\n",
    "[1,[2,[3,[4,[5,6,7]]]],8,9]\n",
    "[1,[2,[3,[4,[5,6,0]]]],8,9]\n",
    "\"\"\""
   ]
  },
  {
   "cell_type": "code",
   "execution_count": 309,
   "id": "cf1d979d-5fac-4dc2-aacc-c92e2c3e87f1",
   "metadata": {},
   "outputs": [],
   "source": [
    "packet_pairs = example_packet_pairs_str.split('\\n')"
   ]
  },
  {
   "cell_type": "code",
   "execution_count": 310,
   "id": "38df4676-f11e-4fbd-8493-9502e4abdd6d",
   "metadata": {},
   "outputs": [],
   "source": [
    "packet_pairs = [(packet_pairs[i], packet_pairs[i+1]) for i in range(0, len(packet_pairs), 3)]"
   ]
  },
  {
   "cell_type": "code",
   "execution_count": 311,
   "id": "413d134a-b3a5-4e7e-8388-27f8576fe8a2",
   "metadata": {},
   "outputs": [
    {
     "data": {
      "text/plain": [
       "[('[1,1,3,1,1]', '[1,1,5,1,1]'),\n",
       " ('[[1],[2,3,4]]', '[[1],4]'),\n",
       " ('[9]', '[[8,7,6]]'),\n",
       " ('[[4,4],4,4]', '[[4,4],4,4,4]'),\n",
       " ('[7,7,7,7]', '[7,7,7]'),\n",
       " ('[]', '[3]'),\n",
       " ('[[[]]]', '[[]]'),\n",
       " ('[1,[2,[3,[4,[5,6,7]]]],8,9]', '[1,[2,[3,[4,[5,6,0]]]],8,9]')]"
      ]
     },
     "execution_count": 311,
     "metadata": {},
     "output_type": "execute_result"
    }
   ],
   "source": [
    "packet_pairs"
   ]
  },
  {
   "cell_type": "code",
   "execution_count": 312,
   "id": "d4e88a18-9ba9-428e-9a17-a76cf8fecb3d",
   "metadata": {},
   "outputs": [
    {
     "data": {
      "text/plain": [
       "[[1], [2, 3, 4]]"
      ]
     },
     "execution_count": 312,
     "metadata": {},
     "output_type": "execute_result"
    }
   ],
   "source": [
    "# Can evaluate strings as commands using eval\n",
    "eval(packet_pairs[1][0])"
   ]
  },
  {
   "cell_type": "code",
   "execution_count": 313,
   "id": "72ad641a-3b63-4b98-9f3b-be4c4b66166e",
   "metadata": {},
   "outputs": [],
   "source": [
    "packet_pairs = [(eval(left), eval(right)) for left, right in packet_pairs]"
   ]
  },
  {
   "cell_type": "code",
   "execution_count": 314,
   "id": "d7c140fe-f8c5-4664-bad9-60a79828141f",
   "metadata": {},
   "outputs": [
    {
     "data": {
      "text/plain": [
       "[([1, 1, 3, 1, 1], [1, 1, 5, 1, 1]),\n",
       " ([[1], [2, 3, 4]], [[1], 4]),\n",
       " ([9], [[8, 7, 6]]),\n",
       " ([[4, 4], 4, 4], [[4, 4], 4, 4, 4]),\n",
       " ([7, 7, 7, 7], [7, 7, 7]),\n",
       " ([], [3]),\n",
       " ([[[]]], [[]]),\n",
       " ([1, [2, [3, [4, [5, 6, 7]]]], 8, 9], [1, [2, [3, [4, [5, 6, 0]]]], 8, 9])]"
      ]
     },
     "execution_count": 314,
     "metadata": {},
     "output_type": "execute_result"
    }
   ],
   "source": [
    "packet_pairs"
   ]
  },
  {
   "cell_type": "code",
   "execution_count": 315,
   "id": "163caedf-5365-4818-b841-2af1c7e50856",
   "metadata": {},
   "outputs": [],
   "source": [
    "def is_left_smaller(left_int_or_list, right_int_or_list, debug=True):\n",
    "    if debug: print(f'{left_int_or_list} vs {right_int_or_list}')\n",
    "    \n",
    "    # One is int but not the other\n",
    "    if isinstance(left_int_or_list, int) and not isinstance(right_int_or_list, int):\n",
    "        left_int_or_list = [left_int_or_list]\n",
    "        if debug: print(f'{left_int_or_list} vs {right_int_or_list}')\n",
    "    if isinstance(right_int_or_list, int) and not isinstance(left_int_or_list, int):\n",
    "        right_int_or_list = [right_int_or_list]\n",
    "        if debug: print(f'{left_int_or_list} vs {right_int_or_list}')\n",
    "    \n",
    "    # Both are ints\n",
    "    if isinstance(left_int_or_list, int) and isinstance(right_int_or_list, int):\n",
    "        if left_int_or_list == right_int_or_list:\n",
    "            return\n",
    "        else: \n",
    "            return left_int_or_list < right_int_or_list\n",
    "    \n",
    "    # Both are lists\n",
    "    if len(left_int_or_list) == 0 and len(right_int_or_list) > 0: \n",
    "        return True\n",
    "    elif len(left_int_or_list) > 0 and len(right_int_or_list) == 0:\n",
    "        return False\n",
    "    else:\n",
    "        for i in range(max(len(left_int_or_list), len(right_int_or_list))):\n",
    "            try:\n",
    "                left_item = left_int_or_list[i]\n",
    "            except IndexError:\n",
    "                return True\n",
    "            try:\n",
    "                right_item = right_int_or_list[i]\n",
    "            except IndexError:\n",
    "                return False\n",
    "            result = is_left_smaller(left_item, right_item, debug=debug)\n",
    "            if result is not None:\n",
    "                return result\n",
    "        else:\n",
    "            return None"
   ]
  },
  {
   "cell_type": "code",
   "execution_count": 316,
   "id": "9203acb5-a626-4ffc-b9b8-dfde2962ad7d",
   "metadata": {},
   "outputs": [
    {
     "name": "stdout",
     "output_type": "stream",
     "text": [
      "[1, 1, 3, 1, 1] vs [1, 1, 5, 1, 1]\n",
      "1 vs 1\n",
      "1 vs 1\n",
      "3 vs 5\n"
     ]
    },
    {
     "data": {
      "text/plain": [
       "True"
      ]
     },
     "execution_count": 316,
     "metadata": {},
     "output_type": "execute_result"
    }
   ],
   "source": [
    "is_left_smaller(*packet_pairs[0])"
   ]
  },
  {
   "cell_type": "code",
   "execution_count": 317,
   "id": "ca77e07c-dbc8-4df2-ac75-5f5cdcc3443b",
   "metadata": {},
   "outputs": [
    {
     "name": "stdout",
     "output_type": "stream",
     "text": [
      "[[1], [2, 3, 4]] vs [[1], 4]\n",
      "[1] vs [1]\n",
      "1 vs 1\n",
      "[2, 3, 4] vs 4\n",
      "[2, 3, 4] vs [4]\n",
      "2 vs 4\n"
     ]
    },
    {
     "data": {
      "text/plain": [
       "True"
      ]
     },
     "execution_count": 317,
     "metadata": {},
     "output_type": "execute_result"
    }
   ],
   "source": [
    "is_left_smaller(*packet_pairs[1])"
   ]
  },
  {
   "cell_type": "code",
   "execution_count": 318,
   "id": "38e3ec9d-bb80-4b27-b187-447f46eec7e0",
   "metadata": {},
   "outputs": [
    {
     "name": "stdout",
     "output_type": "stream",
     "text": [
      "[9] vs [[8, 7, 6]]\n",
      "9 vs [8, 7, 6]\n",
      "[9] vs [8, 7, 6]\n",
      "9 vs 8\n"
     ]
    },
    {
     "data": {
      "text/plain": [
       "False"
      ]
     },
     "execution_count": 318,
     "metadata": {},
     "output_type": "execute_result"
    }
   ],
   "source": [
    "is_left_smaller(*packet_pairs[2])"
   ]
  },
  {
   "cell_type": "code",
   "execution_count": 319,
   "id": "6d07acf7-3600-472a-be50-91ecd01751c5",
   "metadata": {},
   "outputs": [
    {
     "name": "stdout",
     "output_type": "stream",
     "text": [
      "[[4, 4], 4, 4] vs [[4, 4], 4, 4, 4]\n",
      "[4, 4] vs [4, 4]\n",
      "4 vs 4\n",
      "4 vs 4\n",
      "4 vs 4\n",
      "4 vs 4\n"
     ]
    },
    {
     "data": {
      "text/plain": [
       "True"
      ]
     },
     "execution_count": 319,
     "metadata": {},
     "output_type": "execute_result"
    }
   ],
   "source": [
    "is_left_smaller(*packet_pairs[3])"
   ]
  },
  {
   "cell_type": "code",
   "execution_count": 320,
   "id": "7165b749-9690-428d-916b-4eabb30f0403",
   "metadata": {},
   "outputs": [
    {
     "name": "stdout",
     "output_type": "stream",
     "text": [
      "[7, 7, 7, 7] vs [7, 7, 7]\n",
      "7 vs 7\n",
      "7 vs 7\n",
      "7 vs 7\n"
     ]
    },
    {
     "data": {
      "text/plain": [
       "False"
      ]
     },
     "execution_count": 320,
     "metadata": {},
     "output_type": "execute_result"
    }
   ],
   "source": [
    "is_left_smaller(*packet_pairs[4])"
   ]
  },
  {
   "cell_type": "code",
   "execution_count": 321,
   "id": "cce91a13-fef4-4223-9e81-3891398e7b05",
   "metadata": {},
   "outputs": [
    {
     "name": "stdout",
     "output_type": "stream",
     "text": [
      "[] vs [3]\n"
     ]
    },
    {
     "data": {
      "text/plain": [
       "True"
      ]
     },
     "execution_count": 321,
     "metadata": {},
     "output_type": "execute_result"
    }
   ],
   "source": [
    "is_left_smaller(*packet_pairs[5])"
   ]
  },
  {
   "cell_type": "code",
   "execution_count": 322,
   "id": "02f5d0f2-f4c8-4c75-9512-be09bdc1259e",
   "metadata": {},
   "outputs": [
    {
     "name": "stdout",
     "output_type": "stream",
     "text": [
      "[[[]]] vs [[]]\n",
      "[[]] vs []\n"
     ]
    },
    {
     "data": {
      "text/plain": [
       "False"
      ]
     },
     "execution_count": 322,
     "metadata": {},
     "output_type": "execute_result"
    }
   ],
   "source": [
    "is_left_smaller(*packet_pairs[6])"
   ]
  },
  {
   "cell_type": "code",
   "execution_count": 323,
   "id": "eb4acc50-4b0b-40d4-9b69-095287da3c6a",
   "metadata": {},
   "outputs": [
    {
     "name": "stdout",
     "output_type": "stream",
     "text": [
      "[1, [2, [3, [4, [5, 6, 7]]]], 8, 9] vs [1, [2, [3, [4, [5, 6, 0]]]], 8, 9]\n",
      "1 vs 1\n",
      "[2, [3, [4, [5, 6, 7]]]] vs [2, [3, [4, [5, 6, 0]]]]\n",
      "2 vs 2\n",
      "[3, [4, [5, 6, 7]]] vs [3, [4, [5, 6, 0]]]\n",
      "3 vs 3\n",
      "[4, [5, 6, 7]] vs [4, [5, 6, 0]]\n",
      "4 vs 4\n",
      "[5, 6, 7] vs [5, 6, 0]\n",
      "5 vs 5\n",
      "6 vs 6\n",
      "7 vs 0\n"
     ]
    },
    {
     "data": {
      "text/plain": [
       "False"
      ]
     },
     "execution_count": 323,
     "metadata": {},
     "output_type": "execute_result"
    }
   ],
   "source": [
    "is_left_smaller(*packet_pairs[7])"
   ]
  },
  {
   "cell_type": "markdown",
   "id": "56a061fb-a9ea-4279-bb2d-1c6947e72049",
   "metadata": {},
   "source": [
    "#### Apply to puzzle input"
   ]
  },
  {
   "cell_type": "code",
   "execution_count": 324,
   "id": "2658ee79-5d8c-4606-8d6f-de246b693366",
   "metadata": {},
   "outputs": [],
   "source": [
    "packet_pairs_str = [line.strip() for line in open('data/input_d13_01.txt', 'r')]"
   ]
  },
  {
   "cell_type": "code",
   "execution_count": 325,
   "id": "22a8529e-6f9f-4d1c-a89f-f99cd9c0137a",
   "metadata": {},
   "outputs": [
    {
     "data": {
      "text/plain": [
       "['',\n",
       " '[[[[8,6,3,1,2]],[[0,0,1,10],8],8,0],[0,1,7],[9,[[1,1]]]]',\n",
       " '[[[[8,9,6,9,3]]],[],[1],[8,2,0]]']"
      ]
     },
     "execution_count": 325,
     "metadata": {},
     "output_type": "execute_result"
    }
   ],
   "source": [
    "packet_pairs_str[-3:]"
   ]
  },
  {
   "cell_type": "code",
   "execution_count": 326,
   "id": "be4a8380-c032-4b77-802e-03e22c0a28e5",
   "metadata": {},
   "outputs": [],
   "source": [
    "packet_pairs = [(packet_pairs_str[i], packet_pairs_str[i+1]) for i in range(0, len(packet_pairs_str), 3)]"
   ]
  },
  {
   "cell_type": "code",
   "execution_count": 327,
   "id": "dbfa8219-0857-44c1-b4c7-6f5210a8be8f",
   "metadata": {},
   "outputs": [
    {
     "data": {
      "text/plain": [
       "('[[[[8,6,3,1,2]],[[0,0,1,10],8],8,0],[0,1,7],[9,[[1,1]]]]',\n",
       " '[[[[8,9,6,9,3]]],[],[1],[8,2,0]]')"
      ]
     },
     "execution_count": 327,
     "metadata": {},
     "output_type": "execute_result"
    }
   ],
   "source": [
    "packet_pairs[-1]"
   ]
  },
  {
   "cell_type": "code",
   "execution_count": 328,
   "id": "a5efb387-f294-4ff5-b873-af852939daf9",
   "metadata": {},
   "outputs": [],
   "source": [
    "packet_pairs = [(eval(left), eval(right)) for left, right in packet_pairs]"
   ]
  },
  {
   "cell_type": "code",
   "execution_count": 329,
   "id": "668060a5-bc81-42d5-8b96-dff33103ab70",
   "metadata": {},
   "outputs": [],
   "source": [
    "is_packet_pairs_in_right_order = [(index + 1, is_left_smaller(*packet_pair, debug=False)) for index, packet_pair in enumerate(packet_pairs)]"
   ]
  },
  {
   "cell_type": "code",
   "execution_count": 330,
   "id": "b83570ad-6938-4daf-ab51-7f60126f8c73",
   "metadata": {},
   "outputs": [
    {
     "data": {
      "text/plain": [
       "6478"
      ]
     },
     "execution_count": 330,
     "metadata": {},
     "output_type": "execute_result"
    }
   ],
   "source": [
    "sum([index for index, is_packet_pair_in_right_order in is_packet_pairs_in_right_order if is_packet_pair_in_right_order])"
   ]
  },
  {
   "cell_type": "markdown",
   "id": "38b706ae-868b-48ed-b402-0e478ae3826b",
   "metadata": {
    "tags": []
   },
   "source": [
    "### Part 2"
   ]
  },
  {
   "cell_type": "markdown",
   "id": "bec06c38-cc6f-4710-8955-14c1cc6ea6c8",
   "metadata": {},
   "source": [
    "#### Apply to example"
   ]
  },
  {
   "cell_type": "code",
   "execution_count": 331,
   "id": "e51ca9fe-1216-441a-ab87-46b41273ee03",
   "metadata": {},
   "outputs": [],
   "source": [
    "example_packet_pairs_str = \"\"\"[1,1,3,1,1]\n",
    "[1,1,5,1,1]\n",
    "\n",
    "[[1],[2,3,4]]\n",
    "[[1],4]\n",
    "\n",
    "[9]\n",
    "[[8,7,6]]\n",
    "\n",
    "[[4,4],4,4]\n",
    "[[4,4],4,4,4]\n",
    "\n",
    "[7,7,7,7]\n",
    "[7,7,7]\n",
    "\n",
    "[]\n",
    "[3]\n",
    "\n",
    "[[[]]]\n",
    "[[]]\n",
    "\n",
    "[1,[2,[3,[4,[5,6,7]]]],8,9]\n",
    "[1,[2,[3,[4,[5,6,0]]]],8,9]\n",
    "\"\"\""
   ]
  },
  {
   "cell_type": "code",
   "execution_count": 332,
   "id": "a50a8adc-75aa-439f-9ab6-4c1b471b3d08",
   "metadata": {},
   "outputs": [],
   "source": [
    "packet_pairs = example_packet_pairs_str.split('\\n')"
   ]
  },
  {
   "cell_type": "code",
   "execution_count": 333,
   "id": "205b8823-3020-49fa-8a8d-00655a2c3d79",
   "metadata": {},
   "outputs": [],
   "source": [
    "packet_pairs = [(packet_pairs[i], packet_pairs[i+1]) for i in range(0, len(packet_pairs), 3)]"
   ]
  },
  {
   "cell_type": "code",
   "execution_count": 334,
   "id": "3a157ba5-eac6-4b50-bf7e-0c38a58f3008",
   "metadata": {},
   "outputs": [
    {
     "data": {
      "text/plain": [
       "[('[1,1,3,1,1]', '[1,1,5,1,1]'),\n",
       " ('[[1],[2,3,4]]', '[[1],4]'),\n",
       " ('[9]', '[[8,7,6]]'),\n",
       " ('[[4,4],4,4]', '[[4,4],4,4,4]'),\n",
       " ('[7,7,7,7]', '[7,7,7]'),\n",
       " ('[]', '[3]'),\n",
       " ('[[[]]]', '[[]]'),\n",
       " ('[1,[2,[3,[4,[5,6,7]]]],8,9]', '[1,[2,[3,[4,[5,6,0]]]],8,9]')]"
      ]
     },
     "execution_count": 334,
     "metadata": {},
     "output_type": "execute_result"
    }
   ],
   "source": [
    "packet_pairs"
   ]
  },
  {
   "cell_type": "code",
   "execution_count": 335,
   "id": "89bf7c85-56cb-455f-9dcf-ef9df53e7ad3",
   "metadata": {},
   "outputs": [],
   "source": [
    "packet_pairs = [(eval(left), eval(right)) for left, right in packet_pairs]"
   ]
  },
  {
   "cell_type": "code",
   "execution_count": 336,
   "id": "f4826f00-4c81-4bed-9688-3924dada8041",
   "metadata": {},
   "outputs": [
    {
     "data": {
      "text/plain": [
       "[([1, 1, 3, 1, 1], [1, 1, 5, 1, 1]),\n",
       " ([[1], [2, 3, 4]], [[1], 4]),\n",
       " ([9], [[8, 7, 6]]),\n",
       " ([[4, 4], 4, 4], [[4, 4], 4, 4, 4]),\n",
       " ([7, 7, 7, 7], [7, 7, 7]),\n",
       " ([], [3]),\n",
       " ([[[]]], [[]]),\n",
       " ([1, [2, [3, [4, [5, 6, 7]]]], 8, 9], [1, [2, [3, [4, [5, 6, 0]]]], 8, 9])]"
      ]
     },
     "execution_count": 336,
     "metadata": {},
     "output_type": "execute_result"
    }
   ],
   "source": [
    "packet_pairs"
   ]
  },
  {
   "cell_type": "code",
   "execution_count": 337,
   "id": "0ced14c4-64c0-4b53-b351-3da50a1ce88a",
   "metadata": {},
   "outputs": [],
   "source": [
    "unzipped_packet_pairs = list(zip(*packet_pairs))"
   ]
  },
  {
   "cell_type": "code",
   "execution_count": 338,
   "id": "38791b3c-0b61-47ad-a655-a3b09a24072a",
   "metadata": {},
   "outputs": [],
   "source": [
    "packets = list(unzipped_packet_pairs[0]) + list(unzipped_packet_pairs[1])"
   ]
  },
  {
   "cell_type": "code",
   "execution_count": 339,
   "id": "ed0da289-d0c4-420c-a520-eb3b4da40f51",
   "metadata": {},
   "outputs": [],
   "source": [
    "packets.extend([[[2]], [[6]]])"
   ]
  },
  {
   "cell_type": "code",
   "execution_count": 340,
   "id": "90bbfd4c-683c-4590-aa38-9509325afadf",
   "metadata": {},
   "outputs": [
    {
     "data": {
      "text/plain": [
       "[[1, 1, 3, 1, 1],\n",
       " [[1], [2, 3, 4]],\n",
       " [9],\n",
       " [[4, 4], 4, 4],\n",
       " [7, 7, 7, 7],\n",
       " [],\n",
       " [[[]]],\n",
       " [1, [2, [3, [4, [5, 6, 7]]]], 8, 9],\n",
       " [1, 1, 5, 1, 1],\n",
       " [[1], 4],\n",
       " [[8, 7, 6]],\n",
       " [[4, 4], 4, 4, 4],\n",
       " [7, 7, 7],\n",
       " [3],\n",
       " [[]],\n",
       " [1, [2, [3, [4, [5, 6, 0]]]], 8, 9],\n",
       " [[2]],\n",
       " [[6]]]"
      ]
     },
     "execution_count": 340,
     "metadata": {},
     "output_type": "execute_result"
    }
   ],
   "source": [
    "packets"
   ]
  },
  {
   "cell_type": "code",
   "execution_count": 341,
   "id": "a23b8ec9-dd04-43ba-a3c1-cedea5779d69",
   "metadata": {},
   "outputs": [],
   "source": [
    "# https://docs.python.org/3/howto/sorting.html\n",
    "from functools import cmp_to_key, partial"
   ]
  },
  {
   "cell_type": "code",
   "execution_count": 342,
   "id": "520af46e-35fd-4793-9eea-440549bf10b3",
   "metadata": {},
   "outputs": [],
   "source": [
    "def is_left_smaller(left_int_or_list, right_int_or_list, debug=True):\n",
    "    if debug: print(f'{left_int_or_list} vs {right_int_or_list}')\n",
    "    \n",
    "    # One is int but not the other\n",
    "    if isinstance(left_int_or_list, int) and not isinstance(right_int_or_list, int):\n",
    "        left_int_or_list = [left_int_or_list]\n",
    "        if debug: print(f'{left_int_or_list} vs {right_int_or_list}')\n",
    "    if isinstance(right_int_or_list, int) and not isinstance(left_int_or_list, int):\n",
    "        right_int_or_list = [right_int_or_list]\n",
    "        if debug: print(f'{left_int_or_list} vs {right_int_or_list}')\n",
    "    \n",
    "    # Both are ints\n",
    "    if isinstance(left_int_or_list, int) and isinstance(right_int_or_list, int):\n",
    "        if left_int_or_list == right_int_or_list:\n",
    "            return 0\n",
    "        else: \n",
    "            return -1 if left_int_or_list < right_int_or_list else 1\n",
    "    \n",
    "    # Both are lists\n",
    "    if len(left_int_or_list) == 0 and len(right_int_or_list) > 0: \n",
    "        return -1\n",
    "    elif len(left_int_or_list) > 0 and len(right_int_or_list) == 0:\n",
    "        return 1\n",
    "    else:\n",
    "        for i in range(max(len(left_int_or_list), len(right_int_or_list))):\n",
    "            try:\n",
    "                left_item = left_int_or_list[i]\n",
    "            except IndexError:\n",
    "                return -1\n",
    "            try:\n",
    "                right_item = right_int_or_list[i]\n",
    "            except IndexError:\n",
    "                return 1\n",
    "            result = is_left_smaller(left_item, right_item, debug=debug)\n",
    "            # print(f'{result} is None: {result is None}')\n",
    "            if result != 0:\n",
    "                return result\n",
    "        else:\n",
    "            return 0\n",
    "    "
   ]
  },
  {
   "cell_type": "code",
   "execution_count": 343,
   "id": "bdec2172-e449-4702-a224-cf2ca5b6accd",
   "metadata": {},
   "outputs": [
    {
     "name": "stdout",
     "output_type": "stream",
     "text": [
      "[[1], [2, 3, 4]] vs [1, 1, 3, 1, 1]\n",
      "[1] vs 1\n",
      "[1] vs [1]\n",
      "1 vs 1\n",
      "[2, 3, 4] vs 1\n",
      "[2, 3, 4] vs [1]\n",
      "2 vs 1\n"
     ]
    },
    {
     "data": {
      "text/plain": [
       "1"
      ]
     },
     "execution_count": 343,
     "metadata": {},
     "output_type": "execute_result"
    }
   ],
   "source": [
    "is_left_smaller([[1], [2, 3, 4]], [1, 1, 3, 1, 1], debug=True)"
   ]
  },
  {
   "cell_type": "code",
   "execution_count": 344,
   "id": "bfb67134-6d62-4c42-b74f-416fd0fd649b",
   "metadata": {},
   "outputs": [],
   "source": [
    "sorted_packets = sorted(packets, key=cmp_to_key(partial(is_left_smaller, debug=False)))"
   ]
  },
  {
   "cell_type": "code",
   "execution_count": 345,
   "id": "56dbece9-330d-4006-a210-4a6b84a93c01",
   "metadata": {},
   "outputs": [
    {
     "data": {
      "text/plain": [
       "[[],\n",
       " [[]],\n",
       " [[[]]],\n",
       " [1, 1, 3, 1, 1],\n",
       " [1, 1, 5, 1, 1],\n",
       " [[1], [2, 3, 4]],\n",
       " [1, [2, [3, [4, [5, 6, 0]]]], 8, 9],\n",
       " [1, [2, [3, [4, [5, 6, 7]]]], 8, 9],\n",
       " [[1], 4],\n",
       " [[2]],\n",
       " [3],\n",
       " [[4, 4], 4, 4],\n",
       " [[4, 4], 4, 4, 4],\n",
       " [[6]],\n",
       " [7, 7, 7],\n",
       " [7, 7, 7, 7],\n",
       " [[8, 7, 6]],\n",
       " [9]]"
      ]
     },
     "execution_count": 345,
     "metadata": {},
     "output_type": "execute_result"
    }
   ],
   "source": [
    "sorted_packets"
   ]
  },
  {
   "cell_type": "code",
   "execution_count": 346,
   "id": "de4277e5-159b-425b-886d-75720f61834b",
   "metadata": {},
   "outputs": [
    {
     "data": {
      "text/plain": [
       "140"
      ]
     },
     "execution_count": 346,
     "metadata": {},
     "output_type": "execute_result"
    }
   ],
   "source": [
    "(sorted_packets.index([[2]]) + 1) * (sorted_packets.index([[6]]) + 1)"
   ]
  },
  {
   "cell_type": "markdown",
   "id": "a5e9ec01-4541-4a8f-a7cc-54da8624fd00",
   "metadata": {},
   "source": [
    "#### Apply to puzzle input"
   ]
  },
  {
   "cell_type": "code",
   "execution_count": 347,
   "id": "1f3e9b9a-f08a-4f51-8962-b03d8297d188",
   "metadata": {},
   "outputs": [],
   "source": [
    "packet_pairs_str = [line.strip() for line in open('data/input_d13_01.txt', 'r')]"
   ]
  },
  {
   "cell_type": "code",
   "execution_count": 348,
   "id": "a4dfd4e6-25dc-49eb-a409-64cea836cead",
   "metadata": {},
   "outputs": [
    {
     "data": {
      "text/plain": [
       "['',\n",
       " '[[[[8,6,3,1,2]],[[0,0,1,10],8],8,0],[0,1,7],[9,[[1,1]]]]',\n",
       " '[[[[8,9,6,9,3]]],[],[1],[8,2,0]]']"
      ]
     },
     "execution_count": 348,
     "metadata": {},
     "output_type": "execute_result"
    }
   ],
   "source": [
    "packet_pairs_str[-3:]"
   ]
  },
  {
   "cell_type": "code",
   "execution_count": 349,
   "id": "34fcffa6-dfd0-4b35-b660-2c9f41d234eb",
   "metadata": {},
   "outputs": [],
   "source": [
    "packet_pairs = [(packet_pairs_str[i], packet_pairs_str[i+1]) for i in range(0, len(packet_pairs_str), 3)]"
   ]
  },
  {
   "cell_type": "code",
   "execution_count": 350,
   "id": "262624f8-659c-4793-98cc-5b01ce3b10f4",
   "metadata": {},
   "outputs": [
    {
     "data": {
      "text/plain": [
       "('[[[[8,6,3,1,2]],[[0,0,1,10],8],8,0],[0,1,7],[9,[[1,1]]]]',\n",
       " '[[[[8,9,6,9,3]]],[],[1],[8,2,0]]')"
      ]
     },
     "execution_count": 350,
     "metadata": {},
     "output_type": "execute_result"
    }
   ],
   "source": [
    "packet_pairs[-1]"
   ]
  },
  {
   "cell_type": "code",
   "execution_count": 351,
   "id": "6e11fcbf-0726-41c8-a059-2f635f5e5dd4",
   "metadata": {},
   "outputs": [],
   "source": [
    "packet_pairs = [(eval(left), eval(right)) for left, right in packet_pairs]"
   ]
  },
  {
   "cell_type": "code",
   "execution_count": 352,
   "id": "a0344db8-4274-4ad6-abd8-bb041979c5b7",
   "metadata": {},
   "outputs": [],
   "source": [
    "unzipped_packet_pairs = list(zip(*packet_pairs))"
   ]
  },
  {
   "cell_type": "code",
   "execution_count": 353,
   "id": "3efb26cb-0835-4a19-9d73-53cccddf8eb6",
   "metadata": {},
   "outputs": [],
   "source": [
    "packets = list(unzipped_packet_pairs[0]) + list(unzipped_packet_pairs[1])"
   ]
  },
  {
   "cell_type": "code",
   "execution_count": 354,
   "id": "62a21ee5-e2a8-4ac2-a693-d0200da700cb",
   "metadata": {},
   "outputs": [
    {
     "data": {
      "text/plain": [
       "300"
      ]
     },
     "execution_count": 354,
     "metadata": {},
     "output_type": "execute_result"
    }
   ],
   "source": [
    "len(packets)"
   ]
  },
  {
   "cell_type": "code",
   "execution_count": 355,
   "id": "538e1517-eac2-4ce5-8101-470ef608c0c3",
   "metadata": {},
   "outputs": [],
   "source": [
    "packets.extend([[[2]], [[6]]])"
   ]
  },
  {
   "cell_type": "code",
   "execution_count": 356,
   "id": "6a26f292-fcc6-49a5-a677-8b938aa81bf5",
   "metadata": {},
   "outputs": [],
   "source": [
    "sorted_packets = sorted(packets, key=cmp_to_key(partial(is_left_smaller, debug=False)))"
   ]
  },
  {
   "cell_type": "code",
   "execution_count": 357,
   "id": "aa47f7e0-acd6-4411-9142-8a2aa5c8a958",
   "metadata": {},
   "outputs": [
    {
     "data": {
      "text/plain": [
       "21922"
      ]
     },
     "execution_count": 357,
     "metadata": {},
     "output_type": "execute_result"
    }
   ],
   "source": [
    "(sorted_packets.index([[2]]) + 1) * (sorted_packets.index([[6]]) + 1)"
   ]
  },
  {
   "cell_type": "markdown",
   "id": "6a0f4e3b-114c-4f3a-b63f-97cdb5f8cb2e",
   "metadata": {},
   "source": [
    "## Day 14"
   ]
  },
  {
   "cell_type": "markdown",
   "id": "d813118b-f9a5-485f-9d5d-b110dd2bba7f",
   "metadata": {
    "tags": []
   },
   "source": [
    "### Part 1"
   ]
  },
  {
   "cell_type": "markdown",
   "id": "fdea347a-59c8-418c-8c12-1230dd58bd22",
   "metadata": {},
   "source": [
    "#### Use example puzzle input"
   ]
  },
  {
   "cell_type": "code",
   "execution_count": 358,
   "id": "24e8c6b3-6166-4e56-8794-4e7b919c5603",
   "metadata": {},
   "outputs": [],
   "source": [
    "rock_scan_str = \"\"\"498,4 -> 498,6 -> 496,6\n",
    "503,4 -> 502,4 -> 502,9 -> 494,9\"\"\""
   ]
  },
  {
   "cell_type": "code",
   "execution_count": 359,
   "id": "634949a0-e120-424c-9d16-d3f8cbdf2fec",
   "metadata": {},
   "outputs": [
    {
     "data": {
      "text/plain": [
       "['498,4 -> 498,6 -> 496,6', '503,4 -> 502,4 -> 502,9 -> 494,9']"
      ]
     },
     "execution_count": 359,
     "metadata": {},
     "output_type": "execute_result"
    }
   ],
   "source": [
    "rock_scan = rock_scan_str.split('\\n')\n",
    "rock_scan"
   ]
  },
  {
   "cell_type": "code",
   "execution_count": 360,
   "id": "ec4ee937-414c-49f2-a8d1-97784f19fd38",
   "metadata": {},
   "outputs": [
    {
     "data": {
      "text/plain": [
       "[['498,4', '498,6', '496,6'], ['503,4', '502,4', '502,9', '494,9']]"
      ]
     },
     "execution_count": 360,
     "metadata": {},
     "output_type": "execute_result"
    }
   ],
   "source": [
    "rock_scan = [rock_wall.split(' -> ') for rock_wall in rock_scan]\n",
    "rock_scan"
   ]
  },
  {
   "cell_type": "code",
   "execution_count": 361,
   "id": "7b4ed750-945b-477d-9c15-480496ed4726",
   "metadata": {},
   "outputs": [
    {
     "data": {
      "text/plain": [
       "[[(498, 4), (498, 6), (496, 6)], [(503, 4), (502, 4), (502, 9), (494, 9)]]"
      ]
     },
     "execution_count": 361,
     "metadata": {},
     "output_type": "execute_result"
    }
   ],
   "source": [
    "rock_scan = [[(int(rock_corner.split(',')[0]), int(rock_corner.split(',')[1]))  for rock_corner in rock_wall] for rock_wall in rock_scan]\n",
    "rock_scan"
   ]
  },
  {
   "cell_type": "code",
   "execution_count": 362,
   "id": "63d0cdc5-4e41-4f60-949d-ed05d05ed76e",
   "metadata": {},
   "outputs": [],
   "source": [
    "def create_rock_wall(rock_corners):\n",
    "    global cave\n",
    "    \n",
    "    for i in range(len(rock_corners)-1):\n",
    "        start_x, start_y = rock_corners[i]\n",
    "        end_x, end_y = rock_corners[i+1]\n",
    "        min_x = min(start_x, end_x)\n",
    "        max_x = max(start_x, end_x)\n",
    "        min_y = min(start_y, end_y)\n",
    "        max_y = max(start_y, end_y)\n",
    "        \n",
    "        if min_x == max_x:\n",
    "            for y in range(min_y, max_y + 1):\n",
    "                cave[min_x, y] = '#'\n",
    "        elif min_y == max_y:\n",
    "            for x in range(min_x, max_x + 1):\n",
    "                cave[x, min_y] = '#'\n",
    "        else:\n",
    "            raise ValueError('Diagonal wall segment')\n",
    "        "
   ]
  },
  {
   "cell_type": "code",
   "execution_count": 363,
   "id": "cebec35d-265b-40a4-8655-dc1d1b8d41d5",
   "metadata": {},
   "outputs": [],
   "source": [
    "from collections import defaultdict"
   ]
  },
  {
   "cell_type": "code",
   "execution_count": 364,
   "id": "cf7232a3-7962-4bf5-be82-93309fa4c308",
   "metadata": {},
   "outputs": [],
   "source": [
    "cave = defaultdict(lambda: None)\n",
    "for rock_corners in rock_scan:\n",
    "    create_rock_wall(rock_corners)"
   ]
  },
  {
   "cell_type": "code",
   "execution_count": 365,
   "id": "30adf52e-a152-4528-8838-aad95d5d78d3",
   "metadata": {},
   "outputs": [
    {
     "data": {
      "text/plain": [
       "defaultdict(<function __main__.<lambda>()>,\n",
       "            {(498, 4): '#',\n",
       "             (498, 5): '#',\n",
       "             (498, 6): '#',\n",
       "             (496, 6): '#',\n",
       "             (497, 6): '#',\n",
       "             (502, 4): '#',\n",
       "             (503, 4): '#',\n",
       "             (502, 5): '#',\n",
       "             (502, 6): '#',\n",
       "             (502, 7): '#',\n",
       "             (502, 8): '#',\n",
       "             (502, 9): '#',\n",
       "             (494, 9): '#',\n",
       "             (495, 9): '#',\n",
       "             (496, 9): '#',\n",
       "             (497, 9): '#',\n",
       "             (498, 9): '#',\n",
       "             (499, 9): '#',\n",
       "             (500, 9): '#',\n",
       "             (501, 9): '#'})"
      ]
     },
     "execution_count": 365,
     "metadata": {},
     "output_type": "execute_result"
    }
   ],
   "source": [
    "cave"
   ]
  },
  {
   "cell_type": "code",
   "execution_count": 366,
   "id": "566ad31d-aef9-4448-aa86-0a7147c6c069",
   "metadata": {},
   "outputs": [],
   "source": [
    "def get_cave_boundaries():\n",
    "    global cave\n",
    "    x_vals, y_vals = zip(*cave.keys())\n",
    "    return max(x_vals), min(x_vals), max(y_vals), min(y_vals)"
   ]
  },
  {
   "cell_type": "code",
   "execution_count": 367,
   "id": "b8aac521-6a2e-48e7-b2cb-4927ba624b41",
   "metadata": {},
   "outputs": [
    {
     "data": {
      "text/plain": [
       "(503, 494, 9, 4)"
      ]
     },
     "execution_count": 367,
     "metadata": {},
     "output_type": "execute_result"
    }
   ],
   "source": [
    "max_x, min_x, max_y, min_y = get_cave_boundaries()\n",
    "max_x, min_x, max_y, min_y"
   ]
  },
  {
   "cell_type": "code",
   "execution_count": 368,
   "id": "8cc03d9d-8f91-4ae5-849e-18c30bc63bdd",
   "metadata": {},
   "outputs": [],
   "source": [
    "def print_cave():\n",
    "    global cave\n",
    "\n",
    "    val_to_str_map = {'#': ' #', None: ' .', \"o\": \" o\"}\n",
    "    for y in range(0, max_y + 1):\n",
    "        line_str = f'{y:<2}'\n",
    "        for x in range(min_x, max_x + 1):\n",
    "            line_str += val_to_str_map[cave[x, y]]\n",
    "        print(line_str)"
   ]
  },
  {
   "cell_type": "code",
   "execution_count": 369,
   "id": "a64bc9b4-4610-4c8b-bd6b-d573bb259be6",
   "metadata": {},
   "outputs": [
    {
     "name": "stdout",
     "output_type": "stream",
     "text": [
      "0  . . . . . . . . . .\n",
      "1  . . . . . . . . . .\n",
      "2  . . . . . . . . . .\n",
      "3  . . . . . . . . . .\n",
      "4  . . . . # . . . # #\n",
      "5  . . . . # . . . # .\n",
      "6  . . # # # . . . # .\n",
      "7  . . . . . . . . # .\n",
      "8  . . . . . . . . # .\n",
      "9  # # # # # # # # # .\n"
     ]
    }
   ],
   "source": [
    "print_cave()"
   ]
  },
  {
   "cell_type": "code",
   "execution_count": 370,
   "id": "fafe6869-d7ea-4d0d-9139-20d9dcac3ea9",
   "metadata": {},
   "outputs": [],
   "source": [
    "from dataclasses import dataclass, field\n",
    "from typing import Tuple"
   ]
  },
  {
   "cell_type": "code",
   "execution_count": 371,
   "id": "e13adef2-3e8a-4db2-b3d7-f506dbc9d949",
   "metadata": {},
   "outputs": [],
   "source": [
    "class MoveBlocked(Exception):\n",
    "    pass\n",
    "\n",
    "@dataclass\n",
    "class Sand:\n",
    "    position: Tuple[int, int]\n",
    "    cave: dict\n",
    "    is_at_rest: bool = False\n",
    "    is_in_abyss: bool = False\n",
    "    cave_height: int = field(default_factory=lambda cave=cave: max([y for (x, y), value in cave.items() if value == '#']))\n",
    "    \n",
    "    def update(self):\n",
    "        if not (self.is_at_rest or self.is_in_abyss):\n",
    "            self.move_down()\n",
    "            self.check_if_in_abyss()\n",
    "    \n",
    "    def check_if_in_abyss(self):\n",
    "        x, y = self.position\n",
    "        if y > self.cave_height:\n",
    "            self.is_in_abyss = True\n",
    "    \n",
    "    def move_down(self):\n",
    "        x, y = self.position\n",
    "        for new_position in [(x, y+1), (x-1, y+1), (x+1, y+1)]:\n",
    "            try:\n",
    "                if self.move(new_position):\n",
    "                    break\n",
    "            except MoveBlocked:\n",
    "                pass\n",
    "        else:\n",
    "            self.is_at_rest = True\n",
    "    \n",
    "    def move(self, new_position):\n",
    "        if cave[new_position] is None:  # Space is available\n",
    "            cave[self.position] = None\n",
    "            cave[new_position] = 'o'\n",
    "            self.position = new_position\n",
    "            return True\n",
    "        else:\n",
    "            raise MoveBlocked"
   ]
  },
  {
   "cell_type": "code",
   "execution_count": 372,
   "id": "a3bc8331-1a8c-414a-88d2-0a0f6fecd444",
   "metadata": {},
   "outputs": [
    {
     "name": "stdout",
     "output_type": "stream",
     "text": [
      "0  . . . . . . . . . .\n",
      "1  . . . . . . . . . .\n",
      "2  . . . . . . . . . .\n",
      "3  . . . . . . . . . .\n",
      "4  . . . . # . . . # #\n",
      "5  . . . . # . . . # .\n",
      "6  . . # # # . . . # .\n",
      "7  . . . . . . . . # .\n",
      "8  . . . . . . . . # .\n",
      "9  # # # # # # # # # .\n"
     ]
    }
   ],
   "source": [
    "print_cave()"
   ]
  },
  {
   "cell_type": "code",
   "execution_count": 373,
   "id": "fa22e956-e239-4d8d-8d73-6f7af86d72c3",
   "metadata": {},
   "outputs": [],
   "source": [
    "sand_pile = []"
   ]
  },
  {
   "cell_type": "code",
   "execution_count": 374,
   "id": "6cb3a3e5-0b63-41af-9cbc-7959059f630b",
   "metadata": {},
   "outputs": [],
   "source": [
    "start_position = (500, -1)"
   ]
  },
  {
   "cell_type": "code",
   "execution_count": 375,
   "id": "4fab9b26-4e21-416b-bde1-84f7df621904",
   "metadata": {},
   "outputs": [],
   "source": [
    "sand_pile.append(Sand(start_position, cave))"
   ]
  },
  {
   "cell_type": "code",
   "execution_count": 376,
   "id": "9079765f-d931-4ae5-b437-5522aee5fb1d",
   "metadata": {},
   "outputs": [],
   "source": [
    "sand_pile[0].update()"
   ]
  },
  {
   "cell_type": "code",
   "execution_count": 377,
   "id": "b75dc2d0-8299-4b79-a23a-1fa22ae1dce0",
   "metadata": {},
   "outputs": [
    {
     "name": "stdout",
     "output_type": "stream",
     "text": [
      "0  . . . . . . o . . .\n",
      "1  . . . . . . . . . .\n",
      "2  . . . . . . . . . .\n",
      "3  . . . . . . . . . .\n",
      "4  . . . . # . . . # #\n",
      "5  . . . . # . . . # .\n",
      "6  . . # # # . . . # .\n",
      "7  . . . . . . . . # .\n",
      "8  . . . . . . . . # .\n",
      "9  # # # # # # # # # .\n"
     ]
    }
   ],
   "source": [
    "print_cave()"
   ]
  },
  {
   "cell_type": "code",
   "execution_count": 378,
   "id": "775ac689-faab-4dc7-83dc-00ae96f93d49",
   "metadata": {},
   "outputs": [],
   "source": [
    "for sand in sand_pile:\n",
    "    sand.update()"
   ]
  },
  {
   "cell_type": "code",
   "execution_count": 379,
   "id": "55c80c03-96aa-460a-b3d2-96da6b359093",
   "metadata": {},
   "outputs": [
    {
     "name": "stdout",
     "output_type": "stream",
     "text": [
      "0  . . . . . . . . . .\n",
      "1  . . . . . . o . . .\n",
      "2  . . . . . . . . . .\n",
      "3  . . . . . . . . . .\n",
      "4  . . . . # . . . # #\n",
      "5  . . . . # . . . # .\n",
      "6  . . # # # . . . # .\n",
      "7  . . . . . . . . # .\n",
      "8  . . . . . . . . # .\n",
      "9  # # # # # # # # # .\n"
     ]
    }
   ],
   "source": [
    "print_cave()"
   ]
  },
  {
   "cell_type": "code",
   "execution_count": 380,
   "id": "42c8fd74-3054-44dd-9a60-06169cf5e3b4",
   "metadata": {},
   "outputs": [
    {
     "name": "stdout",
     "output_type": "stream",
     "text": [
      "0  . . . . . . . . . .\n",
      "1  . . . . . . . . . .\n",
      "2  . . . . . . . . . .\n",
      "3  . . . . . . . . . .\n",
      "4  . . . . # . . . # #\n",
      "5  . . . . # . . . # .\n",
      "6  . . # # # . . . # .\n",
      "7  . . . . . . . . # .\n",
      "8  . . . . . . o . # .\n",
      "9  # # # # # # # # # .\n"
     ]
    }
   ],
   "source": [
    "for i in range(7):\n",
    "    for sand in sand_pile:\n",
    "        sand.update()\n",
    "\n",
    "print_cave()"
   ]
  },
  {
   "cell_type": "code",
   "execution_count": 381,
   "id": "e25b3c84-34c0-4e7e-bff9-7e20bc130077",
   "metadata": {},
   "outputs": [
    {
     "data": {
      "text/plain": [
       "False"
      ]
     },
     "execution_count": 381,
     "metadata": {},
     "output_type": "execute_result"
    }
   ],
   "source": [
    "sand_pile[0].is_at_rest"
   ]
  },
  {
   "cell_type": "code",
   "execution_count": 382,
   "id": "6a55353b-65f6-4c6d-beb7-033ab5a6ede7",
   "metadata": {},
   "outputs": [
    {
     "name": "stdout",
     "output_type": "stream",
     "text": [
      "0  . . . . . . . . . .\n",
      "1  . . . . . . . . . .\n",
      "2  . . . . . . . . . .\n",
      "3  . . . . . . . . . .\n",
      "4  . . . . # . . . # #\n",
      "5  . . . . # . . . # .\n",
      "6  . . # # # . . . # .\n",
      "7  . . . . . . . . # .\n",
      "8  . . . . . . o . # .\n",
      "9  # # # # # # # # # .\n"
     ]
    }
   ],
   "source": [
    "for sand in sand_pile:\n",
    "    sand.update()\n",
    "\n",
    "print_cave()"
   ]
  },
  {
   "cell_type": "code",
   "execution_count": 383,
   "id": "717738f7-1a44-442a-a387-413d95a69510",
   "metadata": {},
   "outputs": [
    {
     "data": {
      "text/plain": [
       "(True, False)"
      ]
     },
     "execution_count": 383,
     "metadata": {},
     "output_type": "execute_result"
    }
   ],
   "source": [
    "sand_pile[0].is_at_rest, sand_pile[0].is_in_abyss"
   ]
  },
  {
   "cell_type": "code",
   "execution_count": 384,
   "id": "b41b0838-8dd6-4fb3-8f85-3687c3680d01",
   "metadata": {},
   "outputs": [],
   "source": [
    "sand_pile.append(Sand(start_position, cave))"
   ]
  },
  {
   "cell_type": "code",
   "execution_count": 385,
   "id": "40f1fa06-5ddf-4cd0-9f8b-9f0f685c990d",
   "metadata": {},
   "outputs": [
    {
     "name": "stdout",
     "output_type": "stream",
     "text": [
      "0  . . . . . . o . . .\n",
      "1  . . . . . . . . . .\n",
      "2  . . . . . . . . . .\n",
      "3  . . . . . . . . . .\n",
      "4  . . . . # . . . # #\n",
      "5  . . . . # . . . # .\n",
      "6  . . # # # . . . # .\n",
      "7  . . . . . . . . # .\n",
      "8  . . . . . . o . # .\n",
      "9  # # # # # # # # # .\n"
     ]
    }
   ],
   "source": [
    "for sand in sand_pile:\n",
    "    sand.update()\n",
    "\n",
    "print_cave()"
   ]
  },
  {
   "cell_type": "code",
   "execution_count": 386,
   "id": "19de8fdb-64a7-4fdb-967b-79111b5c8c85",
   "metadata": {},
   "outputs": [],
   "source": [
    "def update(debug=False):\n",
    "    global sand_pile  #, start_position, cave\n",
    "    \n",
    "    for sand in sand_pile:\n",
    "        sand.update()\n",
    "        \n",
    "    # Add new stand of no sand, or sand is at rest\n",
    "    if len(sand_pile) == 0 or all([sand.is_at_rest for sand in sand_pile]):\n",
    "        sand_pile.append(Sand(start_position, cave))\n",
    "        \n",
    "    if debug: print_cave()"
   ]
  },
  {
   "cell_type": "code",
   "execution_count": 387,
   "id": "61a09040-b512-4e7f-bc41-d6da3a0e992a",
   "metadata": {},
   "outputs": [
    {
     "name": "stdout",
     "output_type": "stream",
     "text": [
      "0  . . . . . . . . . .\n",
      "1  . . . . . . o . . .\n",
      "2  . . . . . . . . . .\n",
      "3  . . . . . . . . . .\n",
      "4  . . . . # . . . # #\n",
      "5  . . . . # . . . # .\n",
      "6  . . # # # . . . # .\n",
      "7  . . . . . . . . # .\n",
      "8  . . . . . . o . # .\n",
      "9  # # # # # # # # # .\n"
     ]
    }
   ],
   "source": [
    "update(debug=True)"
   ]
  },
  {
   "cell_type": "code",
   "execution_count": 388,
   "id": "35b673f1-3702-4034-a8d0-294b8c0ef0a6",
   "metadata": {},
   "outputs": [
    {
     "name": "stdout",
     "output_type": "stream",
     "text": [
      "0  . . . . . . . . . .\n",
      "1  . . . . . . . . . .\n",
      "2  . . . . . . o . . .\n",
      "3  . . . . . . . . . .\n",
      "4  . . . . # . . . # #\n",
      "5  . . . . # . . . # .\n",
      "6  . . # # # . . . # .\n",
      "7  . . . . . . . . # .\n",
      "8  . . . . . . o . # .\n",
      "9  # # # # # # # # # .\n"
     ]
    }
   ],
   "source": [
    "update(debug=True)"
   ]
  },
  {
   "cell_type": "code",
   "execution_count": 389,
   "id": "c9b72803-0f7a-4bb0-ba85-e7f66f899ad4",
   "metadata": {},
   "outputs": [],
   "source": [
    "while not any([sand.is_in_abyss for sand in sand_pile]):\n",
    "    update()"
   ]
  },
  {
   "cell_type": "code",
   "execution_count": 390,
   "id": "1a8bac03-aa2d-43c2-b1ee-de4704f6e06f",
   "metadata": {},
   "outputs": [
    {
     "name": "stdout",
     "output_type": "stream",
     "text": [
      "0  . . . . . . . . . .\n",
      "1  . . . . . . . . . .\n",
      "2  . . . . . . o . . .\n",
      "3  . . . . . o o o . .\n",
      "4  . . . . # o o o # #\n",
      "5  . . . o # o o o # .\n",
      "6  . . # # # o o o # .\n",
      "7  . . . . o o o o # .\n",
      "8  . o . o o o o o # .\n",
      "9  # # # # # # # # # .\n"
     ]
    }
   ],
   "source": [
    "print_cave()"
   ]
  },
  {
   "cell_type": "code",
   "execution_count": 391,
   "id": "8da25226-2254-40d8-9202-baea18acf623",
   "metadata": {},
   "outputs": [
    {
     "data": {
      "text/plain": [
       "[False, False, True]"
      ]
     },
     "execution_count": 391,
     "metadata": {},
     "output_type": "execute_result"
    }
   ],
   "source": [
    "[sand.is_in_abyss for sand in sand_pile][-3:]"
   ]
  },
  {
   "cell_type": "code",
   "execution_count": 392,
   "id": "37111d6c-aada-428c-86fc-e9aa5a58ee7c",
   "metadata": {},
   "outputs": [
    {
     "data": {
      "text/plain": [
       "24"
      ]
     },
     "execution_count": 392,
     "metadata": {},
     "output_type": "execute_result"
    }
   ],
   "source": [
    "len([sand.is_in_abyss for sand in sand_pile if not sand.is_in_abyss])"
   ]
  },
  {
   "cell_type": "markdown",
   "id": "95f612a3-a797-4aab-bef5-459856539b8a",
   "metadata": {},
   "source": [
    "#### Use puzzle input"
   ]
  },
  {
   "cell_type": "code",
   "execution_count": 393,
   "id": "98032fed-133e-4396-9bbc-70630587cca0",
   "metadata": {},
   "outputs": [],
   "source": [
    "rock_scan_str = [line.strip() for line in open('data/input_d14_01.txt', 'r')]"
   ]
  },
  {
   "cell_type": "code",
   "execution_count": 394,
   "id": "39e9c24d-2d21-463c-8c23-58cbdb8357b4",
   "metadata": {},
   "outputs": [
    {
     "data": {
      "text/plain": [
       "['492,147 -> 492,138 -> 492,147 -> 494,147 -> 494,140 -> 494,147 -> 496,147 -> 496,138 -> 496,147 -> 498,147 -> 498,143 -> 498,147 -> 500,147 -> 500,137 -> 500,147 -> 502,147 -> 502,137 -> 502,147 -> 504,147 -> 504,146 -> 504,147 -> 506,147 -> 506,145 -> 506,147 -> 508,147 -> 508,138 -> 508,147 -> 510,147 -> 510,143 -> 510,147',\n",
       " '518,85 -> 523,85',\n",
       " '492,147 -> 492,138 -> 492,147 -> 494,147 -> 494,140 -> 494,147 -> 496,147 -> 496,138 -> 496,147 -> 498,147 -> 498,143 -> 498,147 -> 500,147 -> 500,137 -> 500,147 -> 502,147 -> 502,137 -> 502,147 -> 504,147 -> 504,146 -> 504,147 -> 506,147 -> 506,145 -> 506,147 -> 508,147 -> 508,138 -> 508,147 -> 510,147 -> 510,143 -> 510,147']"
      ]
     },
     "execution_count": 394,
     "metadata": {},
     "output_type": "execute_result"
    }
   ],
   "source": [
    "rock_scan_str[-3:]"
   ]
  },
  {
   "cell_type": "code",
   "execution_count": 395,
   "id": "0637a5af-1fc1-4dd8-b5a6-7b55c58b2587",
   "metadata": {},
   "outputs": [],
   "source": [
    "rock_scan = [rock_wall.split(' -> ') for rock_wall in rock_scan_str]"
   ]
  },
  {
   "cell_type": "code",
   "execution_count": 396,
   "id": "70a8beb9-871d-4b8b-8b91-bcb8e56ba016",
   "metadata": {},
   "outputs": [],
   "source": [
    "rock_scan = [[(int(rock_corner.split(',')[0]), int(rock_corner.split(',')[1]))  for rock_corner in rock_wall] for rock_wall in rock_scan]"
   ]
  },
  {
   "cell_type": "code",
   "execution_count": 397,
   "id": "ad7887f1-ed86-477f-bcb0-7842280c245b",
   "metadata": {},
   "outputs": [],
   "source": [
    "def create_rock_wall(rock_corners):\n",
    "    global cave\n",
    "    \n",
    "    for i in range(len(rock_corners)-1):\n",
    "        start_x, start_y = rock_corners[i]\n",
    "        end_x, end_y = rock_corners[i+1]\n",
    "        min_x = min(start_x, end_x)\n",
    "        max_x = max(start_x, end_x)\n",
    "        min_y = min(start_y, end_y)\n",
    "        max_y = max(start_y, end_y)\n",
    "        \n",
    "        if min_x == max_x:\n",
    "            for y in range(min_y, max_y + 1):\n",
    "                cave[min_x, y] = '#'\n",
    "        elif min_y == max_y:\n",
    "            for x in range(min_x, max_x + 1):\n",
    "                cave[x, min_y] = '#'\n",
    "        else:\n",
    "            raise ValueError('Diagonal wall segment')\n",
    "        "
   ]
  },
  {
   "cell_type": "code",
   "execution_count": 398,
   "id": "2f0da20b-b8fa-4c20-84ad-49e6c1f21f5d",
   "metadata": {},
   "outputs": [],
   "source": [
    "from collections import defaultdict"
   ]
  },
  {
   "cell_type": "code",
   "execution_count": 399,
   "id": "616956a5-f767-47b7-9214-1bc6c2733e66",
   "metadata": {},
   "outputs": [],
   "source": [
    "cave = defaultdict(lambda: None)\n",
    "for rock_corners in rock_scan:\n",
    "    create_rock_wall(rock_corners)"
   ]
  },
  {
   "cell_type": "code",
   "execution_count": 400,
   "id": "a500b5eb-94bc-44ae-9e51-39fcb03381cf",
   "metadata": {},
   "outputs": [],
   "source": [
    "def get_cave_boundaries():\n",
    "    global cave\n",
    "    x_vals, y_vals = zip(*cave.keys())\n",
    "    return max(x_vals), min(x_vals), max(y_vals), min(y_vals)"
   ]
  },
  {
   "cell_type": "code",
   "execution_count": 401,
   "id": "cc6a518b-9e3f-4862-aaf3-7c66ba990455",
   "metadata": {},
   "outputs": [
    {
     "data": {
      "text/plain": [
       "(530, 473, 163, 13)"
      ]
     },
     "execution_count": 401,
     "metadata": {},
     "output_type": "execute_result"
    }
   ],
   "source": [
    "max_x, min_x, max_y, min_y = get_cave_boundaries()\n",
    "max_x, min_x, max_y, min_y"
   ]
  },
  {
   "cell_type": "code",
   "execution_count": 402,
   "id": "972698e7-4fdb-45df-815b-23bda76eb571",
   "metadata": {},
   "outputs": [],
   "source": [
    "def print_cave():\n",
    "    global cave\n",
    "\n",
    "    val_to_str_map = {'#': ' #', None: ' .', \"o\": \" o\"}\n",
    "    for y in range(0, max_y + 1):\n",
    "        line_str = f'{y:<2}'\n",
    "        for x in range(min_x, max_x + 1):\n",
    "            line_str += val_to_str_map[cave[x, y]]\n",
    "        print(line_str)"
   ]
  },
  {
   "cell_type": "code",
   "execution_count": 403,
   "id": "93a709d0-f854-42b1-ae30-cfce714e3ca4",
   "metadata": {},
   "outputs": [
    {
     "name": "stdout",
     "output_type": "stream",
     "text": [
      "0  . . . . . . . . . . . . . . . . . . . . . . . . . . . . . . . . . . . . . . . . . . . . . . . . . . . . . . . . . .\n",
      "1  . . . . . . . . . . . . . . . . . . . . . . . . . . . . . . . . . . . . . . . . . . . . . . . . . . . . . . . . . .\n",
      "2  . . . . . . . . . . . . . . . . . . . . . . . . . . . . . . . . . . . . . . . . . . . . . . . . . . . . . . . . . .\n",
      "3  . . . . . . . . . . . . . . . . . . . . . . . . . . . . . . . . . . . . . . . . . . . . . . . . . . . . . . . . . .\n",
      "4  . . . . . . . . . . . . . . . . . . . . . . . . . . . . . . . . . . . . . . . . . . . . . . . . . . . . . . . . . .\n",
      "5  . . . . . . . . . . . . . . . . . . . . . . . . . . . . . . . . . . . . . . . . . . . . . . . . . . . . . . . . . .\n",
      "6  . . . . . . . . . . . . . . . . . . . . . . . . . . . . . . . . . . . . . . . . . . . . . . . . . . . . . . . . . .\n",
      "7  . . . . . . . . . . . . . . . . . . . . . . . . . . . . . . . . . . . . . . . . . . . . . . . . . . . . . . . . . .\n",
      "8  . . . . . . . . . . . . . . . . . . . . . . . . . . . . . . . . . . . . . . . . . . . . . . . . . . . . . . . . . .\n",
      "9  . . . . . . . . . . . . . . . . . . . . . . . . . . . . . . . . . . . . . . . . . . . . . . . . . . . . . . . . . .\n",
      "10 . . . . . . . . . . . . . . . . . . . . . . . . . . . . . . . . . . . . . . . . . . . . . . . . . . . . . . . . . .\n",
      "11 . . . . . . . . . . . . . . . . . . . . . . . . . . . . . . . . . . . . . . . . . . . . . . . . . . . . . . . . . .\n",
      "12 . . . . . . . . . . . . . . . . . . . . . . . . . . . . . . . . . . . . . . . . . . . . . . . . . . . . . . . . . .\n",
      "13 . . . . . . . . . . . . . . . . . . . . . . . . . # # # # # . . . . . . . . . . . . . . . . . . . . . . . . . . . .\n",
      "14 . . . . . . . . . . . . . . . . . . . . . . . . . . . . . . . . . . . . . . . . . . . . . . . . . . . . . . . . . .\n",
      "15 . . . . . . . . . . . . . . . . . . . . . . # # # # # . # # # # # . . . . . . . . . . . . . . . . . . . . . . . . .\n",
      "16 . . . . . . . . . . . . . . . . . . . . . . . . . . . . . . . . . . . . . . . . . . . . . . . . . . . . . . . . . .\n",
      "17 . . . . . . . . . . . . . . . . . . . # # # # # . # # # # # . # # # # # . . . . . . . . . . . . . . . . . . . . . .\n",
      "18 . . . . . . . . . . . . . . . . . . . . . . . . . . . . . . . . . . . . . . . . . . . . . . . . . . . . . . . . . .\n",
      "19 . . . . . . . . . . . . . . . . # # # # # . # # # # # . # # # # # . # # # # # . . . . . . . . . . . . . . . . . . .\n",
      "20 . . . . . . . . . . . . . . . . . . . . . . . . . . . . . . . . . . . . . . . . . . . . . . . . . . . . . . . . . .\n",
      "21 . . . . . . . . . . . . . . . . . . . . . . . . . . . . . . . . . . . . . . . . . . . . . . . . . . . . . . . . . .\n",
      "22 . . . . . . . . . . . . # # # # # # . . . . . . . . . . . . . . . . . . . . . . . . . . . . . . . . . . . . . . . .\n",
      "23 . . . . . . . . . . . . . . . . . . . . . . . . . . . . . . . . . . . . . . . . . . . . . . . . . . . . . . . . . .\n",
      "24 . . . . . . . . . . . . . . . . . . . . . . . . . . . . . . . . . . . . . . . . . . . . . . . . . . . . . . . . . .\n",
      "25 . . . . . . . . . # # # # # # . # # # # # # . . . . . . . . . . . . . . . . . . . . . . . . . . . . . . . . . . . .\n",
      "26 . . . . . . . . . . . . . . . . . . . . . . . . . . . . . . . . . . . . . . . . . . . . . . . . . . . . . . . . . .\n",
      "27 . . . . . . . . . . . . . . . . . . . . . . . . . . . . . . . . . . . . . . . . . . . . . . . . . . . . . . . . . .\n",
      "28 . . . . . . # # # # # # . # # # # # # . # # # # # # . . . . . . . . . . . . . . . . . . . . . . . . . . . . . . . .\n",
      "29 . . . . . . . . . . . . . . . . . . . . . . . . . . . . . . . . . . . . . . . . . . . . . . . . . . . . . . . . . .\n",
      "30 . . . . . . . . . . . . . . . . . . . . . . . . . . . . . . . . . . . . . . . . . . . . . . . . . . . . . . . . . .\n",
      "31 . . . # # # # # # . # # # # # # . # # # # # # . # # # # # # . . . . . . . . . . . . . . . . . . . . . . . . . . . .\n",
      "32 . . . . . . . . . . . . . . . . . . . . . . . . . . . . . . . . . . . . . . . . . . . . . . . . . . . . . . . . . .\n",
      "33 . . . . . . . . . . . . . . . . . . . . . . . . . . . . . . . . . . . . . . . . . . . . . . . . . . . . . . . . . .\n",
      "34 # # # # # # . # # # # # # . # # # # # # . # # # # # # . # # # # # # . . . . . . . . . . . . . . . . . . . . . . . .\n",
      "35 . . . . . . . . . . . . . . . . . . . . . . . . . . . . . . . . . . . . . . . . . . . . . . . . . . . . . . . . . .\n",
      "36 . . . . . . . . . . . . . . . . . . . . . . . . . . . . . . . . . . . . . . . . . . . . . . . . . . . . . . . . . .\n",
      "37 . . . . . # . # . . . . . . . . . . . . . . . . . . . . . . . . . . . . . . . . . . . . . . . . . . . . . . . . . .\n",
      "38 . . . . . # . # . . . . . . . . . . . . . . . . . . . . . . . . . . . . . . . . . . . . . . . . . . . . . . . . . .\n",
      "39 . # # # # # . # # # # # # # # . . . . . . . . . . . . . . . . . . . . . . . . . . . . . . . . . . . . . . . . . . .\n",
      "40 . # . . . . . . . . . . . . # . . . . . . . . . . . . . . . . . . . . . . . . . . . . . . . . . . . . . . . . . . .\n",
      "41 . # . . . . . . . . . . . . # . . . . . . . . . . . . . . . . . . . . . . . . . . . . . . . . . . . . . . . . . . .\n",
      "42 . # . . . . . . . . . . . . # . . . . . . . . . . . . . . . . . . . . . . . . . . . . . . . . . . . . . . . . . . .\n",
      "43 . # # # # # # # # # # # # # # . . . . . . . . . . . . . . . . . . . . . . . . . . . . . . . . . . . . . . . . . . .\n",
      "44 . . . . . . . . . . . . . . . . . . . . . . . . . . . . . . . . . . . . . . . . . . . . . . . . . . . . . . . . . .\n",
      "45 . . . . . . . . . . . . . . . . . . . . . . . . . . . . . . . . . . . . . . . . . . . . . . . . . . . . . . . . . .\n",
      "46 . . . . . . . . . . . . . . . . . . . . . . . . . . . . . . . . . . . . . . . . . . . . . . . . . . . . . . . . . .\n",
      "47 . . . . . . . . . . . . . . . . . . . . . . . . . . . . . . . . . . . . . . . . . . . . . . . . . . . . . . . . . .\n",
      "48 . . . . . . . . . . . . . . . . . . . . . . . . . . . . . . . . . . . . . . . . . . . . . . . . . . . . . . . . . .\n",
      "49 . . . . . . . . . . . . . . . . . . . . . . . . . . . . . . . . . . . # . . . # . . . . . . . . . . . . . . . . . .\n",
      "50 . . . . . . . . . . . . . . . . . . . . . . . . . . . . . . . . . . . # . . . # . . . . . . . . . . . . . . . . . .\n",
      "51 . . . . . . . . . . . . . . . . . . . . . . . . . . . . . . . . . . . # . # . # . . . . . . . . . . . . . . . . . .\n",
      "52 . . . . . . . . . . . . . . . . . . . . . . . . . . . . . . . . . . . # . # . # . # . . . . . . . . . . . . . . . .\n",
      "53 . . . . . . . . . . . . . . . . . . . . . . . . . . . . . . . . . . . # . # . # . # . . . . . . . . . . . . . . . .\n",
      "54 . . . . . . . . . . . . . . . . . . . . . . . . . . . . . . . . . . . # . # . # . # . . . . . . . . . . . . . . . .\n",
      "55 . . . . . . . . . . . . . . . . . . . . . . . . . . . . . . . . . . . # . # . # . # . . . . . . . . . . . . . . . .\n",
      "56 . . . . . . . . . . . . . . . . . . . . . . . . . . . . . . . . . . . # # # # # # # . . . . . . . . . . . . . . . .\n",
      "57 . . . . . . . . . . . . . . . . . . . . . . . . . . . . . . . . . . . . . . . . . . . . . . . . . . . . . . . . . .\n",
      "58 . . . . . . . . . . . . . . . . . . . . . . . . . . . . . . . . . . . . . . . . . . . . . . . . . . . . . . . . . .\n",
      "59 . . . . . . . . . . . . . . . . . . . . . . . . . . . . . . . . . . . . . . . . . . . . . . . . . . . . . . . . . .\n",
      "60 . . . . . . . . . . . . . . . . . . . . . . . . . . . . . . . . . . . . . . # # # # # # # # # # # # . . . . . . . .\n",
      "61 . . . . . . . . . . . . . . . . . . . . . . . . . . . . . . . . . . . . . . . . . . . . . . . . . . . . . . . . . .\n",
      "62 . . . . . . . . . . . . . . . . . . . . . . . . . . . . . . . . . . . . . . . . . . . . . . . . . . . . . . . . . .\n",
      "63 . . . . . . . . . . . . . . . . . . . . . . . . . . . . . . . . . . . . . . . . . . . . . . . . . . . . . . . . . .\n",
      "64 . . . . . . . . . . . . . . . . . . . . . . . . . . . . . . . . . . . . . . . . . . . . . . . . . . . . . . . . . .\n",
      "65 . . . . . . . . . . . . . . . . . . . . . . . . . . . . . . . . . . . . . . . . . . . . . . . . . . . . . . # . . .\n",
      "66 . . . . . . . . . . . . . . . . . . . . . . . . . . . . . . . . . . . . . . . . . . . . . . . . . . . . . . # . . .\n",
      "67 . . . . . . . . . . . . . . . . . . . . . . . . . . . . . . . . . . . . . . . . . . . . . . . . . . . . . . # . . .\n",
      "68 . . . . . . . . . . . . . . . . . . . . . . . . . . . . . . . . . . . . . . . . . . . . . . . . . . . . . . # . . .\n",
      "69 . . . . . . . . . . . . . . . . . . . . . . . . . . . . . . . . . . . . . . . . . . . . # . . . . . # . # . # . . .\n",
      "70 . . . . . . . . . . . . . . . . . . . . . . . . . . . . . . . . . . . . . . . . . . . . # . . . . . # . # . # . . .\n",
      "71 . . . . . . . . . . . . . . . . . . . . . . . . . . . . . . . . . . . . . . . . . . . . # . # . . . # . # . # . . .\n",
      "72 . . . . . . . . . . . . . . . . . . . . . . . . . . . . . . . . . . . . . . . . . . . . # . # . # . # . # . # . . .\n",
      "73 . . . . . . . . . . . . . . . . . . . . . . . . . . . . . . . . . . . . . . . . . . . . # # # # # # # # # # # . . .\n",
      "74 . . . . . . . . . . . . . . . . . . . . . . . . . . . . . . . . . . . . . . . . . . . . . . . . . . . . . . . . . .\n",
      "75 . . . . . . . . . . . . . . . . . . . . . . . . . . . . . . . . . . . . . . . . . . . . . . . . . . . . . . . . . .\n",
      "76 . . . . . . . . . . . . . . . . . . . . . . . . . . . . . . . . . . . . . . . . # # # # # # . . . . . . . . . . . .\n",
      "77 . . . . . . . . . . . . . . . . . . . . . . . . . . . . . . . . . . . . . . . . . . . . . . . . . . . . . . . . . .\n",
      "78 . . . . . . . . . . . . . . . . . . . . . . . . . . . . . . . . . . . . . . . . . . . . . . . . . . . . . . . . . .\n",
      "79 . . . . . . . . . . . . . . . . . . . . . . . . . . . . . . . . . . . . . # # # # # # . # # # # # # . . . . . . . .\n",
      "80 . . . . . . . . . . . . . . . . . . . . . . . . . . . . . . . . . . . . . . . . . . . . . . . . . . . . . . . . . .\n",
      "81 . . . . . . . . . . . . . . . . . . . . . . . . . . . . . . . . . . . . . . . . . . . . . . . . . . . . . . . . . .\n",
      "82 . . . . . . . . . . . . . . . . . . . . . . . . . . . . . . . . . . # # # # # # . # # # # # # . # # # # # # . . . .\n",
      "83 . . . . . . . . . . . . . . . . . . . . . . . . . . . . . . . . . . . . . . . . . . . . . . . . . . . . . . . . . .\n",
      "84 . . . . . . . . . . . . . . . . . . . . . . . . . . . . . . . . . . . . . . . . . . . . . . . . . . . . . . . . . .\n",
      "85 . . . . . . . . . . . . . . . . . . . . . . . . . . . . . . . # # # # # # . # # # # # # . # # # # # # . # # # # # #\n",
      "86 . . . . . . . . . . . . . . . . . . . . . . . . . . . . . . . . . . . . . . . . . . . . . . . . . . . . . . . . . .\n",
      "87 . . . . . . . . . . . . . . . . . . . . . . . . . . . . . . . . . . . . . . . . . . . . . . . . . . . . . . . . . .\n",
      "88 . . . . . . . . . . . . . . . . . . . . . . . . . . . . . . . . . . # . . . . . # . . . . . . . . . . . . . . . . .\n",
      "89 . . . . . . . . . . . . . . . . . . . . . . . . . . . . . . . . . . # . . . . . # . . . . . . . . . . . . . . . . .\n",
      "90 . . . . . . . . . . . . . . . . . . . . . . . . . . . . . . . . . . # . . . . . # . . . . . . . . . . . . . . . . .\n",
      "91 . . . . . . . . . . . . . . . . . . . . . . . . . . . . . . # # # # # . . . . . # # # # # # # . . . . . . . . . . .\n",
      "92 . . . . . . . . . . . . . . . . . . . . . . . . . . . . . . # . . . . . . . . . . . . . . . # . . . . . . . . . . .\n",
      "93 . . . . . . . . . . . . . . . . . . . . . . . . . . . . . . # . . . . . . . . . . . . . . . # . . . . . . . . . . .\n",
      "94 . . . . . . . . . . . . . . . . . . . . . . . . . . . . . . # . . . . . . . . . . . . . . . # . . . . . . . . . . .\n",
      "95 . . . . . . . . . . . . . . . . . . . . . . . . . . . . . . # . . . . . . . . . . . . . . . # . . . . . . . . . . .\n",
      "96 . . . . . . . . . . . . . . . . . . . . . . . . . . . . . . # # # # # # # # # # # # # # # # # . . . . . . . . . . .\n",
      "97 . . . . . . . . . . . . . . . . . . . . . . . . . . . . . . . . . . . . . . . . . . . . . . . . . . . . . . . . . .\n",
      "98 . . . . . . . . . . . . . . . . . . . . . . . . . . . . . . . . . . . . . . . . . . . . . . . . . . . . . . . . . .\n",
      "99 . . . . . . . . . . . . . . . . . . . . . . . . . . . # # # # # . . . . . . . . . . . . . . . . . . . . . . . . . .\n",
      "100 . . . . . . . . . . . . . . . . . . . . . . . . . . . . . . . . . . . . . . . . . . . . . . . . . . . . . . . . . .\n",
      "101 . . . . . . . . . . . . . . . . . . . . . . . . . . . . . . . . . . . . . . . . . . . . . . . . . . . . . . . . . .\n",
      "102 . . . . . . . . . . . . . . . . . . . . . . . . # # # # # . # # # # # . . . . . . . . . . . . . . . . . . . . . . .\n",
      "103 . . . . . . . . . . . . . . . . . . . . . . . . . . . . . . . . . . . . . . . . . . . . . . . . . . . . . . . . . .\n",
      "104 . . . . . . . . . . . . . . . . . . . . . . . . . . . . . . . . . . . . . . . . . . . . . . . . . . . . . . . . . .\n",
      "105 . . . . . . . . . . . . . . . . . . . . . # # # # # . # # # # # . # # # # # . . . . . . . . . . . . . . . . . . . .\n",
      "106 . . . . . . . . . . . . . . . . . . . . . . . . . . . . . . . . . . . . . . . . . . . . . . . . . . . . . . . . . .\n",
      "107 . . . . . . . . . . . . . . . . . . . . . . . . . . . . . . . . . . . . . . . . . . . . . . . . . . . . . . . . . .\n",
      "108 . . . . . . . . . . . . . . . . . . # # # # # . # # # # # . # # # # # . # # # # # . . . . . . . . . . . . . . . . .\n",
      "109 . . . . . . . . . . . . . . . . . . . . . . . . . . . . . . . . . . . . . . . . . . . . . . . . . . . . . . . . . .\n",
      "110 . . . . . . . . . . . . . . . . . . . . . . . . . . . . . . . . . . . . . . . . . . . . . . . . . . . . . . . . . .\n",
      "111 . . . . . . . . . . . . . . . . . . . . . . . . . . . . . . . . . . . . . . . . . . . . . . . . . . . . . . . . . .\n",
      "112 . . . . . . . . . . . . . . . . . . . . . # . . . . . . . . . . . . . . . . . . . . . . . . . . . . . . . . . . . .\n",
      "113 . . . . . . . . . . . # . . . . . . . . . # . . . . . . . . . . . . . . . . . . . . . . . . . . . . . . . . . . . .\n",
      "114 . . . . . . . . . . . # . . . # . . . . . # . . . . . . . . . . . . . . . . . . . . . . . . . . . . . . . . . . . .\n",
      "115 . . . . . . . . . . . # . # . # . . . . . # . . . . . . . . . . . . . . . . . . . . . . . . . . . . . . . . . . . .\n",
      "116 . . . . . . . . . . . # . # . # . . . # . # . . . . . . . . . . . . . . . . . . . . . . . . . . . . . . . . . . . .\n",
      "117 . . . . . . . . . . . # . # . # . . . # . # . . . . . . . . . . . . . . . . . . . . . . . . . . . . . . . . . . . .\n",
      "118 . . . . . . . . . . . # . # . # . . . # . # . . . . . . . . . . . . . . . . . . . . . . . . . . . . . . . . . . . .\n",
      "119 . . . . . . . . . . . # . # . # . . . # . # . . . . . . . . . . . . . . . . . . . . . . . . . . . . . . . . . . . .\n",
      "120 . . . . . . . . . # . # . # . # . # . # . # . # . . . . . . . . . . . . . . . . . . . . . . . . . . . . . . . . . .\n",
      "121 . . . . . . . . . # # # # # # # # # # # # # # # . . . . . . . . . . . . . . . . . . . . . . . . . . . . . . . . . .\n",
      "122 . . . . . . . . . . . . . . . . . . . . . . . . . . . . . . . . . . . . . . . . . . . . . . . . . . . . . . . . . .\n",
      "123 . . . . . . . . . . . . . . . . . . . . . . . . . . . . . . . . . . . . . . . . . . . . . . . . . . . . . . . . . .\n",
      "124 . . . . . . . . . . . . . . . . . . . . . . # . . . . # . . . . . . . . . . . . . . . . . . . . . . . . . . . . . .\n",
      "125 . . . . . . . . . . . . . . . . . . . . . . # . . . . # . . . . . . . . . . . . . . . . . . . . . . . . . . . . . .\n",
      "126 . . . . . . . . . . . . . . . . . . . . . . # . . . . # . . . . . . . . . . . . . . . . . . . . . . . . . . . . . .\n",
      "127 . . . . . . . . . . . . . . . . # # # # # # # . . . . # # # # . . . . . . . . . . . . . . . . . . . . . . . . . . .\n",
      "128 . . . . . . . . . . . . . . . . # . . . . . . . . . . . . . # . . . . . . . . . . . . . . . . . . . . . . . . . . .\n",
      "129 . . . . . . . . . . . . . . . . # . . . . . . . . . . . . . # . . . . . . . . . . . . . . . . . . . . . . . . . . .\n",
      "130 . . . . . . . . . . . . . . . . # . . . . . . . . . . . . . # . . . . . . . . . . . . . . . . . . . . . . . . . . .\n",
      "131 . . . . . . . . . . . . . . . . # # # # # # # # # # # # # # # . . . . . . . . . . . . . . . . . . . . . . . . . . .\n",
      "132 . . . . . . . . . . . . . . . . . . . . . . . . . . . . . . . . . . . . . . . . . . . . . . . . . . . . . . . . . .\n",
      "133 . . . . . . . . . . . . . . . . . . . . . . . . . . . . . . . . . . . . . . . # . . . . . . . . . . . . . . . . . .\n",
      "134 . . . . . . . . . . . . . . . . . . . . . . . . . . . . . . # # # # # # # # # # . . . . . . . . . . . . . . . . . .\n",
      "135 . . . . . . . . . . . . . . . . . . . . . . . . . . . . . . . . . . . . . . . . . . . . . . . . . . . . . . . . . .\n",
      "136 . . . . . . . . . . . . . . . . . . . . . . . . . . . . . . . . . . . . . . . . . . . . . . . . . . . . . . . . . .\n",
      "137 . . . . . . . . . . . . . . . . . . . . . . . . . . . # . # . . . . . . . . . . . . . . . . . . . . . . . . . . . .\n",
      "138 . . . . . . . . . . . . . . . . . . . # . . . # . . . # . # . . . . . # . . . . . . . . . . . . . . . . . . . . . .\n",
      "139 . . . . . . . . . . . . . . . . . . . # . . . # . . . # . # . . . . . # . . . . . . . . . . . . . . . . . . . . . .\n",
      "140 . . . . . . . . . . . . . . . . . . . # . # . # . . . # . # . . . . . # . . . . . . . . . . . . . . . . . . . . . .\n",
      "141 . . . . . . . . . . . . . . . . . . . # . # . # . . . # . # . . . . . # . . . . . . . . . . . . . . . . . . . . . .\n",
      "142 . . . . . . . . . . . . . . . . . . . # . # . # . . . # . # . . . . . # . . . . . . . . . . . . . . . . . . . . . .\n",
      "143 . . . . . . . . . . . . . . . . . . . # . # . # . # . # . # . . . . . # . # . . . . . . . . . . . . . . . . . . . .\n",
      "144 . . . . . . . . . . . . . . . . . . . # . # . # . # . # . # . . . . . # . # . . . . . . . . . . . . . . . . . . . .\n",
      "145 . . . . . . . . . . . . . . . . . . . # . # . # . # . # . # . . . # . # . # . . . . . . . . . . . . . . . . . . . .\n",
      "146 . . . . . . . . . . . . . . . . . . . # . # . # . # . # . # . # . # . # . # . . . . . . . . . . . . . . . . . . . .\n",
      "147 . . . . . . . . . . . . . . . . . . . # # # # # # # # # # # # # # # # # # # . . . . . . . . . . . . . . . . . . . .\n",
      "148 . . . . . . . . . . . . . . . . . . . . . . . . . . . . . . . . . . . . . . . . . . . . . . . . . . . . . . . . . .\n",
      "149 . . . . . . . . . . . . . . . . . . . . . . . . . . . . . . . . . . . . . . . . . . . . . . . . . . . . . . . . . .\n",
      "150 . . . . . . . . . . . . . . . . . . . . . . . . . . . . . . . . . . . # # # # # # # # # # # # # # . . . . . . . . .\n",
      "151 . . . . . . . . . . . . . . . . . . . . . . . . . . . . . . . . . . . . . . . . . . . . . . . . . . . . . . . . . .\n",
      "152 . . . . . . . . . . . . . . . . . . . . . . . . . . . . . . . . . . . . . . . . . . . . . . . . . . . . . . . . . .\n",
      "153 . . . . . . . . . . . . . . . . . . . . . . . . . . . . . . . . . . . . . . . . . . . . . . . . # . . . # . . . . .\n",
      "154 . . . . . . . . . . . . . . . . . . . . . . . . . . . . . . . . . . . . . . . . . . . . . . . . # . . . # . . . . .\n",
      "155 . . . . . . . . . . . . . . . . . . . . . . . . . . . . . . . . . . . . . . . . . . . . . . # # # . . . # # # # # #\n",
      "156 . . . . . . . . . . . . . . . . . . . . . . . . . . . . . . . . . . . . . . . . . . . . . . # . . . . . . . . . . #\n",
      "157 . . . . . . . . . . . . . . . . . . . . . . . . . . . . . . . . . . . . . . . . . . . . . . # . . . . . . . . . . #\n",
      "158 . . . . . . . . . . . . . . . . . . . . . . . . . . . . . . . . . . . . . . . . . . . . . . # # # # # # # # # # # #\n",
      "159 . . . . . . . . . . . . . . . . . . . . . . . . . . . . . . . . . . . . . . . . . . . . . . . . . . . . . . . . . .\n",
      "160 . . . . . . . . . . . . . . . . . . . . . . . . . . . . . . . . . . . . . . . . . . . . . . . . . . . . . . . . . .\n",
      "161 . . . . . . . . . . . . . . . . . . . . . . . . . . . . . . . . . . . . . . . . . . . . . . . . . . . . . . . . . .\n",
      "162 . . . . . . . . . . . . . . . . . . . . . . . . . . . . . . . . . . . . . . . . . . . . . . . . . . . # . . . . . .\n",
      "163 . . . . . . . . . . . . . . . . . . . . . . . . . . . . . . . . . . . . . # # # # # # # # # # # # # # # . . . . . .\n"
     ]
    }
   ],
   "source": [
    "print_cave()"
   ]
  },
  {
   "cell_type": "code",
   "execution_count": 404,
   "id": "e77432a4-c682-4a78-9687-fc29217f05a4",
   "metadata": {},
   "outputs": [],
   "source": [
    "from dataclasses import dataclass, field\n",
    "from typing import Tuple"
   ]
  },
  {
   "cell_type": "code",
   "execution_count": 405,
   "id": "950ad3a9-c248-4c6e-b2e2-32f7bb3f2efa",
   "metadata": {},
   "outputs": [],
   "source": [
    "class MoveBlocked(Exception):\n",
    "    pass\n",
    "\n",
    "@dataclass\n",
    "class Sand:\n",
    "    position: Tuple[int, int]\n",
    "    cave: dict\n",
    "    is_at_rest: bool = False\n",
    "    is_in_abyss: bool = False\n",
    "    cave_height: int = field(default_factory=lambda cave=cave: max([y for (x, y), value in cave.items() if value == '#']))\n",
    "    \n",
    "    def update(self):\n",
    "        if not (self.is_at_rest or self.is_in_abyss):\n",
    "            self.move_down()\n",
    "            self.check_if_in_abyss()\n",
    "    \n",
    "    def check_if_in_abyss(self):\n",
    "        x, y = self.position\n",
    "        if y > self.cave_height:\n",
    "            self.is_in_abyss = True\n",
    "    \n",
    "    def move_down(self):\n",
    "        x, y = self.position\n",
    "        for new_position in [(x, y+1), (x-1, y+1), (x+1, y+1)]:\n",
    "            try:\n",
    "                if self.move(new_position):\n",
    "                    break\n",
    "            except MoveBlocked:\n",
    "                pass\n",
    "        else:\n",
    "            self.is_at_rest = True\n",
    "    \n",
    "    def move(self, new_position):\n",
    "        if cave[new_position] is None:  # Space is available\n",
    "            cave[self.position] = None\n",
    "            cave[new_position] = 'o'\n",
    "            self.position = new_position\n",
    "            return True\n",
    "        else:\n",
    "            raise MoveBlocked"
   ]
  },
  {
   "cell_type": "code",
   "execution_count": 406,
   "id": "cae80c50-9fe6-4bfd-89a4-fea2941f58eb",
   "metadata": {},
   "outputs": [],
   "source": [
    "start_position = (500, -1)"
   ]
  },
  {
   "cell_type": "code",
   "execution_count": 407,
   "id": "58bd9f16-5fa0-4c89-ae94-4126f49346aa",
   "metadata": {},
   "outputs": [],
   "source": [
    "def update(debug=False):\n",
    "    global sand_pile  #, start_position, cave\n",
    "    \n",
    "    for sand in sand_pile:\n",
    "        sand.update()\n",
    "        \n",
    "    # Add new stand of no sand, or sand is at rest\n",
    "    if len(sand_pile) == 0 or all([sand.is_at_rest for sand in sand_pile]):\n",
    "        sand_pile.append(Sand(start_position, cave))\n",
    "        \n",
    "    if debug: print_cave()"
   ]
  },
  {
   "cell_type": "code",
   "execution_count": 408,
   "id": "c9103712-e6ff-4407-9b79-b06a19b227db",
   "metadata": {},
   "outputs": [],
   "source": [
    "sand_pile = []"
   ]
  },
  {
   "cell_type": "code",
   "execution_count": 409,
   "id": "c6f98237-3633-4beb-b849-dc763a6fcb28",
   "metadata": {},
   "outputs": [
    {
     "name": "stdout",
     "output_type": "stream",
     "text": [
      "CPU times: user 6.37 s, sys: 4 ms, total: 6.37 s\n",
      "Wall time: 6.37 s\n"
     ]
    }
   ],
   "source": [
    "%%time\n",
    "while not any([sand.is_in_abyss for sand in sand_pile]):\n",
    "    update()"
   ]
  },
  {
   "cell_type": "code",
   "execution_count": 410,
   "id": "bf9d9bf0-65c1-472c-b67b-8eea263270d7",
   "metadata": {},
   "outputs": [
    {
     "name": "stdout",
     "output_type": "stream",
     "text": [
      "0  . . . . . . . . . . . . . . . . . . . . . . . . . . . . . . . . . . . . . . . . . . . . . . . . . . . . . . . . . .\n",
      "1  . . . . . . . . . . . . . . . . . . . . . . . . . . . . . . . . . . . . . . . . . . . . . . . . . . . . . . . . . .\n",
      "2  . . . . . . . . . . . . . . . . . . . . . . . . . . . . . . . . . . . . . . . . . . . . . . . . . . . . . . . . . .\n",
      "3  . . . . . . . . . . . . . . . . . . . . . . . . . . . . . . . . . . . . . . . . . . . . . . . . . . . . . . . . . .\n",
      "4  . . . . . . . . . . . . . . . . . . . . . . . . . . . . . . . . . . . . . . . . . . . . . . . . . . . . . . . . . .\n",
      "5  . . . . . . . . . . . . . . . . . . . . . . . . . . . . . . . . . . . . . . . . . . . . . . . . . . . . . . . . . .\n",
      "6  . . . . . . . . . . . . . . . . . . . . . . . . . . . . . . . . . . . . . . . . . . . . . . . . . . . . . . . . . .\n",
      "7  . . . . . . . . . . . . . . . . . . . . . . . . . . . . . . . . . . . . . . . . . . . . . . . . . . . . . . . . . .\n",
      "8  . . . . . . . . . . . . . . . . . . . . . . . . . . o o . . . . . . . . . . . . . . . . . . . . . . . . . . . . . .\n",
      "9  . . . . . . . . . . . . . . . . . . . . . . . . . o o o o . . . . . . . . . . . . . . . . . . . . . . . . . . . . .\n",
      "10 . . . . . . . . . . . . . . . . . . . . . . . . o o o o o o . . . . . . . . . . . . . . . . . . . . . . . . . . . .\n",
      "11 . . . . . . . . . . . . . . . . . . . . . . . o o o o o o o o . . . . . . . . . . . . . . . . . . . . . . . . . . .\n",
      "12 . . . . . . . . . . . . . . . . . . . . . . o o o o o o o o o o . . . . . . . . . . . . . . . . . . . . . . . . . .\n",
      "13 . . . . . . . . . . . . . . . . . . . . . o o o o # # # # # o o o . . . . . . . . . . . . . . . . . . . . . . . . .\n",
      "14 . . . . . . . . . . . . . . . . . . . . o o o o o o . . . o o o o o . . . . . . . . . . . . . . . . . . . . . . . .\n",
      "15 . . . . . . . . . . . . . . . . . . . o o o # # # # # . # # # # # o o . . . . . . . . . . . . . . . . . . . . . . .\n",
      "16 . . . . . . . . . . . . . . . . . . o o o o o . . . . . . . . . o o o o . . . . . . . . . . . . . . . . . . . . . .\n",
      "17 . . . . . . . . . . . . . . . . . o o # # # # # . # # # # # . # # # # # o . . . . . . . . . . . . . . . . . . . . .\n",
      "18 . . . . . . . . . . . . . . . . o o o o . . . . . . . . . . . . . . . o o o . . . . . . . . . . . . . . . . . . . .\n",
      "19 . . . . . . . . . . . . . . . o # # # # # . # # # # # . # # # # # . # # # # # . . . . . . . . . . . . . . . . . . .\n",
      "20 . . . . . . . . . . . . . . o o o . . . . . . . . . . . . . . . . . . . . . . . . . . . . . . . . . . . . . . . . .\n",
      "21 . . . . . . . . . . . . . o o o o o . . . . . . . . . . . . . . . . . . . . . . . . . . . . . . . . . . . . . . . .\n",
      "22 . . . . . . . . . . . . # # # # # # o . . . . . . . . . . . . . . . . . . . . . . . . . . . . . . . . . . . . . . .\n",
      "23 . . . . . . . . . . . . . . . . . o o o . . . . . . . . . . . . . . . . . . . . . . . . . . . . . . . . . . . . . .\n",
      "24 . . . . . . . . . . . . . . . . o o o o o . . . . . . . . . . . . . . . . . . . . . . . . . . . . . . . . . . . . .\n",
      "25 . . . . . . . . . # # # # # # o # # # # # # . . . . . . . . . . . . . . . . . . . . . . . . . . . . . . . . . . . .\n",
      "26 . . . . . . . . . . . . . . o o o . . . . . . . . . . . . . . . . . . . . . . . . . . . . . . . . . . . . . . . . .\n",
      "27 . . . . . . . . . . . . . o o o o o . . . . . . . . . . . . . . . . . . . . . . . . . . . . . . . . . . . . . . . .\n",
      "28 . . . . . . # # # # # # o # # # # # # . # # # # # # . . . . . . . . . . . . . . . . . . . . . . . . . . . . . . . .\n",
      "29 . . . . . . . . . . . o o o . . . . . . . . . . . . . . . . . . . . . . . . . . . . . . . . . . . . . . . . . . . .\n",
      "30 . . . . . . . . . . o o o o o . . . . . . . . . . . . . . . . . . . . . . . . . . . . . . . . . . . . . . . . . . .\n",
      "31 . . . # # # # # # o # # # # # # . # # # # # # . # # # # # # . . . . . . . . . . . . . . . . . . . . . . . . . . . .\n",
      "32 . . . . . . . . o o o . . . . . . . . . . . . . . . . . . . . . . . . . . . . . . . . . . . . . . . . . . . . . . .\n",
      "33 . . . . . . . o o o o o . . . . . . . . . . . . . . . . . . . . . . . . . . . . . . . . . . . . . . . . . . . . . .\n",
      "34 # # # # # # o # # # # # # . # # # # # # . # # # # # # . # # # # # # . . . . . . . . . . . . . . . . . . . . . . . .\n",
      "35 . . . . . o o o . . . . . . . . . . . . . . . . . . . . . . . . . . . . . . . . . . . . . . . . . . . . . . . . . .\n",
      "36 . . . . o o o o o . . . . . . . . . . . . . . . . . . . . . . . . . . . . . . . . . . . . . . . . . . . . . . . . .\n",
      "37 . . . o o # o # o o . . . . . . . . . . . . . . . . . . . . . . . . . . . . . . . . . . . . . . . . . . . . . . . .\n",
      "38 . . o o o # o # o o o . . . . . . . . . . . . . . . . . . . . . . . . . . . . . . . . . . . . . . . . . . . . . . .\n",
      "39 . # # # # # o # # # # # # # # . . . . . . . . . . . . . . . . . . . . . . . . . . . . . . . . . . . . . . . . . . .\n",
      "40 . # . . . o o o . . . . . . # . . . . . . . . . . . . . . . . . . . . . . . . . . . . . . . . . . . . . . . . . . .\n",
      "41 . # . . o o o o o . . . . . # . . . . . . . . . . . . . . . . . . . . . . . . . . . . . . . . . . . . . . . . . . .\n",
      "42 . # . o o o o o o o . . . . # . . . . . . . . . . . . . . . . . . . . . . . . . . . . . . . . . . . . . . . . . . .\n",
      "43 . # # # # # # # # # # # # # # . . . . . . . . . . . . . . . . . . . . . . . . . . . . . . . . . . . . . . . . . . .\n",
      "44 . . . . . . . . . . . . . . . . . . . . . . . . . . . . . . . . . . . . . . . . . . . . . . . . . . . . . . . . . .\n",
      "45 . . . . . . . . . . . . . . . . . . . . . . . . . . . . . . . . . . . . . . . . . . . . . . . . . . . . . . . . . .\n",
      "46 . . . . . . . . . . . . . . . . . . . . . . . . . . . . . . . . . . . . . . . . . . . . . . . . . . . . . . . . . .\n",
      "47 . . . . . . . . . . . . . . . . . . . . . . . . . . . . . . . . . . . . . . . . . . . . . . . . . . . . . . . . . .\n",
      "48 . . . . . . . . . . . . . . . . . . . . . . . . . . . . . . . . . . . . . . . . . . . . . . . . . . . . . . . . . .\n",
      "49 . . . . . . . . . . . . . . . . . . . . . . . . . . . . . . . . . . . # . . o # . . . . . . . . . . . . . . . . . .\n",
      "50 . . . . . . . . . . . . . . . . . . . . . . . . . . . . . . . . . . . # . o o # . . . . . . . . . . . . . . . . . .\n",
      "51 . . . . . . . . . . . . . . . . . . . . . . . . . . . . . . . . . . . # o # o # o . . . . . . . . . . . . . . . . .\n",
      "52 . . . . . . . . . . . . . . . . . . . . . . . . . . . . . . . . . . . # o # o # o # . . . . . . . . . . . . . . . .\n",
      "53 . . . . . . . . . . . . . . . . . . . . . . . . . . . . . . . . . . . # o # o # o # o . . . . . . . . . . . . . . .\n",
      "54 . . . . . . . . . . . . . . . . . . . . . . . . . . . . . . . . . . . # o # o # o # o o . . . . . . . . . . . . . .\n",
      "55 . . . . . . . . . . . . . . . . . . . . . . . . . . . . . . . . . . . # o # o # o # o o o . . . . . . . . . . . . .\n",
      "56 . . . . . . . . . . . . . . . . . . . . . . . . . . . . . . . . . . . # # # # # # # o o o o . . . . . . . . . . . .\n",
      "57 . . . . . . . . . . . . . . . . . . . . . . . . . . . . . . . . . . . . . . . . . o o o o o o . . . . . . . . . . .\n",
      "58 . . . . . . . . . . . . . . . . . . . . . . . . . . . . . . . . . . . . . . . . o o o o o o o o . . . . . . . . . .\n",
      "59 . . . . . . . . . . . . . . . . . . . . . . . . . . . . . . . . . . . . . . . o o o o o o o o o o . . . . . . . . .\n",
      "60 . . . . . . . . . . . . . . . . . . . . . . . . . . . . . . . . . . . . . . # # # # # # # # # # # # . . . . . . . .\n",
      "61 . . . . . . . . . . . . . . . . . . . . . . . . . . . . . . . . . . . . . . . . . . . . . . . . . . . . . . . . . .\n",
      "62 . . . . . . . . . . . . . . . . . . . . . . . . . . . . . . . . . . . . . . . . . . . . . . . . . . . . . . . . . .\n",
      "63 . . . . . . . . . . . . . . . . . . . . . . . . . . . . . . . . . . . . . . . . . . . . . . . . . . o . . . . . . .\n",
      "64 . . . . . . . . . . . . . . . . . . . . . . . . . . . . . . . . . . . . . . . . . . . . . . . . . o o o . . . . . .\n",
      "65 . . . . . . . . . . . . . . . . . . . . . . . . . . . . . . . . . . . . . . . . . . . . . . . . o o o o o . # . . .\n",
      "66 . . . . . . . . . . . . . . . . . . . . . . . . . . . . . . . . . . . . . . . . . . . . . . . o o o o o o o # . . .\n",
      "67 . . . . . . . . . . . . . . . . . . . . . . . . . . . . . . . . . . . . . . . . . . . . . . o o o o o o o o # . . .\n",
      "68 . . . . . . . . . . . . . . . . . . . . . . . . . . . . . . . . . . . . . . . . . . . . . o o o o o o o o o # . . .\n",
      "69 . . . . . . . . . . . . . . . . . . . . . . . . . . . . . . . . . . . . . . . . . . . . # o o o o o # o # o # . . .\n",
      "70 . . . . . . . . . . . . . . . . . . . . . . . . . . . . . . . . . . . . . . . . . . . . # o o o o o # o # o # . . .\n",
      "71 . . . . . . . . . . . . . . . . . . . . . . . . . . . . . . . . . . . . . . . . . . . . # o # o o o # o # o # . . .\n",
      "72 . . . . . . . . . . . . . . . . . . . . . . . . . . . . . . . . . . . . . . . . . . . . # o # o # o # o # o # . . .\n",
      "73 . . . . . . . . . . . . . . . . . . . . . . . . . . . . . . . . . . . . . . . . . . . o # # # # # # # # # # # . . .\n",
      "74 . . . . . . . . . . . . . . . . . . . . . . . . . . . . . . . . . . . . . . . . . . o o o . . . . . . . . . . . . .\n",
      "75 . . . . . . . . . . . . . . . . . . . . . . . . . . . . . . . . . . . . . . . . . o o o o o . . . . . . . . . . . .\n",
      "76 . . . . . . . . . . . . . . . . . . . . . . . . . . . . . . . . . . . . . . . . # # # # # # o . . . . . . . . . . .\n",
      "77 . . . . . . . . . . . . . . . . . . . . . . . . . . . . . . . . . . . . . . . o . . . . . o o o . . . . . . . . . .\n",
      "78 . . . . . . . . . . . . . . . . . . . . . . . . . . . . . . . . . . . . . . o o o . . . o o o o o . . . . . . . . .\n",
      "79 . . . . . . . . . . . . . . . . . . . . . . . . . . . . . . . . . . . . . # # # # # # o # # # # # # . . . . . . . .\n",
      "80 . . . . . . . . . . . . . . . . . . . . . . . . . . . . . . . . . . . . o . . . . . o o o . . . . . . . . . . . . .\n",
      "81 . . . . . . . . . . . . . . . . . . . . . . . . . . . . . . . . . . . o o o . . . o o o o o . . . . . . . . . . . .\n",
      "82 . . . . . . . . . . . . . . . . . . . . . . . . . . . . . . . . . . # # # # # # o # # # # # # . # # # # # # . . . .\n",
      "83 . . . . . . . . . . . . . . . . . . . . . . . . . . . . . . . . . o . . . . . o o o . . . . . . . . . . . . . . . .\n",
      "84 . . . . . . . . . . . . . . . . . . . . . . . . . . . . . . . . o o o . . . o o o o o . . . . . . . . . . . . . . .\n",
      "85 . . . . . . . . . . . . . . . . . . . . . . . . . . . . . . . # # # # # # o # # # # # # . # # # # # # . # # # # # #\n",
      "86 . . . . . . . . . . . . . . . . . . . . . . . . . . . . . . . . . . . . o o o . . . . . . . . . . . . . . . . . . .\n",
      "87 . . . . . . . . . . . . . . . . . . . . . . . . . . . . . . . . . . . o o o o o . . . . . . . . . . . . . . . . . .\n",
      "88 . . . . . . . . . . . . . . . . . . . . . . . . . . . . . . . . . . # o o o o o # . . . . . . . . . . . . . . . . .\n",
      "89 . . . . . . . . . . . . . . . . . . . . . . . . . . . . . . . . . . # o o o o o # . . . . . . . . . . . . . . . . .\n",
      "90 . . . . . . . . . . . . . . . . . . . . . . . . . . . . . . . . . . # o o o o o # . . . . . . . . . . . . . . . . .\n",
      "91 . . . . . . . . . . . . . . . . . . . . . . . . . . . . . . # # # # # o o o o o # # # # # # # . . . . . . . . . . .\n",
      "92 . . . . . . . . . . . . . . . . . . . . . . . . . . . . . . # . . . o o o o o o o . . . . . # . . . . . . . . . . .\n",
      "93 . . . . . . . . . . . . . . . . . . . . . . . . . . . . . . # . . o o o o o o o o o . . . . # . . . . . . . . . . .\n",
      "94 . . . . . . . . . . . . . . . . . . . . . . . . . . . . . . # . o o o o o o o o o o o . . . # . . . . . . . . . . .\n",
      "95 . . . . . . . . . . . . . . . . . . . . . . . . . . . . . . # o o o o o o o o o o o o o . . # . . . . . . . . . . .\n",
      "96 . . . . . . . . . . . . . . . . . . . . . . . . . . . . . . # # # # # # # # # # # # # # # # # . . . . . . . . . . .\n",
      "97 . . . . . . . . . . . . . . . . . . . . . . . . . . . . . o . . . . . . . . . . . . . . . . . . . . . . . . . . . .\n",
      "98 . . . . . . . . . . . . . . . . . . . . . . . . . . . . o o o . . . . . . . . . . . . . . . . . . . . . . . . . . .\n",
      "99 . . . . . . . . . . . . . . . . . . . . . . . . . . . # # # # # . . . . . . . . . . . . . . . . . . . . . . . . . .\n",
      "100 . . . . . . . . . . . . . . . . . . . . . . . . . . o . . . . . . . . . . . . . . . . . . . . . . . . . . . . . . .\n",
      "101 . . . . . . . . . . . . . . . . . . . . . . . . . o o o . . . . . . . . . . . . . . . . . . . . . . . . . . . . . .\n",
      "102 . . . . . . . . . . . . . . . . . . . . . . . . # # # # # . # # # # # . . . . . . . . . . . . . . . . . . . . . . .\n",
      "103 . . . . . . . . . . . . . . . . . . . . . . . o . . . . . . . . . . . . . . . . . . . . . . . . . . . . . . . . . .\n",
      "104 . . . . . . . . . . . . . . . . . . . . . . o o o . . . . . . . . . . . . . . . . . . . . . . . . . . . . . . . . .\n",
      "105 . . . . . . . . . . . . . . . . . . . . . # # # # # . # # # # # . # # # # # . . . . . . . . . . . . . . . . . . . .\n",
      "106 . . . . . . . . . . . . . . . . . . . o o . . . . . . . . . . . . . . . . . . . . . . . . . . . . . . . . . . . . .\n",
      "107 . . . . . . . . . . . . . . . . . . o o o o . . . . . . . . . . . . . . . . . . . . . . . . . . . . . . . . . . . .\n",
      "108 . . . . . . . . . . . . . . . . . o # # # # # . # # # # # . # # # # # . # # # # # . . . . . . . . . . . . . . . . .\n",
      "109 . . . . . . . . . . . . . . . . o o o . . . . . . . . . . . . . . . . . . . . . . . . . . . . . . . . . . . . . . .\n",
      "110 . . . . . . . . . . . . . . . o o o o o . . . . . . . . . . . . . . . . . . . . . . . . . . . . . . . . . . . . . .\n",
      "111 . . . . . . . . . . . . . . o o o o o o o . . . . . . . . . . . . . . . . . . . . . . . . . . . . . . . . . . . . .\n",
      "112 . . . . . . . . . . . . . o o o o o o o o # . . . . . . . . . . . . . . . . . . . . . . . . . . . . . . . . . . . .\n",
      "113 . . . . . . . . . . . # o o o o o o o o o # . . . . . . . . . . . . . . . . . . . . . . . . . . . . . . . . . . . .\n",
      "114 . . . . . . . . . . . # o o o # o o o o o # . . . . . . . . . . . . . . . . . . . . . . . . . . . . . . . . . . . .\n",
      "115 . . . . . . . . . . . # o # o # o o o o o # . . . . . . . . . . . . . . . . . . . . . . . . . . . . . . . . . . . .\n",
      "116 . . . . . . . . . . . # o # o # o o o # o # . . . . . . . . . . . . . . . . . . . . . . . . . . . . . . . . . . . .\n",
      "117 . . . . . . . . . . . # o # o # o o o # o # o o . . . . . . . . . . . . . . . . . . . . . . . . . . . . . . . . . .\n",
      "118 . . . . . . . . . . . # o # o # o o o # o # o o o . . . . . . . . . . . . . . . . . . . . . . . . . . . . . . . . .\n",
      "119 . . . . . . . . . . . # o # o # o o o # o # o o o o . . . . . . . . . . . . . . . . . . . . . . . . . . . . . . . .\n",
      "120 . . . . . . . . . # . # o # o # o # o # o # o # o o o . . . . . . . . . . . . . . . . . . . . . . . . . . . . . . .\n",
      "121 . . . . . . . . . # # # # # # # # # # # # # # # o o o o . . . . . . . . . . . . . . . . . . . . . . . . . . . . . .\n",
      "122 . . . . . . . . . . . . . . . . . . . . . . . o o o o o o . . . . . . . . . . . . . . . . . . . . . . . . . . . . .\n",
      "123 . . . . . . . . . . . . . . . . . . . . . . o o o o o o o o . . . . . . . . . . . . . . . . . . . . . . . . . . . .\n",
      "124 . . . . . . . . . . . . . . . . . . . . . o # o o o o # o o o . . . . . . . . . . . . . . . . . . . . . . . . . . .\n",
      "125 . . . . . . . . . . . . . . . . . . . . o o # o o o o # o o o o . . . . . . . . . . . . . . . . . . . . . . . . . .\n",
      "126 . . . . . . . . . . . . . . . . . . . o o o # o o o o # o o o o o . . . . . . . . . . . . . . . . . . . . . . . . .\n",
      "127 . . . . . . . . . . . . . . . . # # # # # # # o o o o # # # # o o o . . . . . . . . . . . . . . . . . . . . . . . .\n",
      "128 . . . . . . . . . . . . . . . . # . . . . . o o o o o o . . # o o o o . . . . . . . . . . . . . . . . . . . . . . .\n",
      "129 . . . . . . . . . . . . . . . . # . . . . o o o o o o o o . # o o o o o . . . . . . . . . . . . . . . . . . . . . .\n",
      "130 . . . . . . . . . . . . . . . . # . . . o o o o o o o o o o # o o o o o o . . . . . . . . . . . . . . . . . . . . .\n",
      "131 . . . . . . . . . . . . . . . . # # # # # # # # # # # # # # # o o o o o o o . . . . . . . . . . . . . . . . . . . .\n",
      "132 . . . . . . . . . . . . . . . . . . . . . . . . . . . . . . o o o o o o o o o . . . . . . . . . . . . . . . . . . .\n",
      "133 . . . . . . . . . . . . . . . . . . . . . . . . . . . . . o o o o o o o o o o # . . . . . . . . . . . . . . . . . .\n",
      "134 . . . . . . . . . . . . . . . . . . . . . . . . . . . . o o # # # # # # # # # # . . . . . . . . . . . . . . . . . .\n",
      "135 . . . . . . . . . . . . . . . . . . . . . . . . . . . o o o o . . . . . . . . . . . . . . . . . . . . . . . . . . .\n",
      "136 . . . . . . . . . . . . . . . . . . . . . . . . . . o o o o o o . . . . . . . . . . . . . . . . . . . . . . . . . .\n",
      "137 . . . . . . . . . . . . . . . . . . . . . . . . . o o # o # o o o . . . . . . . . . . . . . . . . . . . . . . . . .\n",
      "138 . . . . . . . . . . . . . . . . . . . # . . . # o o o # o # o o o o . # . . . . . . . . . . . . . . . . . . . . . .\n",
      "139 . . . . . . . . . . . . . . . . . . . # . . . # o o o # o # o o o o o # . . . . . . . . . . . . . . . . . . . . . .\n",
      "140 . . . . . . . . . . . . . . . . . . . # . # . # o o o # o # o o o o o # . . . . . . . . . . . . . . . . . . . . . .\n",
      "141 . . . . . . . . . . . . . . . . . . . # . # . # o o o # o # o o o o o # . . . . . . . . . . . . . . . . . . . . . .\n",
      "142 . . . . . . . . . . . . . . . . . . . # . # . # o o o # o # o o o o o # . . . o o . . . . . . . . . . . . . . . . .\n",
      "143 . . . . . . . . . . . . . . . . . . . # . # . # o # o # o # o o o o o # . # o o o o . . . . . . . . . . . . . . . .\n",
      "144 . . . . . . . . . . . . . . . . . . . # . # . # o # o # o # o o o o o # . # o o o o o . . . . . . . . . . . . . . .\n",
      "145 . . . . . . . . . . . . . . . . . . . # . # . # o # o # o # o o o # o # . # o o o o o o . . . . . . . . . . . . . .\n",
      "146 . . . . . . . . . . . . . . . . . . . # . # . # o # o # o # o # o # o # . # o o o o o o o . . . . . . . . . . . . .\n",
      "147 . . . . . . . . . . . . . . . . . . . # # # # # # # # # # # # # # # # # # # o o o o o o o o . . . . . . . . . . . .\n",
      "148 . . . . . . . . . . . . . . . . . . . . . . . . . . . . . . . . . . . . . o o o o o o o o o o . . . . . . . . . . .\n",
      "149 . . . . . . . . . . . . . . . . . . . . . . . . . . . . . . . . . . . . o o o o o o o o o o o o . . . . . . . . . .\n",
      "150 . . . . . . . . . . . . . . . . . . . . . . . . . . . . . . . . . . . # # # # # # # # # # # # # # . . . . . . . . .\n",
      "151 . . . . . . . . . . . . . . . . . . . . . . . . . . . . . . . . . . . . . . . . . . . . . . . . . o . . . . . . . .\n",
      "152 . . . . . . . . . . . . . . . . . . . . . . . . . . . . . . . . . . . . . . . . . . . . . . . . o o o . . . . . . .\n",
      "153 . . . . . . . . . . . . . . . . . . . . . . . . . . . . . . . . . . . . . . . . . . . . . . . o # o o o # . . . . .\n",
      "154 . . . . . . . . . . . . . . . . . . . . . . . . . . . . . . . . . . . . . . . . . . . . . . o o # o o o # . . . . .\n",
      "155 . . . . . . . . . . . . . . . . . . . . . . . . . . . . . . . . . . . . . . . . . . . . . o # # # o o o # # # # # #\n",
      "156 . . . . . . . . . . . . . . . . . . . . . . . . . . . . . . . . . . . . . . . . . . . . o o # . o o o o o . . . . #\n",
      "157 . . . . . . . . . . . . . . . . . . . . . . . . . . . . . . . . . . . . . . . . . . . o o o # o o o o o o o . . . #\n",
      "158 . . . . . . . . . . . . . . . . . . . . . . . . . . . . . . . . . . . . . . . . . . o o o o # # # # # # # # # # # #\n",
      "159 . . . . . . . . . . . . . . . . . . . . . . . . . . . . . . . . . . . . . . . . . o o o o o o . . . . . . . . . . .\n",
      "160 . . . . . . . . . . . . . . . . . . . . . . . . . . . . . . . . . . . . . . . . o o o o o o o o . . . . . . . . . .\n",
      "161 . . . . . . . . . . . . . . . . . . . . . . . . . . . . . . . . . . . . . . . o o o o o o o o o o . . . . . . . . .\n",
      "162 . . . . . . . . . . . . . . . . . . . . . . . . . . . . . . . . . . . . . . o o o o o o o o o o o o . # . . . . . .\n",
      "163 . . . . . . . . . . . . . . . . . . . . . . . . . . . . . . . . . . . . . # # # # # # # # # # # # # # # . . . . . .\n"
     ]
    }
   ],
   "source": [
    "print_cave()"
   ]
  },
  {
   "cell_type": "code",
   "execution_count": 411,
   "id": "11eb1d82-3562-48cc-853e-28ee44369b3c",
   "metadata": {},
   "outputs": [
    {
     "data": {
      "text/plain": [
       "828"
      ]
     },
     "execution_count": 411,
     "metadata": {},
     "output_type": "execute_result"
    }
   ],
   "source": [
    "len([sand for sand in sand_pile if not sand.is_in_abyss])"
   ]
  },
  {
   "cell_type": "markdown",
   "id": "c04504af-3a77-49e6-b808-fa1f6e070b52",
   "metadata": {
    "tags": []
   },
   "source": [
    "### Part 2"
   ]
  },
  {
   "cell_type": "markdown",
   "id": "40fac4e2-cc63-4b30-99b5-ab6017894fe3",
   "metadata": {},
   "source": [
    "#### Apply to example"
   ]
  },
  {
   "cell_type": "code",
   "execution_count": 412,
   "id": "657048da-d8ed-4992-a9ee-ea2fdbffe3fa",
   "metadata": {},
   "outputs": [],
   "source": [
    "rock_scan_str = \"\"\"498,4 -> 498,6 -> 496,6\n",
    "503,4 -> 502,4 -> 502,9 -> 494,9\"\"\""
   ]
  },
  {
   "cell_type": "code",
   "execution_count": 413,
   "id": "5e7342a6-74aa-4616-b0f9-beb241dd67c9",
   "metadata": {},
   "outputs": [],
   "source": [
    "rock_scan = rock_scan_str.split('\\n')"
   ]
  },
  {
   "cell_type": "code",
   "execution_count": 414,
   "id": "7be31e44-cd78-4f04-91c9-f79c5fa3770d",
   "metadata": {},
   "outputs": [],
   "source": [
    "rock_scan = [rock_wall.split(' -> ') for rock_wall in rock_scan]"
   ]
  },
  {
   "cell_type": "code",
   "execution_count": 415,
   "id": "08657fe0-488d-47dd-8974-09b176775cba",
   "metadata": {},
   "outputs": [],
   "source": [
    "rock_scan = [[(int(rock_corner.split(',')[0]), int(rock_corner.split(',')[1]))  for rock_corner in rock_wall] for rock_wall in rock_scan]"
   ]
  },
  {
   "cell_type": "code",
   "execution_count": 416,
   "id": "6df3d3fe-58d9-49ab-855f-2739087ed9a0",
   "metadata": {},
   "outputs": [],
   "source": [
    "cave = defaultdict(lambda: None)\n",
    "for rock_corners in rock_scan:\n",
    "    create_rock_wall(rock_corners)"
   ]
  },
  {
   "cell_type": "code",
   "execution_count": 417,
   "id": "b08575c2-8f41-4ce4-80e3-dfd041b78fdd",
   "metadata": {},
   "outputs": [
    {
     "data": {
      "text/plain": [
       "(503, 494, 9, 4)"
      ]
     },
     "execution_count": 417,
     "metadata": {},
     "output_type": "execute_result"
    }
   ],
   "source": [
    "max_x, min_x, max_y, min_y = get_cave_boundaries()\n",
    "max_x, min_x, max_y, min_y"
   ]
  },
  {
   "cell_type": "code",
   "execution_count": 418,
   "id": "6fb8cbff-7c50-4118-9500-944dbb63c842",
   "metadata": {},
   "outputs": [
    {
     "name": "stdout",
     "output_type": "stream",
     "text": [
      "0  . . . . . . . . . .\n",
      "1  . . . . . . . . . .\n",
      "2  . . . . . . . . . .\n",
      "3  . . . . . . . . . .\n",
      "4  . . . . # . . . # #\n",
      "5  . . . . # . . . # .\n",
      "6  . . # # # . . . # .\n",
      "7  . . . . . . . . # .\n",
      "8  . . . . . . . . # .\n",
      "9  # # # # # # # # # .\n"
     ]
    }
   ],
   "source": [
    "print_cave()"
   ]
  },
  {
   "cell_type": "code",
   "execution_count": 419,
   "id": "1564a298-254e-4d41-887d-72419d63986e",
   "metadata": {},
   "outputs": [],
   "source": [
    "class MoveBlocked(Exception):\n",
    "    pass\n",
    "\n",
    "@dataclass\n",
    "class Sand:\n",
    "    position: Tuple[int, int]\n",
    "    cave: dict\n",
    "    is_at_rest: bool = False\n",
    "    invisible_floor: int = field(default_factory=lambda cave=cave: max([y for (x, y), value in cave.items() if value == '#']) + 1)\n",
    "    \n",
    "    def update(self):\n",
    "        if not self.is_at_rest:\n",
    "            self.move_down()\n",
    "    \n",
    "    def move_down(self):\n",
    "        x, y = self.position\n",
    "        for new_position in [(x, y+1), (x-1, y+1), (x+1, y+1)]:\n",
    "            try:\n",
    "                if self.move(new_position):\n",
    "                    break\n",
    "            except MoveBlocked:\n",
    "                pass\n",
    "        else:\n",
    "            self.is_at_rest = True\n",
    "    \n",
    "    def move(self, new_position):\n",
    "        \n",
    "        x, y = new_position\n",
    "        if y > self.invisible_floor:\n",
    "            raise MoveBlocked\n",
    "        \n",
    "        if cave[new_position] is None:  # Space is available\n",
    "            cave[self.position] = None\n",
    "            cave[new_position] = 'o'\n",
    "            self.position = new_position\n",
    "            return True\n",
    "        else:\n",
    "            raise MoveBlocked"
   ]
  },
  {
   "cell_type": "code",
   "execution_count": 420,
   "id": "97005899-2198-491e-be8a-34653df60905",
   "metadata": {},
   "outputs": [],
   "source": [
    "def update(debug=False):\n",
    "    global sand_pile\n",
    "    \n",
    "    for sand in sand_pile:\n",
    "        sand.update()\n",
    "        \n",
    "    # Add new stand of no sand, or sand is at rest\n",
    "    # if len(sand_pile) == 0 or all([sand.is_at_rest for sand in sand_pile]):\n",
    "    if len(sand_pile) == 0 or all([sand.is_at_rest for sand in sand_pile]) or all([sand.position != (500, 0) for sand in sand_pile]):  # Speed up simulation by dropping sand more frequently\n",
    "        sand_pile.append(Sand(start_position, cave))\n",
    "        \n",
    "    if debug: print_cave()"
   ]
  },
  {
   "cell_type": "code",
   "execution_count": 421,
   "id": "9c9dc9f9-d4fc-4831-a28e-76dcafe99ac4",
   "metadata": {},
   "outputs": [],
   "source": [
    "sand_pile = []"
   ]
  },
  {
   "cell_type": "code",
   "execution_count": 422,
   "id": "d2c7e9aa-de79-4469-aeb2-c4cbf1a07947",
   "metadata": {},
   "outputs": [],
   "source": [
    "start_position = (500, -1)"
   ]
  },
  {
   "cell_type": "code",
   "execution_count": 423,
   "id": "473b7bd4-e08f-46dc-84f8-6081dfe7ddc5",
   "metadata": {},
   "outputs": [],
   "source": [
    "while True:\n",
    "    update()\n",
    "    if any([sand.is_at_rest and sand.position == (500, 0) for sand in sand_pile]):\n",
    "        break"
   ]
  },
  {
   "cell_type": "code",
   "execution_count": 424,
   "id": "8dbf1397-048e-40c7-ac61-9c77ff2e68b3",
   "metadata": {},
   "outputs": [
    {
     "name": "stdout",
     "output_type": "stream",
     "text": [
      "0  . . . . . . . . . . o . . . . . . . . . .\n",
      "1  . . . . . . . . . o o o . . . . . . . . .\n",
      "2  . . . . . . . . o o o o o . . . . . . . .\n",
      "3  . . . . . . . o o o o o o o . . . . . . .\n",
      "4  . . . . . . o o # o o o # # o . . . . . .\n",
      "5  . . . . . o o o # o o o # o o o . . . . .\n",
      "6  . . . . o o # # # o o o # o o o o . . . .\n",
      "7  . . . o o o o . o o o o # o o o o o . . .\n",
      "8  . . o o o o o o o o o o # o o o o o o . .\n",
      "9  . o o o # # # # # # # # # o o o o o o o .\n",
      "10 o o o o o . . . . . . . o o o o o o o o o\n"
     ]
    }
   ],
   "source": [
    "max_x, min_x, max_y, min_y = get_cave_boundaries()\n",
    "print_cave()"
   ]
  },
  {
   "cell_type": "code",
   "execution_count": 425,
   "id": "e7078315-4484-4eb0-8065-c4ed782c641a",
   "metadata": {},
   "outputs": [
    {
     "data": {
      "text/plain": [
       "93"
      ]
     },
     "execution_count": 425,
     "metadata": {},
     "output_type": "execute_result"
    }
   ],
   "source": [
    "len(sand_pile) - 1"
   ]
  },
  {
   "cell_type": "code",
   "execution_count": 426,
   "id": "89137672-d3be-49ca-a9bf-849184ed43d4",
   "metadata": {},
   "outputs": [
    {
     "data": {
      "text/plain": [
       "(500, -1)"
      ]
     },
     "execution_count": 426,
     "metadata": {},
     "output_type": "execute_result"
    }
   ],
   "source": [
    "sand_pile[-1].position  # Sand is being dropped off map"
   ]
  },
  {
   "cell_type": "markdown",
   "id": "ca1ed91b-043b-41df-9f70-7e8e6b74f7cf",
   "metadata": {},
   "source": [
    "#### Apply to Puzzle Input"
   ]
  },
  {
   "cell_type": "code",
   "execution_count": 427,
   "id": "9e37f620-4c36-4dc9-b16f-4216e6c73279",
   "metadata": {},
   "outputs": [],
   "source": [
    "rock_scan_str = [line.strip() for line in open('data/input_d14_01.txt', 'r')]"
   ]
  },
  {
   "cell_type": "code",
   "execution_count": 428,
   "id": "aa7c1811-e364-4d63-8615-1e6214ed01c2",
   "metadata": {},
   "outputs": [],
   "source": [
    "rock_scan = [rock_wall.split(' -> ') for rock_wall in rock_scan_str]"
   ]
  },
  {
   "cell_type": "code",
   "execution_count": 429,
   "id": "218ece5a-6061-45f4-b847-66568ba60296",
   "metadata": {},
   "outputs": [],
   "source": [
    "rock_scan = [[(int(rock_corner.split(',')[0]), int(rock_corner.split(',')[1]))  for rock_corner in rock_wall] for rock_wall in rock_scan]"
   ]
  },
  {
   "cell_type": "code",
   "execution_count": 430,
   "id": "9a236d95-b8c8-4acb-8c15-91f230ecc70b",
   "metadata": {},
   "outputs": [],
   "source": [
    "cave = defaultdict(lambda: None)\n",
    "for rock_corners in rock_scan:\n",
    "    create_rock_wall(rock_corners)"
   ]
  },
  {
   "cell_type": "code",
   "execution_count": 431,
   "id": "b3c6650b-c74b-46d2-8d44-2930920831f3",
   "metadata": {},
   "outputs": [],
   "source": [
    "class MoveBlocked(Exception):\n",
    "    pass\n",
    "\n",
    "@dataclass\n",
    "class Sand:\n",
    "    position: Tuple[int, int]\n",
    "    cave: dict\n",
    "    is_at_rest: bool = False\n",
    "    invisible_floor: int = field(default_factory=lambda cave=cave: max([y for (x, y), value in cave.items() if value == '#']) + 1)\n",
    "    \n",
    "    def update(self):\n",
    "        if not self.is_at_rest:\n",
    "            self.move_down()\n",
    "    \n",
    "    def move_down(self):\n",
    "        x, y = self.position\n",
    "        for new_position in [(x, y+1), (x-1, y+1), (x+1, y+1)]:\n",
    "            try:\n",
    "                if self.move(new_position):\n",
    "                    break\n",
    "            except MoveBlocked:\n",
    "                pass\n",
    "        else:\n",
    "            self.is_at_rest = True\n",
    "    \n",
    "    def move(self, new_position):\n",
    "        \n",
    "        x, y = new_position\n",
    "        if y > self.invisible_floor:\n",
    "            raise MoveBlocked\n",
    "        \n",
    "        if cave[new_position] is None:  # Space is available\n",
    "            cave[self.position] = None\n",
    "            cave[new_position] = 'o'\n",
    "            self.position = new_position\n",
    "            return True\n",
    "        else:\n",
    "            raise MoveBlocked"
   ]
  },
  {
   "cell_type": "code",
   "execution_count": 432,
   "id": "bedc06f7-59a9-4e84-bc4e-535e0a3c33da",
   "metadata": {},
   "outputs": [],
   "source": [
    "sand_pile = []"
   ]
  },
  {
   "cell_type": "code",
   "execution_count": 433,
   "id": "48d46a5a-1e76-4806-a8f3-1eb9ffb1bd5c",
   "metadata": {},
   "outputs": [],
   "source": [
    "start_position = (500, -1)"
   ]
  },
  {
   "cell_type": "code",
   "execution_count": 434,
   "id": "ce4ba464-998a-4ddc-8ac1-fd3747d927f0",
   "metadata": {},
   "outputs": [
    {
     "name": "stdout",
     "output_type": "stream",
     "text": [
      "CPU times: user 2min 28s, sys: 28 ms, total: 2min 28s\n",
      "Wall time: 2min 28s\n"
     ]
    }
   ],
   "source": [
    "%%time\n",
    "while True:\n",
    "    update()\n",
    "    if any([sand.is_at_rest and sand.position == (500, 0) for sand in sand_pile]):\n",
    "        break"
   ]
  },
  {
   "cell_type": "code",
   "execution_count": 435,
   "id": "22577a8c-8781-48ef-8e36-6125e31c0e75",
   "metadata": {},
   "outputs": [
    {
     "name": "stdout",
     "output_type": "stream",
     "text": [
      "0 ....................................................................................................................................................................o....................................................................................................................................................................\n",
      "1 ...................................................................................................................................................................ooo...................................................................................................................................................................\n",
      "2 ..................................................................................................................................................................ooooo..................................................................................................................................................................\n",
      "3 .................................................................................................................................................................ooooooo.................................................................................................................................................................\n",
      "4 ................................................................................................................................................................ooooooooo................................................................................................................................................................\n",
      "5 ...............................................................................................................................................................ooooooooooo...............................................................................................................................................................\n",
      "6 ..............................................................................................................................................................ooooooooooooo..............................................................................................................................................................\n",
      "7 .............................................................................................................................................................ooooooooooooooo.............................................................................................................................................................\n",
      "8 ............................................................................................................................................................ooooooooooooooooo............................................................................................................................................................\n",
      "9 ...........................................................................................................................................................ooooooooooooooooooo...........................................................................................................................................................\n",
      "10..........................................................................................................................................................ooooooooooooooooooooo..........................................................................................................................................................\n",
      "11.........................................................................................................................................................ooooooooooooooooooooooo.........................................................................................................................................................\n",
      "12........................................................................................................................................................ooooooooooooooooooooooooo........................................................................................................................................................\n",
      "13.......................................................................................................................................................ooooooooooo#####ooooooooooo.......................................................................................................................................................\n",
      "14......................................................................................................................................................ooooooooooooo...ooooooooooooo......................................................................................................................................................\n",
      "15.....................................................................................................................................................oooooooooo#####.#####oooooooooo.....................................................................................................................................................\n",
      "16....................................................................................................................................................oooooooooooo.........oooooooooooo....................................................................................................................................................\n",
      "17...................................................................................................................................................ooooooooo#####.#####.#####ooooooooo...................................................................................................................................................\n",
      "18..................................................................................................................................................ooooooooooo...............ooooooooooo..................................................................................................................................................\n",
      "19.................................................................................................................................................oooooooo#####.#####.#####.#####oooooooo.................................................................................................................................................\n",
      "20................................................................................................................................................oooooooooo.....................oooooooooo................................................................................................................................................\n",
      "21...............................................................................................................................................oooooooooooo...................oooooooooooo...............................................................................................................................................\n",
      "22..............................................................................................................................................ooooooo######o.................oooooooooooooo..............................................................................................................................................\n",
      "23.............................................................................................................................................ooooooooo....ooo...............oooooooooooooooo.............................................................................................................................................\n",
      "24............................................................................................................................................ooooooooooo..ooooo.............oooooooooooooooooo............................................................................................................................................\n",
      "25...........................................................................................................................................ooooooo######o######...........oooooooooooooooooooo...........................................................................................................................................\n",
      "26..........................................................................................................................................ooooooooo....ooo...............oooooooooooooooooooooo..........................................................................................................................................\n",
      "27.........................................................................................................................................ooooooooooo..ooooo.............oooooooooooooooooooooooo.........................................................................................................................................\n",
      "28........................................................................................................................................ooooooo######o######.######....oooooooooooooooooooooooooo........................................................................................................................................\n",
      "29.......................................................................................................................................ooooooooo....ooo...............oooooooooooooooooooooooooooo.......................................................................................................................................\n",
      "30......................................................................................................................................ooooooooooo..ooooo.............oooooooooooooooooooooooooooooo......................................................................................................................................\n",
      "31.....................................................................................................................................ooooooo######o######.######.######ooooooooooooooooooooooooooooo.....................................................................................................................................\n",
      "32....................................................................................................................................ooooooooo....ooo..................ooooooooooooooooooooooooooooooo....................................................................................................................................\n",
      "33...................................................................................................................................ooooooooooo..ooooo................ooooooooooooooooooooooooooooooooo...................................................................................................................................\n",
      "34..................................................................................................................................ooooooo######o######.######.######o######oooooooooooooooooooooooooooo..................................................................................................................................\n",
      "35.................................................................................................................................ooooooooo....ooo..................ooo....oooooooooooooooooooooooooooooo.................................................................................................................................\n",
      "36................................................................................................................................ooooooooooo..ooooo................ooooo..oooooooooooooooooooooooooooooooo................................................................................................................................\n",
      "37...............................................................................................................................ooooooooooooooo#o#oo..............ooooooooooooooooooooooooooooooooooooooooo...............................................................................................................................\n",
      "38..............................................................................................................................oooooooooooooooo#o#ooo............ooooooooooooooooooooooooooooooooooooooooooo..............................................................................................................................\n",
      "39.............................................................................................................................ooooooooooooo#####o########.......ooooooooooooooooooooooooooooooooooooooooooooo.............................................................................................................................\n",
      "40............................................................................................................................oooooooooooooo#...ooo......#......ooooooooooooooooooooooooooooooooooooooooooooooo............................................................................................................................\n",
      "41...........................................................................................................................ooooooooooooooo#..ooooo.....#.....ooooooooooooooooooooooooooooooooooooooooooooooooo...........................................................................................................................\n",
      "42..........................................................................................................................oooooooooooooooo#.ooooooo....#....ooooooooooooooooooooooooooooooooooooooooooooooooooo..........................................................................................................................\n",
      "43.........................................................................................................................ooooooooooooooooo##############...ooooooooooooooooooooooooooooooooooooooooooooooooooooo.........................................................................................................................\n",
      "44........................................................................................................................ooooooooooooooooooo...............ooooooooooooooooooooooooooooooooooooooooooooooooooooooo........................................................................................................................\n",
      "45.......................................................................................................................ooooooooooooooooooooo.............ooooooooooooooooooooooooooooooooooooooooooooooooooooooooo.......................................................................................................................\n",
      "46......................................................................................................................ooooooooooooooooooooooo...........ooooooooooooooooooooooooooooooooooooooooooooooooooooooooooo......................................................................................................................\n",
      "47.....................................................................................................................ooooooooooooooooooooooooo.........ooooooooooooooooooooooooooooooooooooooooooooooooooooooooooooo.....................................................................................................................\n",
      "48....................................................................................................................ooooooooooooooooooooooooooo.......ooooooooooooooooooooooooooooooooooooooooooooooooooooooooooooooo....................................................................................................................\n",
      "49...................................................................................................................ooooooooooooooooooooooooooooo.....ooooooooooooooooooooooo#ooo#ooooooooooooooooooooooooooooooooooooo...................................................................................................................\n",
      "50..................................................................................................................ooooooooooooooooooooooooooooooo...oooooooooooooooooooooooo#ooo#oooooooooooooooooooooooooooooooooooooo..................................................................................................................\n",
      "51.................................................................................................................ooooooooooooooooooooooooooooooooo.ooooooooooooooooooooooooo#o#o#ooooooooooooooooooooooooooooooooooooooo.................................................................................................................\n",
      "52................................................................................................................oooooooooooooooooooooooooooooooooooooooooooooooooooooooooooo#o#o#o#oooooooooooooooooooooooooooooooooooooo................................................................................................................\n",
      "53...............................................................................................................ooooooooooooooooooooooooooooooooooooooooooooooooooooooooooooo#o#o#o#ooooooooooooooooooooooooooooooooooooooo...............................................................................................................\n",
      "54..............................................................................................................oooooooooooooooooooooooooooooooooooooooooooooooooooooooooooooo#o#o#o#oooooooooooooooooooooooooooooooooooooooo..............................................................................................................\n",
      "55.............................................................................................................ooooooooooooooooooooooooooooooooooooooooooooooooooooooooooooooo#o#o#o#ooooooooooooooooooooooooooooooooooooooooo.............................................................................................................\n",
      "56............................................................................................................oooooooooooooooooooooooooooooooooooooooooooooooooooooooooooooooo#######oooooooooooooooooooooooooooooooooooooooooo............................................................................................................\n",
      "57...........................................................................................................oooooooooooooooooooooooooooooooooooooooooooooooooooooooooooooooooo.....oooooooooooooooooooooooooooooooooooooooooooo...........................................................................................................\n",
      "58..........................................................................................................oooooooooooooooooooooooooooooooooooooooooooooooooooooooooooooooooooo...oooooooooooooooooooooooooooooooooooooooooooooo..........................................................................................................\n",
      "59.........................................................................................................oooooooooooooooooooooooooooooooooooooooooooooooooooooooooooooooooooooo.oooooooooooooooooooooooooooooooooooooooooooooooo.........................................................................................................\n",
      "60........................................................................................................ooooooooooooooooooooooooooooooooooooooooooooooooooooooooooooooooooooooo############oooooooooooooooooooooooooooooooooooooo........................................................................................................\n",
      "61.......................................................................................................ooooooooooooooooooooooooooooooooooooooooooooooooooooooooooooooooooooooooo..........oooooooooooooooooooooooooooooooooooooooo.......................................................................................................\n",
      "62......................................................................................................ooooooooooooooooooooooooooooooooooooooooooooooooooooooooooooooooooooooooooo........oooooooooooooooooooooooooooooooooooooooooo......................................................................................................\n",
      "63.....................................................................................................ooooooooooooooooooooooooooooooooooooooooooooooooooooooooooooooooooooooooooooo......oooooooooooooooooooooooooooooooooooooooooooo.....................................................................................................\n",
      "64....................................................................................................ooooooooooooooooooooooooooooooooooooooooooooooooooooooooooooooooooooooooooooooo....oooooooooooooooooooooooooooooooooooooooooooooo....................................................................................................\n",
      "65...................................................................................................ooooooooooooooooooooooooooooooooooooooooooooooooooooooooooooooooooooooooooooooooo..ooooooooo#oooooooooooooooooooooooooooooooooooooo...................................................................................................\n",
      "66..................................................................................................ooooooooooooooooooooooooooooooooooooooooooooooooooooooooooooooooooooooooooooooooooooooooooooo#ooooooooooooooooooooooooooooooooooooooo..................................................................................................\n",
      "67.................................................................................................oooooooooooooooooooooooooooooooooooooooooooooooooooooooooooooooooooooooooooooooooooooooooooooo#oooooooooooooooooooooooooooooooooooooooo.................................................................................................\n",
      "68................................................................................................ooooooooooooooooooooooooooooooooooooooooooooooooooooooooooooooooooooooooooooooooooooooooooooooo#ooooooooooooooooooooooooooooooooooooooooo................................................................................................\n",
      "69...............................................................................................oooooooooooooooooooooooooooooooooooooooooooooooooooooooooooooooooooooooooooooooooooooo#ooooo#o#o#oooooooooooooooooooooooooooooooooooooooooo...............................................................................................\n",
      "70..............................................................................................ooooooooooooooooooooooooooooooooooooooooooooooooooooooooooooooooooooooooooooooooooooooo#ooooo#o#o#ooooooooooooooooooooooooooooooooooooooooooo..............................................................................................\n",
      "71.............................................................................................oooooooooooooooooooooooooooooooooooooooooooooooooooooooooooooooooooooooooooooooooooooooo#o#ooo#o#o#oooooooooooooooooooooooooooooooooooooooooooo.............................................................................................\n",
      "72............................................................................................ooooooooooooooooooooooooooooooooooooooooooooooooooooooooooooooooooooooooooooooooooooooooo#o#o#o#o#o#ooooooooooooooooooooooooooooooooooooooooooooo............................................................................................\n",
      "73...........................................................................................oooooooooooooooooooooooooooooooooooooooooooooooooooooooooooooooooooooooooooooooooooooooooo###########oooooooooooooooooooooooooooooooooooooooooooooo...........................................................................................\n",
      "74..........................................................................................oooooooooooooooooooooooooooooooooooooooooooooooooooooooooooooooooooooooooooooooooooooooooooo.........oooooooooooooooooooooooooooooooooooooooooooooooo..........................................................................................\n",
      "75.........................................................................................oooooooooooooooooooooooooooooooooooooooooooooooooooooooooooooooooooooooooooooooooooooooooooooo.......oooooooooooooooooooooooooooooooooooooooooooooooooo.........................................................................................\n",
      "76........................................................................................ooooooooooooooooooooooooooooooooooooooooooooooooooooooooooooooooooooooooooooooooooooooooo######o.....oooooooooooooooooooooooooooooooooooooooooooooooooooo........................................................................................\n",
      "77.......................................................................................ooooooooooooooooooooooooooooooooooooooooooooooooooooooooooooooooooooooooooooooooooooooooooo....ooo...oooooooooooooooooooooooooooooooooooooooooooooooooooooo.......................................................................................\n",
      "78......................................................................................ooooooooooooooooooooooooooooooooooooooooooooooooooooooooooooooooooooooooooooooooooooooooooooo..ooooo.oooooooooooooooooooooooooooooooooooooooooooooooooooooooo......................................................................................\n",
      "79.....................................................................................ooooooooooooooooooooooooooooooooooooooooooooooooooooooooooooooooooooooooooooooooooooooooo######o######ooooooooooooooooooooooooooooooooooooooooooooooooooooooooo.....................................................................................\n",
      "80....................................................................................ooooooooooooooooooooooooooooooooooooooooooooooooooooooooooooooooooooooooooooooooooooooooooo....ooo....ooooooooooooooooooooooooooooooooooooooooooooooooooooooooooo....................................................................................\n",
      "81...................................................................................ooooooooooooooooooooooooooooooooooooooooooooooooooooooooooooooooooooooooooooooooooooooooooooo..ooooo..ooooooooooooooooooooooooooooooooooooooooooooooooooooooooooooo...................................................................................\n",
      "82..................................................................................ooooooooooooooooooooooooooooooooooooooooooooooooooooooooooooooooooooooooooooooooooooooooo######o######o######oooooooooooooooooooooooooooooooooooooooooooooooooooooooo..................................................................................\n",
      "83.................................................................................ooooooooooooooooooooooooooooooooooooooooooooooooooooooooooooooooooooooooooooooooooooooooooo....ooo....ooo....oooooooooooooooooooooooooooooooooooooooooooooooooooooooooo.................................................................................\n",
      "84................................................................................ooooooooooooooooooooooooooooooooooooooooooooooooooooooooooooooooooooooooooooooooooooooooooooo..ooooo..ooooo..oooooooooooooooooooooooooooooooooooooooooooooooooooooooooooo................................................................................\n",
      "85...............................................................................ooooooooooooooooooooooooooooooooooooooooooooooooooooooooooooooooooooooooooooooooooooooooo######o######o######o######ooooooooooooooooooooooooooooooooooooooooooooooooooooooo...............................................................................\n",
      "86..............................................................................ooooooooooooooooooooooooooooooooooooooooooooooooooooooooooooooooooooooooooooooooooooooooooo....ooo....ooo....ooo....ooooooooooooooooooooooooooooooooooooooooooooooooooooooooo..............................................................................\n",
      "87.............................................................................ooooooooooooooooooooooooooooooooooooooooooooooooooooooooooooooooooooooooooooooooooooooooooooo..ooooo..ooooo..ooooo..ooooooooooooooooooooooooooooooooooooooooooooooooooooooooooo.............................................................................\n",
      "88............................................................................ooooooooooooooooooooooooooooooooooooooooooooooooooooooooooooooooooooooooooooooooooooooooooooooo#ooooo#ooooooooooooooooooooooooooooooooooooooooooooooooooooooooooooooooooooooooooo............................................................................\n",
      "89...........................................................................oooooooooooooooooooooooooooooooooooooooooooooooooooooooooooooooooooooooooooooooooooooooooooooooo#ooooo#oooooooooooooooooooooooooooooooooooooooooooooooooooooooooooooooooooooooooooo...........................................................................\n",
      "90..........................................................................ooooooooooooooooooooooooooooooooooooooooooooooooooooooooooooooooooooooooooooooooooooooooooooooooo#ooooo#ooooooooooooooooooooooooooooooooooooooooooooooooooooooooooooooooooooooooooooo..........................................................................\n",
      "91.........................................................................oooooooooooooooooooooooooooooooooooooooooooooooooooooooooooooooooooooooooooooooooooooooooooooo#####ooooo#######oooooooooooooooooooooooooooooooooooooooooooooooooooooooooooooooooooooooo.........................................................................\n",
      "92........................................................................ooooooooooooooooooooooooooooooooooooooooooooooooooooooooooooooooooooooooooooooooooooooooooooooo#...ooooooo.....#ooooooooooooooooooooooooooooooooooooooooooooooooooooooooooooooooooooooooo........................................................................\n",
      "93.......................................................................oooooooooooooooooooooooooooooooooooooooooooooooooooooooooooooooooooooooooooooooooooooooooooooooo#..ooooooooo....#oooooooooooooooooooooooooooooooooooooooooooooooooooooooooooooooooooooooooo.......................................................................\n",
      "94......................................................................ooooooooooooooooooooooooooooooooooooooooooooooooooooooooooooooooooooooooooooooooooooooooooooooooo#.ooooooooooo...#ooooooooooooooooooooooooooooooooooooooooooooooooooooooooooooooooooooooooooo......................................................................\n",
      "95.....................................................................oooooooooooooooooooooooooooooooooooooooooooooooooooooooooooooooooooooooooooooooooooooooooooooooooo#ooooooooooooo..#oooooooooooooooooooooooooooooooooooooooooooooooooooooooooooooooooooooooooooo.....................................................................\n",
      "96....................................................................ooooooooooooooooooooooooooooooooooooooooooooooooooooooooooooooooooooooooooooooooooooooooooooooooooo#################ooooooooooooooooooooooooooooooooooooooooooooooooooooooooooooooooooooooooooooo....................................................................\n",
      "97...................................................................ooooooooooooooooooooooooooooooooooooooooooooooooooooooooooooooooooooooooooooooooooooooooooooooooooooo...............ooooooooooooooooooooooooooooooooooooooooooooooooooooooooooooooooooooooooooooooo...................................................................\n",
      "98..................................................................ooooooooooooooooooooooooooooooooooooooooooooooooooooooooooooooooooooooooooooooooooooooooooooooooooooooo.............ooooooooooooooooooooooooooooooooooooooooooooooooooooooooooooooooooooooooooooooooo..................................................................\n",
      "99.................................................................ooooooooooooooooooooooooooooooooooooooooooooooooooooooooooooooooooooooooooooooooooooooooooooooooooo#####o...........ooooooooooooooooooooooooooooooooooooooooooooooooooooooooooooooooooooooooooooooooooo.................................................................\n",
      "100................................................................ooooooooooooooooooooooooooooooooooooooooooooooooooooooooooooooooooooooooooooooooooooooooooooooooooooo...ooo.........ooooooooooooooooooooooooooooooooooooooooooooooooooooooooooooooooooooooooooooooooooooo................................................................\n",
      "101...............................................................ooooooooooooooooooooooooooooooooooooooooooooooooooooooooooooooooooooooooooooooooooooooooooooooooooooooo.ooooo.......ooooooooooooooooooooooooooooooooooooooooooooooooooooooooooooooooooooooooooooooooooooooo...............................................................\n",
      "102..............................................................ooooooooooooooooooooooooooooooooooooooooooooooooooooooooooooooooooooooooooooooooooooooooooooooooooo#####o#####o.....ooooooooooooooooooooooooooooooooooooooooooooooooooooooooooooooooooooooooooooooooooooooooo..............................................................\n",
      "103.............................................................ooooooooooooooooooooooooooooooooooooooooooooooooooooooooooooooooooooooooooooooooooooooooooooooooooooo...ooo...ooo...ooooooooooooooooooooooooooooooooooooooooooooooooooooooooooooooooooooooooooooooooooooooooooo.............................................................\n",
      "104............................................................ooooooooooooooooooooooooooooooooooooooooooooooooooooooooooooooooooooooooooooooooooooooooooooooooooooooo.ooooo.ooooo.ooooooooooooooooooooooooooooooooooooooooooooooooooooooooooooooooooooooooooooooooooooooooooooo............................................................\n",
      "105...........................................................ooooooooooooooooooooooooooooooooooooooooooooooooooooooooooooooooooooooooooooooooooooooooooooooooooo#####o#####o#####ooooooooooooooooooooooooooooooooooooooooooooooooooooooooooooooooooooooooooooooooooooooooooooooo...........................................................\n",
      "106..........................................................ooooooooooooooooooooooooooooooooooooooooooooooooooooooooooooooooooooooooooooooooooooooooooooooooooooo...ooo...ooo...ooooooooooooooooooooooooooooooooooooooooooooooooooooooooooooooooooooooooooooooooooooooooooooooooo..........................................................\n",
      "107.........................................................ooooooooooooooooooooooooooooooooooooooooooooooooooooooooooooooooooooooooooooooooooooooooooooooooooooooo.ooooo.ooooo.ooooooooooooooooooooooooooooooooooooooooooooooooooooooooooooooooooooooooooooooooooooooooooooooooooo.........................................................\n",
      "108........................................................ooooooooooooooooooooooooooooooooooooooooooooooooooooooooooooooooooooooooooooooooooooooooooooooooooo#####o#####o#####o#####ooooooooooooooooooooooooooooooooooooooooooooooooooooooooooooooooooooooooooooooooooooooooooooooo........................................................\n",
      "109.......................................................ooooooooooooooooooooooooooooooooooooooooooooooooooooooooooooooooooooooooooooooooooooooooooooooooooooo...ooo...ooo...ooo...ooooooooooooooooooooooooooooooooooooooooooooooooooooooooooooooooooooooooooooooooooooooooooooooooo.......................................................\n",
      "110......................................................ooooooooooooooooooooooooooooooooooooooooooooooooooooooooooooooooooooooooooooooooooooooooooooooooooooooo.ooooo.ooooo.ooooo.ooooooooooooooooooooooooooooooooooooooooooooooooooooooooooooooooooooooooooooooooooooooooooooooooooo......................................................\n",
      "111.....................................................ooooooooooooooooooooooooooooooooooooooooooooooooooooooooooooooooooooooooooooooooooooooooooooooooooooooooooooooooooooooooooooooooooooooooooooooooooooooooooooooooooooooooooooooooooooooooooooooooooooooooooooooooooooooooooooooo.....................................................\n",
      "112....................................................oooooooooooooooooooooooooooooooooooooooooooooooooooooooooooooooooooooooooooooooooooooooooooooooooooooooooo#oooooooooooooooooooooooooooooooooooooooooooooooooooooooooooooooooooooooooooooooooooooooooooooooooooooooooooooooooooooo....................................................\n",
      "113...................................................ooooooooooooooooooooooooooooooooooooooooooooooooooooooooooooooooooooooooooooooooooooooooooooooooo#ooooooooo#ooooooooooooooooooooooooooooooooooooooooooooooooooooooooooooooooooooooooooooooooooooooooooooooooooooooooooooooooooooooo...................................................\n",
      "114..................................................oooooooooooooooooooooooooooooooooooooooooooooooooooooooooooooooooooooooooooooooooooooooooooooooooo#ooo#ooooo#oooooooooooooooooooooooooooooooooooooooooooooooooooooooooooooooooooooooooooooooooooooooooooooooooooooooooooooooooooooooo..................................................\n",
      "115.................................................ooooooooooooooooooooooooooooooooooooooooooooooooooooooooooooooooooooooooooooooooooooooooooooooooooo#o#o#ooooo#ooooooooooooooooooooooooooooooooooooooooooooooooooooooooooooooooooooooooooooooooooooooooooooooooooooooooooooooooooooooooo.................................................\n",
      "116................................................oooooooooooooooooooooooooooooooooooooooooooooooooooooooooooooooooooooooooooooooooooooooooooooooooooo#o#o#ooo#o#oooooooooooooooooooooooooooooooooooooooooooooooooooooooooooooooooooooooooooooooooooooooooooooooooooooooooooooooooooooooooo................................................\n",
      "117...............................................ooooooooooooooooooooooooooooooooooooooooooooooooooooooooooooooooooooooooooooooooooooooooooooooooooooo#o#o#ooo#o#ooooooooooooooooooooooooooooooooooooooooooooooooooooooooooooooooooooooooooooooooooooooooooooooooooooooooooooooooooooooooooo...............................................\n",
      "118..............................................oooooooooooooooooooooooooooooooooooooooooooooooooooooooooooooooooooooooooooooooooooooooooooooooooooooo#o#o#ooo#o#oooooooooooooooooooooooooooooooooooooooooooooooooooooooooooooooooooooooooooooooooooooooooooooooooooooooooooooooooooooooooooo..............................................\n",
      "119.............................................ooooooooooooooooooooooooooooooooooooooooooooooooooooooooooooooooooooooooooooooooooooooooooooooooooooooo#o#o#ooo#o#ooooooooooooooooooooooooooooooooooooooooooooooooooooooooooooooooooooooooooooooooooooooooooooooooooooooooooooooooooooooooooooo.............................................\n",
      "120............................................oooooooooooooooooooooooooooooooooooooooooooooooooooooooooooooooooooooooooooooooooooooooooooooooooooooo#o#o#o#o#o#o#o#oooooooooooooooooooooooooooooooooooooooooooooooooooooooooooooooooooooooooooooooooooooooooooooooooooooooooooooooooooooooooooo............................................\n",
      "121...........................................ooooooooooooooooooooooooooooooooooooooooooooooooooooooooooooooooooooooooooooooooooooooooooooooooooooooo###############ooooooooooooooooooooooooooooooooooooooooooooooooooooooooooooooooooooooooooooooooooooooooooooooooooooooooooooooooooooooooooooo...........................................\n",
      "122..........................................ooooooooooooooooooooooooooooooooooooooooooooooooooooooooooooooooooooooooooooooooooooooooooooooooooooooooo.............ooooooooooooooooooooooooooooooooooooooooooooooooooooooooooooooooooooooooooooooooooooooooooooooooooooooooooooooooooooooooooooooo..........................................\n",
      "123.........................................ooooooooooooooooooooooooooooooooooooooooooooooooooooooooooooooooooooooooooooooooooooooooooooooooooooooooooo...........ooooooooooooooooooooooooooooooooooooooooooooooooooooooooooooooooooooooooooooooooooooooooooooooooooooooooooooooooooooooooooooooooo.........................................\n",
      "124........................................ooooooooooooooooooooooooooooooooooooooooooooooooooooooooooooooooooooooooooooooooooooooooooooooooooooooooooooo.........o#oooo#oooooooooooooooooooooooooooooooooooooooooooooooooooooooooooooooooooooooooooooooooooooooooooooooooooooooooooooooooooooooooooo........................................\n",
      "125.......................................ooooooooooooooooooooooooooooooooooooooooooooooooooooooooooooooooooooooooooooooooooooooooooooooooooooooooooooooo.......oo#oooo#ooooooooooooooooooooooooooooooooooooooooooooooooooooooooooooooooooooooooooooooooooooooooooooooooooooooooooooooooooooooooooooo.......................................\n",
      "126......................................ooooooooooooooooooooooooooooooooooooooooooooooooooooooooooooooooooooooooooooooooooooooooooooooooooooooooooooooooo.....ooo#oooo#oooooooooooooooooooooooooooooooooooooooooooooooooooooooooooooooooooooooooooooooooooooooooooooooooooooooooooooooooooooooooooooo......................................\n",
      "127.....................................ooooooooooooooooooooooooooooooooooooooooooooooooooooooooooooooooooooooooooooooooooooooooooooooooooooooooooooooooooo.#######oooo####oooooooooooooooooooooooooooooooooooooooooooooooooooooooooooooooooooooooooooooooooooooooooooooooooooooooooooooooooooooooooooo.....................................\n",
      "128....................................ooooooooooooooooooooooooooooooooooooooooooooooooooooooooooooooooooooooooooooooooooooooooooooooooooooooooooooooooooooo#.....oooooo..#ooooooooooooooooooooooooooooooooooooooooooooooooooooooooooooooooooooooooooooooooooooooooooooooooooooooooooooooooooooooooooooo....................................\n",
      "129...................................oooooooooooooooooooooooooooooooooooooooooooooooooooooooooooooooooooooooooooooooooooooooooooooooooooooooooooooooooooooo#....oooooooo.#oooooooooooooooooooooooooooooooooooooooooooooooooooooooooooooooooooooooooooooooooooooooooooooooooooooooooooooooooooooooooooooo...................................\n",
      "130..................................ooooooooooooooooooooooooooooooooooooooooooooooooooooooooooooooooooooooooooooooooooooooooooooooooooooooooooooooooooooooo#...oooooooooo#ooooooooooooooooooooooooooooooooooooooooooooooooooooooooooooooooooooooooooooooooooooooooooooooooooooooooooooooooooooooooooooooo..................................\n",
      "131.................................oooooooooooooooooooooooooooooooooooooooooooooooooooooooooooooooooooooooooooooooooooooooooooooooooooooooooooooooooooooooo###############oooooooooooooooooooooooooooooooooooooooooooooooooooooooooooooooooooooooooooooooooooooooooooooooooooooooooooooooooooooooooooooooo.................................\n",
      "132................................oooooooooooooooooooooooooooooooooooooooooooooooooooooooooooooooooooooooooooooooooooooooooooooooooooooooooooooooooooooooooo.............oooooooooooooooooooooooooooooooooooooooooooooooooooooooooooooooooooooooooooooooooooooooooooooooooooooooooooooooooooooooooooooooooo................................\n",
      "133...............................oooooooooooooooooooooooooooooooooooooooooooooooooooooooooooooooooooooooooooooooooooooooooooooooooooooooooooooooooooooooooooo...........oooooooooo#ooooooooooooooooooooooooooooooooooooooooooooooooooooooooooooooooooooooooooooooooooooooooooooooooooooooooooooooooooooooooo...............................\n",
      "134..............................oooooooooooooooooooooooooooooooooooooooooooooooooooooooooooooooooooooooooooooooooooooooooooooooooooooooooooooooooooooooooooooo.........oo##########oooooooooooooooooooooooooooooooooooooooooooooooooooooooooooooooooooooooooooooooooooooooooooooooooooooooooooooooooooooooooo..............................\n",
      "135.............................oooooooooooooooooooooooooooooooooooooooooooooooooooooooooooooooooooooooooooooooooooooooooooooooooooooooooooooooooooooooooooooooo.......oooo........oooooooooooooooooooooooooooooooooooooooooooooooooooooooooooooooooooooooooooooooooooooooooooooooooooooooooooooooooooooooooooo.............................\n",
      "136............................oooooooooooooooooooooooooooooooooooooooooooooooooooooooooooooooooooooooooooooooooooooooooooooooooooooooooooooooooooooooooooooooooo.....oooooo......oooooooooooooooooooooooooooooooooooooooooooooooooooooooooooooooooooooooooooooooooooooooooooooooooooooooooooooooooooooooooooooo............................\n",
      "137...........................oooooooooooooooooooooooooooooooooooooooooooooooooooooooooooooooooooooooooooooooooooooooooooooooooooooooooooooooooooooooooooooooooooo...oo#o#ooo....oooooooooooooooooooooooooooooooooooooooooooooooooooooooooooooooooooooooooooooooooooooooooooooooooooooooooooooooooooooooooooooooo...........................\n",
      "138..........................oooooooooooooooooooooooooooooooooooooooooooooooooooooooooooooooooooooooooooooooooooooooooooooooooooooooooooooooooooooooooooooooooo#ooo#ooo#o#oooo.#oooooooooooooooooooooooooooooooooooooooooooooooooooooooooooooooooooooooooooooooooooooooooooooooooooooooooooooooooooooooooooooooooo..........................\n",
      "139.........................ooooooooooooooooooooooooooooooooooooooooooooooooooooooooooooooooooooooooooooooooooooooooooooooooooooooooooooooooooooooooooooooooooo#ooo#ooo#o#ooooo#ooooooooooooooooooooooooooooooooooooooooooooooooooooooooooooooooooooooooooooooooooooooooooooooooooooooooooooooooooooooooooooooooooo.........................\n",
      "140........................oooooooooooooooooooooooooooooooooooooooooooooooooooooooooooooooooooooooooooooooooooooooooooooooooooooooooooooooooooooooooooooooooooo#o#o#ooo#o#ooooo#oooooooooooooooooooooooooooooooooooooooooooooooooooooooooooooooooooooooooooooooooooooooooooooooooooooooooooooooooooooooooooooooooooo........................\n",
      "141.......................ooooooooooooooooooooooooooooooooooooooooooooooooooooooooooooooooooooooooooooooooooooooooooooooooooooooooooooooooooooooooooooooooooooo#o#o#ooo#o#ooooo#ooooooooooooooooooooooooooooooooooooooooooooooooooooooooooooooooooooooooooooooooooooooooooooooooooooooooooooooooooooooooooooooooooooo.......................\n",
      "142......................oooooooooooooooooooooooooooooooooooooooooooooooooooooooooooooooooooooooooooooooooooooooooooooooooooooooooooooooooooooooooooooooooooooo#o#o#ooo#o#ooooo#oooooooooooooooooooooooooooooooooooooooooooooooooooooooooooooooooooooooooooooooooooooooooooooooooooooooooooooooooooooooooooooooooooooo......................\n",
      "143.....................ooooooooooooooooooooooooooooooooooooooooooooooooooooooooooooooooooooooooooooooooooooooooooooooooooooooooooooooooooooooooooooooooooooooo#o#o#o#o#o#ooooo#o#ooooooooooooooooooooooooooooooooooooooooooooooooooooooooooooooooooooooooooooooooooooooooooooooooooooooooooooooooooooooooooooooooooooo.....................\n",
      "144....................oooooooooooooooooooooooooooooooooooooooooooooooooooooooooooooooooooooooooooooooooooooooooooooooooooooooooooooooooooooooooooooooooooooooo#o#o#o#o#o#ooooo#o#oooooooooooooooooooooooooooooooooooooooooooooooooooooooooooooooooooooooooooooooooooooooooooooooooooooooooooooooooooooooooooooooooooooo....................\n",
      "145...................ooooooooooooooooooooooooooooooooooooooooooooooooooooooooooooooooooooooooooooooooooooooooooooooooooooooooooooooooooooooooooooooooooooooooo#o#o#o#o#o#ooo#o#o#ooooooooooooooooooooooooooooooooooooooooooooooooooooooooooooooooooooooooooooooooooooooooooooooooooooooooooooooooooooooooooooooooooooooo...................\n",
      "146..................oooooooooooooooooooooooooooooooooooooooooooooooooooooooooooooooooooooooooooooooooooooooooooooooooooooooooooooooooooooooooooooooooooooooooo#o#o#o#o#o#o#o#o#o#oooooooooooooooooooooooooooooooooooooooooooooooooooooooooooooooooooooooooooooooooooooooooooooooooooooooooooooooooooooooooooooooooooooooo..................\n",
      "147.................ooooooooooooooooooooooooooooooooooooooooooooooooooooooooooooooooooooooooooooooooooooooooooooooooooooooooooooooooooooooooooooooooooooooooooo###################ooooooooooooooooooooooooooooooooooooooooooooooooooooooooooooooooooooooooooooooooooooooooooooooooooooooooooooooooooooooooooooooooooooooooo.................\n",
      "148................ooooooooooooooooooooooooooooooooooooooooooooooooooooooooooooooooooooooooooooooooooooooooooooooooooooooooooooooooooooooooooooooooooooooooooooo.................ooooooooooooooooooooooooooooooooooooooooooooooooooooooooooooooooooooooooooooooooooooooooooooooooooooooooooooooooooooooooooooooooooooooooooo................\n",
      "149...............ooooooooooooooooooooooooooooooooooooooooooooooooooooooooooooooooooooooooooooooooooooooooooooooooooooooooooooooooooooooooooooooooooooooooooooooo...............ooooooooooooooooooooooooooooooooooooooooooooooooooooooooooooooooooooooooooooooooooooooooooooooooooooooooooooooooooooooooooooooooooooooooooooo...............\n",
      "150..............ooooooooooooooooooooooooooooooooooooooooooooooooooooooooooooooooooooooooooooooooooooooooooooooooooooooooooooooooooooooooooooooooooooooooooooooooo.............##############ooooooooooooooooooooooooooooooooooooooooooooooooooooooooooooooooooooooooooooooooooooooooooooooooooooooooooooooooooooooooooooooooo..............\n",
      "151.............ooooooooooooooooooooooooooooooooooooooooooooooooooooooooooooooooooooooooooooooooooooooooooooooooooooooooooooooooooooooooooooooooooooooooooooooooooo.........................ooooooooooooooooooooooooooooooooooooooooooooooooooooooooooooooooooooooooooooooooooooooooooooooooooooooooooooooooooooooooooooooooooo.............\n",
      "152............ooooooooooooooooooooooooooooooooooooooooooooooooooooooooooooooooooooooooooooooooooooooooooooooooooooooooooooooooooooooooooooooooooooooooooooooooooooo.......................ooooooooooooooooooooooooooooooooooooooooooooooooooooooooooooooooooooooooooooooooooooooooooooooooooooooooooooooooooooooooooooooooooooo............\n",
      "153...........ooooooooooooooooooooooooooooooooooooooooooooooooooooooooooooooooooooooooooooooooooooooooooooooooooooooooooooooooooooooooooooooooooooooooooooooooooooooo.....................oo#ooo#oooooooooooooooooooooooooooooooooooooooooooooooooooooooooooooooooooooooooooooooooooooooooooooooooooooooooooooooooooooooooooooooo...........\n",
      "154..........ooooooooooooooooooooooooooooooooooooooooooooooooooooooooooooooooooooooooooooooooooooooooooooooooooooooooooooooooooooooooooooooooooooooooooooooooooooooooo...................ooo#ooo#ooooooooooooooooooooooooooooooooooooooooooooooooooooooooooooooooooooooooooooooooooooooooooooooooooooooooooooooooooooooooooooooooo..........\n",
      "155.........ooooooooooooooooooooooooooooooooooooooooooooooooooooooooooooooooooooooooooooooooooooooooooooooooooooooooooooooooooooooooooooooooooooooooooooooooooooooooooo.................oo###ooo######ooooooooooooooooooooooooooooooooooooooooooooooooooooooooooooooooooooooooooooooooooooooooooooooooooooooooooooooooooooooooooooo.........\n",
      "156........ooooooooooooooooooooooooooooooooooooooooooooooooooooooooooooooooooooooooooooooooooooooooooooooooooooooooooooooooooooooooooooooooooooooooooooooooooooooooooooo...............ooo#.ooooo....#oooooooooooooooooooooooooooooooooooooooooooooooooooooooooooooooooooooooooooooooooooooooooooooooooooooooooooooooooooooooooooooo........\n",
      "157.......ooooooooooooooooooooooooooooooooooooooooooooooooooooooooooooooooooooooooooooooooooooooooooooooooooooooooooooooooooooooooooooooooooooooooooooooooooooooooooooooo.............oooo#ooooooo...#ooooooooooooooooooooooooooooooooooooooooooooooooooooooooooooooooooooooooooooooooooooooooooooooooooooooooooooooooooooooooooooooo.......\n",
      "158......ooooooooooooooooooooooooooooooooooooooooooooooooooooooooooooooooooooooooooooooooooooooooooooooooooooooooooooooooooooooooooooooooooooooooooooooooooooooooooooooooo...........ooooo############oooooooooooooooooooooooooooooooooooooooooooooooooooooooooooooooooooooooooooooooooooooooooooooooooooooooooooooooooooooooooooooooo......\n",
      "159.....ooooooooooooooooooooooooooooooooooooooooooooooooooooooooooooooooooooooooooooooooooooooooooooooooooooooooooooooooooooooooooooooooooooooooooooooooooooooooooooooooooo.........ooooooo..........oooooooooooooooooooooooooooooooooooooooooooooooooooooooooooooooooooooooooooooooooooooooooooooooooooooooooooooooooooooooooooooooooo.....\n",
      "160....ooooooooooooooooooooooooooooooooooooooooooooooooooooooooooooooooooooooooooooooooooooooooooooooooooooooooooooooooooooooooooooooooooooooooooooooooooooooooooooooooooooo.......ooooooooo........oooooooooooooooooooooooooooooooooooooooooooooooooooooooooooooooooooooooooooooooooooooooooooooooooooooooooooooooooooooooooooooooooooo....\n",
      "161...ooooooooooooooooooooooooooooooooooooooooooooooooooooooooooooooooooooooooooooooooooooooooooooooooooooooooooooooooooooooooooooooooooooooooooooooooooooooooooooooooooooooo.....ooooooooooo......oooooooooooooooooooooooooooooooooooooooooooooooooooooooooooooooooooooooooooooooooooooooooooooooooooooooooooooooooooooooooooooooooooooo...\n",
      "162..ooooooooooooooooooooooooooooooooooooooooooooooooooooooooooooooooooooooooooooooooooooooooooooooooooooooooooooooooooooooooooooooooooooooooooooooooooooooooooooooooooooooooo...ooooooooooooo.#..oooooooooooooooooooooooooooooooooooooooooooooooooooooooooooooooooooooooooooooooooooooooooooooooooooooooooooooooooooooooooooooooooooooooo..\n",
      "163.ooooooooooooooooooooooooooooooooooooooooooooooooooooooooooooooooooooooooooooooooooooooooooooooooooooooooooooooooooooooooooooooooooooooooooooooooooooooooooooooooooooooooooo.o###############.oooooooooooooooooooooooooooooooooooooooooooooooooooooooooooooooooooooooooooooooooooooooooooooooooooooooooooooooooooooooooooooooooooooooooo.\n",
      "164ooooooooooooooooooooooooooooooooooooooooooooooooooooooooooooooooooooooooooooooooooooooooooooooooooooooooooooooooooooooooooooooooooooooooooooooooooooooooooooooooooooooooooooooo..............oooooooooooooooooooooooooooooooooooooooooooooooooooooooooooooooooooooooooooooooooooooooooooooooooooooooooooooooooooooooooooooooooooooooooooo\n"
     ]
    }
   ],
   "source": [
    "max_x, min_x, max_y, min_y = get_cave_boundaries()\n",
    "\n",
    "def print_cave():\n",
    "    global cave\n",
    "\n",
    "    val_to_str_map = {'#': '#', None: '.', \"o\": \"o\"}\n",
    "    for y in range(0, max_y + 1):\n",
    "        line_str = f'{y:<2}'\n",
    "        for x in range(min_x, max_x + 1):\n",
    "            line_str += val_to_str_map[cave[x, y]]\n",
    "        print(line_str)\n",
    "        \n",
    "print_cave()"
   ]
  },
  {
   "cell_type": "code",
   "execution_count": 436,
   "id": "f15c876e-2253-4c80-91d9-588b8431d815",
   "metadata": {},
   "outputs": [
    {
     "data": {
      "text/plain": [
       "25500"
      ]
     },
     "execution_count": 436,
     "metadata": {},
     "output_type": "execute_result"
    }
   ],
   "source": [
    "len(sand_pile) - 1"
   ]
  }
 ],
 "metadata": {
  "kernelspec": {
   "display_name": "Python 3 (ipykernel)",
   "language": "python",
   "name": "python3"
  },
  "language_info": {
   "codemirror_mode": {
    "name": "ipython",
    "version": 3
   },
   "file_extension": ".py",
   "mimetype": "text/x-python",
   "name": "python",
   "nbconvert_exporter": "python",
   "pygments_lexer": "ipython3",
   "version": "3.9.12"
  }
 },
 "nbformat": 4,
 "nbformat_minor": 5
}
