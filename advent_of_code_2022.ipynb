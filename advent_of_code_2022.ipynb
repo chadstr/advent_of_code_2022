{
 "cells": [
  {
   "cell_type": "markdown",
   "id": "f3e50cff-3655-49cc-940d-c51fd34f3341",
   "metadata": {},
   "source": [
    "## Day 01"
   ]
  },
  {
   "cell_type": "markdown",
   "id": "115272a0-5469-4039-9b86-ead854845f7a",
   "metadata": {
    "tags": []
   },
   "source": [
    "### Part 1"
   ]
  },
  {
   "cell_type": "code",
   "execution_count": 1,
   "id": "6d420170-2a41-421f-a0d4-b53e0ecbab81",
   "metadata": {},
   "outputs": [],
   "source": [
    "with open('data/input_d01_01.txt', 'r') as file:\n",
    "    foods = file.read()"
   ]
  },
  {
   "cell_type": "code",
   "execution_count": 2,
   "id": "8df3835f-3827-424c-b22d-3f0e9b9a3f75",
   "metadata": {},
   "outputs": [],
   "source": [
    "foods = foods.split('\\n')"
   ]
  },
  {
   "cell_type": "code",
   "execution_count": 3,
   "id": "69e68f56-3367-480a-ae16-18c875b94a10",
   "metadata": {},
   "outputs": [
    {
     "data": {
      "text/plain": [
       "['18814', '', '1927', '12782', '8734']"
      ]
     },
     "execution_count": 3,
     "metadata": {},
     "output_type": "execute_result"
    }
   ],
   "source": [
    "foods[:5]"
   ]
  },
  {
   "cell_type": "code",
   "execution_count": 4,
   "id": "e87ab43e-5915-4a4d-b68f-21f56cc862f6",
   "metadata": {},
   "outputs": [],
   "source": [
    "max_calories = 0\n",
    "this_elfs_calories = 0"
   ]
  },
  {
   "cell_type": "code",
   "execution_count": 5,
   "id": "e60ae12d-b221-43a2-b0ed-707da8bdf2d0",
   "metadata": {},
   "outputs": [],
   "source": [
    "for calory in foods:\n",
    "    if calory != '':\n",
    "        this_elfs_calories += int(calory)\n",
    "    else:\n",
    "        if this_elfs_calories > max_calories:\n",
    "            max_calories = this_elfs_calories\n",
    "        this_elfs_calories = 0"
   ]
  },
  {
   "cell_type": "code",
   "execution_count": 6,
   "id": "4a65a296-f51f-4ede-be92-28c56fb29a05",
   "metadata": {},
   "outputs": [
    {
     "data": {
      "text/plain": [
       "69626"
      ]
     },
     "execution_count": 6,
     "metadata": {},
     "output_type": "execute_result"
    }
   ],
   "source": [
    "max_calories"
   ]
  },
  {
   "cell_type": "markdown",
   "id": "314e58cb-d813-4de0-8113-b5ab5abbe479",
   "metadata": {
    "tags": []
   },
   "source": [
    "### Part 2"
   ]
  },
  {
   "cell_type": "code",
   "execution_count": 7,
   "id": "e2f07488-d1ed-4af5-b4ab-3ab6cf5a08c3",
   "metadata": {},
   "outputs": [],
   "source": [
    "with open('data/input_d01_01.txt', 'r') as file:\n",
    "    foods = file.read()"
   ]
  },
  {
   "cell_type": "code",
   "execution_count": 8,
   "id": "59d48324-79bf-47b4-82c7-ba97f20b58d6",
   "metadata": {},
   "outputs": [],
   "source": [
    "foods = foods.split('\\n')"
   ]
  },
  {
   "cell_type": "code",
   "execution_count": 9,
   "id": "0056ae89-5250-4861-813f-652dc04e8fe6",
   "metadata": {},
   "outputs": [
    {
     "data": {
      "text/plain": [
       "['18814', '', '1927', '12782', '8734']"
      ]
     },
     "execution_count": 9,
     "metadata": {},
     "output_type": "execute_result"
    }
   ],
   "source": [
    "foods[:5]"
   ]
  },
  {
   "cell_type": "code",
   "execution_count": 10,
   "id": "647e0886-8604-47cf-ad58-502288c91f6c",
   "metadata": {},
   "outputs": [],
   "source": [
    "this_elfs_calories = 0\n",
    "calories = []"
   ]
  },
  {
   "cell_type": "code",
   "execution_count": 11,
   "id": "a6f30a87-3022-46b9-9a14-6d84edd88f30",
   "metadata": {},
   "outputs": [],
   "source": [
    "for calory in foods:\n",
    "    if calory != '':\n",
    "        this_elfs_calories += int(calory)\n",
    "    else:\n",
    "        calories.append(this_elfs_calories)\n",
    "        this_elfs_calories = 0"
   ]
  },
  {
   "cell_type": "code",
   "execution_count": 12,
   "id": "b81e1f0d-dd71-4e58-8ae4-c952277d331b",
   "metadata": {},
   "outputs": [
    {
     "data": {
      "text/plain": [
       "[18814, 45388, 41763, 53645, 43783]"
      ]
     },
     "execution_count": 12,
     "metadata": {},
     "output_type": "execute_result"
    }
   ],
   "source": [
    "calories[:5]"
   ]
  },
  {
   "cell_type": "code",
   "execution_count": 13,
   "id": "bf76ceef-f396-4b96-ac77-4492c1a22efa",
   "metadata": {},
   "outputs": [],
   "source": [
    "calories.sort(reverse=True)"
   ]
  },
  {
   "cell_type": "code",
   "execution_count": 14,
   "id": "233de205-627a-4cde-838f-ae36fe52fea0",
   "metadata": {},
   "outputs": [
    {
     "data": {
      "text/plain": [
       "206780"
      ]
     },
     "execution_count": 14,
     "metadata": {},
     "output_type": "execute_result"
    }
   ],
   "source": [
    "sum(calories[:3])"
   ]
  },
  {
   "cell_type": "markdown",
   "id": "1b9a2fb4-2f43-49cb-a4b7-49e1f722b31a",
   "metadata": {},
   "source": [
    "## Day 02"
   ]
  },
  {
   "cell_type": "markdown",
   "id": "fa4bfd96-eaf9-4cbd-8346-b172a8b1b040",
   "metadata": {},
   "source": [
    "### Part 1"
   ]
  },
  {
   "cell_type": "code",
   "execution_count": 15,
   "id": "ca23a629-8182-4292-87bd-d255774e373d",
   "metadata": {},
   "outputs": [],
   "source": [
    "with open('data/input_d02_01.txt', 'r') as file:\n",
    "    strategy = file.read()"
   ]
  },
  {
   "cell_type": "code",
   "execution_count": 16,
   "id": "7d55fbc6-0691-41a5-98a1-fa479d31b32c",
   "metadata": {},
   "outputs": [],
   "source": [
    "strategy = strategy.split('\\n')"
   ]
  },
  {
   "cell_type": "code",
   "execution_count": 17,
   "id": "8925c10b-94a3-4b10-9b4a-160124d5ee7e",
   "metadata": {},
   "outputs": [
    {
     "data": {
      "text/plain": [
       "['A X', 'C X', 'C X', 'C X', 'B Y']"
      ]
     },
     "execution_count": 17,
     "metadata": {},
     "output_type": "execute_result"
    }
   ],
   "source": [
    "strategy[:5]"
   ]
  },
  {
   "cell_type": "code",
   "execution_count": 18,
   "id": "f6e33295-89af-4839-b8a4-927787385782",
   "metadata": {},
   "outputs": [
    {
     "data": {
      "text/plain": [
       "['C Z', 'A X', 'B X', 'C X', '']"
      ]
     },
     "execution_count": 18,
     "metadata": {},
     "output_type": "execute_result"
    }
   ],
   "source": [
    "strategy[-5:]"
   ]
  },
  {
   "cell_type": "code",
   "execution_count": 19,
   "id": "52fd5849-8b92-47c8-8b23-49edcd1dca18",
   "metadata": {},
   "outputs": [],
   "source": [
    "strategy = strategy[:-1]"
   ]
  },
  {
   "cell_type": "code",
   "execution_count": 20,
   "id": "033ff4da-397e-4ad8-82b3-8641e6d42895",
   "metadata": {},
   "outputs": [],
   "source": [
    "strategy = [tuple(step.split(' ')) for step in strategy]"
   ]
  },
  {
   "cell_type": "code",
   "execution_count": 21,
   "id": "a56854a5-ec0c-460b-b04c-f6a396d310db",
   "metadata": {},
   "outputs": [
    {
     "data": {
      "text/plain": [
       "[('A', 'X'), ('C', 'X'), ('C', 'X'), ('C', 'X'), ('B', 'Y')]"
      ]
     },
     "execution_count": 21,
     "metadata": {},
     "output_type": "execute_result"
    }
   ],
   "source": [
    "strategy[:5]"
   ]
  },
  {
   "cell_type": "code",
   "execution_count": 22,
   "id": "ef40ba10-9f84-432c-a4b2-dc54dc36fd4a",
   "metadata": {},
   "outputs": [],
   "source": [
    "score_map = {\n",
    "    ('A', 'X'): 1 + 3,  # Rock & Rock\n",
    "    ('A', 'Y'): 2 + 6,  # Rock & Paper\n",
    "    ('A', 'Z'): 3 + 0,  # Rock & Scissors\n",
    "    ('B', 'X'): 1 + 0,  # Paper & Rock\n",
    "    ('B', 'Y'): 2 + 3,  # Paper & Paper\n",
    "    ('B', 'Z'): 3 + 6,  # Paper & Scissors\n",
    "    ('C', 'X'): 1 + 6,  # Scissors & Rock\n",
    "    ('C', 'Y'): 2 + 0,  # Scissors & Paper\n",
    "    ('C', 'Z'): 3 + 3,  # Scissors & Scissors\n",
    "}\n"
   ]
  },
  {
   "cell_type": "code",
   "execution_count": 23,
   "id": "833581d2-3eab-437e-b048-dd199e96c4ef",
   "metadata": {},
   "outputs": [],
   "source": [
    "total_score = 0\n",
    "for moves in strategy:\n",
    "    total_score += score_map[moves]"
   ]
  },
  {
   "cell_type": "code",
   "execution_count": 24,
   "id": "9fd3499e-e5e1-4b64-92c1-4885a3795653",
   "metadata": {},
   "outputs": [
    {
     "data": {
      "text/plain": [
       "11063"
      ]
     },
     "execution_count": 24,
     "metadata": {},
     "output_type": "execute_result"
    }
   ],
   "source": [
    "total_score"
   ]
  },
  {
   "cell_type": "markdown",
   "id": "1f91074b-7f72-4f12-9014-47a07d0ecadb",
   "metadata": {},
   "source": [
    "### Part 2"
   ]
  },
  {
   "cell_type": "code",
   "execution_count": 25,
   "id": "547e842e-c715-4408-8247-496e6db41007",
   "metadata": {},
   "outputs": [],
   "source": [
    "with open('data/input_d02_01.txt', 'r') as file:\n",
    "    strategy = file.read()"
   ]
  },
  {
   "cell_type": "code",
   "execution_count": 26,
   "id": "5ad21994-329b-44d7-bdfa-d96cac1fa2a9",
   "metadata": {},
   "outputs": [],
   "source": [
    "strategy = strategy.split('\\n')"
   ]
  },
  {
   "cell_type": "code",
   "execution_count": 27,
   "id": "1d438181-0000-49b1-b10f-af5c94f11f38",
   "metadata": {},
   "outputs": [
    {
     "data": {
      "text/plain": [
       "['A X', 'C X', 'C X', 'C X', 'B Y']"
      ]
     },
     "execution_count": 27,
     "metadata": {},
     "output_type": "execute_result"
    }
   ],
   "source": [
    "strategy[:5]"
   ]
  },
  {
   "cell_type": "code",
   "execution_count": 28,
   "id": "9f2e0090-a64b-4606-804b-13022f9fa6b8",
   "metadata": {},
   "outputs": [
    {
     "data": {
      "text/plain": [
       "['C Z', 'A X', 'B X', 'C X', '']"
      ]
     },
     "execution_count": 28,
     "metadata": {},
     "output_type": "execute_result"
    }
   ],
   "source": [
    "strategy[-5:]"
   ]
  },
  {
   "cell_type": "code",
   "execution_count": 29,
   "id": "8800e0ef-6518-4820-a466-87f21245ca2c",
   "metadata": {},
   "outputs": [],
   "source": [
    "strategy = strategy[:-1]"
   ]
  },
  {
   "cell_type": "code",
   "execution_count": 30,
   "id": "d7f3e137-8a7d-4ec4-be4a-22f8a8d7d73c",
   "metadata": {},
   "outputs": [],
   "source": [
    "strategy = [step.split(' ') for step in strategy]"
   ]
  },
  {
   "cell_type": "code",
   "execution_count": 31,
   "id": "0f282e57-0f81-4227-9b50-3063771ea4cd",
   "metadata": {},
   "outputs": [
    {
     "data": {
      "text/plain": [
       "[['A', 'X'], ['C', 'X'], ['C', 'X'], ['C', 'X'], ['B', 'Y']]"
      ]
     },
     "execution_count": 31,
     "metadata": {},
     "output_type": "execute_result"
    }
   ],
   "source": [
    "strategy[:5]"
   ]
  },
  {
   "cell_type": "code",
   "execution_count": 32,
   "id": "a92ba6fa-fc6d-437d-9bbc-b7ee1efd1baa",
   "metadata": {},
   "outputs": [],
   "source": [
    "score_map = {\n",
    "    ('A', 'A'): 1 + 3,  # Rock & Rock\n",
    "    ('A', 'B'): 2 + 6,  # Rock & Paper\n",
    "    ('A', 'C'): 3 + 0,  # Rock & Scissors\n",
    "    ('B', 'A'): 1 + 0,  # Paper & Rock\n",
    "    ('B', 'B'): 2 + 3,  # Paper & Paper\n",
    "    ('B', 'C'): 3 + 6,  # Paper & Scissors\n",
    "    ('C', 'A'): 1 + 6,  # Scissors & Rock\n",
    "    ('C', 'B'): 2 + 0,  # Scissors & Paper\n",
    "    ('C', 'C'): 3 + 3,  # Scissors & Scissors\n",
    "}\n"
   ]
  },
  {
   "cell_type": "code",
   "execution_count": 33,
   "id": "ce2c038d-33f0-4334-a1e2-b0ba310afdab",
   "metadata": {},
   "outputs": [],
   "source": [
    "move_map = {\n",
    "    ('A', 'X'): 'C',  # Rock, Lose --> Scissors\n",
    "    ('A', 'Y'): 'A',  # Rock, Draw --> Rock\n",
    "    ('A', 'Z'): 'B',  # Rock, Win --> Paper\n",
    "    ('B', 'X'): 'A',  # Paper, Lose --> Rock\n",
    "    ('B', 'Y'): 'B',  # Paper, Draw --> Paper\n",
    "    ('B', 'Z'): 'C',  # Paper, Win --> Scissors\n",
    "    ('C', 'X'): 'B',  # Scissors, Lose --> Paper\n",
    "    ('C', 'Y'): 'C',  # Scissors, Draw --> Scissors\n",
    "    ('C', 'Z'): 'A'   # Scissors, Win --> Rock\n",
    "}\n"
   ]
  },
  {
   "cell_type": "code",
   "execution_count": 34,
   "id": "d63ea86c-0f07-4ba8-ba85-0dfc4e985bab",
   "metadata": {},
   "outputs": [],
   "source": [
    "total_score = 0"
   ]
  },
  {
   "cell_type": "code",
   "execution_count": 35,
   "id": "84fdbe8c-63af-430c-96a1-b0dd74fbc60e",
   "metadata": {},
   "outputs": [],
   "source": [
    "for opponent_move, required_result in strategy:\n",
    "    total_score += score_map[opponent_move, move_map[opponent_move, required_result]]"
   ]
  },
  {
   "cell_type": "code",
   "execution_count": 36,
   "id": "5a50a2a2-a257-4ecf-a7b0-e68632721ed4",
   "metadata": {},
   "outputs": [
    {
     "data": {
      "text/plain": [
       "10349"
      ]
     },
     "execution_count": 36,
     "metadata": {},
     "output_type": "execute_result"
    }
   ],
   "source": [
    "total_score"
   ]
  },
  {
   "cell_type": "markdown",
   "id": "0d282360-4301-4d7d-87c0-cf8f6b30db02",
   "metadata": {},
   "source": [
    "## Day 03"
   ]
  },
  {
   "cell_type": "markdown",
   "id": "87738cb2-4744-49a3-95e9-d5e16ae3805f",
   "metadata": {},
   "source": [
    "### Part 1"
   ]
  },
  {
   "cell_type": "code",
   "execution_count": 37,
   "id": "4d1a6f83-b13d-4ca9-b347-8cf652b0002e",
   "metadata": {},
   "outputs": [],
   "source": [
    "with open('data/input_d03_01.txt', 'r') as file:\n",
    "    rucksacks = file.read()"
   ]
  },
  {
   "cell_type": "code",
   "execution_count": 38,
   "id": "d8f86a7a-e875-45ad-bd0f-4c32d7f12f4c",
   "metadata": {},
   "outputs": [],
   "source": [
    "rucksacks = rucksacks.split('\\n')"
   ]
  },
  {
   "cell_type": "code",
   "execution_count": 39,
   "id": "a923f282-d8dc-463f-82f6-bb3f03f13076",
   "metadata": {},
   "outputs": [
    {
     "data": {
      "text/plain": [
       "['SDBBPtZZTdnnwSvg',\n",
       " 'nddNNMMPNBnBNnBTQSShlSHghlDHBr',\n",
       " 'VcccVmqJsJsjlTmzTDggmHHT',\n",
       " 'VqLtFCqFJfVtVjsNgPNNMMWNwgtNvn',\n",
       " '']"
      ]
     },
     "execution_count": 39,
     "metadata": {},
     "output_type": "execute_result"
    }
   ],
   "source": [
    "rucksacks[-5:]"
   ]
  },
  {
   "cell_type": "code",
   "execution_count": 40,
   "id": "695ad7a9-b46a-496d-a243-df360b1c4f55",
   "metadata": {},
   "outputs": [],
   "source": [
    "rucksacks = rucksacks[:-1]"
   ]
  },
  {
   "cell_type": "code",
   "execution_count": 41,
   "id": "fb45dbf6-c3b4-40f1-bce4-54ed9a128197",
   "metadata": {},
   "outputs": [],
   "source": [
    "common_items = []\n",
    "for rucksack in rucksacks:\n",
    "    split_idx = len(rucksack) // 2  # Rucksack always has equal number of items in each compartment\n",
    "    first_compartment = rucksack[:split_idx]\n",
    "    second_compartment = rucksack[split_idx:]\n",
    "    assert len(first_compartment) == len(second_compartment)\n",
    "    common_items.append(set(first_compartment).intersection(set(second_compartment)))"
   ]
  },
  {
   "cell_type": "code",
   "execution_count": 42,
   "id": "eb4bd3b8-8acc-4a73-8ed7-6d991a2ff9bf",
   "metadata": {},
   "outputs": [],
   "source": [
    "common_items = [list(common_item)[0] for common_item in common_items]  # Exactly one item per rucksack is common to both compartments"
   ]
  },
  {
   "cell_type": "code",
   "execution_count": 43,
   "id": "1dfe1299-f206-423b-8ba4-bd9f2ea58ca2",
   "metadata": {},
   "outputs": [
    {
     "data": {
      "text/plain": [
       "True"
      ]
     },
     "execution_count": 43,
     "metadata": {},
     "output_type": "execute_result"
    }
   ],
   "source": [
    "len(common_items) == len(rucksacks)"
   ]
  },
  {
   "cell_type": "code",
   "execution_count": 44,
   "id": "81a8c19e-e7a7-4af9-bd9d-e1436c4f42ad",
   "metadata": {},
   "outputs": [],
   "source": [
    "priorities = []\n",
    "for common_item in common_items:\n",
    "    if common_item.islower():\n",
    "        priority = ord(common_item) - ord('a') + 1\n",
    "    else:\n",
    "        priority = ord(common_item) - ord('A') + 27\n",
    "    \n",
    "    priorities.append(priority)"
   ]
  },
  {
   "cell_type": "code",
   "execution_count": 45,
   "id": "8fb6834c-127f-4421-b7f6-3d932c1ef112",
   "metadata": {},
   "outputs": [
    {
     "data": {
      "text/plain": [
       "8240"
      ]
     },
     "execution_count": 45,
     "metadata": {},
     "output_type": "execute_result"
    }
   ],
   "source": [
    "sum(priorities)"
   ]
  },
  {
   "cell_type": "markdown",
   "id": "5bf1c4f8-413c-49e5-a53c-cb058f2d805f",
   "metadata": {},
   "source": [
    "### Part 2"
   ]
  },
  {
   "cell_type": "code",
   "execution_count": 46,
   "id": "aca87493-e03a-4471-9d7d-1196965de3a4",
   "metadata": {},
   "outputs": [],
   "source": [
    "with open('data/input_d03_01.txt', 'r') as file:\n",
    "    rucksacks = file.read()"
   ]
  },
  {
   "cell_type": "code",
   "execution_count": 47,
   "id": "07498244-0582-40d2-9aa5-5eb18069c8ae",
   "metadata": {},
   "outputs": [],
   "source": [
    "rucksacks = rucksacks.split('\\n')"
   ]
  },
  {
   "cell_type": "code",
   "execution_count": 48,
   "id": "afd93892-18bd-45de-8bf1-69e1959bfb57",
   "metadata": {},
   "outputs": [
    {
     "data": {
      "text/plain": [
       "['SDBBPtZZTdnnwSvg',\n",
       " 'nddNNMMPNBnBNnBTQSShlSHghlDHBr',\n",
       " 'VcccVmqJsJsjlTmzTDggmHHT',\n",
       " 'VqLtFCqFJfVtVjsNgPNNMMWNwgtNvn',\n",
       " '']"
      ]
     },
     "execution_count": 48,
     "metadata": {},
     "output_type": "execute_result"
    }
   ],
   "source": [
    "rucksacks[-5:]"
   ]
  },
  {
   "cell_type": "code",
   "execution_count": 49,
   "id": "e21d6927-873e-448d-b118-5c625e3eb54b",
   "metadata": {},
   "outputs": [],
   "source": [
    "rucksacks = rucksacks[:-1]"
   ]
  },
  {
   "cell_type": "code",
   "execution_count": 50,
   "id": "b2780705-b9ae-4580-8a8d-08065ee72960",
   "metadata": {},
   "outputs": [
    {
     "data": {
      "text/plain": [
       "['pqgZZSZgcZJqpzBbqTbbLjBDBLhB',\n",
       " 'wHptFFsHttHFLMDQDFTbbj',\n",
       " 'fVfvsstwPHwNwfNGfHWRSnlpClcJzCWCzddSrddg',\n",
       " 'bdgHbZJHgMHgJgJctDtVssVcpFtq',\n",
       " 'rNNQqBSzTcBPTDsP',\n",
       " 'GWNNrhGnNnWNzRfnRQRbhCdqHMbdmbZddbmCmd',\n",
       " 'BSBDzrSwrqccDDwbfcBjsRwggClslTRWGWGMFlsF',\n",
       " 'dnhVhLJtzNZdgCRlsTGWCRJG',\n",
       " 'ZHZdNzptLNtPhPdnprPbbDBrSqrSQPjbqD']"
      ]
     },
     "execution_count": 50,
     "metadata": {},
     "output_type": "execute_result"
    }
   ],
   "source": [
    "rucksacks[:9]"
   ]
  },
  {
   "cell_type": "code",
   "execution_count": 51,
   "id": "3e7e600b-3d34-4519-b474-869ac1b2152c",
   "metadata": {},
   "outputs": [],
   "source": [
    "elf_groups = [rucksacks[i:i+3] for i in range(0, len(rucksacks), 3)]"
   ]
  },
  {
   "cell_type": "code",
   "execution_count": 52,
   "id": "8e827498-c799-42f6-8408-15ec25a8c4dd",
   "metadata": {},
   "outputs": [
    {
     "data": {
      "text/plain": [
       "['nddNNMMPNBnBNnBTQSShlSHghlDHBr',\n",
       " 'VcccVmqJsJsjlTmzTDggmHHT',\n",
       " 'VqLtFCqFJfVtVjsNgPNNMMWNwgtNvn']"
      ]
     },
     "execution_count": 52,
     "metadata": {},
     "output_type": "execute_result"
    }
   ],
   "source": [
    "elf_groups[-1]"
   ]
  },
  {
   "cell_type": "code",
   "execution_count": 53,
   "id": "d9318da4-4379-4cc5-a9dd-8c9857100b71",
   "metadata": {},
   "outputs": [],
   "source": [
    "common_items = []\n",
    "for rucksack_1, rucksack_2, rucksack_3 in elf_groups:\n",
    "    common_items.append(\n",
    "        set(rucksack_1).intersection(set(rucksack_2), set(rucksack_3))\n",
    "    \n",
    "    )"
   ]
  },
  {
   "cell_type": "code",
   "execution_count": 54,
   "id": "0c2cf6f2-f457-478f-b116-91bc9019d48b",
   "metadata": {},
   "outputs": [],
   "source": [
    "common_items = [list(common_item)[0] for common_item in common_items]"
   ]
  },
  {
   "cell_type": "code",
   "execution_count": 55,
   "id": "c6b305e7-5f84-4afb-a556-1233e4dc5216",
   "metadata": {},
   "outputs": [
    {
     "data": {
      "text/plain": [
       "['p', 'q', 'z', 'r', 'H']"
      ]
     },
     "execution_count": 55,
     "metadata": {},
     "output_type": "execute_result"
    }
   ],
   "source": [
    "common_items[:5]"
   ]
  },
  {
   "cell_type": "code",
   "execution_count": 56,
   "id": "83bd5950-285b-4acf-ae68-05ffe58cbed2",
   "metadata": {},
   "outputs": [],
   "source": [
    "priorities = []\n",
    "for common_item in common_items:\n",
    "    if common_item.islower():\n",
    "        priority = ord(common_item) - ord('a') + 1\n",
    "    else:\n",
    "        priority = ord(common_item) - ord('A') + 27\n",
    "    \n",
    "    priorities.append(priority)"
   ]
  },
  {
   "cell_type": "code",
   "execution_count": 57,
   "id": "c3a3d5f4-8e3a-4e9d-9ebc-d9f73263e62f",
   "metadata": {},
   "outputs": [
    {
     "data": {
      "text/plain": [
       "2587"
      ]
     },
     "execution_count": 57,
     "metadata": {},
     "output_type": "execute_result"
    }
   ],
   "source": [
    "sum(priorities)"
   ]
  },
  {
   "cell_type": "markdown",
   "id": "6175d095-220a-4411-b3e3-6a53f94841f3",
   "metadata": {},
   "source": [
    "## Day 04"
   ]
  },
  {
   "cell_type": "markdown",
   "id": "0e694c55-f1bc-47a9-a79d-b7245b01a6ec",
   "metadata": {},
   "source": [
    "### Part 1"
   ]
  },
  {
   "cell_type": "code",
   "execution_count": 58,
   "id": "ab716501-a29b-4633-bab8-85a212235eff",
   "metadata": {},
   "outputs": [],
   "source": [
    "with open('data/input_d04_01.txt', 'r') as file:\n",
    "    assignments = file.read()"
   ]
  },
  {
   "cell_type": "code",
   "execution_count": 59,
   "id": "cb93bd09-0da6-4aad-8aa2-2effe302b2fc",
   "metadata": {},
   "outputs": [],
   "source": [
    "assignments = assignments.split('\\n')"
   ]
  },
  {
   "cell_type": "code",
   "execution_count": 60,
   "id": "74389a42-3833-4925-aab9-c7a9f1593088",
   "metadata": {},
   "outputs": [
    {
     "data": {
      "text/plain": [
       "['3-64,13-40', '5-75,3-3', '66-66,9-65', '92-92,7-91', '']"
      ]
     },
     "execution_count": 60,
     "metadata": {},
     "output_type": "execute_result"
    }
   ],
   "source": [
    "assignments[-5:]"
   ]
  },
  {
   "cell_type": "code",
   "execution_count": 61,
   "id": "f1720ac7-4f3a-456c-95d7-e3e6dab755b3",
   "metadata": {},
   "outputs": [],
   "source": [
    "assignments = assignments[:-1]"
   ]
  },
  {
   "cell_type": "code",
   "execution_count": 62,
   "id": "b6fb03a8-036b-42c1-913a-a9bb061878c2",
   "metadata": {},
   "outputs": [],
   "source": [
    "assignments = [assignment.split(',') for assignment in assignments]"
   ]
  },
  {
   "cell_type": "code",
   "execution_count": 63,
   "id": "ecb92304-ec89-4d05-bcfa-98f1d8514306",
   "metadata": {},
   "outputs": [
    {
     "data": {
      "text/plain": [
       "[['1-93', '2-11'],\n",
       " ['26-94', '26-94'],\n",
       " ['72-92', '48-88'],\n",
       " ['36-37', '37-52'],\n",
       " ['2-98', '1-98']]"
      ]
     },
     "execution_count": 63,
     "metadata": {},
     "output_type": "execute_result"
    }
   ],
   "source": [
    "assignments[:5]"
   ]
  },
  {
   "cell_type": "code",
   "execution_count": 64,
   "id": "ea69ffe4-4c36-48cd-a057-5b92a1b33b94",
   "metadata": {},
   "outputs": [],
   "source": [
    "def get_set_from_range_str(range_str):\n",
    "    lower_bound, upper_bound = range_str.split('-')\n",
    "    return set(range(int(lower_bound), int(upper_bound) + 1))"
   ]
  },
  {
   "cell_type": "code",
   "execution_count": 65,
   "id": "770ff43e-0ed5-4c07-b1ba-e63f07f8d4f8",
   "metadata": {},
   "outputs": [
    {
     "data": {
      "text/plain": [
       "{1, 2, 3}"
      ]
     },
     "execution_count": 65,
     "metadata": {},
     "output_type": "execute_result"
    }
   ],
   "source": [
    "get_set_from_range_str('1-3')"
   ]
  },
  {
   "cell_type": "code",
   "execution_count": 66,
   "id": "0077e9aa-c079-4afa-8908-478999acb8b3",
   "metadata": {},
   "outputs": [
    {
     "data": {
      "text/plain": [
       "{3, 4, 5, 6}"
      ]
     },
     "execution_count": 66,
     "metadata": {},
     "output_type": "execute_result"
    }
   ],
   "source": [
    "get_set_from_range_str('3-6')"
   ]
  },
  {
   "cell_type": "code",
   "execution_count": 67,
   "id": "5659cab4-70b0-4d8a-b0e4-3fc776acf471",
   "metadata": {},
   "outputs": [],
   "source": [
    "is_fully_contained = []\n",
    "for range_str_1, range_str_2 in assignments:\n",
    "    set_1 = get_set_from_range_str(range_str_1)\n",
    "    set_2 = get_set_from_range_str(range_str_2)\n",
    "    is_fully_contained.append(set_1.issubset(set_2) or set_1.issuperset(set_2))"
   ]
  },
  {
   "cell_type": "code",
   "execution_count": 68,
   "id": "d2389e3a-0270-4bf4-a789-01bcc2c1f48a",
   "metadata": {},
   "outputs": [
    {
     "data": {
      "text/plain": [
       "503"
      ]
     },
     "execution_count": 68,
     "metadata": {},
     "output_type": "execute_result"
    }
   ],
   "source": [
    "sum(is_fully_contained)"
   ]
  },
  {
   "cell_type": "markdown",
   "id": "bc8dcbf7-ac8b-49b5-a3e2-41dbabac72d8",
   "metadata": {},
   "source": [
    "### Part 2"
   ]
  },
  {
   "cell_type": "code",
   "execution_count": 69,
   "id": "07d30c8a-4be2-42af-99b0-6592528c9a5b",
   "metadata": {},
   "outputs": [],
   "source": [
    "with open('data/input_d04_01.txt', 'r') as file:\n",
    "    assignments = file.read()"
   ]
  },
  {
   "cell_type": "code",
   "execution_count": 70,
   "id": "43623641-1f40-4422-8b44-59070dd4c9e6",
   "metadata": {},
   "outputs": [],
   "source": [
    "assignments = assignments.split('\\n')"
   ]
  },
  {
   "cell_type": "code",
   "execution_count": 71,
   "id": "6fa4f2b9-3beb-4fd7-974d-9c248fc25b2f",
   "metadata": {},
   "outputs": [
    {
     "data": {
      "text/plain": [
       "['3-64,13-40', '5-75,3-3', '66-66,9-65', '92-92,7-91', '']"
      ]
     },
     "execution_count": 71,
     "metadata": {},
     "output_type": "execute_result"
    }
   ],
   "source": [
    "assignments[-5:]"
   ]
  },
  {
   "cell_type": "code",
   "execution_count": 72,
   "id": "1692f0fa-1066-42fc-8e97-a486a850a438",
   "metadata": {},
   "outputs": [],
   "source": [
    "assignments = assignments[:-1]"
   ]
  },
  {
   "cell_type": "code",
   "execution_count": 73,
   "id": "df5405dd-f24a-414e-a3eb-5ca528d598dd",
   "metadata": {},
   "outputs": [],
   "source": [
    "assignments = [assignment.split(',') for assignment in assignments]"
   ]
  },
  {
   "cell_type": "code",
   "execution_count": 74,
   "id": "4c24297c-5af6-4bf2-a211-44282df07312",
   "metadata": {},
   "outputs": [
    {
     "data": {
      "text/plain": [
       "[['1-93', '2-11'],\n",
       " ['26-94', '26-94'],\n",
       " ['72-92', '48-88'],\n",
       " ['36-37', '37-52'],\n",
       " ['2-98', '1-98']]"
      ]
     },
     "execution_count": 74,
     "metadata": {},
     "output_type": "execute_result"
    }
   ],
   "source": [
    "assignments[:5]"
   ]
  },
  {
   "cell_type": "code",
   "execution_count": 75,
   "id": "d60d81ea-cc26-4fb3-8fe3-8c259f9b2d9f",
   "metadata": {},
   "outputs": [],
   "source": [
    "def get_set_from_range_str(range_str):\n",
    "    lower_bound, upper_bound = range_str.split('-')\n",
    "    return set(range(int(lower_bound), int(upper_bound) + 1))"
   ]
  },
  {
   "cell_type": "code",
   "execution_count": 76,
   "id": "b1771c85-1163-4eb5-9795-9685df03b6be",
   "metadata": {},
   "outputs": [],
   "source": [
    "is_not_disjoint = []\n",
    "for range_str_1, range_str_2 in assignments:\n",
    "    set_1 = get_set_from_range_str(range_str_1)\n",
    "    set_2 = get_set_from_range_str(range_str_2)\n",
    "    is_not_disjoint.append(not set_1.isdisjoint(set_2))"
   ]
  },
  {
   "cell_type": "code",
   "execution_count": 77,
   "id": "f4257953-6e4d-4f9e-851d-638bbb5d55b4",
   "metadata": {},
   "outputs": [
    {
     "data": {
      "text/plain": [
       "827"
      ]
     },
     "execution_count": 77,
     "metadata": {},
     "output_type": "execute_result"
    }
   ],
   "source": [
    "sum(is_not_disjoint)"
   ]
  },
  {
   "cell_type": "markdown",
   "id": "0f9816d4-26af-4ad1-a95c-b710cdc98bc3",
   "metadata": {},
   "source": [
    "## Day 05"
   ]
  },
  {
   "cell_type": "markdown",
   "id": "e1e35942-69bb-4066-a87d-6f107006700c",
   "metadata": {
    "tags": []
   },
   "source": [
    "### Part 1"
   ]
  },
  {
   "cell_type": "code",
   "execution_count": 78,
   "id": "92db8e84-bbda-402e-a52c-7df59911fb00",
   "metadata": {},
   "outputs": [],
   "source": [
    "with open('data/input_d05_01.txt', 'r') as file:\n",
    "    crates_and_moves = file.read()"
   ]
  },
  {
   "cell_type": "code",
   "execution_count": 79,
   "id": "0f569ef7-2af3-495a-af9e-b33fc9583c7b",
   "metadata": {},
   "outputs": [],
   "source": [
    "crates = crates_and_moves[:crates_and_moves.find('9')+1]"
   ]
  },
  {
   "cell_type": "code",
   "execution_count": 80,
   "id": "8c969d6f-832d-42d3-a405-b90156b5f3cc",
   "metadata": {},
   "outputs": [
    {
     "name": "stdout",
     "output_type": "stream",
     "text": [
      "[P]     [C]         [M]            \n",
      "[D]     [P] [B]     [V] [S]        \n",
      "[Q] [V] [R] [V]     [G] [B]        \n",
      "[R] [W] [G] [J]     [T] [M]     [V]\n",
      "[V] [Q] [Q] [F] [C] [N] [V]     [W]\n",
      "[B] [Z] [Z] [H] [L] [P] [L] [J] [N]\n",
      "[H] [D] [L] [D] [W] [R] [R] [P] [C]\n",
      "[F] [L] [H] [R] [Z] [J] [J] [D] [D]\n",
      " 1   2   3   4   5   6   7   8   9\n"
     ]
    }
   ],
   "source": [
    "print(crates)"
   ]
  },
  {
   "cell_type": "code",
   "execution_count": 81,
   "id": "d7ba20a6-4a00-434e-8fc1-1d46ca7eebea",
   "metadata": {},
   "outputs": [],
   "source": [
    "moves = crates_and_moves[crates_and_moves.find('9')+1:]"
   ]
  },
  {
   "cell_type": "code",
   "execution_count": 82,
   "id": "31eaf0bb-911a-4e1a-a1f2-eed80e87c213",
   "metadata": {},
   "outputs": [],
   "source": [
    "moves = moves.split('\\n')"
   ]
  },
  {
   "cell_type": "code",
   "execution_count": 83,
   "id": "ae74a8b3-ba7a-48f4-accc-63042c644b9d",
   "metadata": {},
   "outputs": [
    {
     "data": {
      "text/plain": [
       "[' ', '', 'move 4 from 9 to 1', 'move 6 from 3 to 1', 'move 7 from 4 to 1']"
      ]
     },
     "execution_count": 83,
     "metadata": {},
     "output_type": "execute_result"
    }
   ],
   "source": [
    "moves[:5]"
   ]
  },
  {
   "cell_type": "code",
   "execution_count": 84,
   "id": "b156f9d3-42f0-4279-be0a-50151b7f317d",
   "metadata": {},
   "outputs": [
    {
     "data": {
      "text/plain": [
       "['move 4 from 9 to 1',\n",
       " 'move 6 from 3 to 1',\n",
       " 'move 7 from 4 to 1',\n",
       " 'move 2 from 8 to 5',\n",
       " 'move 1 from 9 to 7']"
      ]
     },
     "execution_count": 84,
     "metadata": {},
     "output_type": "execute_result"
    }
   ],
   "source": [
    "moves = moves[2:]\n",
    "moves[:5]"
   ]
  },
  {
   "cell_type": "code",
   "execution_count": 85,
   "id": "54b80b65-db13-4468-9a72-66ea87370824",
   "metadata": {},
   "outputs": [
    {
     "data": {
      "text/plain": [
       "['move 1 from 8 to 6',\n",
       " 'move 6 from 5 to 9',\n",
       " 'move 3 from 6 to 5',\n",
       " 'move 2 from 4 to 7',\n",
       " '']"
      ]
     },
     "execution_count": 85,
     "metadata": {},
     "output_type": "execute_result"
    }
   ],
   "source": [
    "moves[-5:]"
   ]
  },
  {
   "cell_type": "code",
   "execution_count": 86,
   "id": "b5f05adb-53d6-4193-88cc-542631bb57ce",
   "metadata": {},
   "outputs": [],
   "source": [
    "moves = moves[:-1]"
   ]
  },
  {
   "cell_type": "code",
   "execution_count": 87,
   "id": "7a4955ea-c660-4b96-92ad-370cc66af017",
   "metadata": {},
   "outputs": [],
   "source": [
    "# Populate stacks\n",
    "stacks = {}"
   ]
  },
  {
   "cell_type": "code",
   "execution_count": 88,
   "id": "37422e33-db54-43ec-a54c-9ee48c1bd63f",
   "metadata": {},
   "outputs": [
    {
     "data": {
      "text/plain": [
       "['[P]     [C]         [M]            ',\n",
       " '[D]     [P] [B]     [V] [S]        ',\n",
       " '[Q] [V] [R] [V]     [G] [B]        ',\n",
       " '[R] [W] [G] [J]     [T] [M]     [V]',\n",
       " '[V] [Q] [Q] [F] [C] [N] [V]     [W]',\n",
       " '[B] [Z] [Z] [H] [L] [P] [L] [J] [N]',\n",
       " '[H] [D] [L] [D] [W] [R] [R] [P] [C]',\n",
       " '[F] [L] [H] [R] [Z] [J] [J] [D] [D]',\n",
       " ' 1   2   3   4   5   6   7   8   9']"
      ]
     },
     "execution_count": 88,
     "metadata": {},
     "output_type": "execute_result"
    }
   ],
   "source": [
    "crate_rows = crates.split('\\n')\n",
    "crate_rows"
   ]
  },
  {
   "cell_type": "code",
   "execution_count": 89,
   "id": "913d8651-f8c9-4ad1-bb0d-4e3f4d335b70",
   "metadata": {},
   "outputs": [
    {
     "data": {
      "text/plain": [
       "' 1   2   3   4   5   6   7   8   9'"
      ]
     },
     "execution_count": 89,
     "metadata": {},
     "output_type": "execute_result"
    }
   ],
   "source": [
    "last_row = crate_rows[-1]\n",
    "last_row"
   ]
  },
  {
   "cell_type": "code",
   "execution_count": 90,
   "id": "501a5e73-bcef-469c-8701-70d1f2019dab",
   "metadata": {},
   "outputs": [
    {
     "data": {
      "text/plain": [
       "['1', '2', '3', '4', '5', '6', '7', '8', '9']"
      ]
     },
     "execution_count": 90,
     "metadata": {},
     "output_type": "execute_result"
    }
   ],
   "source": [
    "[last_row[i] for i in range(1, len(crate_rows[0]), 4)]"
   ]
  },
  {
   "cell_type": "code",
   "execution_count": 91,
   "id": "eaeeadf1-5b7c-467c-a3a0-2ba6c212c571",
   "metadata": {},
   "outputs": [],
   "source": [
    "crate_values = [\n",
    "    [crate_row[i] for i in range(1, len(crate_row), 4)]\n",
    "    for crate_row in crate_rows\n",
    "]"
   ]
  },
  {
   "cell_type": "code",
   "execution_count": 92,
   "id": "b1bcfa72-6b67-4f19-9e3f-72a6df3e6516",
   "metadata": {},
   "outputs": [
    {
     "data": {
      "text/plain": [
       "[['P', ' ', 'C', ' ', ' ', 'M', ' ', ' ', ' '],\n",
       " ['D', ' ', 'P', 'B', ' ', 'V', 'S', ' ', ' '],\n",
       " ['Q', 'V', 'R', 'V', ' ', 'G', 'B', ' ', ' '],\n",
       " ['R', 'W', 'G', 'J', ' ', 'T', 'M', ' ', 'V'],\n",
       " ['V', 'Q', 'Q', 'F', 'C', 'N', 'V', ' ', 'W'],\n",
       " ['B', 'Z', 'Z', 'H', 'L', 'P', 'L', 'J', 'N'],\n",
       " ['H', 'D', 'L', 'D', 'W', 'R', 'R', 'P', 'C'],\n",
       " ['F', 'L', 'H', 'R', 'Z', 'J', 'J', 'D', 'D'],\n",
       " ['1', '2', '3', '4', '5', '6', '7', '8', '9']]"
      ]
     },
     "execution_count": 92,
     "metadata": {},
     "output_type": "execute_result"
    }
   ],
   "source": [
    "crate_values"
   ]
  },
  {
   "cell_type": "code",
   "execution_count": 93,
   "id": "c82dd8db-edd9-4709-accc-502c7b85f830",
   "metadata": {},
   "outputs": [
    {
     "data": {
      "text/plain": [
       "[['P', ' ', 'C', ' ', ' ', 'M', ' ', ' ', ' '],\n",
       " ['D', ' ', 'P', 'B', ' ', 'V', 'S', ' ', ' '],\n",
       " ['Q', 'V', 'R', 'V', ' ', 'G', 'B', ' ', ' '],\n",
       " ['R', 'W', 'G', 'J', ' ', 'T', 'M', ' ', 'V'],\n",
       " ['V', 'Q', 'Q', 'F', 'C', 'N', 'V', ' ', 'W'],\n",
       " ['B', 'Z', 'Z', 'H', 'L', 'P', 'L', 'J', 'N'],\n",
       " ['H', 'D', 'L', 'D', 'W', 'R', 'R', 'P', 'C'],\n",
       " ['F', 'L', 'H', 'R', 'Z', 'J', 'J', 'D', 'D']]"
      ]
     },
     "execution_count": 93,
     "metadata": {},
     "output_type": "execute_result"
    }
   ],
   "source": [
    "# Drop the last row (stack indexes)\n",
    "crate_values = crate_values[:-1]\n",
    "crate_values"
   ]
  },
  {
   "cell_type": "code",
   "execution_count": 94,
   "id": "b4df2670-6125-4be2-b002-4d6f5c4906ed",
   "metadata": {},
   "outputs": [
    {
     "data": {
      "text/plain": [
       "{1: [], 2: [], 3: [], 4: [], 5: [], 6: [], 7: [], 8: [], 9: []}"
      ]
     },
     "execution_count": 94,
     "metadata": {},
     "output_type": "execute_result"
    }
   ],
   "source": [
    "# Populate stacks\n",
    "stacks = {idx: [] for idx in range(1, 10)}\n",
    "stacks"
   ]
  },
  {
   "cell_type": "code",
   "execution_count": 95,
   "id": "408af561-926f-40fc-8dbc-d84602f74caa",
   "metadata": {},
   "outputs": [],
   "source": [
    "for row in crate_values:\n",
    "    for idx in range(len(row)):\n",
    "        value = row[idx]\n",
    "        if value != ' ':\n",
    "            stacks[idx + 1].append(value)"
   ]
  },
  {
   "cell_type": "code",
   "execution_count": 96,
   "id": "5296d2e1-08de-4927-9960-0bf503f8cc26",
   "metadata": {},
   "outputs": [
    {
     "data": {
      "text/plain": [
       "{1: ['P', 'D', 'Q', 'R', 'V', 'B', 'H', 'F'],\n",
       " 2: ['V', 'W', 'Q', 'Z', 'D', 'L'],\n",
       " 3: ['C', 'P', 'R', 'G', 'Q', 'Z', 'L', 'H'],\n",
       " 4: ['B', 'V', 'J', 'F', 'H', 'D', 'R'],\n",
       " 5: ['C', 'L', 'W', 'Z'],\n",
       " 6: ['M', 'V', 'G', 'T', 'N', 'P', 'R', 'J'],\n",
       " 7: ['S', 'B', 'M', 'V', 'L', 'R', 'J'],\n",
       " 8: ['J', 'P', 'D'],\n",
       " 9: ['V', 'W', 'N', 'C', 'D']}"
      ]
     },
     "execution_count": 96,
     "metadata": {},
     "output_type": "execute_result"
    }
   ],
   "source": [
    "stacks"
   ]
  },
  {
   "cell_type": "code",
   "execution_count": 97,
   "id": "00d927f0-14ce-4c9e-9b74-fc8a6c326488",
   "metadata": {},
   "outputs": [],
   "source": [
    "# Reverse stacks\n",
    "stacks = {idx: list[::-1] for idx, list in stacks.items()}"
   ]
  },
  {
   "cell_type": "code",
   "execution_count": 98,
   "id": "b69e24f3-a693-4e2f-93e0-f6f6a471cd29",
   "metadata": {},
   "outputs": [
    {
     "data": {
      "text/plain": [
       "{1: ['F', 'H', 'B', 'V', 'R', 'Q', 'D', 'P'],\n",
       " 2: ['L', 'D', 'Z', 'Q', 'W', 'V'],\n",
       " 3: ['H', 'L', 'Z', 'Q', 'G', 'R', 'P', 'C'],\n",
       " 4: ['R', 'D', 'H', 'F', 'J', 'V', 'B'],\n",
       " 5: ['Z', 'W', 'L', 'C'],\n",
       " 6: ['J', 'R', 'P', 'N', 'T', 'G', 'V', 'M'],\n",
       " 7: ['J', 'R', 'L', 'V', 'M', 'B', 'S'],\n",
       " 8: ['D', 'P', 'J'],\n",
       " 9: ['D', 'C', 'N', 'W', 'V']}"
      ]
     },
     "execution_count": 98,
     "metadata": {},
     "output_type": "execute_result"
    }
   ],
   "source": [
    "stacks"
   ]
  },
  {
   "cell_type": "code",
   "execution_count": 99,
   "id": "3bf5a305-9ebc-47a7-af97-8a2de2e6d6a7",
   "metadata": {},
   "outputs": [
    {
     "data": {
      "text/plain": [
       "['move 4 from 9 to 1',\n",
       " 'move 6 from 3 to 1',\n",
       " 'move 7 from 4 to 1',\n",
       " 'move 2 from 8 to 5',\n",
       " 'move 1 from 9 to 7']"
      ]
     },
     "execution_count": 99,
     "metadata": {},
     "output_type": "execute_result"
    }
   ],
   "source": [
    "moves[:5]"
   ]
  },
  {
   "cell_type": "code",
   "execution_count": 100,
   "id": "b8922125-0fbb-48c8-9b59-b68ea6525e94",
   "metadata": {},
   "outputs": [
    {
     "data": {
      "text/plain": [
       "'move 4 from 9 to 1'"
      ]
     },
     "execution_count": 100,
     "metadata": {},
     "output_type": "execute_result"
    }
   ],
   "source": [
    "moves[0]"
   ]
  },
  {
   "cell_type": "code",
   "execution_count": 101,
   "id": "7dfb9f61-6a3e-42bf-99f6-58c35da8e177",
   "metadata": {},
   "outputs": [],
   "source": [
    "import re"
   ]
  },
  {
   "cell_type": "code",
   "execution_count": 102,
   "id": "025981e1-9e0d-4f7b-b341-acd10ddfe12e",
   "metadata": {},
   "outputs": [
    {
     "data": {
      "text/plain": [
       "('4', '9', '1')"
      ]
     },
     "execution_count": 102,
     "metadata": {},
     "output_type": "execute_result"
    }
   ],
   "source": [
    "re.match('move (.+) from (.+) to (.+)', moves[0]).groups()"
   ]
  },
  {
   "cell_type": "code",
   "execution_count": 103,
   "id": "8f2ebc85-6692-4fc2-8e1a-a15fd568cb0a",
   "metadata": {},
   "outputs": [],
   "source": [
    "move_tuples = [re.match('move (.+) from (.+) to (.+)', move).groups() \n",
    "               for move in moves]"
   ]
  },
  {
   "cell_type": "code",
   "execution_count": 104,
   "id": "ba82e330-2ac2-4897-86f6-c2e70220a08e",
   "metadata": {},
   "outputs": [],
   "source": [
    "for num_to_move, source, destination in move_tuples:\n",
    "    for i in range(int(num_to_move)):\n",
    "        top_crate = stacks[int(source)].pop()\n",
    "        stacks[int(destination)].append(top_crate)"
   ]
  },
  {
   "cell_type": "code",
   "execution_count": 105,
   "id": "2b028833-5446-45c4-834d-e29f142fd6a5",
   "metadata": {},
   "outputs": [
    {
     "data": {
      "text/plain": [
       "{1: ['D',\n",
       "  'R',\n",
       "  'V',\n",
       "  'Z',\n",
       "  'G',\n",
       "  'V',\n",
       "  'V',\n",
       "  'B',\n",
       "  'D',\n",
       "  'P',\n",
       "  'S',\n",
       "  'H',\n",
       "  'L',\n",
       "  'R',\n",
       "  'R',\n",
       "  'V',\n",
       "  'J'],\n",
       " 2: ['H', 'L', 'Q', 'P', 'H', 'Q', 'D'],\n",
       " 3: ['F', 'V', 'N', 'N', 'Z', 'T'],\n",
       " 4: ['M'],\n",
       " 5: ['M', 'G', 'P', 'R'],\n",
       " 6: ['W'],\n",
       " 7: ['L', 'C'],\n",
       " 8: ['Q'],\n",
       " 9: ['W',\n",
       "  'J',\n",
       "  'C',\n",
       "  'W',\n",
       "  'F',\n",
       "  'R',\n",
       "  'B',\n",
       "  'V',\n",
       "  'J',\n",
       "  'Z',\n",
       "  'L',\n",
       "  'C',\n",
       "  'B',\n",
       "  'D',\n",
       "  'D',\n",
       "  'P',\n",
       "  'J']}"
      ]
     },
     "execution_count": 105,
     "metadata": {},
     "output_type": "execute_result"
    }
   ],
   "source": [
    "stacks"
   ]
  },
  {
   "cell_type": "code",
   "execution_count": 106,
   "id": "160e92af-88c6-40b7-ba59-88e3b92dbce0",
   "metadata": {},
   "outputs": [
    {
     "data": {
      "text/plain": [
       "'JDTMRWCQJ'"
      ]
     },
     "execution_count": 106,
     "metadata": {},
     "output_type": "execute_result"
    }
   ],
   "source": [
    "''.join([value[-1] for key, value in stacks.items()])"
   ]
  },
  {
   "cell_type": "markdown",
   "id": "99ab227b-a499-4a46-bf6d-c5ac55b50a30",
   "metadata": {
    "tags": []
   },
   "source": [
    "### Part 2"
   ]
  },
  {
   "cell_type": "code",
   "execution_count": 107,
   "id": "2708ad1f-c9d9-428b-ad98-8067dee88acb",
   "metadata": {},
   "outputs": [],
   "source": [
    "with open('data/input_d05_01.txt', 'r') as file:\n",
    "    crates_and_moves = file.read()"
   ]
  },
  {
   "cell_type": "code",
   "execution_count": 108,
   "id": "79bd071f-3659-4513-9001-efd2242cfa1e",
   "metadata": {},
   "outputs": [],
   "source": [
    "crates = crates_and_moves[:crates_and_moves.find('9')+1]"
   ]
  },
  {
   "cell_type": "code",
   "execution_count": 109,
   "id": "653a3c12-f48a-4784-93d6-06bd8be4bd76",
   "metadata": {},
   "outputs": [
    {
     "name": "stdout",
     "output_type": "stream",
     "text": [
      "[P]     [C]         [M]            \n",
      "[D]     [P] [B]     [V] [S]        \n",
      "[Q] [V] [R] [V]     [G] [B]        \n",
      "[R] [W] [G] [J]     [T] [M]     [V]\n",
      "[V] [Q] [Q] [F] [C] [N] [V]     [W]\n",
      "[B] [Z] [Z] [H] [L] [P] [L] [J] [N]\n",
      "[H] [D] [L] [D] [W] [R] [R] [P] [C]\n",
      "[F] [L] [H] [R] [Z] [J] [J] [D] [D]\n",
      " 1   2   3   4   5   6   7   8   9\n"
     ]
    }
   ],
   "source": [
    "print(crates)"
   ]
  },
  {
   "cell_type": "code",
   "execution_count": 110,
   "id": "5932e73e-1603-46b2-b056-3f2fff4b1746",
   "metadata": {},
   "outputs": [],
   "source": [
    "moves = crates_and_moves[crates_and_moves.find('9')+1:]"
   ]
  },
  {
   "cell_type": "code",
   "execution_count": 111,
   "id": "9759d21b-b81e-49e5-9d46-cc623436ba96",
   "metadata": {},
   "outputs": [],
   "source": [
    "moves = moves.split('\\n')"
   ]
  },
  {
   "cell_type": "code",
   "execution_count": 112,
   "id": "067cdd03-5bb1-415c-bef8-9fa534c2ab9b",
   "metadata": {},
   "outputs": [
    {
     "data": {
      "text/plain": [
       "[' ', '', 'move 4 from 9 to 1', 'move 6 from 3 to 1', 'move 7 from 4 to 1']"
      ]
     },
     "execution_count": 112,
     "metadata": {},
     "output_type": "execute_result"
    }
   ],
   "source": [
    "moves[:5]"
   ]
  },
  {
   "cell_type": "code",
   "execution_count": 113,
   "id": "b4384ec0-4477-4a5a-a6c6-6c27e95a6272",
   "metadata": {},
   "outputs": [
    {
     "data": {
      "text/plain": [
       "['move 4 from 9 to 1',\n",
       " 'move 6 from 3 to 1',\n",
       " 'move 7 from 4 to 1',\n",
       " 'move 2 from 8 to 5',\n",
       " 'move 1 from 9 to 7']"
      ]
     },
     "execution_count": 113,
     "metadata": {},
     "output_type": "execute_result"
    }
   ],
   "source": [
    "moves = moves[2:]\n",
    "moves[:5]"
   ]
  },
  {
   "cell_type": "code",
   "execution_count": 114,
   "id": "e86571fe-5a1e-4843-8346-2498e2a8e779",
   "metadata": {},
   "outputs": [
    {
     "data": {
      "text/plain": [
       "['move 1 from 8 to 6',\n",
       " 'move 6 from 5 to 9',\n",
       " 'move 3 from 6 to 5',\n",
       " 'move 2 from 4 to 7',\n",
       " '']"
      ]
     },
     "execution_count": 114,
     "metadata": {},
     "output_type": "execute_result"
    }
   ],
   "source": [
    "moves[-5:]"
   ]
  },
  {
   "cell_type": "code",
   "execution_count": 115,
   "id": "3e49be56-c054-4b55-a614-f6026fdf4d88",
   "metadata": {},
   "outputs": [],
   "source": [
    "moves = moves[:-1]"
   ]
  },
  {
   "cell_type": "code",
   "execution_count": 116,
   "id": "a4c993b6-3ede-4941-8f89-a257a6c9ed1b",
   "metadata": {},
   "outputs": [],
   "source": [
    "# Populate stacks\n",
    "stacks = {}"
   ]
  },
  {
   "cell_type": "code",
   "execution_count": 117,
   "id": "f6e92629-fcb5-4af5-8e65-af29419552f7",
   "metadata": {},
   "outputs": [
    {
     "data": {
      "text/plain": [
       "['[P]     [C]         [M]            ',\n",
       " '[D]     [P] [B]     [V] [S]        ',\n",
       " '[Q] [V] [R] [V]     [G] [B]        ',\n",
       " '[R] [W] [G] [J]     [T] [M]     [V]',\n",
       " '[V] [Q] [Q] [F] [C] [N] [V]     [W]',\n",
       " '[B] [Z] [Z] [H] [L] [P] [L] [J] [N]',\n",
       " '[H] [D] [L] [D] [W] [R] [R] [P] [C]',\n",
       " '[F] [L] [H] [R] [Z] [J] [J] [D] [D]',\n",
       " ' 1   2   3   4   5   6   7   8   9']"
      ]
     },
     "execution_count": 117,
     "metadata": {},
     "output_type": "execute_result"
    }
   ],
   "source": [
    "crate_rows = crates.split('\\n')\n",
    "crate_rows"
   ]
  },
  {
   "cell_type": "code",
   "execution_count": 118,
   "id": "f7768bef-c2ea-4334-aa3f-d411468e40b4",
   "metadata": {},
   "outputs": [
    {
     "data": {
      "text/plain": [
       "' 1   2   3   4   5   6   7   8   9'"
      ]
     },
     "execution_count": 118,
     "metadata": {},
     "output_type": "execute_result"
    }
   ],
   "source": [
    "last_row = crate_rows[-1]\n",
    "last_row"
   ]
  },
  {
   "cell_type": "code",
   "execution_count": 119,
   "id": "a2d8292e-36a9-4339-8f42-fb478ff82f0b",
   "metadata": {},
   "outputs": [
    {
     "data": {
      "text/plain": [
       "['1', '2', '3', '4', '5', '6', '7', '8', '9']"
      ]
     },
     "execution_count": 119,
     "metadata": {},
     "output_type": "execute_result"
    }
   ],
   "source": [
    "[last_row[i] for i in range(1, len(crate_rows[0]), 4)]"
   ]
  },
  {
   "cell_type": "code",
   "execution_count": 120,
   "id": "454b1c82-2cfe-4079-9737-0995f14a323b",
   "metadata": {},
   "outputs": [],
   "source": [
    "crate_values = [\n",
    "    [crate_row[i] for i in range(1, len(crate_row), 4)]\n",
    "    for crate_row in crate_rows\n",
    "]"
   ]
  },
  {
   "cell_type": "code",
   "execution_count": 121,
   "id": "6d62f477-f7fd-4053-b046-af1196759289",
   "metadata": {},
   "outputs": [
    {
     "data": {
      "text/plain": [
       "[['P', ' ', 'C', ' ', ' ', 'M', ' ', ' ', ' '],\n",
       " ['D', ' ', 'P', 'B', ' ', 'V', 'S', ' ', ' '],\n",
       " ['Q', 'V', 'R', 'V', ' ', 'G', 'B', ' ', ' '],\n",
       " ['R', 'W', 'G', 'J', ' ', 'T', 'M', ' ', 'V'],\n",
       " ['V', 'Q', 'Q', 'F', 'C', 'N', 'V', ' ', 'W'],\n",
       " ['B', 'Z', 'Z', 'H', 'L', 'P', 'L', 'J', 'N'],\n",
       " ['H', 'D', 'L', 'D', 'W', 'R', 'R', 'P', 'C'],\n",
       " ['F', 'L', 'H', 'R', 'Z', 'J', 'J', 'D', 'D'],\n",
       " ['1', '2', '3', '4', '5', '6', '7', '8', '9']]"
      ]
     },
     "execution_count": 121,
     "metadata": {},
     "output_type": "execute_result"
    }
   ],
   "source": [
    "crate_values"
   ]
  },
  {
   "cell_type": "code",
   "execution_count": 122,
   "id": "01278830-c288-4903-b914-ba647d61f556",
   "metadata": {},
   "outputs": [
    {
     "data": {
      "text/plain": [
       "[['P', ' ', 'C', ' ', ' ', 'M', ' ', ' ', ' '],\n",
       " ['D', ' ', 'P', 'B', ' ', 'V', 'S', ' ', ' '],\n",
       " ['Q', 'V', 'R', 'V', ' ', 'G', 'B', ' ', ' '],\n",
       " ['R', 'W', 'G', 'J', ' ', 'T', 'M', ' ', 'V'],\n",
       " ['V', 'Q', 'Q', 'F', 'C', 'N', 'V', ' ', 'W'],\n",
       " ['B', 'Z', 'Z', 'H', 'L', 'P', 'L', 'J', 'N'],\n",
       " ['H', 'D', 'L', 'D', 'W', 'R', 'R', 'P', 'C'],\n",
       " ['F', 'L', 'H', 'R', 'Z', 'J', 'J', 'D', 'D']]"
      ]
     },
     "execution_count": 122,
     "metadata": {},
     "output_type": "execute_result"
    }
   ],
   "source": [
    "# Drop the last row\n",
    "crate_values = crate_values[:-1]\n",
    "crate_values"
   ]
  },
  {
   "cell_type": "code",
   "execution_count": 123,
   "id": "2261f1fc-496b-4c40-81e8-c45ffe2f09af",
   "metadata": {},
   "outputs": [
    {
     "data": {
      "text/plain": [
       "{1: [], 2: [], 3: [], 4: [], 5: [], 6: [], 7: [], 8: [], 9: []}"
      ]
     },
     "execution_count": 123,
     "metadata": {},
     "output_type": "execute_result"
    }
   ],
   "source": [
    "# Populate stacks\n",
    "stacks = {idx: [] for idx in range(1, 10)}\n",
    "stacks"
   ]
  },
  {
   "cell_type": "code",
   "execution_count": 124,
   "id": "a394b548-9290-416a-9d9b-c4553546864a",
   "metadata": {},
   "outputs": [],
   "source": [
    "for row in crate_values:\n",
    "    for idx in range(len(row)):\n",
    "        value = row[idx]\n",
    "        if value != ' ':\n",
    "            stacks[idx + 1].append(value)"
   ]
  },
  {
   "cell_type": "code",
   "execution_count": 125,
   "id": "dae66041-f22b-4be6-82fe-04bd25c8a0cd",
   "metadata": {},
   "outputs": [
    {
     "data": {
      "text/plain": [
       "{1: ['P', 'D', 'Q', 'R', 'V', 'B', 'H', 'F'],\n",
       " 2: ['V', 'W', 'Q', 'Z', 'D', 'L'],\n",
       " 3: ['C', 'P', 'R', 'G', 'Q', 'Z', 'L', 'H'],\n",
       " 4: ['B', 'V', 'J', 'F', 'H', 'D', 'R'],\n",
       " 5: ['C', 'L', 'W', 'Z'],\n",
       " 6: ['M', 'V', 'G', 'T', 'N', 'P', 'R', 'J'],\n",
       " 7: ['S', 'B', 'M', 'V', 'L', 'R', 'J'],\n",
       " 8: ['J', 'P', 'D'],\n",
       " 9: ['V', 'W', 'N', 'C', 'D']}"
      ]
     },
     "execution_count": 125,
     "metadata": {},
     "output_type": "execute_result"
    }
   ],
   "source": [
    "stacks"
   ]
  },
  {
   "cell_type": "code",
   "execution_count": 126,
   "id": "3b727bd8-fded-4041-be0a-3254deb6ce61",
   "metadata": {},
   "outputs": [],
   "source": [
    "# Reverse stacks\n",
    "stacks = {idx: list[::-1] for idx, list in stacks.items()}"
   ]
  },
  {
   "cell_type": "code",
   "execution_count": 127,
   "id": "83f1e081-656e-44e4-a51c-8503170242b1",
   "metadata": {},
   "outputs": [
    {
     "data": {
      "text/plain": [
       "{1: ['F', 'H', 'B', 'V', 'R', 'Q', 'D', 'P'],\n",
       " 2: ['L', 'D', 'Z', 'Q', 'W', 'V'],\n",
       " 3: ['H', 'L', 'Z', 'Q', 'G', 'R', 'P', 'C'],\n",
       " 4: ['R', 'D', 'H', 'F', 'J', 'V', 'B'],\n",
       " 5: ['Z', 'W', 'L', 'C'],\n",
       " 6: ['J', 'R', 'P', 'N', 'T', 'G', 'V', 'M'],\n",
       " 7: ['J', 'R', 'L', 'V', 'M', 'B', 'S'],\n",
       " 8: ['D', 'P', 'J'],\n",
       " 9: ['D', 'C', 'N', 'W', 'V']}"
      ]
     },
     "execution_count": 127,
     "metadata": {},
     "output_type": "execute_result"
    }
   ],
   "source": [
    "stacks"
   ]
  },
  {
   "cell_type": "code",
   "execution_count": 128,
   "id": "4b391b3e-770f-47f2-bbb6-11641888f158",
   "metadata": {},
   "outputs": [],
   "source": [
    "move_tuples = [re.match('move (.+) from (.+) to (.+)', move).groups() \n",
    "               for move in moves]"
   ]
  },
  {
   "cell_type": "code",
   "execution_count": 129,
   "id": "43c66fd3-ffb0-45e7-b4fd-b44622d2ecb7",
   "metadata": {},
   "outputs": [
    {
     "data": {
      "text/plain": [
       "[('4', '9', '1'),\n",
       " ('6', '3', '1'),\n",
       " ('7', '4', '1'),\n",
       " ('2', '8', '5'),\n",
       " ('1', '9', '7')]"
      ]
     },
     "execution_count": 129,
     "metadata": {},
     "output_type": "execute_result"
    }
   ],
   "source": [
    "move_tuples[:5]"
   ]
  },
  {
   "cell_type": "code",
   "execution_count": 130,
   "id": "d1dfdeac-b5fb-4c6b-94d0-7c13959c5501",
   "metadata": {},
   "outputs": [],
   "source": [
    "for num_to_move, source, destination in move_tuples:\n",
    "    source_stack = stacks[int(source)]\n",
    "    destination_stack = stacks[int(destination)]\n",
    "\n",
    "    stack_height = len(source_stack)\n",
    "    top_crates = source_stack[stack_height-int(num_to_move):]\n",
    "    stacks[int(source)] = source_stack[:-int(num_to_move)]\n",
    "\n",
    "    stacks[int(destination)] = destination_stack + top_crates\n"
   ]
  },
  {
   "cell_type": "code",
   "execution_count": 131,
   "id": "de8f8943-2edc-4deb-9842-8a448e9aa466",
   "metadata": {},
   "outputs": [
    {
     "data": {
      "text/plain": [
       "'VHJDDCWRD'"
      ]
     },
     "execution_count": 131,
     "metadata": {},
     "output_type": "execute_result"
    }
   ],
   "source": [
    "''.join([value[-1] for key, value in stacks.items()])"
   ]
  },
  {
   "cell_type": "markdown",
   "id": "a8f8079c-e357-4938-8c8e-b7e8b667d912",
   "metadata": {},
   "source": [
    "## Day 06"
   ]
  },
  {
   "cell_type": "markdown",
   "id": "a2e29467-11c8-4de2-884c-d58968f4e770",
   "metadata": {
    "tags": []
   },
   "source": [
    "### Part 1"
   ]
  },
  {
   "cell_type": "code",
   "execution_count": 132,
   "id": "5df32883-74c6-461d-b3e4-9d849b981e03",
   "metadata": {},
   "outputs": [],
   "source": [
    "with open('data/input_d06_01.txt', 'r') as file:\n",
    "    datastream_buffer = file.read()"
   ]
  },
  {
   "cell_type": "code",
   "execution_count": 133,
   "id": "f02bbfe7-7c52-4d8a-a364-4a47abf74a7c",
   "metadata": {},
   "outputs": [],
   "source": [
    "datastream_buffer = datastream_buffer.strip()"
   ]
  },
  {
   "cell_type": "code",
   "execution_count": 134,
   "id": "2cd56077-0e72-4405-8a8c-31128b37f458",
   "metadata": {},
   "outputs": [
    {
     "data": {
      "text/plain": [
       "'hqhnqhqshhslswsffchfcfbblvlblqlggfwwqfwwqdddbbbhzhjjrqjqbjqjwqjwqwhwrrmcrrjqjjlllcvcrrnpptzpzmmswmmz'"
      ]
     },
     "execution_count": 134,
     "metadata": {},
     "output_type": "execute_result"
    }
   ],
   "source": [
    "datastream_buffer[:100]"
   ]
  },
  {
   "cell_type": "code",
   "execution_count": 135,
   "id": "5544ec91-74f3-4722-b179-5b95fe2b3f58",
   "metadata": {},
   "outputs": [
    {
     "data": {
      "text/plain": [
       "'zmzcmrfbjv'"
      ]
     },
     "execution_count": 135,
     "metadata": {},
     "output_type": "execute_result"
    }
   ],
   "source": [
    "datastream_buffer[-10:]"
   ]
  },
  {
   "cell_type": "code",
   "execution_count": 136,
   "id": "017b768e-2ec4-41d7-ada2-390ff032aa4a",
   "metadata": {},
   "outputs": [
    {
     "data": {
      "text/plain": [
       "4091"
      ]
     },
     "execution_count": 136,
     "metadata": {},
     "output_type": "execute_result"
    }
   ],
   "source": [
    "len(datastream_buffer) - 4"
   ]
  },
  {
   "cell_type": "code",
   "execution_count": 137,
   "id": "da4ce25f-fee4-46e3-8eff-864015ccbb8e",
   "metadata": {},
   "outputs": [
    {
     "data": {
      "text/plain": [
       "'fbjv'"
      ]
     },
     "execution_count": 137,
     "metadata": {},
     "output_type": "execute_result"
    }
   ],
   "source": [
    "datastream_buffer[len(datastream_buffer) - 4:len(datastream_buffer)]"
   ]
  },
  {
   "cell_type": "code",
   "execution_count": 138,
   "id": "2ec9589e-c775-4dc9-99b3-6a12262b663f",
   "metadata": {},
   "outputs": [
    {
     "name": "stdout",
     "output_type": "stream",
     "text": [
      "1760\n"
     ]
    }
   ],
   "source": [
    "for i in range(len(datastream_buffer)-4):\n",
    "    if len(set(datastream_buffer[i:i+4])) == 4:\n",
    "        print(i + 4)\n",
    "        break"
   ]
  },
  {
   "cell_type": "markdown",
   "id": "d0b35a5e-50c1-41ce-b1eb-61f074b73165",
   "metadata": {
    "tags": []
   },
   "source": [
    "### Part 2"
   ]
  },
  {
   "cell_type": "code",
   "execution_count": 139,
   "id": "bffc4d46-a7d5-49e7-a6e0-b3db167d1df8",
   "metadata": {},
   "outputs": [],
   "source": [
    "def find_marker(datastream_buffer, num_distinct=14):\n",
    "    '''Prints index of first character that satisfies previous num_distinct critereon.'''\n",
    "    for i in range(len(datastream_buffer)-num_distinct):\n",
    "        if len(set(datastream_buffer[i:i+num_distinct])) == num_distinct:\n",
    "            print(i + num_distinct)\n",
    "            break"
   ]
  },
  {
   "cell_type": "code",
   "execution_count": 140,
   "id": "a2bb6552-b068-4b34-ba01-d7bc5954b258",
   "metadata": {},
   "outputs": [
    {
     "name": "stdout",
     "output_type": "stream",
     "text": [
      "2974\n"
     ]
    }
   ],
   "source": [
    "find_marker(datastream_buffer)"
   ]
  },
  {
   "cell_type": "markdown",
   "id": "278c8800-b5e2-4ef1-9657-3588968b176c",
   "metadata": {},
   "source": [
    "## Day 07"
   ]
  },
  {
   "cell_type": "markdown",
   "id": "bab6b542-7316-4705-ad91-d7834e45fd5c",
   "metadata": {
    "tags": []
   },
   "source": [
    "### Part 1"
   ]
  },
  {
   "cell_type": "code",
   "execution_count": 141,
   "id": "428bc779-88c3-410e-8b27-e3d73df75a8b",
   "metadata": {},
   "outputs": [],
   "source": [
    "terminal_output = [line.strip() for line in open('data/input_d07_01.txt', 'r')]"
   ]
  },
  {
   "cell_type": "code",
   "execution_count": 142,
   "id": "c9aba694-fbb1-49b1-a109-b04be4ea5b9c",
   "metadata": {},
   "outputs": [
    {
     "data": {
      "text/plain": [
       "['$ cd /',\n",
       " '$ ls',\n",
       " 'dir bgmjrlz',\n",
       " 'dir bhp',\n",
       " 'dir cbcwz',\n",
       " '169838 fddw.bgw',\n",
       " 'dir fvhmzqc',\n",
       " 'dir hqmlnpn',\n",
       " '248637 jtwpn.lnr',\n",
       " '319470 lnmrrht.zbn']"
      ]
     },
     "execution_count": 142,
     "metadata": {},
     "output_type": "execute_result"
    }
   ],
   "source": [
    "terminal_output[:10]"
   ]
  },
  {
   "cell_type": "code",
   "execution_count": 143,
   "id": "a59267ba-40a0-4ed2-a67b-c922138bb05c",
   "metadata": {},
   "outputs": [
    {
     "data": {
      "text/plain": [
       "['205662 vmmcdr', '$ cd ..', '$ cd sggm', '$ ls', '260269 wzpjsjnq.nvt']"
      ]
     },
     "execution_count": 143,
     "metadata": {},
     "output_type": "execute_result"
    }
   ],
   "source": [
    "terminal_output[-5:]"
   ]
  },
  {
   "cell_type": "code",
   "execution_count": 144,
   "id": "f8555248-19d6-4715-aadc-f4a460ab8262",
   "metadata": {},
   "outputs": [],
   "source": [
    "from dataclasses import dataclass, field\n",
    "from __future__ import annotations"
   ]
  },
  {
   "cell_type": "code",
   "execution_count": 145,
   "id": "2ab1ac89-ee8b-41d8-9d89-c995e3ab4594",
   "metadata": {},
   "outputs": [],
   "source": [
    "@dataclass\n",
    "class Directory:\n",
    "    name: str\n",
    "    parent: Directory = None\n",
    "    children: list = field(default_factory=list)\n",
    "    children_size: int = 0"
   ]
  },
  {
   "cell_type": "code",
   "execution_count": 146,
   "id": "7dc8befc-e597-4b96-a029-53073e2ecc08",
   "metadata": {},
   "outputs": [],
   "source": [
    "@dataclass\n",
    "class File:\n",
    "    name: str\n",
    "    size: int"
   ]
  },
  {
   "cell_type": "code",
   "execution_count": 147,
   "id": "d1fb9922-596e-4be0-b5f2-db536b84813c",
   "metadata": {},
   "outputs": [],
   "source": [
    "root = Directory('/')"
   ]
  },
  {
   "cell_type": "code",
   "execution_count": 148,
   "id": "720a9ecd-e055-419e-bfb4-6aee4404dd35",
   "metadata": {},
   "outputs": [
    {
     "data": {
      "text/plain": [
       "Directory(name='/', parent=None, children=[], children_size=0)"
      ]
     },
     "execution_count": 148,
     "metadata": {},
     "output_type": "execute_result"
    }
   ],
   "source": [
    "root"
   ]
  },
  {
   "cell_type": "code",
   "execution_count": 149,
   "id": "7917e804-c427-472a-a75f-bc080e91aae8",
   "metadata": {},
   "outputs": [],
   "source": [
    "current_directory = root"
   ]
  },
  {
   "cell_type": "code",
   "execution_count": 150,
   "id": "57e53114-205f-458b-a93e-550fea1cd071",
   "metadata": {},
   "outputs": [],
   "source": [
    "import re"
   ]
  },
  {
   "cell_type": "code",
   "execution_count": 151,
   "id": "4b7cb06e-1ee0-4c6f-b4fd-170f9c14274d",
   "metadata": {},
   "outputs": [
    {
     "data": {
      "text/plain": [
       "('dir', 'bgmjrlz')"
      ]
     },
     "execution_count": 151,
     "metadata": {},
     "output_type": "execute_result"
    }
   ],
   "source": [
    "re.match('(.+) (.+)', 'dir bgmjrlz').groups()"
   ]
  },
  {
   "cell_type": "code",
   "execution_count": 152,
   "id": "26063ee5-a05e-4c09-a76a-fea1c76bf793",
   "metadata": {},
   "outputs": [
    {
     "data": {
      "text/plain": [
       "('169838', 'fddw.bgw')"
      ]
     },
     "execution_count": 152,
     "metadata": {},
     "output_type": "execute_result"
    }
   ],
   "source": [
    "re.match('(.+) (.+)', '169838 fddw.bgw').groups()"
   ]
  },
  {
   "cell_type": "code",
   "execution_count": 153,
   "id": "acce6a09-5077-4452-a114-d16a863765cd",
   "metadata": {},
   "outputs": [],
   "source": [
    "def add_item(current_directory, terminal_output_str):\n",
    "    dir_or_size, name = re.match('(.+) (.+)', terminal_output_str).groups()\n",
    "    \n",
    "    # Do not add if already exists\n",
    "    if name in [child.name for child in current_directory.children]:\n",
    "        print(f'{name} already exists in {current_directory.name}')\n",
    "    \n",
    "    if dir_or_size == 'dir':\n",
    "        current_directory.children.append(Directory(name, parent=current_directory))\n",
    "    else:\n",
    "        current_directory.children.append(File(name=name, size=int(dir_or_size)))"
   ]
  },
  {
   "cell_type": "code",
   "execution_count": 154,
   "id": "9e20d5a0-a80c-4097-99cd-e2dbae83fbc3",
   "metadata": {},
   "outputs": [],
   "source": [
    "add_item(current_directory, 'dir a')"
   ]
  },
  {
   "cell_type": "code",
   "execution_count": 155,
   "id": "202063ad-22eb-4c88-bcfd-520f90dba039",
   "metadata": {},
   "outputs": [],
   "source": [
    "add_item(current_directory, '14848514 b.txt')"
   ]
  },
  {
   "cell_type": "code",
   "execution_count": 156,
   "id": "8ca3a2e9-9e6b-45f8-a0d6-51331f243601",
   "metadata": {},
   "outputs": [],
   "source": [
    "add_item(current_directory, '8504156 c.dat')"
   ]
  },
  {
   "cell_type": "code",
   "execution_count": 157,
   "id": "757cb073-1398-41ce-802e-b336fbc10bd1",
   "metadata": {},
   "outputs": [],
   "source": [
    "add_item(current_directory, 'dir d')"
   ]
  },
  {
   "cell_type": "code",
   "execution_count": 158,
   "id": "b0d5342d-0ed6-4b20-ac38-157862492c31",
   "metadata": {},
   "outputs": [
    {
     "data": {
      "text/plain": [
       "Directory(name='/', parent=None, children=[Directory(name='a', parent=..., children=[], children_size=0), File(name='b.txt', size=14848514), File(name='c.dat', size=8504156), Directory(name='d', parent=..., children=[], children_size=0)], children_size=0)"
      ]
     },
     "execution_count": 158,
     "metadata": {},
     "output_type": "execute_result"
    }
   ],
   "source": [
    "root"
   ]
  },
  {
   "cell_type": "code",
   "execution_count": 159,
   "id": "d76ef2e9-0860-4839-a500-1f0c6b8fcda1",
   "metadata": {},
   "outputs": [],
   "source": [
    "def print_tree(item, offset=0):\n",
    "    pad_str = '   ' * offset\n",
    "    if isinstance(item, File):\n",
    "        print(pad_str + f'- {item.name} (file, size={item.size})')\n",
    "        return\n",
    "    else:\n",
    "        print(pad_str + f'- {item.name} (dir, parent={item.parent.name if item.parent is not None else \"None\"}, children_size={item.children_size})')\n",
    "        for child in item.children:\n",
    "            print_tree(child, offset=offset+1)"
   ]
  },
  {
   "cell_type": "code",
   "execution_count": 160,
   "id": "9fa9e640-11bc-4844-9dcd-a7e4d5daf3d8",
   "metadata": {},
   "outputs": [
    {
     "name": "stdout",
     "output_type": "stream",
     "text": [
      "- / (dir, parent=None, children_size=0)\n",
      "   - a (dir, parent=/, children_size=0)\n",
      "   - b.txt (file, size=14848514)\n",
      "   - c.dat (file, size=8504156)\n",
      "   - d (dir, parent=/, children_size=0)\n"
     ]
    }
   ],
   "source": [
    "print_tree(root)"
   ]
  },
  {
   "cell_type": "code",
   "execution_count": 161,
   "id": "2370ba8d-bfa0-47e4-bde0-d2a3625f1827",
   "metadata": {},
   "outputs": [
    {
     "data": {
      "text/plain": [
       "('cd', ' ', '/')"
      ]
     },
     "execution_count": 161,
     "metadata": {},
     "output_type": "execute_result"
    }
   ],
   "source": [
    "re.match('\\$ (.{2})( )?(.+)?', '$ cd /').groups()"
   ]
  },
  {
   "cell_type": "code",
   "execution_count": 162,
   "id": "08b2f9fd-2d90-4ae3-a7cb-dc2d3e7995cf",
   "metadata": {},
   "outputs": [
    {
     "data": {
      "text/plain": [
       "('cd', ' ', 'a')"
      ]
     },
     "execution_count": 162,
     "metadata": {},
     "output_type": "execute_result"
    }
   ],
   "source": [
    "re.match('\\$ (.{2})( )?(.+)?', '$ cd a').groups()"
   ]
  },
  {
   "cell_type": "code",
   "execution_count": 163,
   "id": "2dae0aa7-72f2-47d6-833d-191692d94c0d",
   "metadata": {},
   "outputs": [
    {
     "data": {
      "text/plain": [
       "('ls', None, None)"
      ]
     },
     "execution_count": 163,
     "metadata": {},
     "output_type": "execute_result"
    }
   ],
   "source": [
    "re.match('\\$ (.{2})( )?(.+)?', '$ ls').groups()"
   ]
  },
  {
   "cell_type": "code",
   "execution_count": 164,
   "id": "666d52f8-16c8-4366-98c6-11d2ba9fb1ba",
   "metadata": {},
   "outputs": [
    {
     "data": {
      "text/plain": [
       "('cd', ' ', '..')"
      ]
     },
     "execution_count": 164,
     "metadata": {},
     "output_type": "execute_result"
    }
   ],
   "source": [
    "re.match('\\$ (.{2})( )?(.+)?', '$ cd ..').groups()"
   ]
  },
  {
   "cell_type": "code",
   "execution_count": 165,
   "id": "6149c74b-8ac1-43b8-87b1-d38f720dad61",
   "metadata": {},
   "outputs": [],
   "source": [
    "def parse_line(terminal_output_str, current_directory, root):\n",
    "    '''Parse terminal output, returning current_directory after command executes'''\n",
    "    if terminal_output_str.startswith('$'):\n",
    "        command, maybe_space, target = re.match('\\$ (.{2})( )?(.+)?', terminal_output_str).groups()\n",
    "        if command == 'ls':\n",
    "            pass # Do not change current_directory\n",
    "        else:  # command is 'cd <target>'\n",
    "            if target == '..':\n",
    "                current_directory = current_directory.parent\n",
    "            else:  \n",
    "                if target == '/':\n",
    "                    current_directory = root\n",
    "                else:  # target is a sub-directory\n",
    "                    # Search children for target\n",
    "                    for item in current_directory.children:\n",
    "                        if isinstance(item, Directory) and item.name == target:\n",
    "                            current_directory = item\n",
    "                            break\n",
    "                    else:\n",
    "                        raise ValueError(f\"Could not find {target} in {current_directory.name}\")\n",
    "    else:  # is an item (directory or file)\n",
    "        add_item(current_directory, terminal_output_str)\n",
    "    \n",
    "    return current_directory"
   ]
  },
  {
   "cell_type": "code",
   "execution_count": 166,
   "id": "0109a3cb-efc8-45f7-99fb-64b16a3c819e",
   "metadata": {},
   "outputs": [],
   "source": [
    "example_terminal_output_str = \"\"\"$ cd /\n",
    "$ ls\n",
    "dir a\n",
    "14848514 b.txt\n",
    "8504156 c.dat\n",
    "dir d\n",
    "$ cd a\n",
    "$ ls\n",
    "dir e\n",
    "29116 f\n",
    "2557 g\n",
    "62596 h.lst\n",
    "$ cd e\n",
    "$ ls\n",
    "584 i\n",
    "$ cd ..\n",
    "$ cd ..\n",
    "$ cd d\n",
    "$ ls\n",
    "4060174 j\n",
    "8033020 d.log\n",
    "5626152 d.ext\n",
    "7214296 k\"\"\""
   ]
  },
  {
   "cell_type": "code",
   "execution_count": 167,
   "id": "eb99943c-5be1-4b1d-a2d6-d4dbe1a32bdb",
   "metadata": {},
   "outputs": [],
   "source": [
    "example_terminal_output = example_terminal_output_str.split('\\n')"
   ]
  },
  {
   "cell_type": "code",
   "execution_count": 168,
   "id": "a422ad19-3125-401f-bc31-73aecf1fcd1a",
   "metadata": {},
   "outputs": [
    {
     "data": {
      "text/plain": [
       "['$ cd /',\n",
       " '$ ls',\n",
       " 'dir a',\n",
       " '14848514 b.txt',\n",
       " '8504156 c.dat',\n",
       " 'dir d',\n",
       " '$ cd a',\n",
       " '$ ls',\n",
       " 'dir e',\n",
       " '29116 f',\n",
       " '2557 g',\n",
       " '62596 h.lst',\n",
       " '$ cd e',\n",
       " '$ ls',\n",
       " '584 i',\n",
       " '$ cd ..',\n",
       " '$ cd ..',\n",
       " '$ cd d',\n",
       " '$ ls',\n",
       " '4060174 j',\n",
       " '8033020 d.log',\n",
       " '5626152 d.ext',\n",
       " '7214296 k']"
      ]
     },
     "execution_count": 168,
     "metadata": {},
     "output_type": "execute_result"
    }
   ],
   "source": [
    "example_terminal_output"
   ]
  },
  {
   "cell_type": "code",
   "execution_count": 169,
   "id": "1cfd4dd2-aeb9-44c1-876c-a1743e9a18a7",
   "metadata": {},
   "outputs": [],
   "source": [
    "root = Directory('/')"
   ]
  },
  {
   "cell_type": "code",
   "execution_count": 170,
   "id": "757633b8-1db3-4830-bbd8-aace04654179",
   "metadata": {},
   "outputs": [],
   "source": [
    "current_directory = root"
   ]
  },
  {
   "cell_type": "code",
   "execution_count": 171,
   "id": "a2dd6180-b962-4968-8d8f-698d502410ee",
   "metadata": {},
   "outputs": [
    {
     "name": "stdout",
     "output_type": "stream",
     "text": [
      "- / (dir, parent=None, children_size=0)\n"
     ]
    }
   ],
   "source": [
    "print_tree(root)"
   ]
  },
  {
   "cell_type": "code",
   "execution_count": 172,
   "id": "0c12360e-cc2c-41c3-bc21-5933af3a2308",
   "metadata": {},
   "outputs": [],
   "source": [
    "for terminal_output_str in example_terminal_output:\n",
    "    if current_directory is None: raise ValueError(\"parse_line() should always return a current_directory\")\n",
    "    current_directory = parse_line(terminal_output_str, current_directory, root)"
   ]
  },
  {
   "cell_type": "code",
   "execution_count": 173,
   "id": "c55b131e-cc57-44fd-9c3c-fc5cdfafd689",
   "metadata": {},
   "outputs": [
    {
     "name": "stdout",
     "output_type": "stream",
     "text": [
      "- / (dir, parent=None, children_size=0)\n",
      "   - a (dir, parent=/, children_size=0)\n",
      "      - e (dir, parent=a, children_size=0)\n",
      "         - i (file, size=584)\n",
      "      - f (file, size=29116)\n",
      "      - g (file, size=2557)\n",
      "      - h.lst (file, size=62596)\n",
      "   - b.txt (file, size=14848514)\n",
      "   - c.dat (file, size=8504156)\n",
      "   - d (dir, parent=/, children_size=0)\n",
      "      - j (file, size=4060174)\n",
      "      - d.log (file, size=8033020)\n",
      "      - d.ext (file, size=5626152)\n",
      "      - k (file, size=7214296)\n"
     ]
    }
   ],
   "source": [
    "print_tree(root)"
   ]
  },
  {
   "cell_type": "code",
   "execution_count": 174,
   "id": "99e59bbe-c773-40fa-84c2-d72b55d2a520",
   "metadata": {},
   "outputs": [],
   "source": [
    "def get_directory_size(directory):\n",
    "    for item in directory.children:\n",
    "        if isinstance(item, File):\n",
    "            directory.children_size += item.size\n",
    "        else:\n",
    "            get_directory_size(item)\n",
    "            directory.children_size += item.children_size"
   ]
  },
  {
   "cell_type": "code",
   "execution_count": 175,
   "id": "021f58ba-04dc-4762-8bdc-5f36ec3bada9",
   "metadata": {},
   "outputs": [],
   "source": [
    "get_directory_size(root)"
   ]
  },
  {
   "cell_type": "code",
   "execution_count": 176,
   "id": "217918a2-867b-46a2-999a-6d94451577b0",
   "metadata": {},
   "outputs": [
    {
     "name": "stdout",
     "output_type": "stream",
     "text": [
      "- / (dir, parent=None, children_size=48381165)\n",
      "   - a (dir, parent=/, children_size=94853)\n",
      "      - e (dir, parent=a, children_size=584)\n",
      "         - i (file, size=584)\n",
      "      - f (file, size=29116)\n",
      "      - g (file, size=2557)\n",
      "      - h.lst (file, size=62596)\n",
      "   - b.txt (file, size=14848514)\n",
      "   - c.dat (file, size=8504156)\n",
      "   - d (dir, parent=/, children_size=24933642)\n",
      "      - j (file, size=4060174)\n",
      "      - d.log (file, size=8033020)\n",
      "      - d.ext (file, size=5626152)\n",
      "      - k (file, size=7214296)\n"
     ]
    }
   ],
   "source": [
    "print_tree(root)"
   ]
  },
  {
   "cell_type": "code",
   "execution_count": 177,
   "id": "1b2a5f96-6361-4056-a873-ae3d440418f4",
   "metadata": {},
   "outputs": [],
   "source": [
    "# Apply to puzzle input"
   ]
  },
  {
   "cell_type": "code",
   "execution_count": 178,
   "id": "1edce224-6e91-4e9e-b634-4c66159a5f96",
   "metadata": {},
   "outputs": [],
   "source": [
    "root = Directory('/')"
   ]
  },
  {
   "cell_type": "code",
   "execution_count": 179,
   "id": "17eb190d-84f0-4787-ab42-23bf8ffdbe86",
   "metadata": {},
   "outputs": [],
   "source": [
    "current_directory = root"
   ]
  },
  {
   "cell_type": "code",
   "execution_count": 180,
   "id": "305ebe7f-c259-40fd-8e19-a22fb572dca3",
   "metadata": {},
   "outputs": [],
   "source": [
    "for terminal_output_str in terminal_output:\n",
    "    if current_directory is None: raise ValueError(\"parse_line should always return a current_directory\")\n",
    "    current_directory = parse_line(terminal_output_str, current_directory, root)"
   ]
  },
  {
   "cell_type": "code",
   "execution_count": 181,
   "id": "41af37a4-eea8-4aa9-8ce4-7401c19f1972",
   "metadata": {},
   "outputs": [],
   "source": [
    "get_directory_size(root)"
   ]
  },
  {
   "cell_type": "code",
   "execution_count": 182,
   "id": "9cb6476e-df70-49c0-b0c9-ab333a7c94cd",
   "metadata": {},
   "outputs": [],
   "source": [
    "directories = []"
   ]
  },
  {
   "cell_type": "code",
   "execution_count": 183,
   "id": "d4d5d2ee-f6be-415d-bba4-19ee048701a1",
   "metadata": {},
   "outputs": [],
   "source": [
    "def collect_directories(directory, directories):\n",
    "    directories.append((directory.name, directory.children_size))\n",
    "    for child in directory.children:\n",
    "        if isinstance(child, Directory):\n",
    "            collect_directories(child, directories)"
   ]
  },
  {
   "cell_type": "code",
   "execution_count": 184,
   "id": "112ab447-189e-43b4-a3fd-560876476c18",
   "metadata": {},
   "outputs": [],
   "source": [
    "collect_directories(root, directories)"
   ]
  },
  {
   "cell_type": "code",
   "execution_count": 185,
   "id": "2854c8a1-a90d-42a3-90e9-906ad503d148",
   "metadata": {},
   "outputs": [],
   "source": [
    "small_directories = [size for directory_name, size in directories if size <= 100000]"
   ]
  },
  {
   "cell_type": "code",
   "execution_count": 186,
   "id": "bbffc4b8-b9d6-4f7a-9c8c-26b9f0aeb7a3",
   "metadata": {},
   "outputs": [
    {
     "data": {
      "text/plain": [
       "1555642"
      ]
     },
     "execution_count": 186,
     "metadata": {},
     "output_type": "execute_result"
    }
   ],
   "source": [
    "sum(small_directories)"
   ]
  },
  {
   "cell_type": "markdown",
   "id": "c0f75562-8439-4177-9142-0406c35ad51e",
   "metadata": {
    "tags": []
   },
   "source": [
    "### Part 2"
   ]
  },
  {
   "cell_type": "code",
   "execution_count": 187,
   "id": "28a9faea-b93a-48d2-8e6d-115d6e6157f2",
   "metadata": {},
   "outputs": [],
   "source": [
    "total_available = 70000000"
   ]
  },
  {
   "cell_type": "code",
   "execution_count": 188,
   "id": "cdb5d928-3afd-4d3e-adf0-ccda1744f313",
   "metadata": {},
   "outputs": [],
   "source": [
    "required = 30000000"
   ]
  },
  {
   "cell_type": "code",
   "execution_count": 189,
   "id": "d7ff6a86-cc4a-438c-af9b-85637d480d47",
   "metadata": {},
   "outputs": [
    {
     "data": {
      "text/plain": [
       "45349983"
      ]
     },
     "execution_count": 189,
     "metadata": {},
     "output_type": "execute_result"
    }
   ],
   "source": [
    "total_now = root.children_size\n",
    "total_now"
   ]
  },
  {
   "cell_type": "code",
   "execution_count": 190,
   "id": "bb96888e-283a-4fb1-8284-9a4bbfd81929",
   "metadata": {},
   "outputs": [
    {
     "data": {
      "text/plain": [
       "24650017"
      ]
     },
     "execution_count": 190,
     "metadata": {},
     "output_type": "execute_result"
    }
   ],
   "source": [
    "available_now = total_available - total_now\n",
    "available_now"
   ]
  },
  {
   "cell_type": "code",
   "execution_count": 191,
   "id": "18093342-4844-42c5-bdeb-6714756235ec",
   "metadata": {},
   "outputs": [
    {
     "data": {
      "text/plain": [
       "5349983"
      ]
     },
     "execution_count": 191,
     "metadata": {},
     "output_type": "execute_result"
    }
   ],
   "source": [
    "min_size = required - available_now\n",
    "min_size"
   ]
  },
  {
   "cell_type": "code",
   "execution_count": 192,
   "id": "5ed7decc-eb87-4c79-9f39-8217ba0dedb4",
   "metadata": {},
   "outputs": [],
   "source": [
    "candidate_directories = [size for directory_name, size in directories \n",
    "                         if size > min_size]"
   ]
  },
  {
   "cell_type": "code",
   "execution_count": 193,
   "id": "8f82a067-3347-46bf-89e3-8d0b115908f9",
   "metadata": {},
   "outputs": [
    {
     "data": {
      "text/plain": [
       "5974547"
      ]
     },
     "execution_count": 193,
     "metadata": {},
     "output_type": "execute_result"
    }
   ],
   "source": [
    "min(candidate_directories)"
   ]
  },
  {
   "cell_type": "markdown",
   "id": "43c71acd-6911-41b7-871d-4f80db36ef85",
   "metadata": {},
   "source": [
    "## Day 08"
   ]
  },
  {
   "cell_type": "markdown",
   "id": "defe0bb2-3f50-4dd1-9dfb-24cf90606309",
   "metadata": {
    "tags": []
   },
   "source": [
    "### Part 1"
   ]
  },
  {
   "cell_type": "code",
   "execution_count": 194,
   "id": "e6435b19-aabd-4c68-9872-3ffd3a06fdd8",
   "metadata": {},
   "outputs": [],
   "source": [
    "trees = [line.strip() for line in open('data/input_d08_01.txt', 'r')]"
   ]
  },
  {
   "cell_type": "code",
   "execution_count": 195,
   "id": "3d9917e4-3ff9-48dc-b7a7-df4a685e8a34",
   "metadata": {},
   "outputs": [],
   "source": [
    "import numpy as np"
   ]
  },
  {
   "cell_type": "code",
   "execution_count": 196,
   "id": "ef66f954-0332-4a65-9a06-a22a79e250c8",
   "metadata": {},
   "outputs": [
    {
     "data": {
      "text/plain": [
       "array([[2, 2, 2, ..., 2, 1, 0],\n",
       "       [1, 0, 2, ..., 1, 1, 1],\n",
       "       [1, 0, 2, ..., 0, 2, 2],\n",
       "       ...,\n",
       "       [2, 0, 1, ..., 1, 1, 1],\n",
       "       [2, 0, 2, ..., 0, 2, 2],\n",
       "       [2, 1, 0, ..., 0, 1, 1]])"
      ]
     },
     "execution_count": 196,
     "metadata": {},
     "output_type": "execute_result"
    }
   ],
   "source": [
    "trees = np.array([[int(char) for char in line] for line in trees])\n",
    "trees"
   ]
  },
  {
   "cell_type": "code",
   "execution_count": 197,
   "id": "b69db760-2452-4b7a-a2a3-f08ff79bed4d",
   "metadata": {},
   "outputs": [
    {
     "data": {
      "text/plain": [
       "(99, 99)"
      ]
     },
     "execution_count": 197,
     "metadata": {},
     "output_type": "execute_result"
    }
   ],
   "source": [
    "trees.shape"
   ]
  },
  {
   "cell_type": "code",
   "execution_count": 198,
   "id": "bb1a048b-c06f-4171-b289-584aeca961e8",
   "metadata": {},
   "outputs": [
    {
     "data": {
      "text/plain": [
       "array([[ 0,  0,  1, ...,  1,  1,  0],\n",
       "       [ 1, -2,  1, ...,  0,  0,  1],\n",
       "       [ 1, -2,  1, ..., -2,  0,  2],\n",
       "       ...,\n",
       "       [ 2, -1, -1, ...,  0,  0,  1],\n",
       "       [ 2, -2,  1, ..., -2,  0,  2],\n",
       "       [ 1,  1, -1, ..., -1,  0,  1]])"
      ]
     },
     "execution_count": 198,
     "metadata": {},
     "output_type": "execute_result"
    }
   ],
   "source": [
    "# Calculate how much taller tree is taller than that immediately to the right\n",
    "trees - np.pad(trees[:, 1:], [(0, 0), (0, 1)])"
   ]
  },
  {
   "cell_type": "code",
   "execution_count": 199,
   "id": "5d07ca32-ea9e-4fd5-ac63-c406ac00a4c9",
   "metadata": {},
   "outputs": [],
   "source": [
    "from functools import reduce\n",
    "from operator import or_"
   ]
  },
  {
   "cell_type": "code",
   "execution_count": 200,
   "id": "07a6a187-fdca-47e2-972d-42b0f4d24bfa",
   "metadata": {},
   "outputs": [],
   "source": [
    "compare_trees_to_right = []\n",
    "for i in range(1, 99):\n",
    "    # Compare with trees to the right\n",
    "    compare_trees_to_right.append((trees - np.pad(trees[:, i:], [(0, 0), (0, i)], constant_values=-1)) <= 0)  # use padding_value=-1 since no tree should be hidden by padding"
   ]
  },
  {
   "cell_type": "code",
   "execution_count": 201,
   "id": "96278ad6-23b9-42a8-b3ef-764675af8d8c",
   "metadata": {},
   "outputs": [],
   "source": [
    "is_hidden_to_right = reduce(or_, compare_trees_to_right)  # Tree needs only be hidden by at least one other tree"
   ]
  },
  {
   "cell_type": "code",
   "execution_count": 202,
   "id": "023004a0-5645-4628-9741-7e9e9ae6bdad",
   "metadata": {},
   "outputs": [],
   "source": [
    "compare_trees_to_left = []\n",
    "for i in range(1, 99):\n",
    "    # Compare with trees to the left\n",
    "    compare_trees_to_left.append((trees - np.pad(trees[:, :99-i], [(0, 0), (i, 0)], constant_values=-1)) <= 0)"
   ]
  },
  {
   "cell_type": "code",
   "execution_count": 203,
   "id": "682415cf-3e44-441c-98b1-f54df359331c",
   "metadata": {},
   "outputs": [],
   "source": [
    "is_hidden_to_left = reduce(or_, compare_trees_to_left)"
   ]
  },
  {
   "cell_type": "code",
   "execution_count": 204,
   "id": "0e7739e2-e81c-4bbb-b697-44dc030139da",
   "metadata": {},
   "outputs": [],
   "source": [
    "compare_trees_below = []\n",
    "for i in range(1, 99):\n",
    "    # Compare with trees below\n",
    "    compare_trees_below.append((trees - np.pad(trees[i:, :], [(0, i), (0, 0)], constant_values=-1)) <= 0)"
   ]
  },
  {
   "cell_type": "code",
   "execution_count": 205,
   "id": "8df9a9a4-f5ce-4faa-ac85-9bcf72bb79a8",
   "metadata": {},
   "outputs": [],
   "source": [
    "is_hidden_below = reduce(or_, compare_trees_below)"
   ]
  },
  {
   "cell_type": "code",
   "execution_count": 206,
   "id": "72ff62de-3c70-45bb-b2e5-922a92ceb7aa",
   "metadata": {},
   "outputs": [],
   "source": [
    "compare_trees_above = []\n",
    "for i in range(1, 99):\n",
    "    # Compare with trees above\n",
    "    compare_trees_above.append((trees - np.pad(trees[:99-i, :], [(i, 0), (0, 0)], constant_values=-1)) <= 0)"
   ]
  },
  {
   "cell_type": "code",
   "execution_count": 207,
   "id": "c6a33880-3d27-4157-9456-f2546afe304f",
   "metadata": {},
   "outputs": [],
   "source": [
    "is_hidden_above = reduce(or_, compare_trees_above)"
   ]
  },
  {
   "cell_type": "code",
   "execution_count": 208,
   "id": "188a6755-250d-4149-ba34-89943cb4f499",
   "metadata": {},
   "outputs": [],
   "source": [
    "is_hidden = is_hidden_to_right & is_hidden_to_left & is_hidden_below & is_hidden_above  # To be hidden, tree must not be visible from any direction"
   ]
  },
  {
   "cell_type": "code",
   "execution_count": 209,
   "id": "d3c84612-1fc6-4d96-886d-e45f57e1697c",
   "metadata": {},
   "outputs": [
    {
     "data": {
      "text/plain": [
       "array([[False, False, False, ..., False, False, False],\n",
       "       [False,  True, False, ...,  True,  True, False],\n",
       "       [False,  True, False, ...,  True, False, False],\n",
       "       ...,\n",
       "       [False,  True,  True, ..., False,  True, False],\n",
       "       [False,  True, False, ...,  True, False, False],\n",
       "       [False, False, False, ..., False, False, False]])"
      ]
     },
     "execution_count": 209,
     "metadata": {},
     "output_type": "execute_result"
    }
   ],
   "source": [
    "is_hidden"
   ]
  },
  {
   "cell_type": "code",
   "execution_count": 210,
   "id": "b7edbe9f-9b74-4339-b9f0-ade0bb1b4aae",
   "metadata": {},
   "outputs": [
    {
     "data": {
      "text/plain": [
       "array([0, 1, 1, ..., 0, 0, 0])"
      ]
     },
     "execution_count": 210,
     "metadata": {},
     "output_type": "execute_result"
    }
   ],
   "source": [
    "# Value of centre trees that are hidden ...\n",
    "trees[1:98, 1:98][is_hidden[1:98, 1:98]]"
   ]
  },
  {
   "cell_type": "code",
   "execution_count": 211,
   "id": "92e2982e-3930-4bfb-9a1b-24da34ea0b2f",
   "metadata": {},
   "outputs": [
    {
     "data": {
      "text/plain": [
       "1406"
      ]
     },
     "execution_count": 211,
     "metadata": {},
     "output_type": "execute_result"
    }
   ],
   "source": [
    "# Number of centre trees that are visible\n",
    "(~is_hidden[1:98, 1:98]).sum()"
   ]
  },
  {
   "cell_type": "code",
   "execution_count": 212,
   "id": "a5776fb9-42c5-4679-bd97-16204f2e3beb",
   "metadata": {},
   "outputs": [
    {
     "data": {
      "text/plain": [
       "1798"
      ]
     },
     "execution_count": 212,
     "metadata": {},
     "output_type": "execute_result"
    }
   ],
   "source": [
    "# Number of trees that are visible\n",
    "(~is_hidden[1:98, 1:98]).sum() + (99 * 4) - 4"
   ]
  },
  {
   "cell_type": "markdown",
   "id": "a5d529c6-b09d-4db2-b6a6-5c64a5a13376",
   "metadata": {
    "tags": []
   },
   "source": [
    "### Part 2"
   ]
  },
  {
   "cell_type": "code",
   "execution_count": 213,
   "id": "bbd7dff9-d391-4618-9b4b-086ba1f4695e",
   "metadata": {},
   "outputs": [],
   "source": [
    "trees_input = [line.strip() for line in open('data/input_d08_01.txt', 'r')]"
   ]
  },
  {
   "cell_type": "code",
   "execution_count": 214,
   "id": "02988001-1fcd-4ae9-9451-c1b70cc61d02",
   "metadata": {},
   "outputs": [],
   "source": [
    "trees = {}"
   ]
  },
  {
   "cell_type": "code",
   "execution_count": 215,
   "id": "819d8500-11df-43a8-b06d-e010634bbcd0",
   "metadata": {},
   "outputs": [],
   "source": [
    "for i, line in enumerate(trees_input):\n",
    "    for j, value in enumerate(line):\n",
    "        trees[i, j] = int(value)"
   ]
  },
  {
   "cell_type": "code",
   "execution_count": 216,
   "id": "080f56f5-f9f7-443f-8080-222e072f6566",
   "metadata": {},
   "outputs": [],
   "source": [
    "def get_view_distance(i, j, source_tree_height, direction_str):\n",
    "    try:\n",
    "        tree_height = trees[i, j]\n",
    "    except KeyError:\n",
    "        return 0 # If off map, return 0 view distance\n",
    "    if tree_height >=  source_tree_height:\n",
    "        return 1\n",
    "    else:\n",
    "        if direction_str == 'right':\n",
    "            j += 1\n",
    "        elif direction_str == 'left':\n",
    "            j -= 1\n",
    "        elif direction_str == 'down':\n",
    "            i += 1\n",
    "        elif direction_str == 'up':\n",
    "            i -= 1\n",
    "        return 1 + get_view_distance(i, j, source_tree_height, direction_str)"
   ]
  },
  {
   "cell_type": "code",
   "execution_count": 217,
   "id": "b7ca6263-696d-482c-a17d-7503dfcfb516",
   "metadata": {},
   "outputs": [],
   "source": [
    "view_distance_right = {}\n",
    "for i, j in trees.keys():\n",
    "    view_distance_right[i, j] = get_view_distance(i, j + 1, trees[i, j], 'right') "
   ]
  },
  {
   "cell_type": "code",
   "execution_count": 218,
   "id": "056e5571-47bd-44a1-85b7-6637cebd614c",
   "metadata": {},
   "outputs": [],
   "source": [
    "view_distance_left = {}\n",
    "for i, j in trees.keys():\n",
    "    view_distance_left[i, j] = get_view_distance(i, j - 1, trees[i, j], 'left') "
   ]
  },
  {
   "cell_type": "code",
   "execution_count": 219,
   "id": "459b196f-5586-4a51-b487-c0cfc6b7bcd1",
   "metadata": {},
   "outputs": [],
   "source": [
    "view_distance_down = {}\n",
    "for i, j in trees.keys():\n",
    "    view_distance_down[i, j] = get_view_distance(i + 1, j, trees[i, j], 'down') "
   ]
  },
  {
   "cell_type": "code",
   "execution_count": 220,
   "id": "298752d4-cc3a-482e-8758-03312897fd13",
   "metadata": {},
   "outputs": [],
   "source": [
    "view_distance_up = {}\n",
    "for i, j in trees.keys():\n",
    "    view_distance_up[i, j] = get_view_distance(i - 1, j, trees[i, j], 'up') "
   ]
  },
  {
   "cell_type": "code",
   "execution_count": 221,
   "id": "6ef4a0af-4bb5-4236-88ad-9a62799c05fa",
   "metadata": {},
   "outputs": [],
   "source": [
    "scenic_scores = {key: view_distance_right[key] * view_distance_left[key] * view_distance_down[key] * view_distance_up[key]\n",
    "                 for key in trees.keys()}"
   ]
  },
  {
   "cell_type": "code",
   "execution_count": 222,
   "id": "4c28c432-4c4b-47e2-b279-2a4e3ab80567",
   "metadata": {},
   "outputs": [
    {
     "data": {
      "text/plain": [
       "259308"
      ]
     },
     "execution_count": 222,
     "metadata": {},
     "output_type": "execute_result"
    }
   ],
   "source": [
    "max(scenic_scores.values())"
   ]
  },
  {
   "cell_type": "code",
   "execution_count": null,
   "id": "50fdad85-f6e2-4ab0-ac8d-4e7faf538eac",
   "metadata": {},
   "outputs": [],
   "source": []
  },
  {
   "cell_type": "code",
   "execution_count": null,
   "id": "aab7ce8a-a6f9-4ad9-9ce7-4f11c7112424",
   "metadata": {},
   "outputs": [],
   "source": []
  },
  {
   "cell_type": "code",
   "execution_count": null,
   "id": "1abd3448-7a42-4c51-98d8-9f1b97037c54",
   "metadata": {},
   "outputs": [],
   "source": []
  },
  {
   "cell_type": "code",
   "execution_count": null,
   "id": "e372465d-c6b1-4334-ac90-7bf7016d4492",
   "metadata": {},
   "outputs": [],
   "source": []
  },
  {
   "cell_type": "code",
   "execution_count": null,
   "id": "7778d8e0-077d-4303-91b2-958e1793fd64",
   "metadata": {},
   "outputs": [],
   "source": []
  },
  {
   "cell_type": "code",
   "execution_count": null,
   "id": "8b6f6610-efe5-42a9-a22d-42b5b546995f",
   "metadata": {},
   "outputs": [],
   "source": []
  }
 ],
 "metadata": {
  "kernelspec": {
   "display_name": "Python 3 (ipykernel)",
   "language": "python",
   "name": "python3"
  },
  "language_info": {
   "codemirror_mode": {
    "name": "ipython",
    "version": 3
   },
   "file_extension": ".py",
   "mimetype": "text/x-python",
   "name": "python",
   "nbconvert_exporter": "python",
   "pygments_lexer": "ipython3",
   "version": "3.9.12"
  }
 },
 "nbformat": 4,
 "nbformat_minor": 5
}
